{
  "cells": [
    {
      "cell_type": "markdown",
      "metadata": {
        "id": "ka_FkvXBiABo"
      },
      "source": [
        "# Introduction"
      ]
    },
    {
      "cell_type": "markdown",
      "metadata": {
        "id": "AWaMmfxXa-p0",
        "papermill": {
          "duration": 0.035434,
          "end_time": "2020-10-20T21:34:01.886225",
          "exception": false,
          "start_time": "2020-10-20T21:34:01.850791",
          "status": "completed"
        },
        "tags": []
      },
      "source": [
        "<center><img src=\"https://i.imgur.com/9hLRsjZ.jpg\" height=400></center>\n",
        "\n",
        "This dataset was scraped from [nextspaceflight.com](https://nextspaceflight.com/launches/past/?page=1) and includes all the space missions since the beginning of Space Race between the USA and the Soviet Union in 1957!"
      ]
    },
    {
      "cell_type": "markdown",
      "metadata": {
        "id": "ufzKRKS3bV0r"
      },
      "source": [
        "### Install Package with Country Codes"
      ]
    },
    {
      "cell_type": "code",
      "execution_count": 1,
      "metadata": {
        "colab": {
          "base_uri": "https://localhost:8080/"
        },
        "id": "0HxV9o6dbRUE",
        "outputId": "35464d43-d601-4b8f-81fd-6dbd400167f5"
      },
      "outputs": [],
      "source": [
        "#%pip install iso3166"
      ]
    },
    {
      "cell_type": "markdown",
      "metadata": {
        "id": "sghkhFoLbof8"
      },
      "source": [
        "### Upgrade Plotly\n",
        "\n",
        "Run the cell below if you are working with Google Colab."
      ]
    },
    {
      "cell_type": "code",
      "execution_count": 2,
      "metadata": {
        "colab": {
          "base_uri": "https://localhost:8080/"
        },
        "id": "gQ61wy9gbmxd",
        "outputId": "99185d87-acb8-4237-c0f7-bfb18bfd4d39"
      },
      "outputs": [],
      "source": [
        "#%pip install --upgrade plotly"
      ]
    },
    {
      "cell_type": "markdown",
      "metadata": {
        "id": "ErFDBihUi1jN"
      },
      "source": [
        "### Import Statements"
      ]
    },
    {
      "cell_type": "code",
      "execution_count": 3,
      "metadata": {
        "_cell_guid": "b1076dfc-b9ad-4769-8c92-a6c4dae69d19",
        "_kg_hide-input": true,
        "_kg_hide-output": true,
        "_uuid": "8f2839f25d086af736a60e9eeb907d3b93b6e0e5",
        "colab": {
          "base_uri": "https://localhost:8080/"
        },
        "execution": {
          "iopub.execute_input": "2020-10-20T21:34:02.101551Z",
          "iopub.status.busy": "2020-10-20T21:34:02.101085Z",
          "iopub.status.idle": "2020-10-20T21:34:03.726868Z",
          "shell.execute_reply": "2020-10-20T21:34:03.725783Z"
        },
        "id": "xdolY0-Sa-p1",
        "outputId": "7142dedb-82e9-457d-db44-cea4e121bdfe",
        "papermill": {
          "duration": 1.665326,
          "end_time": "2020-10-20T21:34:03.726995",
          "exception": false,
          "start_time": "2020-10-20T21:34:02.061669",
          "status": "completed"
        },
        "tags": []
      },
      "outputs": [],
      "source": [
        "import numpy as np\n",
        "import pandas as pd\n",
        "import plotly.express as px\n",
        "import matplotlib.pyplot as plt\n",
        "import seaborn as sns\n",
        "\n",
        "# These might be helpful:\n",
        "from iso3166 import countries\n",
        "from datetime import datetime, timedelta"
      ]
    },
    {
      "cell_type": "markdown",
      "metadata": {
        "id": "lovGPRgKxIgo"
      },
      "source": [
        "### Notebook Presentation"
      ]
    },
    {
      "cell_type": "code",
      "execution_count": 4,
      "metadata": {
        "id": "DHEULCOjxIIm"
      },
      "outputs": [],
      "source": [
        "pd.options.display.float_format = '{:,.2f}'.format"
      ]
    },
    {
      "cell_type": "markdown",
      "metadata": {
        "id": "yaT3QbjEa-p4",
        "papermill": {
          "duration": 0.034606,
          "end_time": "2020-10-20T21:34:03.798396",
          "exception": false,
          "start_time": "2020-10-20T21:34:03.763790",
          "status": "completed"
        },
        "tags": []
      },
      "source": [
        "### Load the Data"
      ]
    },
    {
      "cell_type": "code",
      "execution_count": 5,
      "metadata": {
        "_cell_guid": "79c7e3d0-c299-4dcb-8224-4455121ee9b0",
        "_kg_hide-input": true,
        "_uuid": "d629ff2d2480ee46fbb7e2d37f6b5fab8052498a",
        "execution": {
          "iopub.execute_input": "2020-10-20T21:34:03.874195Z",
          "iopub.status.busy": "2020-10-20T21:34:03.873775Z",
          "iopub.status.idle": "2020-10-20T21:34:03.921919Z",
          "shell.execute_reply": "2020-10-20T21:34:03.921418Z"
        },
        "id": "0lDOu8aka-p4",
        "papermill": {
          "duration": 0.08876,
          "end_time": "2020-10-20T21:34:03.922028",
          "exception": false,
          "start_time": "2020-10-20T21:34:03.833268",
          "status": "completed"
        },
        "tags": []
      },
      "outputs": [],
      "source": [
        "df_data = pd.read_csv('mission_launches.csv')"
      ]
    },
    {
      "cell_type": "markdown",
      "metadata": {
        "id": "jAnMiVcVjuKB"
      },
      "source": [
        "# Preliminary Data Exploration\n",
        "\n",
        "* What is the shape of `df_data`? \n",
        "* How many rows and columns does it have?\n",
        "* What are the column names?\n",
        "* Are there any NaN values or duplicates?"
      ]
    },
    {
      "cell_type": "code",
      "execution_count": 6,
      "metadata": {
        "id": "0tIuYcYNlPFQ"
      },
      "outputs": [
        {
          "data": {
            "text/plain": [
              "(4324, 9)"
            ]
          },
          "execution_count": 6,
          "metadata": {},
          "output_type": "execute_result"
        }
      ],
      "source": [
        "df_data.shape"
      ]
    },
    {
      "cell_type": "code",
      "execution_count": 7,
      "metadata": {},
      "outputs": [
        {
          "data": {
            "text/plain": [
              "Index(['Unnamed: 0.1', 'Unnamed: 0', 'Organisation', 'Location', 'Date',\n",
              "       'Detail', 'Rocket_Status', 'Price', 'Mission_Status'],\n",
              "      dtype='object')"
            ]
          },
          "execution_count": 7,
          "metadata": {},
          "output_type": "execute_result"
        }
      ],
      "source": [
        "df_data.columns"
      ]
    },
    {
      "cell_type": "code",
      "execution_count": 8,
      "metadata": {},
      "outputs": [
        {
          "name": "stdout",
          "output_type": "stream",
          "text": [
            "<class 'pandas.core.frame.DataFrame'>\n",
            "RangeIndex: 4324 entries, 0 to 4323\n",
            "Data columns (total 9 columns):\n",
            " #   Column          Non-Null Count  Dtype \n",
            "---  ------          --------------  ----- \n",
            " 0   Unnamed: 0.1    4324 non-null   int64 \n",
            " 1   Unnamed: 0      4324 non-null   int64 \n",
            " 2   Organisation    4324 non-null   object\n",
            " 3   Location        4324 non-null   object\n",
            " 4   Date            4324 non-null   object\n",
            " 5   Detail          4324 non-null   object\n",
            " 6   Rocket_Status   4324 non-null   object\n",
            " 7   Price           964 non-null    object\n",
            " 8   Mission_Status  4324 non-null   object\n",
            "dtypes: int64(2), object(7)\n",
            "memory usage: 304.2+ KB\n"
          ]
        }
      ],
      "source": [
        "df_data.info()"
      ]
    },
    {
      "cell_type": "markdown",
      "metadata": {},
      "source": [
        "Testing for NaN and duplicated values:"
      ]
    },
    {
      "cell_type": "code",
      "execution_count": 9,
      "metadata": {
        "id": "0dw2hd9UlPmP"
      },
      "outputs": [
        {
          "data": {
            "text/plain": [
              "True"
            ]
          },
          "execution_count": 9,
          "metadata": {},
          "output_type": "execute_result"
        }
      ],
      "source": [
        "df_data.isna().values.any()"
      ]
    },
    {
      "cell_type": "code",
      "execution_count": 10,
      "metadata": {},
      "outputs": [
        {
          "data": {
            "text/plain": [
              "False"
            ]
          },
          "execution_count": 10,
          "metadata": {},
          "output_type": "execute_result"
        }
      ],
      "source": [
        "df_data.duplicated().values.any()"
      ]
    },
    {
      "cell_type": "markdown",
      "metadata": {
        "id": "KUN30y6ja-p9",
        "papermill": {
          "duration": 0.05406,
          "end_time": "2020-10-20T21:34:04.149973",
          "exception": false,
          "start_time": "2020-10-20T21:34:04.095913",
          "status": "completed"
        },
        "tags": []
      },
      "source": [
        "## Data Cleaning - Check for Missing Values and Duplicates\n",
        "\n",
        "Consider removing columns containing junk data. "
      ]
    },
    {
      "cell_type": "code",
      "execution_count": 11,
      "metadata": {
        "id": "wWQvnJb0k2Ig"
      },
      "outputs": [
        {
          "data": {
            "text/html": [
              "<div>\n",
              "<style scoped>\n",
              "    .dataframe tbody tr th:only-of-type {\n",
              "        vertical-align: middle;\n",
              "    }\n",
              "\n",
              "    .dataframe tbody tr th {\n",
              "        vertical-align: top;\n",
              "    }\n",
              "\n",
              "    .dataframe thead th {\n",
              "        text-align: right;\n",
              "    }\n",
              "</style>\n",
              "<table border=\"1\" class=\"dataframe\">\n",
              "  <thead>\n",
              "    <tr style=\"text-align: right;\">\n",
              "      <th></th>\n",
              "      <th>Unnamed: 0.1</th>\n",
              "      <th>Unnamed: 0</th>\n",
              "      <th>Organisation</th>\n",
              "      <th>Location</th>\n",
              "      <th>Date</th>\n",
              "      <th>Detail</th>\n",
              "      <th>Rocket_Status</th>\n",
              "      <th>Price</th>\n",
              "      <th>Mission_Status</th>\n",
              "    </tr>\n",
              "  </thead>\n",
              "  <tbody>\n",
              "    <tr>\n",
              "      <th>2</th>\n",
              "      <td>2</td>\n",
              "      <td>2</td>\n",
              "      <td>SpaceX</td>\n",
              "      <td>Pad A, Boca Chica, Texas, USA</td>\n",
              "      <td>Tue Aug 04, 2020 23:57 UTC</td>\n",
              "      <td>Starship Prototype | 150 Meter Hop</td>\n",
              "      <td>StatusActive</td>\n",
              "      <td>NaN</td>\n",
              "      <td>Success</td>\n",
              "    </tr>\n",
              "    <tr>\n",
              "      <th>7</th>\n",
              "      <td>7</td>\n",
              "      <td>7</td>\n",
              "      <td>CASC</td>\n",
              "      <td>LC-101, Wenchang Satellite Launch Center, China</td>\n",
              "      <td>Thu Jul 23, 2020 04:41 UTC</td>\n",
              "      <td>Long March 5 | Tianwen-1</td>\n",
              "      <td>StatusActive</td>\n",
              "      <td>NaN</td>\n",
              "      <td>Success</td>\n",
              "    </tr>\n",
              "    <tr>\n",
              "      <th>13</th>\n",
              "      <td>13</td>\n",
              "      <td>13</td>\n",
              "      <td>IAI</td>\n",
              "      <td>Pad 1, Palmachim Airbase, Israel</td>\n",
              "      <td>Mon Jul 06, 2020 01:00 UTC</td>\n",
              "      <td>Shavit-2 | Ofek-16</td>\n",
              "      <td>StatusActive</td>\n",
              "      <td>NaN</td>\n",
              "      <td>Success</td>\n",
              "    </tr>\n",
              "    <tr>\n",
              "      <th>28</th>\n",
              "      <td>28</td>\n",
              "      <td>28</td>\n",
              "      <td>VKS RF</td>\n",
              "      <td>Site 43/4, Plesetsk Cosmodrome, Russia</td>\n",
              "      <td>Fri May 22, 2020 07:31 UTC</td>\n",
              "      <td>Soyuz 2.1b/Fregat-M | Cosmos 2546</td>\n",
              "      <td>StatusActive</td>\n",
              "      <td>NaN</td>\n",
              "      <td>Success</td>\n",
              "    </tr>\n",
              "    <tr>\n",
              "      <th>31</th>\n",
              "      <td>31</td>\n",
              "      <td>31</td>\n",
              "      <td>ExPace</td>\n",
              "      <td>Site 95, Jiuquan Satellite Launch Center, China</td>\n",
              "      <td>Tue May 12, 2020 01:16 UTC</td>\n",
              "      <td>Kuaizhou 1A | Xingyun-2 01 (Wuhan) &amp; 02</td>\n",
              "      <td>StatusActive</td>\n",
              "      <td>NaN</td>\n",
              "      <td>Success</td>\n",
              "    </tr>\n",
              "    <tr>\n",
              "      <th>...</th>\n",
              "      <td>...</td>\n",
              "      <td>...</td>\n",
              "      <td>...</td>\n",
              "      <td>...</td>\n",
              "      <td>...</td>\n",
              "      <td>...</td>\n",
              "      <td>...</td>\n",
              "      <td>...</td>\n",
              "      <td>...</td>\n",
              "    </tr>\n",
              "    <tr>\n",
              "      <th>4319</th>\n",
              "      <td>4319</td>\n",
              "      <td>4319</td>\n",
              "      <td>US Navy</td>\n",
              "      <td>LC-18A, Cape Canaveral AFS, Florida, USA</td>\n",
              "      <td>Wed Feb 05, 1958 07:33 UTC</td>\n",
              "      <td>Vanguard | Vanguard TV3BU</td>\n",
              "      <td>StatusRetired</td>\n",
              "      <td>NaN</td>\n",
              "      <td>Failure</td>\n",
              "    </tr>\n",
              "    <tr>\n",
              "      <th>4320</th>\n",
              "      <td>4320</td>\n",
              "      <td>4320</td>\n",
              "      <td>AMBA</td>\n",
              "      <td>LC-26A, Cape Canaveral AFS, Florida, USA</td>\n",
              "      <td>Sat Feb 01, 1958 03:48 UTC</td>\n",
              "      <td>Juno I | Explorer 1</td>\n",
              "      <td>StatusRetired</td>\n",
              "      <td>NaN</td>\n",
              "      <td>Success</td>\n",
              "    </tr>\n",
              "    <tr>\n",
              "      <th>4321</th>\n",
              "      <td>4321</td>\n",
              "      <td>4321</td>\n",
              "      <td>US Navy</td>\n",
              "      <td>LC-18A, Cape Canaveral AFS, Florida, USA</td>\n",
              "      <td>Fri Dec 06, 1957 16:44 UTC</td>\n",
              "      <td>Vanguard | Vanguard TV3</td>\n",
              "      <td>StatusRetired</td>\n",
              "      <td>NaN</td>\n",
              "      <td>Failure</td>\n",
              "    </tr>\n",
              "    <tr>\n",
              "      <th>4322</th>\n",
              "      <td>4322</td>\n",
              "      <td>4322</td>\n",
              "      <td>RVSN USSR</td>\n",
              "      <td>Site 1/5, Baikonur Cosmodrome, Kazakhstan</td>\n",
              "      <td>Sun Nov 03, 1957 02:30 UTC</td>\n",
              "      <td>Sputnik 8K71PS | Sputnik-2</td>\n",
              "      <td>StatusRetired</td>\n",
              "      <td>NaN</td>\n",
              "      <td>Success</td>\n",
              "    </tr>\n",
              "    <tr>\n",
              "      <th>4323</th>\n",
              "      <td>4323</td>\n",
              "      <td>4323</td>\n",
              "      <td>RVSN USSR</td>\n",
              "      <td>Site 1/5, Baikonur Cosmodrome, Kazakhstan</td>\n",
              "      <td>Fri Oct 04, 1957 19:28 UTC</td>\n",
              "      <td>Sputnik 8K71PS | Sputnik-1</td>\n",
              "      <td>StatusRetired</td>\n",
              "      <td>NaN</td>\n",
              "      <td>Success</td>\n",
              "    </tr>\n",
              "  </tbody>\n",
              "</table>\n",
              "<p>3360 rows × 9 columns</p>\n",
              "</div>"
            ],
            "text/plain": [
              "      Unnamed: 0.1  Unnamed: 0 Organisation  \\\n",
              "2                2           2       SpaceX   \n",
              "7                7           7         CASC   \n",
              "13              13          13          IAI   \n",
              "28              28          28       VKS RF   \n",
              "31              31          31       ExPace   \n",
              "...            ...         ...          ...   \n",
              "4319          4319        4319      US Navy   \n",
              "4320          4320        4320         AMBA   \n",
              "4321          4321        4321      US Navy   \n",
              "4322          4322        4322    RVSN USSR   \n",
              "4323          4323        4323    RVSN USSR   \n",
              "\n",
              "                                             Location  \\\n",
              "2                       Pad A, Boca Chica, Texas, USA   \n",
              "7     LC-101, Wenchang Satellite Launch Center, China   \n",
              "13                   Pad 1, Palmachim Airbase, Israel   \n",
              "28             Site 43/4, Plesetsk Cosmodrome, Russia   \n",
              "31    Site 95, Jiuquan Satellite Launch Center, China   \n",
              "...                                               ...   \n",
              "4319         LC-18A, Cape Canaveral AFS, Florida, USA   \n",
              "4320         LC-26A, Cape Canaveral AFS, Florida, USA   \n",
              "4321         LC-18A, Cape Canaveral AFS, Florida, USA   \n",
              "4322        Site 1/5, Baikonur Cosmodrome, Kazakhstan   \n",
              "4323        Site 1/5, Baikonur Cosmodrome, Kazakhstan   \n",
              "\n",
              "                            Date                                   Detail  \\\n",
              "2     Tue Aug 04, 2020 23:57 UTC       Starship Prototype | 150 Meter Hop   \n",
              "7     Thu Jul 23, 2020 04:41 UTC                 Long March 5 | Tianwen-1   \n",
              "13    Mon Jul 06, 2020 01:00 UTC                       Shavit-2 | Ofek-16   \n",
              "28    Fri May 22, 2020 07:31 UTC        Soyuz 2.1b/Fregat-M | Cosmos 2546   \n",
              "31    Tue May 12, 2020 01:16 UTC  Kuaizhou 1A | Xingyun-2 01 (Wuhan) & 02   \n",
              "...                          ...                                      ...   \n",
              "4319  Wed Feb 05, 1958 07:33 UTC                Vanguard | Vanguard TV3BU   \n",
              "4320  Sat Feb 01, 1958 03:48 UTC                      Juno I | Explorer 1   \n",
              "4321  Fri Dec 06, 1957 16:44 UTC                  Vanguard | Vanguard TV3   \n",
              "4322  Sun Nov 03, 1957 02:30 UTC               Sputnik 8K71PS | Sputnik-2   \n",
              "4323  Fri Oct 04, 1957 19:28 UTC               Sputnik 8K71PS | Sputnik-1   \n",
              "\n",
              "      Rocket_Status Price Mission_Status  \n",
              "2      StatusActive   NaN        Success  \n",
              "7      StatusActive   NaN        Success  \n",
              "13     StatusActive   NaN        Success  \n",
              "28     StatusActive   NaN        Success  \n",
              "31     StatusActive   NaN        Success  \n",
              "...             ...   ...            ...  \n",
              "4319  StatusRetired   NaN        Failure  \n",
              "4320  StatusRetired   NaN        Success  \n",
              "4321  StatusRetired   NaN        Failure  \n",
              "4322  StatusRetired   NaN        Success  \n",
              "4323  StatusRetired   NaN        Success  \n",
              "\n",
              "[3360 rows x 9 columns]"
            ]
          },
          "execution_count": 11,
          "metadata": {},
          "output_type": "execute_result"
        }
      ],
      "source": [
        "df_data[df_data.isna().any(axis=1)]"
      ]
    },
    {
      "cell_type": "code",
      "execution_count": 12,
      "metadata": {
        "id": "SfxVooCYk2As"
      },
      "outputs": [
        {
          "data": {
            "text/plain": [
              "(964, 9)"
            ]
          },
          "execution_count": 12,
          "metadata": {},
          "output_type": "execute_result"
        }
      ],
      "source": [
        "clean_df = df_data.dropna()\n",
        "clean_df.shape"
      ]
    },
    {
      "cell_type": "markdown",
      "metadata": {
        "id": "QHon_T5sa-p_",
        "papermill": {
          "duration": 0.036712,
          "end_time": "2020-10-20T21:34:05.227032",
          "exception": false,
          "start_time": "2020-10-20T21:34:05.190320",
          "status": "completed"
        },
        "tags": []
      },
      "source": [
        "## Descriptive Statistics"
      ]
    },
    {
      "cell_type": "code",
      "execution_count": 13,
      "metadata": {
        "id": "Fh1-libjkJIK"
      },
      "outputs": [],
      "source": [
        "df_data = df_data.drop([\"Unnamed: 0.1\", \"Unnamed: 0\"], axis=1)"
      ]
    },
    {
      "cell_type": "code",
      "execution_count": 14,
      "metadata": {},
      "outputs": [],
      "source": [
        "df_data.Price = df_data.Price.str.replace(\",\", \"\")\n",
        "df_data.Price = np.where(df_data.Price == df_data.Price.isnull().values.any(), df_data.Price, df_data.Price.astype(float))"
      ]
    },
    {
      "cell_type": "code",
      "execution_count": 15,
      "metadata": {},
      "outputs": [
        {
          "data": {
            "text/plain": [
              "count    964.00\n",
              "unique    56.00\n",
              "top      450.00\n",
              "freq     136.00\n",
              "Name: Price, dtype: float64"
            ]
          },
          "execution_count": 15,
          "metadata": {},
          "output_type": "execute_result"
        }
      ],
      "source": [
        "df_data['Price'].describe()"
      ]
    },
    {
      "cell_type": "markdown",
      "metadata": {
        "id": "cgCjcpeUkKPW"
      },
      "source": [
        "# Number of Launches per Company\n",
        "\n",
        "Create a chart that shows the number of space mission launches by organisation."
      ]
    },
    {
      "cell_type": "code",
      "execution_count": 16,
      "metadata": {
        "id": "rxvcIrtskxYB"
      },
      "outputs": [
        {
          "data": {
            "text/html": [
              "<div>\n",
              "<style scoped>\n",
              "    .dataframe tbody tr th:only-of-type {\n",
              "        vertical-align: middle;\n",
              "    }\n",
              "\n",
              "    .dataframe tbody tr th {\n",
              "        vertical-align: top;\n",
              "    }\n",
              "\n",
              "    .dataframe thead th {\n",
              "        text-align: right;\n",
              "    }\n",
              "</style>\n",
              "<table border=\"1\" class=\"dataframe\">\n",
              "  <thead>\n",
              "    <tr style=\"text-align: right;\">\n",
              "      <th></th>\n",
              "      <th>Total Launches</th>\n",
              "    </tr>\n",
              "  </thead>\n",
              "  <tbody>\n",
              "    <tr>\n",
              "      <th>RVSN USSR</th>\n",
              "      <td>1777</td>\n",
              "    </tr>\n",
              "    <tr>\n",
              "      <th>Arianespace</th>\n",
              "      <td>279</td>\n",
              "    </tr>\n",
              "    <tr>\n",
              "      <th>CASC</th>\n",
              "      <td>251</td>\n",
              "    </tr>\n",
              "    <tr>\n",
              "      <th>General Dynamics</th>\n",
              "      <td>251</td>\n",
              "    </tr>\n",
              "    <tr>\n",
              "      <th>NASA</th>\n",
              "      <td>203</td>\n",
              "    </tr>\n",
              "    <tr>\n",
              "      <th>VKS RF</th>\n",
              "      <td>201</td>\n",
              "    </tr>\n",
              "    <tr>\n",
              "      <th>US Air Force</th>\n",
              "      <td>161</td>\n",
              "    </tr>\n",
              "    <tr>\n",
              "      <th>ULA</th>\n",
              "      <td>140</td>\n",
              "    </tr>\n",
              "    <tr>\n",
              "      <th>Boeing</th>\n",
              "      <td>136</td>\n",
              "    </tr>\n",
              "    <tr>\n",
              "      <th>Martin Marietta</th>\n",
              "      <td>114</td>\n",
              "    </tr>\n",
              "    <tr>\n",
              "      <th>SpaceX</th>\n",
              "      <td>100</td>\n",
              "    </tr>\n",
              "    <tr>\n",
              "      <th>MHI</th>\n",
              "      <td>84</td>\n",
              "    </tr>\n",
              "    <tr>\n",
              "      <th>Northrop</th>\n",
              "      <td>83</td>\n",
              "    </tr>\n",
              "    <tr>\n",
              "      <th>Lockheed</th>\n",
              "      <td>79</td>\n",
              "    </tr>\n",
              "    <tr>\n",
              "      <th>ISRO</th>\n",
              "      <td>76</td>\n",
              "    </tr>\n",
              "    <tr>\n",
              "      <th>Roscosmos</th>\n",
              "      <td>55</td>\n",
              "    </tr>\n",
              "    <tr>\n",
              "      <th>ILS</th>\n",
              "      <td>46</td>\n",
              "    </tr>\n",
              "    <tr>\n",
              "      <th>Sea Launch</th>\n",
              "      <td>36</td>\n",
              "    </tr>\n",
              "    <tr>\n",
              "      <th>ISAS</th>\n",
              "      <td>30</td>\n",
              "    </tr>\n",
              "    <tr>\n",
              "      <th>Kosmotras</th>\n",
              "      <td>22</td>\n",
              "    </tr>\n",
              "    <tr>\n",
              "      <th>US Navy</th>\n",
              "      <td>17</td>\n",
              "    </tr>\n",
              "    <tr>\n",
              "      <th>ISA</th>\n",
              "      <td>13</td>\n",
              "    </tr>\n",
              "    <tr>\n",
              "      <th>Rocket Lab</th>\n",
              "      <td>13</td>\n",
              "    </tr>\n",
              "    <tr>\n",
              "      <th>Eurockot</th>\n",
              "      <td>13</td>\n",
              "    </tr>\n",
              "    <tr>\n",
              "      <th>ESA</th>\n",
              "      <td>13</td>\n",
              "    </tr>\n",
              "    <tr>\n",
              "      <th>Blue Origin</th>\n",
              "      <td>12</td>\n",
              "    </tr>\n",
              "    <tr>\n",
              "      <th>IAI</th>\n",
              "      <td>11</td>\n",
              "    </tr>\n",
              "    <tr>\n",
              "      <th>ExPace</th>\n",
              "      <td>10</td>\n",
              "    </tr>\n",
              "    <tr>\n",
              "      <th>ASI</th>\n",
              "      <td>9</td>\n",
              "    </tr>\n",
              "    <tr>\n",
              "      <th>CNES</th>\n",
              "      <td>8</td>\n",
              "    </tr>\n",
              "    <tr>\n",
              "      <th>AMBA</th>\n",
              "      <td>8</td>\n",
              "    </tr>\n",
              "    <tr>\n",
              "      <th>MITT</th>\n",
              "      <td>7</td>\n",
              "    </tr>\n",
              "    <tr>\n",
              "      <th>JAXA</th>\n",
              "      <td>7</td>\n",
              "    </tr>\n",
              "    <tr>\n",
              "      <th>Land Launch</th>\n",
              "      <td>7</td>\n",
              "    </tr>\n",
              "    <tr>\n",
              "      <th>UT</th>\n",
              "      <td>5</td>\n",
              "    </tr>\n",
              "    <tr>\n",
              "      <th>KCST</th>\n",
              "      <td>5</td>\n",
              "    </tr>\n",
              "    <tr>\n",
              "      <th>CASIC</th>\n",
              "      <td>5</td>\n",
              "    </tr>\n",
              "    <tr>\n",
              "      <th>Exos</th>\n",
              "      <td>4</td>\n",
              "    </tr>\n",
              "    <tr>\n",
              "      <th>CECLES</th>\n",
              "      <td>4</td>\n",
              "    </tr>\n",
              "    <tr>\n",
              "      <th>Arm??e de l'Air</th>\n",
              "      <td>4</td>\n",
              "    </tr>\n",
              "    <tr>\n",
              "      <th>KARI</th>\n",
              "      <td>3</td>\n",
              "    </tr>\n",
              "    <tr>\n",
              "      <th>SRC</th>\n",
              "      <td>3</td>\n",
              "    </tr>\n",
              "    <tr>\n",
              "      <th>AEB</th>\n",
              "      <td>3</td>\n",
              "    </tr>\n",
              "    <tr>\n",
              "      <th>RAE</th>\n",
              "      <td>2</td>\n",
              "    </tr>\n",
              "    <tr>\n",
              "      <th>OKB-586</th>\n",
              "      <td>2</td>\n",
              "    </tr>\n",
              "    <tr>\n",
              "      <th>Yuzhmash</th>\n",
              "      <td>2</td>\n",
              "    </tr>\n",
              "    <tr>\n",
              "      <th>Landspace</th>\n",
              "      <td>1</td>\n",
              "    </tr>\n",
              "    <tr>\n",
              "      <th>Douglas</th>\n",
              "      <td>1</td>\n",
              "    </tr>\n",
              "    <tr>\n",
              "      <th>EER</th>\n",
              "      <td>1</td>\n",
              "    </tr>\n",
              "    <tr>\n",
              "      <th>Starsem</th>\n",
              "      <td>1</td>\n",
              "    </tr>\n",
              "    <tr>\n",
              "      <th>Virgin Orbit</th>\n",
              "      <td>1</td>\n",
              "    </tr>\n",
              "    <tr>\n",
              "      <th>IRGC</th>\n",
              "      <td>1</td>\n",
              "    </tr>\n",
              "    <tr>\n",
              "      <th>i-Space</th>\n",
              "      <td>1</td>\n",
              "    </tr>\n",
              "    <tr>\n",
              "      <th>OneSpace</th>\n",
              "      <td>1</td>\n",
              "    </tr>\n",
              "    <tr>\n",
              "      <th>Sandia</th>\n",
              "      <td>1</td>\n",
              "    </tr>\n",
              "    <tr>\n",
              "      <th>Khrunichev</th>\n",
              "      <td>1</td>\n",
              "    </tr>\n",
              "  </tbody>\n",
              "</table>\n",
              "</div>"
            ],
            "text/plain": [
              "                  Total Launches\n",
              "RVSN USSR                   1777\n",
              "Arianespace                  279\n",
              "CASC                         251\n",
              "General Dynamics             251\n",
              "NASA                         203\n",
              "VKS RF                       201\n",
              "US Air Force                 161\n",
              "ULA                          140\n",
              "Boeing                       136\n",
              "Martin Marietta              114\n",
              "SpaceX                       100\n",
              "MHI                           84\n",
              "Northrop                      83\n",
              "Lockheed                      79\n",
              "ISRO                          76\n",
              "Roscosmos                     55\n",
              "ILS                           46\n",
              "Sea Launch                    36\n",
              "ISAS                          30\n",
              "Kosmotras                     22\n",
              "US Navy                       17\n",
              "ISA                           13\n",
              "Rocket Lab                    13\n",
              "Eurockot                      13\n",
              "ESA                           13\n",
              "Blue Origin                   12\n",
              "IAI                           11\n",
              "ExPace                        10\n",
              "ASI                            9\n",
              "CNES                           8\n",
              "AMBA                           8\n",
              "MITT                           7\n",
              "JAXA                           7\n",
              "Land Launch                    7\n",
              "UT                             5\n",
              "KCST                           5\n",
              "CASIC                          5\n",
              "Exos                           4\n",
              "CECLES                         4\n",
              "Arm??e de l'Air                4\n",
              "KARI                           3\n",
              "SRC                            3\n",
              "AEB                            3\n",
              "RAE                            2\n",
              "OKB-586                        2\n",
              "Yuzhmash                       2\n",
              "Landspace                      1\n",
              "Douglas                        1\n",
              "EER                            1\n",
              "Starsem                        1\n",
              "Virgin Orbit                   1\n",
              "IRGC                           1\n",
              "i-Space                        1\n",
              "OneSpace                       1\n",
              "Sandia                         1\n",
              "Khrunichev                     1"
            ]
          },
          "execution_count": 16,
          "metadata": {},
          "output_type": "execute_result"
        }
      ],
      "source": [
        "launch_per_organisations = df_data['Organisation'].value_counts()\n",
        "launch_per_organisations = pd.DataFrame(launch_per_organisations.values, launch_per_organisations.index, columns=['Total Launches'])\n",
        "launch_per_organisations"
      ]
    },
    {
      "cell_type": "code",
      "execution_count": 17,
      "metadata": {
        "id": "qgneHUbWkw5v"
      },
      "outputs": [
        {
          "data": {
            "application/vnd.plotly.v1+json": {
              "config": {
                "plotlyServerURL": "https://plot.ly"
              },
              "data": [
                {
                  "alignmentgroup": "True",
                  "hovertemplate": "Total Launches=%{marker.color}<br>Company=%{y}<extra></extra>",
                  "legendgroup": "",
                  "marker": {
                    "color": [
                      1777,
                      279,
                      251,
                      251,
                      203,
                      201,
                      161,
                      140,
                      136,
                      114,
                      100,
                      84,
                      83,
                      79,
                      76,
                      55,
                      46,
                      36,
                      30,
                      22,
                      17,
                      13,
                      13,
                      13,
                      13,
                      12,
                      11,
                      10,
                      9,
                      8,
                      8,
                      7,
                      7,
                      7,
                      5,
                      5,
                      5,
                      4,
                      4,
                      4,
                      3,
                      3,
                      3,
                      2,
                      2,
                      2,
                      1,
                      1,
                      1,
                      1,
                      1,
                      1,
                      1,
                      1,
                      1,
                      1
                    ],
                    "coloraxis": "coloraxis",
                    "pattern": {
                      "shape": ""
                    }
                  },
                  "name": "",
                  "offsetgroup": "",
                  "orientation": "h",
                  "showlegend": false,
                  "textposition": "auto",
                  "type": "bar",
                  "x": [
                    1777,
                    279,
                    251,
                    251,
                    203,
                    201,
                    161,
                    140,
                    136,
                    114,
                    100,
                    84,
                    83,
                    79,
                    76,
                    55,
                    46,
                    36,
                    30,
                    22,
                    17,
                    13,
                    13,
                    13,
                    13,
                    12,
                    11,
                    10,
                    9,
                    8,
                    8,
                    7,
                    7,
                    7,
                    5,
                    5,
                    5,
                    4,
                    4,
                    4,
                    3,
                    3,
                    3,
                    2,
                    2,
                    2,
                    1,
                    1,
                    1,
                    1,
                    1,
                    1,
                    1,
                    1,
                    1,
                    1
                  ],
                  "xaxis": "x",
                  "y": [
                    "RVSN USSR",
                    "Arianespace",
                    "CASC",
                    "General Dynamics",
                    "NASA",
                    "VKS RF",
                    "US Air Force",
                    "ULA",
                    "Boeing",
                    "Martin Marietta",
                    "SpaceX",
                    "MHI",
                    "Northrop",
                    "Lockheed",
                    "ISRO",
                    "Roscosmos",
                    "ILS",
                    "Sea Launch",
                    "ISAS",
                    "Kosmotras",
                    "US Navy",
                    "ISA",
                    "Rocket Lab",
                    "Eurockot",
                    "ESA",
                    "Blue Origin",
                    "IAI",
                    "ExPace",
                    "ASI",
                    "CNES",
                    "AMBA",
                    "MITT",
                    "JAXA",
                    "Land Launch",
                    "UT",
                    "KCST",
                    "CASIC",
                    "Exos",
                    "CECLES",
                    "Arm??e de l'Air",
                    "KARI",
                    "SRC",
                    "AEB",
                    "RAE",
                    "OKB-586",
                    "Yuzhmash",
                    "Landspace",
                    "Douglas",
                    "EER",
                    "Starsem",
                    "Virgin Orbit",
                    "IRGC",
                    "i-Space",
                    "OneSpace",
                    "Sandia",
                    "Khrunichev"
                  ],
                  "yaxis": "y"
                }
              ],
              "layout": {
                "barmode": "relative",
                "coloraxis": {
                  "colorbar": {
                    "title": {
                      "text": "Total Launches"
                    }
                  },
                  "colorscale": [
                    [
                      0,
                      "#440154"
                    ],
                    [
                      0.1111111111111111,
                      "#482878"
                    ],
                    [
                      0.2222222222222222,
                      "#3e4989"
                    ],
                    [
                      0.3333333333333333,
                      "#31688e"
                    ],
                    [
                      0.4444444444444444,
                      "#26828e"
                    ],
                    [
                      0.5555555555555556,
                      "#1f9e89"
                    ],
                    [
                      0.6666666666666666,
                      "#35b779"
                    ],
                    [
                      0.7777777777777778,
                      "#6ece58"
                    ],
                    [
                      0.8888888888888888,
                      "#b5de2b"
                    ],
                    [
                      1,
                      "#fde725"
                    ]
                  ]
                },
                "legend": {
                  "tracegroupgap": 0
                },
                "margin": {
                  "t": 60
                },
                "template": {
                  "data": {
                    "bar": [
                      {
                        "error_x": {
                          "color": "#2a3f5f"
                        },
                        "error_y": {
                          "color": "#2a3f5f"
                        },
                        "marker": {
                          "line": {
                            "color": "#E5ECF6",
                            "width": 0.5
                          },
                          "pattern": {
                            "fillmode": "overlay",
                            "size": 10,
                            "solidity": 0.2
                          }
                        },
                        "type": "bar"
                      }
                    ],
                    "barpolar": [
                      {
                        "marker": {
                          "line": {
                            "color": "#E5ECF6",
                            "width": 0.5
                          },
                          "pattern": {
                            "fillmode": "overlay",
                            "size": 10,
                            "solidity": 0.2
                          }
                        },
                        "type": "barpolar"
                      }
                    ],
                    "carpet": [
                      {
                        "aaxis": {
                          "endlinecolor": "#2a3f5f",
                          "gridcolor": "white",
                          "linecolor": "white",
                          "minorgridcolor": "white",
                          "startlinecolor": "#2a3f5f"
                        },
                        "baxis": {
                          "endlinecolor": "#2a3f5f",
                          "gridcolor": "white",
                          "linecolor": "white",
                          "minorgridcolor": "white",
                          "startlinecolor": "#2a3f5f"
                        },
                        "type": "carpet"
                      }
                    ],
                    "choropleth": [
                      {
                        "colorbar": {
                          "outlinewidth": 0,
                          "ticks": ""
                        },
                        "type": "choropleth"
                      }
                    ],
                    "contour": [
                      {
                        "colorbar": {
                          "outlinewidth": 0,
                          "ticks": ""
                        },
                        "colorscale": [
                          [
                            0,
                            "#0d0887"
                          ],
                          [
                            0.1111111111111111,
                            "#46039f"
                          ],
                          [
                            0.2222222222222222,
                            "#7201a8"
                          ],
                          [
                            0.3333333333333333,
                            "#9c179e"
                          ],
                          [
                            0.4444444444444444,
                            "#bd3786"
                          ],
                          [
                            0.5555555555555556,
                            "#d8576b"
                          ],
                          [
                            0.6666666666666666,
                            "#ed7953"
                          ],
                          [
                            0.7777777777777778,
                            "#fb9f3a"
                          ],
                          [
                            0.8888888888888888,
                            "#fdca26"
                          ],
                          [
                            1,
                            "#f0f921"
                          ]
                        ],
                        "type": "contour"
                      }
                    ],
                    "contourcarpet": [
                      {
                        "colorbar": {
                          "outlinewidth": 0,
                          "ticks": ""
                        },
                        "type": "contourcarpet"
                      }
                    ],
                    "heatmap": [
                      {
                        "colorbar": {
                          "outlinewidth": 0,
                          "ticks": ""
                        },
                        "colorscale": [
                          [
                            0,
                            "#0d0887"
                          ],
                          [
                            0.1111111111111111,
                            "#46039f"
                          ],
                          [
                            0.2222222222222222,
                            "#7201a8"
                          ],
                          [
                            0.3333333333333333,
                            "#9c179e"
                          ],
                          [
                            0.4444444444444444,
                            "#bd3786"
                          ],
                          [
                            0.5555555555555556,
                            "#d8576b"
                          ],
                          [
                            0.6666666666666666,
                            "#ed7953"
                          ],
                          [
                            0.7777777777777778,
                            "#fb9f3a"
                          ],
                          [
                            0.8888888888888888,
                            "#fdca26"
                          ],
                          [
                            1,
                            "#f0f921"
                          ]
                        ],
                        "type": "heatmap"
                      }
                    ],
                    "heatmapgl": [
                      {
                        "colorbar": {
                          "outlinewidth": 0,
                          "ticks": ""
                        },
                        "colorscale": [
                          [
                            0,
                            "#0d0887"
                          ],
                          [
                            0.1111111111111111,
                            "#46039f"
                          ],
                          [
                            0.2222222222222222,
                            "#7201a8"
                          ],
                          [
                            0.3333333333333333,
                            "#9c179e"
                          ],
                          [
                            0.4444444444444444,
                            "#bd3786"
                          ],
                          [
                            0.5555555555555556,
                            "#d8576b"
                          ],
                          [
                            0.6666666666666666,
                            "#ed7953"
                          ],
                          [
                            0.7777777777777778,
                            "#fb9f3a"
                          ],
                          [
                            0.8888888888888888,
                            "#fdca26"
                          ],
                          [
                            1,
                            "#f0f921"
                          ]
                        ],
                        "type": "heatmapgl"
                      }
                    ],
                    "histogram": [
                      {
                        "marker": {
                          "pattern": {
                            "fillmode": "overlay",
                            "size": 10,
                            "solidity": 0.2
                          }
                        },
                        "type": "histogram"
                      }
                    ],
                    "histogram2d": [
                      {
                        "colorbar": {
                          "outlinewidth": 0,
                          "ticks": ""
                        },
                        "colorscale": [
                          [
                            0,
                            "#0d0887"
                          ],
                          [
                            0.1111111111111111,
                            "#46039f"
                          ],
                          [
                            0.2222222222222222,
                            "#7201a8"
                          ],
                          [
                            0.3333333333333333,
                            "#9c179e"
                          ],
                          [
                            0.4444444444444444,
                            "#bd3786"
                          ],
                          [
                            0.5555555555555556,
                            "#d8576b"
                          ],
                          [
                            0.6666666666666666,
                            "#ed7953"
                          ],
                          [
                            0.7777777777777778,
                            "#fb9f3a"
                          ],
                          [
                            0.8888888888888888,
                            "#fdca26"
                          ],
                          [
                            1,
                            "#f0f921"
                          ]
                        ],
                        "type": "histogram2d"
                      }
                    ],
                    "histogram2dcontour": [
                      {
                        "colorbar": {
                          "outlinewidth": 0,
                          "ticks": ""
                        },
                        "colorscale": [
                          [
                            0,
                            "#0d0887"
                          ],
                          [
                            0.1111111111111111,
                            "#46039f"
                          ],
                          [
                            0.2222222222222222,
                            "#7201a8"
                          ],
                          [
                            0.3333333333333333,
                            "#9c179e"
                          ],
                          [
                            0.4444444444444444,
                            "#bd3786"
                          ],
                          [
                            0.5555555555555556,
                            "#d8576b"
                          ],
                          [
                            0.6666666666666666,
                            "#ed7953"
                          ],
                          [
                            0.7777777777777778,
                            "#fb9f3a"
                          ],
                          [
                            0.8888888888888888,
                            "#fdca26"
                          ],
                          [
                            1,
                            "#f0f921"
                          ]
                        ],
                        "type": "histogram2dcontour"
                      }
                    ],
                    "mesh3d": [
                      {
                        "colorbar": {
                          "outlinewidth": 0,
                          "ticks": ""
                        },
                        "type": "mesh3d"
                      }
                    ],
                    "parcoords": [
                      {
                        "line": {
                          "colorbar": {
                            "outlinewidth": 0,
                            "ticks": ""
                          }
                        },
                        "type": "parcoords"
                      }
                    ],
                    "pie": [
                      {
                        "automargin": true,
                        "type": "pie"
                      }
                    ],
                    "scatter": [
                      {
                        "fillpattern": {
                          "fillmode": "overlay",
                          "size": 10,
                          "solidity": 0.2
                        },
                        "type": "scatter"
                      }
                    ],
                    "scatter3d": [
                      {
                        "line": {
                          "colorbar": {
                            "outlinewidth": 0,
                            "ticks": ""
                          }
                        },
                        "marker": {
                          "colorbar": {
                            "outlinewidth": 0,
                            "ticks": ""
                          }
                        },
                        "type": "scatter3d"
                      }
                    ],
                    "scattercarpet": [
                      {
                        "marker": {
                          "colorbar": {
                            "outlinewidth": 0,
                            "ticks": ""
                          }
                        },
                        "type": "scattercarpet"
                      }
                    ],
                    "scattergeo": [
                      {
                        "marker": {
                          "colorbar": {
                            "outlinewidth": 0,
                            "ticks": ""
                          }
                        },
                        "type": "scattergeo"
                      }
                    ],
                    "scattergl": [
                      {
                        "marker": {
                          "colorbar": {
                            "outlinewidth": 0,
                            "ticks": ""
                          }
                        },
                        "type": "scattergl"
                      }
                    ],
                    "scattermapbox": [
                      {
                        "marker": {
                          "colorbar": {
                            "outlinewidth": 0,
                            "ticks": ""
                          }
                        },
                        "type": "scattermapbox"
                      }
                    ],
                    "scatterpolar": [
                      {
                        "marker": {
                          "colorbar": {
                            "outlinewidth": 0,
                            "ticks": ""
                          }
                        },
                        "type": "scatterpolar"
                      }
                    ],
                    "scatterpolargl": [
                      {
                        "marker": {
                          "colorbar": {
                            "outlinewidth": 0,
                            "ticks": ""
                          }
                        },
                        "type": "scatterpolargl"
                      }
                    ],
                    "scatterternary": [
                      {
                        "marker": {
                          "colorbar": {
                            "outlinewidth": 0,
                            "ticks": ""
                          }
                        },
                        "type": "scatterternary"
                      }
                    ],
                    "surface": [
                      {
                        "colorbar": {
                          "outlinewidth": 0,
                          "ticks": ""
                        },
                        "colorscale": [
                          [
                            0,
                            "#0d0887"
                          ],
                          [
                            0.1111111111111111,
                            "#46039f"
                          ],
                          [
                            0.2222222222222222,
                            "#7201a8"
                          ],
                          [
                            0.3333333333333333,
                            "#9c179e"
                          ],
                          [
                            0.4444444444444444,
                            "#bd3786"
                          ],
                          [
                            0.5555555555555556,
                            "#d8576b"
                          ],
                          [
                            0.6666666666666666,
                            "#ed7953"
                          ],
                          [
                            0.7777777777777778,
                            "#fb9f3a"
                          ],
                          [
                            0.8888888888888888,
                            "#fdca26"
                          ],
                          [
                            1,
                            "#f0f921"
                          ]
                        ],
                        "type": "surface"
                      }
                    ],
                    "table": [
                      {
                        "cells": {
                          "fill": {
                            "color": "#EBF0F8"
                          },
                          "line": {
                            "color": "white"
                          }
                        },
                        "header": {
                          "fill": {
                            "color": "#C8D4E3"
                          },
                          "line": {
                            "color": "white"
                          }
                        },
                        "type": "table"
                      }
                    ]
                  },
                  "layout": {
                    "annotationdefaults": {
                      "arrowcolor": "#2a3f5f",
                      "arrowhead": 0,
                      "arrowwidth": 1
                    },
                    "autotypenumbers": "strict",
                    "coloraxis": {
                      "colorbar": {
                        "outlinewidth": 0,
                        "ticks": ""
                      }
                    },
                    "colorscale": {
                      "diverging": [
                        [
                          0,
                          "#8e0152"
                        ],
                        [
                          0.1,
                          "#c51b7d"
                        ],
                        [
                          0.2,
                          "#de77ae"
                        ],
                        [
                          0.3,
                          "#f1b6da"
                        ],
                        [
                          0.4,
                          "#fde0ef"
                        ],
                        [
                          0.5,
                          "#f7f7f7"
                        ],
                        [
                          0.6,
                          "#e6f5d0"
                        ],
                        [
                          0.7,
                          "#b8e186"
                        ],
                        [
                          0.8,
                          "#7fbc41"
                        ],
                        [
                          0.9,
                          "#4d9221"
                        ],
                        [
                          1,
                          "#276419"
                        ]
                      ],
                      "sequential": [
                        [
                          0,
                          "#0d0887"
                        ],
                        [
                          0.1111111111111111,
                          "#46039f"
                        ],
                        [
                          0.2222222222222222,
                          "#7201a8"
                        ],
                        [
                          0.3333333333333333,
                          "#9c179e"
                        ],
                        [
                          0.4444444444444444,
                          "#bd3786"
                        ],
                        [
                          0.5555555555555556,
                          "#d8576b"
                        ],
                        [
                          0.6666666666666666,
                          "#ed7953"
                        ],
                        [
                          0.7777777777777778,
                          "#fb9f3a"
                        ],
                        [
                          0.8888888888888888,
                          "#fdca26"
                        ],
                        [
                          1,
                          "#f0f921"
                        ]
                      ],
                      "sequentialminus": [
                        [
                          0,
                          "#0d0887"
                        ],
                        [
                          0.1111111111111111,
                          "#46039f"
                        ],
                        [
                          0.2222222222222222,
                          "#7201a8"
                        ],
                        [
                          0.3333333333333333,
                          "#9c179e"
                        ],
                        [
                          0.4444444444444444,
                          "#bd3786"
                        ],
                        [
                          0.5555555555555556,
                          "#d8576b"
                        ],
                        [
                          0.6666666666666666,
                          "#ed7953"
                        ],
                        [
                          0.7777777777777778,
                          "#fb9f3a"
                        ],
                        [
                          0.8888888888888888,
                          "#fdca26"
                        ],
                        [
                          1,
                          "#f0f921"
                        ]
                      ]
                    },
                    "colorway": [
                      "#636efa",
                      "#EF553B",
                      "#00cc96",
                      "#ab63fa",
                      "#FFA15A",
                      "#19d3f3",
                      "#FF6692",
                      "#B6E880",
                      "#FF97FF",
                      "#FECB52"
                    ],
                    "font": {
                      "color": "#2a3f5f"
                    },
                    "geo": {
                      "bgcolor": "white",
                      "lakecolor": "white",
                      "landcolor": "#E5ECF6",
                      "showlakes": true,
                      "showland": true,
                      "subunitcolor": "white"
                    },
                    "hoverlabel": {
                      "align": "left"
                    },
                    "hovermode": "closest",
                    "mapbox": {
                      "style": "light"
                    },
                    "paper_bgcolor": "white",
                    "plot_bgcolor": "#E5ECF6",
                    "polar": {
                      "angularaxis": {
                        "gridcolor": "white",
                        "linecolor": "white",
                        "ticks": ""
                      },
                      "bgcolor": "#E5ECF6",
                      "radialaxis": {
                        "gridcolor": "white",
                        "linecolor": "white",
                        "ticks": ""
                      }
                    },
                    "scene": {
                      "xaxis": {
                        "backgroundcolor": "#E5ECF6",
                        "gridcolor": "white",
                        "gridwidth": 2,
                        "linecolor": "white",
                        "showbackground": true,
                        "ticks": "",
                        "zerolinecolor": "white"
                      },
                      "yaxis": {
                        "backgroundcolor": "#E5ECF6",
                        "gridcolor": "white",
                        "gridwidth": 2,
                        "linecolor": "white",
                        "showbackground": true,
                        "ticks": "",
                        "zerolinecolor": "white"
                      },
                      "zaxis": {
                        "backgroundcolor": "#E5ECF6",
                        "gridcolor": "white",
                        "gridwidth": 2,
                        "linecolor": "white",
                        "showbackground": true,
                        "ticks": "",
                        "zerolinecolor": "white"
                      }
                    },
                    "shapedefaults": {
                      "line": {
                        "color": "#2a3f5f"
                      }
                    },
                    "ternary": {
                      "aaxis": {
                        "gridcolor": "white",
                        "linecolor": "white",
                        "ticks": ""
                      },
                      "baxis": {
                        "gridcolor": "white",
                        "linecolor": "white",
                        "ticks": ""
                      },
                      "bgcolor": "#E5ECF6",
                      "caxis": {
                        "gridcolor": "white",
                        "linecolor": "white",
                        "ticks": ""
                      }
                    },
                    "title": {
                      "x": 0.05
                    },
                    "xaxis": {
                      "automargin": true,
                      "gridcolor": "white",
                      "linecolor": "white",
                      "ticks": "",
                      "title": {
                        "standoff": 15
                      },
                      "zerolinecolor": "white",
                      "zerolinewidth": 2
                    },
                    "yaxis": {
                      "automargin": true,
                      "gridcolor": "white",
                      "linecolor": "white",
                      "ticks": "",
                      "title": {
                        "standoff": 15
                      },
                      "zerolinecolor": "white",
                      "zerolinewidth": 2
                    }
                  }
                },
                "title": {
                  "text": "Number of launches per Company"
                },
                "xaxis": {
                  "anchor": "y",
                  "domain": [
                    0,
                    1
                  ],
                  "title": {
                    "text": "Company"
                  }
                },
                "yaxis": {
                  "anchor": "x",
                  "categoryorder": "total ascending",
                  "domain": [
                    0,
                    1
                  ],
                  "title": {
                    "text": "Total"
                  }
                }
              }
            }
          },
          "metadata": {},
          "output_type": "display_data"
        }
      ],
      "source": [
        "fig = px.bar(\n",
        "    launch_per_organisations,\n",
        "    x='Total Launches',\n",
        "    y=launch_per_organisations.index,\n",
        "    color='Total Launches',\n",
        "    labels={'index': 'Company', 'y': 'Number of Launches'},\n",
        "    color_continuous_scale=px.colors.sequential.Viridis,\n",
        "    orientation=\"h\"\n",
        ")\n",
        "\n",
        "fig.update_layout(\n",
        "    title=\"Number of launches per Company\",\n",
        "    xaxis_title=\"Company\",\n",
        "    yaxis_title=\"Total\",\n",
        "    yaxis={'categoryorder':'total ascending'}\n",
        ")\n",
        "\n",
        "fig.show()"
      ]
    },
    {
      "cell_type": "markdown",
      "metadata": {
        "id": "7Gwteht2kR_h"
      },
      "source": [
        "# Number of Active versus Retired Rockets\n",
        "\n",
        "How many rockets are active compared to those that are decomissioned? "
      ]
    },
    {
      "cell_type": "code",
      "execution_count": 18,
      "metadata": {
        "id": "SxmOWS9cmTq6"
      },
      "outputs": [
        {
          "data": {
            "text/html": [
              "<div>\n",
              "<style scoped>\n",
              "    .dataframe tbody tr th:only-of-type {\n",
              "        vertical-align: middle;\n",
              "    }\n",
              "\n",
              "    .dataframe tbody tr th {\n",
              "        vertical-align: top;\n",
              "    }\n",
              "\n",
              "    .dataframe thead th {\n",
              "        text-align: right;\n",
              "    }\n",
              "</style>\n",
              "<table border=\"1\" class=\"dataframe\">\n",
              "  <thead>\n",
              "    <tr style=\"text-align: right;\">\n",
              "      <th></th>\n",
              "      <th>Count</th>\n",
              "    </tr>\n",
              "  </thead>\n",
              "  <tbody>\n",
              "    <tr>\n",
              "      <th>StatusRetired</th>\n",
              "      <td>3534</td>\n",
              "    </tr>\n",
              "    <tr>\n",
              "      <th>StatusActive</th>\n",
              "      <td>790</td>\n",
              "    </tr>\n",
              "  </tbody>\n",
              "</table>\n",
              "</div>"
            ],
            "text/plain": [
              "               Count\n",
              "StatusRetired   3534\n",
              "StatusActive     790"
            ]
          },
          "execution_count": 18,
          "metadata": {},
          "output_type": "execute_result"
        }
      ],
      "source": [
        "df_rocket = df_data['Rocket_Status'].value_counts()\n",
        "df_rocket = pd.DataFrame(df_rocket.values, df_rocket.index, columns=['Count'])\n",
        "df_rocket"
      ]
    },
    {
      "cell_type": "code",
      "execution_count": 19,
      "metadata": {
        "id": "ydj0-OZ6mToH"
      },
      "outputs": [
        {
          "data": {
            "application/vnd.plotly.v1+json": {
              "config": {
                "plotlyServerURL": "https://plot.ly"
              },
              "data": [
                {
                  "alignmentgroup": "True",
                  "hovertemplate": "index=%{x}<br>Count=%{marker.color}<extra></extra>",
                  "legendgroup": "",
                  "marker": {
                    "color": [
                      3534,
                      790
                    ],
                    "coloraxis": "coloraxis",
                    "pattern": {
                      "shape": ""
                    }
                  },
                  "name": "",
                  "offsetgroup": "",
                  "orientation": "v",
                  "showlegend": false,
                  "textposition": "auto",
                  "type": "bar",
                  "x": [
                    "StatusRetired",
                    "StatusActive"
                  ],
                  "xaxis": "x",
                  "y": [
                    3534,
                    790
                  ],
                  "yaxis": "y"
                }
              ],
              "layout": {
                "barmode": "relative",
                "coloraxis": {
                  "colorbar": {
                    "title": {
                      "text": "Count"
                    }
                  },
                  "colorscale": [
                    [
                      0,
                      "rgb(103,0,31)"
                    ],
                    [
                      0.1,
                      "rgb(178,24,43)"
                    ],
                    [
                      0.2,
                      "rgb(214,96,77)"
                    ],
                    [
                      0.3,
                      "rgb(244,165,130)"
                    ],
                    [
                      0.4,
                      "rgb(253,219,199)"
                    ],
                    [
                      0.5,
                      "rgb(247,247,247)"
                    ],
                    [
                      0.6,
                      "rgb(209,229,240)"
                    ],
                    [
                      0.7,
                      "rgb(146,197,222)"
                    ],
                    [
                      0.8,
                      "rgb(67,147,195)"
                    ],
                    [
                      0.9,
                      "rgb(33,102,172)"
                    ],
                    [
                      1,
                      "rgb(5,48,97)"
                    ]
                  ],
                  "showscale": false
                },
                "legend": {
                  "tracegroupgap": 0
                },
                "margin": {
                  "t": 60
                },
                "template": {
                  "data": {
                    "bar": [
                      {
                        "error_x": {
                          "color": "#2a3f5f"
                        },
                        "error_y": {
                          "color": "#2a3f5f"
                        },
                        "marker": {
                          "line": {
                            "color": "#E5ECF6",
                            "width": 0.5
                          },
                          "pattern": {
                            "fillmode": "overlay",
                            "size": 10,
                            "solidity": 0.2
                          }
                        },
                        "type": "bar"
                      }
                    ],
                    "barpolar": [
                      {
                        "marker": {
                          "line": {
                            "color": "#E5ECF6",
                            "width": 0.5
                          },
                          "pattern": {
                            "fillmode": "overlay",
                            "size": 10,
                            "solidity": 0.2
                          }
                        },
                        "type": "barpolar"
                      }
                    ],
                    "carpet": [
                      {
                        "aaxis": {
                          "endlinecolor": "#2a3f5f",
                          "gridcolor": "white",
                          "linecolor": "white",
                          "minorgridcolor": "white",
                          "startlinecolor": "#2a3f5f"
                        },
                        "baxis": {
                          "endlinecolor": "#2a3f5f",
                          "gridcolor": "white",
                          "linecolor": "white",
                          "minorgridcolor": "white",
                          "startlinecolor": "#2a3f5f"
                        },
                        "type": "carpet"
                      }
                    ],
                    "choropleth": [
                      {
                        "colorbar": {
                          "outlinewidth": 0,
                          "ticks": ""
                        },
                        "type": "choropleth"
                      }
                    ],
                    "contour": [
                      {
                        "colorbar": {
                          "outlinewidth": 0,
                          "ticks": ""
                        },
                        "colorscale": [
                          [
                            0,
                            "#0d0887"
                          ],
                          [
                            0.1111111111111111,
                            "#46039f"
                          ],
                          [
                            0.2222222222222222,
                            "#7201a8"
                          ],
                          [
                            0.3333333333333333,
                            "#9c179e"
                          ],
                          [
                            0.4444444444444444,
                            "#bd3786"
                          ],
                          [
                            0.5555555555555556,
                            "#d8576b"
                          ],
                          [
                            0.6666666666666666,
                            "#ed7953"
                          ],
                          [
                            0.7777777777777778,
                            "#fb9f3a"
                          ],
                          [
                            0.8888888888888888,
                            "#fdca26"
                          ],
                          [
                            1,
                            "#f0f921"
                          ]
                        ],
                        "type": "contour"
                      }
                    ],
                    "contourcarpet": [
                      {
                        "colorbar": {
                          "outlinewidth": 0,
                          "ticks": ""
                        },
                        "type": "contourcarpet"
                      }
                    ],
                    "heatmap": [
                      {
                        "colorbar": {
                          "outlinewidth": 0,
                          "ticks": ""
                        },
                        "colorscale": [
                          [
                            0,
                            "#0d0887"
                          ],
                          [
                            0.1111111111111111,
                            "#46039f"
                          ],
                          [
                            0.2222222222222222,
                            "#7201a8"
                          ],
                          [
                            0.3333333333333333,
                            "#9c179e"
                          ],
                          [
                            0.4444444444444444,
                            "#bd3786"
                          ],
                          [
                            0.5555555555555556,
                            "#d8576b"
                          ],
                          [
                            0.6666666666666666,
                            "#ed7953"
                          ],
                          [
                            0.7777777777777778,
                            "#fb9f3a"
                          ],
                          [
                            0.8888888888888888,
                            "#fdca26"
                          ],
                          [
                            1,
                            "#f0f921"
                          ]
                        ],
                        "type": "heatmap"
                      }
                    ],
                    "heatmapgl": [
                      {
                        "colorbar": {
                          "outlinewidth": 0,
                          "ticks": ""
                        },
                        "colorscale": [
                          [
                            0,
                            "#0d0887"
                          ],
                          [
                            0.1111111111111111,
                            "#46039f"
                          ],
                          [
                            0.2222222222222222,
                            "#7201a8"
                          ],
                          [
                            0.3333333333333333,
                            "#9c179e"
                          ],
                          [
                            0.4444444444444444,
                            "#bd3786"
                          ],
                          [
                            0.5555555555555556,
                            "#d8576b"
                          ],
                          [
                            0.6666666666666666,
                            "#ed7953"
                          ],
                          [
                            0.7777777777777778,
                            "#fb9f3a"
                          ],
                          [
                            0.8888888888888888,
                            "#fdca26"
                          ],
                          [
                            1,
                            "#f0f921"
                          ]
                        ],
                        "type": "heatmapgl"
                      }
                    ],
                    "histogram": [
                      {
                        "marker": {
                          "pattern": {
                            "fillmode": "overlay",
                            "size": 10,
                            "solidity": 0.2
                          }
                        },
                        "type": "histogram"
                      }
                    ],
                    "histogram2d": [
                      {
                        "colorbar": {
                          "outlinewidth": 0,
                          "ticks": ""
                        },
                        "colorscale": [
                          [
                            0,
                            "#0d0887"
                          ],
                          [
                            0.1111111111111111,
                            "#46039f"
                          ],
                          [
                            0.2222222222222222,
                            "#7201a8"
                          ],
                          [
                            0.3333333333333333,
                            "#9c179e"
                          ],
                          [
                            0.4444444444444444,
                            "#bd3786"
                          ],
                          [
                            0.5555555555555556,
                            "#d8576b"
                          ],
                          [
                            0.6666666666666666,
                            "#ed7953"
                          ],
                          [
                            0.7777777777777778,
                            "#fb9f3a"
                          ],
                          [
                            0.8888888888888888,
                            "#fdca26"
                          ],
                          [
                            1,
                            "#f0f921"
                          ]
                        ],
                        "type": "histogram2d"
                      }
                    ],
                    "histogram2dcontour": [
                      {
                        "colorbar": {
                          "outlinewidth": 0,
                          "ticks": ""
                        },
                        "colorscale": [
                          [
                            0,
                            "#0d0887"
                          ],
                          [
                            0.1111111111111111,
                            "#46039f"
                          ],
                          [
                            0.2222222222222222,
                            "#7201a8"
                          ],
                          [
                            0.3333333333333333,
                            "#9c179e"
                          ],
                          [
                            0.4444444444444444,
                            "#bd3786"
                          ],
                          [
                            0.5555555555555556,
                            "#d8576b"
                          ],
                          [
                            0.6666666666666666,
                            "#ed7953"
                          ],
                          [
                            0.7777777777777778,
                            "#fb9f3a"
                          ],
                          [
                            0.8888888888888888,
                            "#fdca26"
                          ],
                          [
                            1,
                            "#f0f921"
                          ]
                        ],
                        "type": "histogram2dcontour"
                      }
                    ],
                    "mesh3d": [
                      {
                        "colorbar": {
                          "outlinewidth": 0,
                          "ticks": ""
                        },
                        "type": "mesh3d"
                      }
                    ],
                    "parcoords": [
                      {
                        "line": {
                          "colorbar": {
                            "outlinewidth": 0,
                            "ticks": ""
                          }
                        },
                        "type": "parcoords"
                      }
                    ],
                    "pie": [
                      {
                        "automargin": true,
                        "type": "pie"
                      }
                    ],
                    "scatter": [
                      {
                        "fillpattern": {
                          "fillmode": "overlay",
                          "size": 10,
                          "solidity": 0.2
                        },
                        "type": "scatter"
                      }
                    ],
                    "scatter3d": [
                      {
                        "line": {
                          "colorbar": {
                            "outlinewidth": 0,
                            "ticks": ""
                          }
                        },
                        "marker": {
                          "colorbar": {
                            "outlinewidth": 0,
                            "ticks": ""
                          }
                        },
                        "type": "scatter3d"
                      }
                    ],
                    "scattercarpet": [
                      {
                        "marker": {
                          "colorbar": {
                            "outlinewidth": 0,
                            "ticks": ""
                          }
                        },
                        "type": "scattercarpet"
                      }
                    ],
                    "scattergeo": [
                      {
                        "marker": {
                          "colorbar": {
                            "outlinewidth": 0,
                            "ticks": ""
                          }
                        },
                        "type": "scattergeo"
                      }
                    ],
                    "scattergl": [
                      {
                        "marker": {
                          "colorbar": {
                            "outlinewidth": 0,
                            "ticks": ""
                          }
                        },
                        "type": "scattergl"
                      }
                    ],
                    "scattermapbox": [
                      {
                        "marker": {
                          "colorbar": {
                            "outlinewidth": 0,
                            "ticks": ""
                          }
                        },
                        "type": "scattermapbox"
                      }
                    ],
                    "scatterpolar": [
                      {
                        "marker": {
                          "colorbar": {
                            "outlinewidth": 0,
                            "ticks": ""
                          }
                        },
                        "type": "scatterpolar"
                      }
                    ],
                    "scatterpolargl": [
                      {
                        "marker": {
                          "colorbar": {
                            "outlinewidth": 0,
                            "ticks": ""
                          }
                        },
                        "type": "scatterpolargl"
                      }
                    ],
                    "scatterternary": [
                      {
                        "marker": {
                          "colorbar": {
                            "outlinewidth": 0,
                            "ticks": ""
                          }
                        },
                        "type": "scatterternary"
                      }
                    ],
                    "surface": [
                      {
                        "colorbar": {
                          "outlinewidth": 0,
                          "ticks": ""
                        },
                        "colorscale": [
                          [
                            0,
                            "#0d0887"
                          ],
                          [
                            0.1111111111111111,
                            "#46039f"
                          ],
                          [
                            0.2222222222222222,
                            "#7201a8"
                          ],
                          [
                            0.3333333333333333,
                            "#9c179e"
                          ],
                          [
                            0.4444444444444444,
                            "#bd3786"
                          ],
                          [
                            0.5555555555555556,
                            "#d8576b"
                          ],
                          [
                            0.6666666666666666,
                            "#ed7953"
                          ],
                          [
                            0.7777777777777778,
                            "#fb9f3a"
                          ],
                          [
                            0.8888888888888888,
                            "#fdca26"
                          ],
                          [
                            1,
                            "#f0f921"
                          ]
                        ],
                        "type": "surface"
                      }
                    ],
                    "table": [
                      {
                        "cells": {
                          "fill": {
                            "color": "#EBF0F8"
                          },
                          "line": {
                            "color": "white"
                          }
                        },
                        "header": {
                          "fill": {
                            "color": "#C8D4E3"
                          },
                          "line": {
                            "color": "white"
                          }
                        },
                        "type": "table"
                      }
                    ]
                  },
                  "layout": {
                    "annotationdefaults": {
                      "arrowcolor": "#2a3f5f",
                      "arrowhead": 0,
                      "arrowwidth": 1
                    },
                    "autotypenumbers": "strict",
                    "coloraxis": {
                      "colorbar": {
                        "outlinewidth": 0,
                        "ticks": ""
                      }
                    },
                    "colorscale": {
                      "diverging": [
                        [
                          0,
                          "#8e0152"
                        ],
                        [
                          0.1,
                          "#c51b7d"
                        ],
                        [
                          0.2,
                          "#de77ae"
                        ],
                        [
                          0.3,
                          "#f1b6da"
                        ],
                        [
                          0.4,
                          "#fde0ef"
                        ],
                        [
                          0.5,
                          "#f7f7f7"
                        ],
                        [
                          0.6,
                          "#e6f5d0"
                        ],
                        [
                          0.7,
                          "#b8e186"
                        ],
                        [
                          0.8,
                          "#7fbc41"
                        ],
                        [
                          0.9,
                          "#4d9221"
                        ],
                        [
                          1,
                          "#276419"
                        ]
                      ],
                      "sequential": [
                        [
                          0,
                          "#0d0887"
                        ],
                        [
                          0.1111111111111111,
                          "#46039f"
                        ],
                        [
                          0.2222222222222222,
                          "#7201a8"
                        ],
                        [
                          0.3333333333333333,
                          "#9c179e"
                        ],
                        [
                          0.4444444444444444,
                          "#bd3786"
                        ],
                        [
                          0.5555555555555556,
                          "#d8576b"
                        ],
                        [
                          0.6666666666666666,
                          "#ed7953"
                        ],
                        [
                          0.7777777777777778,
                          "#fb9f3a"
                        ],
                        [
                          0.8888888888888888,
                          "#fdca26"
                        ],
                        [
                          1,
                          "#f0f921"
                        ]
                      ],
                      "sequentialminus": [
                        [
                          0,
                          "#0d0887"
                        ],
                        [
                          0.1111111111111111,
                          "#46039f"
                        ],
                        [
                          0.2222222222222222,
                          "#7201a8"
                        ],
                        [
                          0.3333333333333333,
                          "#9c179e"
                        ],
                        [
                          0.4444444444444444,
                          "#bd3786"
                        ],
                        [
                          0.5555555555555556,
                          "#d8576b"
                        ],
                        [
                          0.6666666666666666,
                          "#ed7953"
                        ],
                        [
                          0.7777777777777778,
                          "#fb9f3a"
                        ],
                        [
                          0.8888888888888888,
                          "#fdca26"
                        ],
                        [
                          1,
                          "#f0f921"
                        ]
                      ]
                    },
                    "colorway": [
                      "#636efa",
                      "#EF553B",
                      "#00cc96",
                      "#ab63fa",
                      "#FFA15A",
                      "#19d3f3",
                      "#FF6692",
                      "#B6E880",
                      "#FF97FF",
                      "#FECB52"
                    ],
                    "font": {
                      "color": "#2a3f5f"
                    },
                    "geo": {
                      "bgcolor": "white",
                      "lakecolor": "white",
                      "landcolor": "#E5ECF6",
                      "showlakes": true,
                      "showland": true,
                      "subunitcolor": "white"
                    },
                    "hoverlabel": {
                      "align": "left"
                    },
                    "hovermode": "closest",
                    "mapbox": {
                      "style": "light"
                    },
                    "paper_bgcolor": "white",
                    "plot_bgcolor": "#E5ECF6",
                    "polar": {
                      "angularaxis": {
                        "gridcolor": "white",
                        "linecolor": "white",
                        "ticks": ""
                      },
                      "bgcolor": "#E5ECF6",
                      "radialaxis": {
                        "gridcolor": "white",
                        "linecolor": "white",
                        "ticks": ""
                      }
                    },
                    "scene": {
                      "xaxis": {
                        "backgroundcolor": "#E5ECF6",
                        "gridcolor": "white",
                        "gridwidth": 2,
                        "linecolor": "white",
                        "showbackground": true,
                        "ticks": "",
                        "zerolinecolor": "white"
                      },
                      "yaxis": {
                        "backgroundcolor": "#E5ECF6",
                        "gridcolor": "white",
                        "gridwidth": 2,
                        "linecolor": "white",
                        "showbackground": true,
                        "ticks": "",
                        "zerolinecolor": "white"
                      },
                      "zaxis": {
                        "backgroundcolor": "#E5ECF6",
                        "gridcolor": "white",
                        "gridwidth": 2,
                        "linecolor": "white",
                        "showbackground": true,
                        "ticks": "",
                        "zerolinecolor": "white"
                      }
                    },
                    "shapedefaults": {
                      "line": {
                        "color": "#2a3f5f"
                      }
                    },
                    "ternary": {
                      "aaxis": {
                        "gridcolor": "white",
                        "linecolor": "white",
                        "ticks": ""
                      },
                      "baxis": {
                        "gridcolor": "white",
                        "linecolor": "white",
                        "ticks": ""
                      },
                      "bgcolor": "#E5ECF6",
                      "caxis": {
                        "gridcolor": "white",
                        "linecolor": "white",
                        "ticks": ""
                      }
                    },
                    "title": {
                      "x": 0.05
                    },
                    "xaxis": {
                      "automargin": true,
                      "gridcolor": "white",
                      "linecolor": "white",
                      "ticks": "",
                      "title": {
                        "standoff": 15
                      },
                      "zerolinecolor": "white",
                      "zerolinewidth": 2
                    },
                    "yaxis": {
                      "automargin": true,
                      "gridcolor": "white",
                      "linecolor": "white",
                      "ticks": "",
                      "title": {
                        "standoff": 15
                      },
                      "zerolinecolor": "white",
                      "zerolinewidth": 2
                    }
                  }
                },
                "title": {
                  "text": "Active rockets Vs. Decomissioned rockets"
                },
                "xaxis": {
                  "anchor": "y",
                  "domain": [
                    0,
                    1
                  ],
                  "title": {
                    "text": "Status"
                  }
                },
                "yaxis": {
                  "anchor": "x",
                  "domain": [
                    0,
                    1
                  ],
                  "title": {
                    "text": "Count"
                  }
                }
              }
            }
          },
          "metadata": {},
          "output_type": "display_data"
        }
      ],
      "source": [
        "rocket_fig = px.bar(\n",
        "    df_rocket,\n",
        "    x=df_rocket.index,\n",
        "    y=\"Count\",\n",
        "    color=\"Count\",\n",
        "    color_continuous_scale=px.colors.sequential.RdBu,\n",
        "\n",
        ")\n",
        "\n",
        "rocket_fig.update_layout(\n",
        "    title=\"Active rockets Vs. Decomissioned rockets\",\n",
        "    yaxis_title=\"Count\",\n",
        "    xaxis_title=\"Status\",\n",
        ")\n",
        "\n",
        "rocket_fig.update(layout_coloraxis_showscale=False)\n",
        "\n",
        "rocket_fig.show()"
      ]
    },
    {
      "cell_type": "markdown",
      "metadata": {
        "id": "y9WtP5xWkYkp"
      },
      "source": [
        "# Distribution of Mission Status\n",
        "\n",
        "How many missions were successful?\n",
        "How many missions failed?"
      ]
    },
    {
      "cell_type": "code",
      "execution_count": 20,
      "metadata": {
        "id": "83kY1alqmUhb"
      },
      "outputs": [
        {
          "data": {
            "text/html": [
              "<div>\n",
              "<style scoped>\n",
              "    .dataframe tbody tr th:only-of-type {\n",
              "        vertical-align: middle;\n",
              "    }\n",
              "\n",
              "    .dataframe tbody tr th {\n",
              "        vertical-align: top;\n",
              "    }\n",
              "\n",
              "    .dataframe thead th {\n",
              "        text-align: right;\n",
              "    }\n",
              "</style>\n",
              "<table border=\"1\" class=\"dataframe\">\n",
              "  <thead>\n",
              "    <tr style=\"text-align: right;\">\n",
              "      <th></th>\n",
              "      <th>Count</th>\n",
              "    </tr>\n",
              "  </thead>\n",
              "  <tbody>\n",
              "    <tr>\n",
              "      <th>Success</th>\n",
              "      <td>3879</td>\n",
              "    </tr>\n",
              "    <tr>\n",
              "      <th>Failure</th>\n",
              "      <td>339</td>\n",
              "    </tr>\n",
              "    <tr>\n",
              "      <th>Partial Failure</th>\n",
              "      <td>102</td>\n",
              "    </tr>\n",
              "    <tr>\n",
              "      <th>Prelaunch Failure</th>\n",
              "      <td>4</td>\n",
              "    </tr>\n",
              "  </tbody>\n",
              "</table>\n",
              "</div>"
            ],
            "text/plain": [
              "                   Count\n",
              "Success             3879\n",
              "Failure              339\n",
              "Partial Failure      102\n",
              "Prelaunch Failure      4"
            ]
          },
          "execution_count": 20,
          "metadata": {},
          "output_type": "execute_result"
        }
      ],
      "source": [
        "df_missions_status = df_data['Mission_Status'].value_counts()\n",
        "df_missions_status = pd.DataFrame(df_missions_status.values, df_missions_status.index, columns=['Count'])\n",
        "df_missions_status"
      ]
    },
    {
      "cell_type": "code",
      "execution_count": 21,
      "metadata": {
        "id": "bdmXcaopmUeZ"
      },
      "outputs": [
        {
          "data": {
            "application/vnd.plotly.v1+json": {
              "config": {
                "plotlyServerURL": "https://plot.ly"
              },
              "data": [
                {
                  "domain": {
                    "x": [
                      0,
                      1
                    ],
                    "y": [
                      0,
                      1
                    ]
                  },
                  "hole": 0.5,
                  "hovertemplate": "index=%{label}<br>Count=%{value}<extra></extra>",
                  "labels": [
                    "Success",
                    "Failure",
                    "Partial Failure",
                    "Prelaunch Failure"
                  ],
                  "legendgroup": "",
                  "name": "",
                  "showlegend": true,
                  "type": "pie",
                  "values": [
                    3879,
                    339,
                    102,
                    4
                  ]
                }
              ],
              "layout": {
                "legend": {
                  "tracegroupgap": 0
                },
                "margin": {
                  "t": 60
                },
                "piecolorway": [
                  "rgb(75, 41, 145)",
                  "rgb(135, 44, 162)",
                  "rgb(192, 54, 157)",
                  "rgb(234, 79, 136)",
                  "rgb(250, 120, 118)",
                  "rgb(246, 169, 122)",
                  "rgb(237, 217, 163)"
                ],
                "template": {
                  "data": {
                    "bar": [
                      {
                        "error_x": {
                          "color": "#2a3f5f"
                        },
                        "error_y": {
                          "color": "#2a3f5f"
                        },
                        "marker": {
                          "line": {
                            "color": "#E5ECF6",
                            "width": 0.5
                          },
                          "pattern": {
                            "fillmode": "overlay",
                            "size": 10,
                            "solidity": 0.2
                          }
                        },
                        "type": "bar"
                      }
                    ],
                    "barpolar": [
                      {
                        "marker": {
                          "line": {
                            "color": "#E5ECF6",
                            "width": 0.5
                          },
                          "pattern": {
                            "fillmode": "overlay",
                            "size": 10,
                            "solidity": 0.2
                          }
                        },
                        "type": "barpolar"
                      }
                    ],
                    "carpet": [
                      {
                        "aaxis": {
                          "endlinecolor": "#2a3f5f",
                          "gridcolor": "white",
                          "linecolor": "white",
                          "minorgridcolor": "white",
                          "startlinecolor": "#2a3f5f"
                        },
                        "baxis": {
                          "endlinecolor": "#2a3f5f",
                          "gridcolor": "white",
                          "linecolor": "white",
                          "minorgridcolor": "white",
                          "startlinecolor": "#2a3f5f"
                        },
                        "type": "carpet"
                      }
                    ],
                    "choropleth": [
                      {
                        "colorbar": {
                          "outlinewidth": 0,
                          "ticks": ""
                        },
                        "type": "choropleth"
                      }
                    ],
                    "contour": [
                      {
                        "colorbar": {
                          "outlinewidth": 0,
                          "ticks": ""
                        },
                        "colorscale": [
                          [
                            0,
                            "#0d0887"
                          ],
                          [
                            0.1111111111111111,
                            "#46039f"
                          ],
                          [
                            0.2222222222222222,
                            "#7201a8"
                          ],
                          [
                            0.3333333333333333,
                            "#9c179e"
                          ],
                          [
                            0.4444444444444444,
                            "#bd3786"
                          ],
                          [
                            0.5555555555555556,
                            "#d8576b"
                          ],
                          [
                            0.6666666666666666,
                            "#ed7953"
                          ],
                          [
                            0.7777777777777778,
                            "#fb9f3a"
                          ],
                          [
                            0.8888888888888888,
                            "#fdca26"
                          ],
                          [
                            1,
                            "#f0f921"
                          ]
                        ],
                        "type": "contour"
                      }
                    ],
                    "contourcarpet": [
                      {
                        "colorbar": {
                          "outlinewidth": 0,
                          "ticks": ""
                        },
                        "type": "contourcarpet"
                      }
                    ],
                    "heatmap": [
                      {
                        "colorbar": {
                          "outlinewidth": 0,
                          "ticks": ""
                        },
                        "colorscale": [
                          [
                            0,
                            "#0d0887"
                          ],
                          [
                            0.1111111111111111,
                            "#46039f"
                          ],
                          [
                            0.2222222222222222,
                            "#7201a8"
                          ],
                          [
                            0.3333333333333333,
                            "#9c179e"
                          ],
                          [
                            0.4444444444444444,
                            "#bd3786"
                          ],
                          [
                            0.5555555555555556,
                            "#d8576b"
                          ],
                          [
                            0.6666666666666666,
                            "#ed7953"
                          ],
                          [
                            0.7777777777777778,
                            "#fb9f3a"
                          ],
                          [
                            0.8888888888888888,
                            "#fdca26"
                          ],
                          [
                            1,
                            "#f0f921"
                          ]
                        ],
                        "type": "heatmap"
                      }
                    ],
                    "heatmapgl": [
                      {
                        "colorbar": {
                          "outlinewidth": 0,
                          "ticks": ""
                        },
                        "colorscale": [
                          [
                            0,
                            "#0d0887"
                          ],
                          [
                            0.1111111111111111,
                            "#46039f"
                          ],
                          [
                            0.2222222222222222,
                            "#7201a8"
                          ],
                          [
                            0.3333333333333333,
                            "#9c179e"
                          ],
                          [
                            0.4444444444444444,
                            "#bd3786"
                          ],
                          [
                            0.5555555555555556,
                            "#d8576b"
                          ],
                          [
                            0.6666666666666666,
                            "#ed7953"
                          ],
                          [
                            0.7777777777777778,
                            "#fb9f3a"
                          ],
                          [
                            0.8888888888888888,
                            "#fdca26"
                          ],
                          [
                            1,
                            "#f0f921"
                          ]
                        ],
                        "type": "heatmapgl"
                      }
                    ],
                    "histogram": [
                      {
                        "marker": {
                          "pattern": {
                            "fillmode": "overlay",
                            "size": 10,
                            "solidity": 0.2
                          }
                        },
                        "type": "histogram"
                      }
                    ],
                    "histogram2d": [
                      {
                        "colorbar": {
                          "outlinewidth": 0,
                          "ticks": ""
                        },
                        "colorscale": [
                          [
                            0,
                            "#0d0887"
                          ],
                          [
                            0.1111111111111111,
                            "#46039f"
                          ],
                          [
                            0.2222222222222222,
                            "#7201a8"
                          ],
                          [
                            0.3333333333333333,
                            "#9c179e"
                          ],
                          [
                            0.4444444444444444,
                            "#bd3786"
                          ],
                          [
                            0.5555555555555556,
                            "#d8576b"
                          ],
                          [
                            0.6666666666666666,
                            "#ed7953"
                          ],
                          [
                            0.7777777777777778,
                            "#fb9f3a"
                          ],
                          [
                            0.8888888888888888,
                            "#fdca26"
                          ],
                          [
                            1,
                            "#f0f921"
                          ]
                        ],
                        "type": "histogram2d"
                      }
                    ],
                    "histogram2dcontour": [
                      {
                        "colorbar": {
                          "outlinewidth": 0,
                          "ticks": ""
                        },
                        "colorscale": [
                          [
                            0,
                            "#0d0887"
                          ],
                          [
                            0.1111111111111111,
                            "#46039f"
                          ],
                          [
                            0.2222222222222222,
                            "#7201a8"
                          ],
                          [
                            0.3333333333333333,
                            "#9c179e"
                          ],
                          [
                            0.4444444444444444,
                            "#bd3786"
                          ],
                          [
                            0.5555555555555556,
                            "#d8576b"
                          ],
                          [
                            0.6666666666666666,
                            "#ed7953"
                          ],
                          [
                            0.7777777777777778,
                            "#fb9f3a"
                          ],
                          [
                            0.8888888888888888,
                            "#fdca26"
                          ],
                          [
                            1,
                            "#f0f921"
                          ]
                        ],
                        "type": "histogram2dcontour"
                      }
                    ],
                    "mesh3d": [
                      {
                        "colorbar": {
                          "outlinewidth": 0,
                          "ticks": ""
                        },
                        "type": "mesh3d"
                      }
                    ],
                    "parcoords": [
                      {
                        "line": {
                          "colorbar": {
                            "outlinewidth": 0,
                            "ticks": ""
                          }
                        },
                        "type": "parcoords"
                      }
                    ],
                    "pie": [
                      {
                        "automargin": true,
                        "type": "pie"
                      }
                    ],
                    "scatter": [
                      {
                        "fillpattern": {
                          "fillmode": "overlay",
                          "size": 10,
                          "solidity": 0.2
                        },
                        "type": "scatter"
                      }
                    ],
                    "scatter3d": [
                      {
                        "line": {
                          "colorbar": {
                            "outlinewidth": 0,
                            "ticks": ""
                          }
                        },
                        "marker": {
                          "colorbar": {
                            "outlinewidth": 0,
                            "ticks": ""
                          }
                        },
                        "type": "scatter3d"
                      }
                    ],
                    "scattercarpet": [
                      {
                        "marker": {
                          "colorbar": {
                            "outlinewidth": 0,
                            "ticks": ""
                          }
                        },
                        "type": "scattercarpet"
                      }
                    ],
                    "scattergeo": [
                      {
                        "marker": {
                          "colorbar": {
                            "outlinewidth": 0,
                            "ticks": ""
                          }
                        },
                        "type": "scattergeo"
                      }
                    ],
                    "scattergl": [
                      {
                        "marker": {
                          "colorbar": {
                            "outlinewidth": 0,
                            "ticks": ""
                          }
                        },
                        "type": "scattergl"
                      }
                    ],
                    "scattermapbox": [
                      {
                        "marker": {
                          "colorbar": {
                            "outlinewidth": 0,
                            "ticks": ""
                          }
                        },
                        "type": "scattermapbox"
                      }
                    ],
                    "scatterpolar": [
                      {
                        "marker": {
                          "colorbar": {
                            "outlinewidth": 0,
                            "ticks": ""
                          }
                        },
                        "type": "scatterpolar"
                      }
                    ],
                    "scatterpolargl": [
                      {
                        "marker": {
                          "colorbar": {
                            "outlinewidth": 0,
                            "ticks": ""
                          }
                        },
                        "type": "scatterpolargl"
                      }
                    ],
                    "scatterternary": [
                      {
                        "marker": {
                          "colorbar": {
                            "outlinewidth": 0,
                            "ticks": ""
                          }
                        },
                        "type": "scatterternary"
                      }
                    ],
                    "surface": [
                      {
                        "colorbar": {
                          "outlinewidth": 0,
                          "ticks": ""
                        },
                        "colorscale": [
                          [
                            0,
                            "#0d0887"
                          ],
                          [
                            0.1111111111111111,
                            "#46039f"
                          ],
                          [
                            0.2222222222222222,
                            "#7201a8"
                          ],
                          [
                            0.3333333333333333,
                            "#9c179e"
                          ],
                          [
                            0.4444444444444444,
                            "#bd3786"
                          ],
                          [
                            0.5555555555555556,
                            "#d8576b"
                          ],
                          [
                            0.6666666666666666,
                            "#ed7953"
                          ],
                          [
                            0.7777777777777778,
                            "#fb9f3a"
                          ],
                          [
                            0.8888888888888888,
                            "#fdca26"
                          ],
                          [
                            1,
                            "#f0f921"
                          ]
                        ],
                        "type": "surface"
                      }
                    ],
                    "table": [
                      {
                        "cells": {
                          "fill": {
                            "color": "#EBF0F8"
                          },
                          "line": {
                            "color": "white"
                          }
                        },
                        "header": {
                          "fill": {
                            "color": "#C8D4E3"
                          },
                          "line": {
                            "color": "white"
                          }
                        },
                        "type": "table"
                      }
                    ]
                  },
                  "layout": {
                    "annotationdefaults": {
                      "arrowcolor": "#2a3f5f",
                      "arrowhead": 0,
                      "arrowwidth": 1
                    },
                    "autotypenumbers": "strict",
                    "coloraxis": {
                      "colorbar": {
                        "outlinewidth": 0,
                        "ticks": ""
                      }
                    },
                    "colorscale": {
                      "diverging": [
                        [
                          0,
                          "#8e0152"
                        ],
                        [
                          0.1,
                          "#c51b7d"
                        ],
                        [
                          0.2,
                          "#de77ae"
                        ],
                        [
                          0.3,
                          "#f1b6da"
                        ],
                        [
                          0.4,
                          "#fde0ef"
                        ],
                        [
                          0.5,
                          "#f7f7f7"
                        ],
                        [
                          0.6,
                          "#e6f5d0"
                        ],
                        [
                          0.7,
                          "#b8e186"
                        ],
                        [
                          0.8,
                          "#7fbc41"
                        ],
                        [
                          0.9,
                          "#4d9221"
                        ],
                        [
                          1,
                          "#276419"
                        ]
                      ],
                      "sequential": [
                        [
                          0,
                          "#0d0887"
                        ],
                        [
                          0.1111111111111111,
                          "#46039f"
                        ],
                        [
                          0.2222222222222222,
                          "#7201a8"
                        ],
                        [
                          0.3333333333333333,
                          "#9c179e"
                        ],
                        [
                          0.4444444444444444,
                          "#bd3786"
                        ],
                        [
                          0.5555555555555556,
                          "#d8576b"
                        ],
                        [
                          0.6666666666666666,
                          "#ed7953"
                        ],
                        [
                          0.7777777777777778,
                          "#fb9f3a"
                        ],
                        [
                          0.8888888888888888,
                          "#fdca26"
                        ],
                        [
                          1,
                          "#f0f921"
                        ]
                      ],
                      "sequentialminus": [
                        [
                          0,
                          "#0d0887"
                        ],
                        [
                          0.1111111111111111,
                          "#46039f"
                        ],
                        [
                          0.2222222222222222,
                          "#7201a8"
                        ],
                        [
                          0.3333333333333333,
                          "#9c179e"
                        ],
                        [
                          0.4444444444444444,
                          "#bd3786"
                        ],
                        [
                          0.5555555555555556,
                          "#d8576b"
                        ],
                        [
                          0.6666666666666666,
                          "#ed7953"
                        ],
                        [
                          0.7777777777777778,
                          "#fb9f3a"
                        ],
                        [
                          0.8888888888888888,
                          "#fdca26"
                        ],
                        [
                          1,
                          "#f0f921"
                        ]
                      ]
                    },
                    "colorway": [
                      "#636efa",
                      "#EF553B",
                      "#00cc96",
                      "#ab63fa",
                      "#FFA15A",
                      "#19d3f3",
                      "#FF6692",
                      "#B6E880",
                      "#FF97FF",
                      "#FECB52"
                    ],
                    "font": {
                      "color": "#2a3f5f"
                    },
                    "geo": {
                      "bgcolor": "white",
                      "lakecolor": "white",
                      "landcolor": "#E5ECF6",
                      "showlakes": true,
                      "showland": true,
                      "subunitcolor": "white"
                    },
                    "hoverlabel": {
                      "align": "left"
                    },
                    "hovermode": "closest",
                    "mapbox": {
                      "style": "light"
                    },
                    "paper_bgcolor": "white",
                    "plot_bgcolor": "#E5ECF6",
                    "polar": {
                      "angularaxis": {
                        "gridcolor": "white",
                        "linecolor": "white",
                        "ticks": ""
                      },
                      "bgcolor": "#E5ECF6",
                      "radialaxis": {
                        "gridcolor": "white",
                        "linecolor": "white",
                        "ticks": ""
                      }
                    },
                    "scene": {
                      "xaxis": {
                        "backgroundcolor": "#E5ECF6",
                        "gridcolor": "white",
                        "gridwidth": 2,
                        "linecolor": "white",
                        "showbackground": true,
                        "ticks": "",
                        "zerolinecolor": "white"
                      },
                      "yaxis": {
                        "backgroundcolor": "#E5ECF6",
                        "gridcolor": "white",
                        "gridwidth": 2,
                        "linecolor": "white",
                        "showbackground": true,
                        "ticks": "",
                        "zerolinecolor": "white"
                      },
                      "zaxis": {
                        "backgroundcolor": "#E5ECF6",
                        "gridcolor": "white",
                        "gridwidth": 2,
                        "linecolor": "white",
                        "showbackground": true,
                        "ticks": "",
                        "zerolinecolor": "white"
                      }
                    },
                    "shapedefaults": {
                      "line": {
                        "color": "#2a3f5f"
                      }
                    },
                    "ternary": {
                      "aaxis": {
                        "gridcolor": "white",
                        "linecolor": "white",
                        "ticks": ""
                      },
                      "baxis": {
                        "gridcolor": "white",
                        "linecolor": "white",
                        "ticks": ""
                      },
                      "bgcolor": "#E5ECF6",
                      "caxis": {
                        "gridcolor": "white",
                        "linecolor": "white",
                        "ticks": ""
                      }
                    },
                    "title": {
                      "x": 0.05
                    },
                    "xaxis": {
                      "automargin": true,
                      "gridcolor": "white",
                      "linecolor": "white",
                      "ticks": "",
                      "title": {
                        "standoff": 15
                      },
                      "zerolinecolor": "white",
                      "zerolinewidth": 2
                    },
                    "yaxis": {
                      "automargin": true,
                      "gridcolor": "white",
                      "linecolor": "white",
                      "ticks": "",
                      "title": {
                        "standoff": 15
                      },
                      "zerolinecolor": "white",
                      "zerolinewidth": 2
                    }
                  }
                },
                "title": {
                  "text": "Distribution of Mission Status"
                }
              }
            }
          },
          "metadata": {},
          "output_type": "display_data"
        }
      ],
      "source": [
        "missions_status_fig = px.pie(\n",
        "    df_missions_status,\n",
        "    values=\"Count\",\n",
        "    names=df_missions_status.index,\n",
        "    hole=0.5,\n",
        "    color_discrete_sequence=px.colors.sequential.Agsunset\n",
        ")\n",
        "\n",
        "missions_status_fig.update_layout(\n",
        "    title=\"Distribution of Mission Status\"\n",
        ")\n",
        "\n",
        "missions_status_fig.show()"
      ]
    },
    {
      "cell_type": "markdown",
      "metadata": {
        "id": "jgTCihuoa-qH",
        "papermill": {
          "duration": 0.03854,
          "end_time": "2020-10-20T21:34:05.968626",
          "exception": false,
          "start_time": "2020-10-20T21:34:05.930086",
          "status": "completed"
        },
        "tags": []
      },
      "source": [
        "# How Expensive are the Launches? \n",
        "\n",
        "Create a histogram and visualise the distribution. The price column is given in USD millions (careful of missing values). "
      ]
    },
    {
      "cell_type": "code",
      "execution_count": 22,
      "metadata": {
        "id": "PLOMhzZFnSCO"
      },
      "outputs": [
        {
          "data": {
            "application/vnd.plotly.v1+json": {
              "config": {
                "plotlyServerURL": "https://plot.ly"
              },
              "data": [
                {
                  "alignmentgroup": "True",
                  "bingroup": "x",
                  "hovertemplate": "Price=%{x}<br>count=%{y}<extra></extra>",
                  "legendgroup": "",
                  "marker": {
                    "color": "#636efa",
                    "pattern": {
                      "shape": ""
                    }
                  },
                  "name": "",
                  "offsetgroup": "",
                  "orientation": "v",
                  "showlegend": false,
                  "type": "histogram",
                  "x": [
                    "50.0",
                    "29.75",
                    "65.0",
                    "145.0",
                    "64.68",
                    "48.5",
                    "50.0",
                    "90.0",
                    "46.0",
                    "28.3",
                    "29.15",
                    "29.75",
                    "7.5",
                    "64.68",
                    "50.0",
                    "29.15",
                    "29.75",
                    "50.0",
                    "7.5",
                    "30.8",
                    "50.0",
                    "29.75",
                    "50.0",
                    "5.3",
                    "12.0",
                    "112.5",
                    "120.0",
                    "48.5",
                    "50.0",
                    "29.15",
                    "48.5",
                    "153.0",
                    "30.8",
                    "48.5",
                    "50.0",
                    "29.15",
                    "50.0",
                    "48.5",
                    "29.75",
                    "200.0",
                    "50.0",
                    "85.0",
                    "115.0",
                    "90.0",
                    "48.5",
                    "7.5",
                    "50.0",
                    "50.0",
                    "200.0",
                    "29.75",
                    "29.15",
                    "50.0",
                    "41.8",
                    "65.0",
                    "64.68",
                    "50.0",
                    "21.0",
                    "48.5",
                    "48.5",
                    "7.5",
                    "50.0",
                    "64.68",
                    "31.0",
                    "200.0",
                    "50.0",
                    "29.15",
                    "64.68",
                    "85.0",
                    "29.15",
                    "7.5",
                    "40.0",
                    "65.0",
                    "64.68",
                    "48.5",
                    "29.75",
                    "112.5",
                    "5.3",
                    "64.68",
                    "41.8",
                    "164.0",
                    "48.5",
                    "7.5",
                    "29.15",
                    "7.5",
                    "153.0",
                    "50.0",
                    "200.0",
                    "65.0",
                    "48.5",
                    "48.5",
                    "30.8",
                    "50.0",
                    "62.0",
                    "65.0",
                    "37.0",
                    "7.5",
                    "90.0",
                    "29.15",
                    "200.0",
                    "50.0",
                    "5.3",
                    "65.0",
                    "50.0",
                    "64.68",
                    "21.0",
                    "7.5",
                    "50.0",
                    "64.68",
                    "29.15",
                    "85.0",
                    "90.0",
                    "48.5",
                    "21.0",
                    "29.15",
                    "7.5",
                    "37.0",
                    "29.15",
                    "50.0",
                    "50.0",
                    "200.0",
                    "5.3",
                    "350.0",
                    "39.0",
                    "50.0",
                    "29.15",
                    "48.5",
                    "50.0",
                    "5.3",
                    "65.0",
                    "47.0",
                    "7.5",
                    "29.15",
                    "29.75",
                    "50.0",
                    "200.0",
                    "50.0",
                    "41.8",
                    "21.0",
                    "37.0",
                    "29.75",
                    "85.0",
                    "50.0",
                    "62.0",
                    "7.5",
                    "48.5",
                    "29.15",
                    "90.0",
                    "30.8",
                    "35.0",
                    "64.68",
                    "200.0",
                    "153.0",
                    "30.8",
                    "50.0",
                    "200.0",
                    "112.5",
                    "21.0",
                    "50.0",
                    "30.8",
                    "37.0",
                    "350.0",
                    "50.0",
                    "64.68",
                    "50.0",
                    "50.0",
                    "48.5",
                    "69.7",
                    "30.8",
                    "62.0",
                    "30.8",
                    "90.0",
                    "69.7",
                    "62.0",
                    "29.75",
                    "62.0",
                    "85.0",
                    "64.68",
                    "50.0",
                    "64.68",
                    "109.0",
                    "29.15",
                    "5.3",
                    "41.8",
                    "62.0",
                    "65.0",
                    "153.0",
                    "31.0",
                    "64.68",
                    "200.0",
                    "62.0",
                    "64.68",
                    "62.0",
                    "47.0",
                    "29.75",
                    "62.0",
                    "145.0",
                    "90.0",
                    "62.0",
                    "48.5",
                    "90.0",
                    "29.75",
                    "48.5",
                    "62.0",
                    "200.0",
                    "30.8",
                    "7.5",
                    "115.0",
                    "5.3",
                    "39.0",
                    "29.75",
                    "31.0",
                    "29.75",
                    "62.0",
                    "30.8",
                    "29.75",
                    "62.0",
                    "90.0",
                    "62.0",
                    "29.15",
                    "29.75",
                    "35.0",
                    "30.8",
                    "64.68",
                    "85.0",
                    "37.0",
                    "45.0",
                    "62.0",
                    "123.0",
                    "48.5",
                    "41.8",
                    "62.0",
                    "90.0",
                    "62.0",
                    "29.75",
                    "200.0",
                    "30.8",
                    "65.0",
                    "145.0",
                    "65.0",
                    "62.0",
                    "31.0",
                    "46.0",
                    "62.0",
                    "109.0",
                    "65.0",
                    "62.0",
                    "37.0",
                    "48.5",
                    "62.0",
                    "200.0",
                    "62.0",
                    "62.0",
                    "31.0",
                    "29.15",
                    "64.68",
                    "48.5",
                    "65.0",
                    "62.0",
                    "62.0",
                    "200.0",
                    "90.0",
                    "7.5",
                    "62.0",
                    "47.0",
                    "200.0",
                    "62.0",
                    "109.0",
                    "29.15",
                    "62.0",
                    "90.0",
                    "62.0",
                    "37.0",
                    "109.0",
                    "62.0",
                    "31.0",
                    "200.0",
                    "109.0",
                    "62.0",
                    "29.15",
                    "29.75",
                    "200.0",
                    "29.75",
                    "130.0",
                    "40.0",
                    "29.15",
                    "112.5",
                    "31.0",
                    "37.0",
                    "145.0",
                    "29.75",
                    "109.0",
                    "5.3",
                    "90.0",
                    "85.0",
                    "200.0",
                    "25.0",
                    "37.0",
                    "115.0",
                    "47.0",
                    "62.0",
                    "64.68",
                    "200.0",
                    "164.0",
                    "29.75",
                    "62.0",
                    "64.68",
                    "29.15",
                    "123.0",
                    "62.0",
                    "64.68",
                    "153.0",
                    "31.0",
                    "200.0",
                    "62.0",
                    "350.0",
                    "65.0",
                    "41.8",
                    "64.68",
                    "48.5",
                    "62.0",
                    "29.75",
                    "62.0",
                    "31.0",
                    "62.0",
                    "29.75",
                    "48.5",
                    "69.7",
                    "48.5",
                    "109.0",
                    "65.0",
                    "35.0",
                    "31.0",
                    "200.0",
                    "62.0",
                    "90.0",
                    "41.8",
                    "48.5",
                    "109.0",
                    "65.0",
                    "200.0",
                    "31.0",
                    "56.5",
                    "29.15",
                    "62.0",
                    "21.0",
                    "109.0",
                    "37.0",
                    "200.0",
                    "15.0",
                    "109.0",
                    "109.0",
                    "123.0",
                    "200.0",
                    "31.0",
                    "5.3",
                    "41.8",
                    "153.0",
                    "47.0",
                    "200.0",
                    "112.5",
                    "200.0",
                    "109.0",
                    "31.0",
                    "56.5",
                    "37.0",
                    "200.0",
                    "120.0",
                    "56.5",
                    "200.0",
                    "56.5",
                    "41.8",
                    "31.0",
                    "90.0",
                    "29.0",
                    "164.0",
                    "123.0",
                    "56.5",
                    "56.5",
                    "37.0",
                    "90.0",
                    "153.0",
                    "56.5",
                    "62.0",
                    "145.0",
                    "200.0",
                    "350.0",
                    "90.0",
                    "29.0",
                    "109.0",
                    "80.0",
                    "200.0",
                    "31.0",
                    "90.0",
                    "56.5",
                    "109.0",
                    "200.0",
                    "56.5",
                    "109.0",
                    "56.5",
                    "109.0",
                    "164.0",
                    "56.5",
                    "80.0",
                    "41.8",
                    "21.0",
                    "29.0",
                    "90.0",
                    "41.8",
                    "109.0",
                    "164.0",
                    "37.0",
                    "56.5",
                    "145.0",
                    "31.0",
                    "109.0",
                    "200.0",
                    "90.0",
                    "164.0",
                    "200.0",
                    "109.0",
                    "80.0",
                    "56.5",
                    "47.0",
                    "41.8",
                    "120.0",
                    "56.5",
                    "41.8",
                    "29.0",
                    "40.0",
                    "109.0",
                    "31.0",
                    "56.5",
                    "140.0",
                    "80.0",
                    "41.8",
                    "55.0",
                    "200.0",
                    "350.0",
                    "29.0",
                    "112.5",
                    "200.0",
                    "153.0",
                    "65.0",
                    "31.0",
                    "40.0",
                    "109.0",
                    "37.0",
                    "80.0",
                    "109.0",
                    "59.5",
                    "21.0",
                    "109.0",
                    "200.0",
                    "109.0",
                    "90.0",
                    "41.8",
                    "200.0",
                    "120.0",
                    "80.0",
                    "200.0",
                    "59.5",
                    "164.0",
                    "200.0",
                    "109.0",
                    "21.0",
                    "109.0",
                    "200.0",
                    "41.8",
                    "112.5",
                    "200.0",
                    "350.0",
                    "109.0",
                    "40.0",
                    "59.5",
                    "90.0",
                    "200.0",
                    "140.0",
                    "31.0",
                    "31.0",
                    "153.0",
                    "37.0",
                    "80.0",
                    "90.0",
                    "145.0",
                    "21.0",
                    "46.0",
                    "90.0",
                    "200.0",
                    "90.0",
                    "29.0",
                    "200.0",
                    "153.0",
                    "164.0",
                    "31.0",
                    "450.0",
                    "40.0",
                    "200.0",
                    "450.0",
                    "109.0",
                    "200.0",
                    "25.0",
                    "115.0",
                    "164.0",
                    "120.0",
                    "45.0",
                    "450.0",
                    "40.0",
                    "41.8",
                    "112.5",
                    "350.0",
                    "200.0",
                    "47.0",
                    "59.5",
                    "200.0",
                    "350.0",
                    "46.0",
                    "200.0",
                    "46.0",
                    "120.0",
                    "41.8",
                    "140.0",
                    "200.0",
                    "21.0",
                    "200.0",
                    "29.0",
                    "29.0",
                    "59.5",
                    "41.8",
                    "164.0",
                    "200.0",
                    "450.0",
                    "90.0",
                    "120.0",
                    "47.0",
                    "29.0",
                    "450.0",
                    "164.0",
                    "109.0",
                    "450.0",
                    "90.0",
                    "130.0",
                    "450.0",
                    "41.8",
                    "200.0",
                    "450.0",
                    "109.0",
                    "200.0",
                    "21.0",
                    "112.5",
                    "109.0",
                    "450.0",
                    "200.0",
                    "29.0",
                    "450.0",
                    "7.0",
                    "41.8",
                    "200.0",
                    "164.0",
                    "123.0",
                    "40.0",
                    "200.0",
                    "450.0",
                    "21.0",
                    "123.0",
                    "41.8",
                    "450.0",
                    "45.0",
                    "200.0",
                    "90.0",
                    "350.0",
                    "200.0",
                    "450.0",
                    "29.75",
                    "29.75",
                    "29.15",
                    "64.68",
                    "31.0",
                    "40.0",
                    "29.0",
                    "7.0",
                    "29.0",
                    "200.0",
                    "7.0",
                    "200.0",
                    "200.0",
                    "450.0",
                    "64.68",
                    "41.8",
                    "21.0",
                    "20.14",
                    "200.0",
                    "40.0",
                    "123.0",
                    "115.0",
                    "450.0",
                    "90.0",
                    "450.0",
                    "21.0",
                    "109.0",
                    "200.0",
                    "64.68",
                    "350.0",
                    "450.0",
                    "123.0",
                    "64.68",
                    "47.0",
                    "200.0",
                    "450.0",
                    "29.0",
                    "109.0",
                    "29.0",
                    "450.0",
                    "69.7",
                    "29.75",
                    "29.15",
                    "200.0",
                    "40.0",
                    "40.0",
                    "21.0",
                    "29.0",
                    "69.7",
                    "30.8",
                    "7.0",
                    "200.0",
                    "109.0",
                    "69.7",
                    "25.0",
                    "40.0",
                    "450.0",
                    "200.0",
                    "69.7",
                    "133.0",
                    "64.68",
                    "200.0",
                    "69.7",
                    "90.0",
                    "450.0",
                    "30.8",
                    "200.0",
                    "41.8",
                    "29.0",
                    "29.0",
                    "47.0",
                    "450.0",
                    "164.0",
                    "200.0",
                    "164.0",
                    "64.68",
                    "115.0",
                    "40.0",
                    "40.0",
                    "7.0",
                    "200.0",
                    "153.0",
                    "200.0",
                    "41.8",
                    "40.0",
                    "29.75",
                    "41.8",
                    "29.0",
                    "109.0",
                    "30.8",
                    "450.0",
                    "29.75",
                    "25.0",
                    "40.0",
                    "40.0",
                    "130.0",
                    "200.0",
                    "350.0",
                    "190.0",
                    "135.0",
                    "30.8",
                    "48.5",
                    "64.68",
                    "69.7",
                    "29.75",
                    "47.0",
                    "64.68",
                    "30.8",
                    "30.8",
                    "190.0",
                    "29.0",
                    "45.0",
                    "30.8",
                    "190.0",
                    "30.8",
                    "69.7",
                    "29.75",
                    "41.8",
                    "64.68",
                    "35.0",
                    "25.0",
                    "133.0",
                    "40.0",
                    "135.0",
                    "41.8",
                    "40.0",
                    "69.7",
                    "109.0",
                    "47.0",
                    "40.0",
                    "133.0",
                    "40.0",
                    "450.0",
                    "35.0",
                    "29.0",
                    "90.0",
                    "200.0",
                    "450.0",
                    "164.0",
                    "64.68",
                    "450.0",
                    "25.0",
                    "109.0",
                    "35.0",
                    "41.8",
                    "450.0",
                    "64.68",
                    "450.0",
                    "41.8",
                    "450.0",
                    "40.0",
                    "450.0",
                    "25.0",
                    "45.0",
                    "90.0",
                    "450.0",
                    "450.0",
                    "450.0",
                    "47.0",
                    "450.0",
                    "450.0",
                    "69.7",
                    "450.0",
                    "69.7",
                    "450.0",
                    "40.0",
                    "29.0",
                    "35.0",
                    "450.0",
                    "40.0",
                    "40.0",
                    "450.0",
                    "41.8",
                    "45.0",
                    "450.0",
                    "40.0",
                    "69.7",
                    "45.0",
                    "450.0",
                    "35.0",
                    "40.0",
                    "64.68",
                    "450.0",
                    "35.0",
                    "30.8",
                    "25.0",
                    "450.0",
                    "40.0",
                    "64.68",
                    "29.0",
                    "40.0",
                    "30.8",
                    "40.0",
                    "450.0",
                    "450.0",
                    "40.0",
                    "45.0",
                    "40.0",
                    "30.8",
                    "40.0",
                    "450.0",
                    "35.0",
                    "30.8",
                    "450.0",
                    "40.0",
                    "30.8",
                    "40.0",
                    "45.0",
                    "450.0",
                    "40.0",
                    "30.8",
                    "450.0",
                    "40.0",
                    "25.0",
                    "450.0",
                    "30.8",
                    "40.0",
                    "450.0",
                    "40.0",
                    "450.0",
                    "450.0",
                    "69.7",
                    "40.0",
                    "450.0",
                    "35.0",
                    "450.0",
                    "450.0",
                    "450.0",
                    "40.0",
                    "29.75",
                    "450.0",
                    "40.0",
                    "40.0",
                    "450.0",
                    "450.0",
                    "40.0",
                    "450.0",
                    "25.0",
                    "40.0",
                    "450.0",
                    "450.0",
                    "450.0",
                    "20.0",
                    "450.0",
                    "450.0",
                    "450.0",
                    "450.0",
                    "40.0",
                    "40.0",
                    "450.0",
                    "450.0",
                    "69.7",
                    "450.0",
                    "25.0",
                    "450.0",
                    "450.0",
                    "40.0",
                    "450.0",
                    "29.75",
                    "40.0",
                    "40.0",
                    "450.0",
                    "45.0",
                    "450.0",
                    "69.7",
                    "450.0",
                    "35.0",
                    "450.0",
                    "450.0",
                    "30.8",
                    "35.0",
                    "25.0",
                    "450.0",
                    "450.0",
                    "450.0",
                    "40.0",
                    "450.0",
                    "40.0",
                    "450.0",
                    "450.0",
                    "450.0",
                    "30.8",
                    "136.6",
                    "450.0",
                    "29.75",
                    "450.0",
                    "450.0",
                    "450.0",
                    "35.0",
                    "450.0",
                    "450.0",
                    "450.0",
                    "450.0",
                    "450.0",
                    "40.0",
                    "450.0",
                    "450.0",
                    "450.0",
                    "450.0",
                    "450.0",
                    "450.0",
                    "30.8",
                    "136.6",
                    "450.0",
                    "40.0",
                    "136.6",
                    "450.0",
                    "450.0",
                    "136.6",
                    "450.0",
                    "450.0",
                    "35.0",
                    "450.0",
                    "450.0",
                    "450.0",
                    "450.0",
                    "5,000.0",
                    "450.0",
                    "35.0",
                    "30.8",
                    "30.8",
                    "30.8",
                    "5,000.0",
                    "30.8",
                    "450.0",
                    "450.0",
                    "450.0",
                    "450.0",
                    "30.8",
                    "450.0",
                    "450.0",
                    "450.0",
                    "450.0",
                    "450.0",
                    "450.0",
                    "450.0",
                    "450.0",
                    "450.0",
                    "30.8",
                    "450.0",
                    "450.0",
                    "450.0",
                    "450.0",
                    "450.0",
                    "30.8",
                    "450.0",
                    "450.0",
                    "450.0",
                    "30.8",
                    "450.0",
                    "450.0",
                    "450.0",
                    "450.0",
                    "1,160.0",
                    "1,160.0",
                    "1,160.0",
                    "1,160.0",
                    "1,160.0",
                    "1,160.0",
                    "1,160.0",
                    "1,160.0",
                    "59.0",
                    "1,160.0",
                    "59.0",
                    "59.0",
                    "1,160.0",
                    "59.0",
                    "1,160.0",
                    "59.0",
                    "59.0",
                    "59.0",
                    "59.0",
                    "59.0",
                    "59.0",
                    "1,160.0",
                    "59.0",
                    "59.0",
                    "59.0",
                    "1,160.0",
                    "59.0",
                    "59.0",
                    "59.0",
                    "59.0",
                    "59.0",
                    "59.0",
                    "59.0",
                    "59.0",
                    "59.0",
                    "63.23",
                    "63.23",
                    "63.23",
                    "63.23"
                  ],
                  "xaxis": "x",
                  "yaxis": "y"
                }
              ],
              "layout": {
                "barmode": "relative",
                "legend": {
                  "tracegroupgap": 0
                },
                "margin": {
                  "t": 60
                },
                "template": {
                  "data": {
                    "bar": [
                      {
                        "error_x": {
                          "color": "#2a3f5f"
                        },
                        "error_y": {
                          "color": "#2a3f5f"
                        },
                        "marker": {
                          "line": {
                            "color": "#E5ECF6",
                            "width": 0.5
                          },
                          "pattern": {
                            "fillmode": "overlay",
                            "size": 10,
                            "solidity": 0.2
                          }
                        },
                        "type": "bar"
                      }
                    ],
                    "barpolar": [
                      {
                        "marker": {
                          "line": {
                            "color": "#E5ECF6",
                            "width": 0.5
                          },
                          "pattern": {
                            "fillmode": "overlay",
                            "size": 10,
                            "solidity": 0.2
                          }
                        },
                        "type": "barpolar"
                      }
                    ],
                    "carpet": [
                      {
                        "aaxis": {
                          "endlinecolor": "#2a3f5f",
                          "gridcolor": "white",
                          "linecolor": "white",
                          "minorgridcolor": "white",
                          "startlinecolor": "#2a3f5f"
                        },
                        "baxis": {
                          "endlinecolor": "#2a3f5f",
                          "gridcolor": "white",
                          "linecolor": "white",
                          "minorgridcolor": "white",
                          "startlinecolor": "#2a3f5f"
                        },
                        "type": "carpet"
                      }
                    ],
                    "choropleth": [
                      {
                        "colorbar": {
                          "outlinewidth": 0,
                          "ticks": ""
                        },
                        "type": "choropleth"
                      }
                    ],
                    "contour": [
                      {
                        "colorbar": {
                          "outlinewidth": 0,
                          "ticks": ""
                        },
                        "colorscale": [
                          [
                            0,
                            "#0d0887"
                          ],
                          [
                            0.1111111111111111,
                            "#46039f"
                          ],
                          [
                            0.2222222222222222,
                            "#7201a8"
                          ],
                          [
                            0.3333333333333333,
                            "#9c179e"
                          ],
                          [
                            0.4444444444444444,
                            "#bd3786"
                          ],
                          [
                            0.5555555555555556,
                            "#d8576b"
                          ],
                          [
                            0.6666666666666666,
                            "#ed7953"
                          ],
                          [
                            0.7777777777777778,
                            "#fb9f3a"
                          ],
                          [
                            0.8888888888888888,
                            "#fdca26"
                          ],
                          [
                            1,
                            "#f0f921"
                          ]
                        ],
                        "type": "contour"
                      }
                    ],
                    "contourcarpet": [
                      {
                        "colorbar": {
                          "outlinewidth": 0,
                          "ticks": ""
                        },
                        "type": "contourcarpet"
                      }
                    ],
                    "heatmap": [
                      {
                        "colorbar": {
                          "outlinewidth": 0,
                          "ticks": ""
                        },
                        "colorscale": [
                          [
                            0,
                            "#0d0887"
                          ],
                          [
                            0.1111111111111111,
                            "#46039f"
                          ],
                          [
                            0.2222222222222222,
                            "#7201a8"
                          ],
                          [
                            0.3333333333333333,
                            "#9c179e"
                          ],
                          [
                            0.4444444444444444,
                            "#bd3786"
                          ],
                          [
                            0.5555555555555556,
                            "#d8576b"
                          ],
                          [
                            0.6666666666666666,
                            "#ed7953"
                          ],
                          [
                            0.7777777777777778,
                            "#fb9f3a"
                          ],
                          [
                            0.8888888888888888,
                            "#fdca26"
                          ],
                          [
                            1,
                            "#f0f921"
                          ]
                        ],
                        "type": "heatmap"
                      }
                    ],
                    "heatmapgl": [
                      {
                        "colorbar": {
                          "outlinewidth": 0,
                          "ticks": ""
                        },
                        "colorscale": [
                          [
                            0,
                            "#0d0887"
                          ],
                          [
                            0.1111111111111111,
                            "#46039f"
                          ],
                          [
                            0.2222222222222222,
                            "#7201a8"
                          ],
                          [
                            0.3333333333333333,
                            "#9c179e"
                          ],
                          [
                            0.4444444444444444,
                            "#bd3786"
                          ],
                          [
                            0.5555555555555556,
                            "#d8576b"
                          ],
                          [
                            0.6666666666666666,
                            "#ed7953"
                          ],
                          [
                            0.7777777777777778,
                            "#fb9f3a"
                          ],
                          [
                            0.8888888888888888,
                            "#fdca26"
                          ],
                          [
                            1,
                            "#f0f921"
                          ]
                        ],
                        "type": "heatmapgl"
                      }
                    ],
                    "histogram": [
                      {
                        "marker": {
                          "pattern": {
                            "fillmode": "overlay",
                            "size": 10,
                            "solidity": 0.2
                          }
                        },
                        "type": "histogram"
                      }
                    ],
                    "histogram2d": [
                      {
                        "colorbar": {
                          "outlinewidth": 0,
                          "ticks": ""
                        },
                        "colorscale": [
                          [
                            0,
                            "#0d0887"
                          ],
                          [
                            0.1111111111111111,
                            "#46039f"
                          ],
                          [
                            0.2222222222222222,
                            "#7201a8"
                          ],
                          [
                            0.3333333333333333,
                            "#9c179e"
                          ],
                          [
                            0.4444444444444444,
                            "#bd3786"
                          ],
                          [
                            0.5555555555555556,
                            "#d8576b"
                          ],
                          [
                            0.6666666666666666,
                            "#ed7953"
                          ],
                          [
                            0.7777777777777778,
                            "#fb9f3a"
                          ],
                          [
                            0.8888888888888888,
                            "#fdca26"
                          ],
                          [
                            1,
                            "#f0f921"
                          ]
                        ],
                        "type": "histogram2d"
                      }
                    ],
                    "histogram2dcontour": [
                      {
                        "colorbar": {
                          "outlinewidth": 0,
                          "ticks": ""
                        },
                        "colorscale": [
                          [
                            0,
                            "#0d0887"
                          ],
                          [
                            0.1111111111111111,
                            "#46039f"
                          ],
                          [
                            0.2222222222222222,
                            "#7201a8"
                          ],
                          [
                            0.3333333333333333,
                            "#9c179e"
                          ],
                          [
                            0.4444444444444444,
                            "#bd3786"
                          ],
                          [
                            0.5555555555555556,
                            "#d8576b"
                          ],
                          [
                            0.6666666666666666,
                            "#ed7953"
                          ],
                          [
                            0.7777777777777778,
                            "#fb9f3a"
                          ],
                          [
                            0.8888888888888888,
                            "#fdca26"
                          ],
                          [
                            1,
                            "#f0f921"
                          ]
                        ],
                        "type": "histogram2dcontour"
                      }
                    ],
                    "mesh3d": [
                      {
                        "colorbar": {
                          "outlinewidth": 0,
                          "ticks": ""
                        },
                        "type": "mesh3d"
                      }
                    ],
                    "parcoords": [
                      {
                        "line": {
                          "colorbar": {
                            "outlinewidth": 0,
                            "ticks": ""
                          }
                        },
                        "type": "parcoords"
                      }
                    ],
                    "pie": [
                      {
                        "automargin": true,
                        "type": "pie"
                      }
                    ],
                    "scatter": [
                      {
                        "fillpattern": {
                          "fillmode": "overlay",
                          "size": 10,
                          "solidity": 0.2
                        },
                        "type": "scatter"
                      }
                    ],
                    "scatter3d": [
                      {
                        "line": {
                          "colorbar": {
                            "outlinewidth": 0,
                            "ticks": ""
                          }
                        },
                        "marker": {
                          "colorbar": {
                            "outlinewidth": 0,
                            "ticks": ""
                          }
                        },
                        "type": "scatter3d"
                      }
                    ],
                    "scattercarpet": [
                      {
                        "marker": {
                          "colorbar": {
                            "outlinewidth": 0,
                            "ticks": ""
                          }
                        },
                        "type": "scattercarpet"
                      }
                    ],
                    "scattergeo": [
                      {
                        "marker": {
                          "colorbar": {
                            "outlinewidth": 0,
                            "ticks": ""
                          }
                        },
                        "type": "scattergeo"
                      }
                    ],
                    "scattergl": [
                      {
                        "marker": {
                          "colorbar": {
                            "outlinewidth": 0,
                            "ticks": ""
                          }
                        },
                        "type": "scattergl"
                      }
                    ],
                    "scattermapbox": [
                      {
                        "marker": {
                          "colorbar": {
                            "outlinewidth": 0,
                            "ticks": ""
                          }
                        },
                        "type": "scattermapbox"
                      }
                    ],
                    "scatterpolar": [
                      {
                        "marker": {
                          "colorbar": {
                            "outlinewidth": 0,
                            "ticks": ""
                          }
                        },
                        "type": "scatterpolar"
                      }
                    ],
                    "scatterpolargl": [
                      {
                        "marker": {
                          "colorbar": {
                            "outlinewidth": 0,
                            "ticks": ""
                          }
                        },
                        "type": "scatterpolargl"
                      }
                    ],
                    "scatterternary": [
                      {
                        "marker": {
                          "colorbar": {
                            "outlinewidth": 0,
                            "ticks": ""
                          }
                        },
                        "type": "scatterternary"
                      }
                    ],
                    "surface": [
                      {
                        "colorbar": {
                          "outlinewidth": 0,
                          "ticks": ""
                        },
                        "colorscale": [
                          [
                            0,
                            "#0d0887"
                          ],
                          [
                            0.1111111111111111,
                            "#46039f"
                          ],
                          [
                            0.2222222222222222,
                            "#7201a8"
                          ],
                          [
                            0.3333333333333333,
                            "#9c179e"
                          ],
                          [
                            0.4444444444444444,
                            "#bd3786"
                          ],
                          [
                            0.5555555555555556,
                            "#d8576b"
                          ],
                          [
                            0.6666666666666666,
                            "#ed7953"
                          ],
                          [
                            0.7777777777777778,
                            "#fb9f3a"
                          ],
                          [
                            0.8888888888888888,
                            "#fdca26"
                          ],
                          [
                            1,
                            "#f0f921"
                          ]
                        ],
                        "type": "surface"
                      }
                    ],
                    "table": [
                      {
                        "cells": {
                          "fill": {
                            "color": "#EBF0F8"
                          },
                          "line": {
                            "color": "white"
                          }
                        },
                        "header": {
                          "fill": {
                            "color": "#C8D4E3"
                          },
                          "line": {
                            "color": "white"
                          }
                        },
                        "type": "table"
                      }
                    ]
                  },
                  "layout": {
                    "annotationdefaults": {
                      "arrowcolor": "#2a3f5f",
                      "arrowhead": 0,
                      "arrowwidth": 1
                    },
                    "autotypenumbers": "strict",
                    "coloraxis": {
                      "colorbar": {
                        "outlinewidth": 0,
                        "ticks": ""
                      }
                    },
                    "colorscale": {
                      "diverging": [
                        [
                          0,
                          "#8e0152"
                        ],
                        [
                          0.1,
                          "#c51b7d"
                        ],
                        [
                          0.2,
                          "#de77ae"
                        ],
                        [
                          0.3,
                          "#f1b6da"
                        ],
                        [
                          0.4,
                          "#fde0ef"
                        ],
                        [
                          0.5,
                          "#f7f7f7"
                        ],
                        [
                          0.6,
                          "#e6f5d0"
                        ],
                        [
                          0.7,
                          "#b8e186"
                        ],
                        [
                          0.8,
                          "#7fbc41"
                        ],
                        [
                          0.9,
                          "#4d9221"
                        ],
                        [
                          1,
                          "#276419"
                        ]
                      ],
                      "sequential": [
                        [
                          0,
                          "#0d0887"
                        ],
                        [
                          0.1111111111111111,
                          "#46039f"
                        ],
                        [
                          0.2222222222222222,
                          "#7201a8"
                        ],
                        [
                          0.3333333333333333,
                          "#9c179e"
                        ],
                        [
                          0.4444444444444444,
                          "#bd3786"
                        ],
                        [
                          0.5555555555555556,
                          "#d8576b"
                        ],
                        [
                          0.6666666666666666,
                          "#ed7953"
                        ],
                        [
                          0.7777777777777778,
                          "#fb9f3a"
                        ],
                        [
                          0.8888888888888888,
                          "#fdca26"
                        ],
                        [
                          1,
                          "#f0f921"
                        ]
                      ],
                      "sequentialminus": [
                        [
                          0,
                          "#0d0887"
                        ],
                        [
                          0.1111111111111111,
                          "#46039f"
                        ],
                        [
                          0.2222222222222222,
                          "#7201a8"
                        ],
                        [
                          0.3333333333333333,
                          "#9c179e"
                        ],
                        [
                          0.4444444444444444,
                          "#bd3786"
                        ],
                        [
                          0.5555555555555556,
                          "#d8576b"
                        ],
                        [
                          0.6666666666666666,
                          "#ed7953"
                        ],
                        [
                          0.7777777777777778,
                          "#fb9f3a"
                        ],
                        [
                          0.8888888888888888,
                          "#fdca26"
                        ],
                        [
                          1,
                          "#f0f921"
                        ]
                      ]
                    },
                    "colorway": [
                      "#636efa",
                      "#EF553B",
                      "#00cc96",
                      "#ab63fa",
                      "#FFA15A",
                      "#19d3f3",
                      "#FF6692",
                      "#B6E880",
                      "#FF97FF",
                      "#FECB52"
                    ],
                    "font": {
                      "color": "#2a3f5f"
                    },
                    "geo": {
                      "bgcolor": "white",
                      "lakecolor": "white",
                      "landcolor": "#E5ECF6",
                      "showlakes": true,
                      "showland": true,
                      "subunitcolor": "white"
                    },
                    "hoverlabel": {
                      "align": "left"
                    },
                    "hovermode": "closest",
                    "mapbox": {
                      "style": "light"
                    },
                    "paper_bgcolor": "white",
                    "plot_bgcolor": "#E5ECF6",
                    "polar": {
                      "angularaxis": {
                        "gridcolor": "white",
                        "linecolor": "white",
                        "ticks": ""
                      },
                      "bgcolor": "#E5ECF6",
                      "radialaxis": {
                        "gridcolor": "white",
                        "linecolor": "white",
                        "ticks": ""
                      }
                    },
                    "scene": {
                      "xaxis": {
                        "backgroundcolor": "#E5ECF6",
                        "gridcolor": "white",
                        "gridwidth": 2,
                        "linecolor": "white",
                        "showbackground": true,
                        "ticks": "",
                        "zerolinecolor": "white"
                      },
                      "yaxis": {
                        "backgroundcolor": "#E5ECF6",
                        "gridcolor": "white",
                        "gridwidth": 2,
                        "linecolor": "white",
                        "showbackground": true,
                        "ticks": "",
                        "zerolinecolor": "white"
                      },
                      "zaxis": {
                        "backgroundcolor": "#E5ECF6",
                        "gridcolor": "white",
                        "gridwidth": 2,
                        "linecolor": "white",
                        "showbackground": true,
                        "ticks": "",
                        "zerolinecolor": "white"
                      }
                    },
                    "shapedefaults": {
                      "line": {
                        "color": "#2a3f5f"
                      }
                    },
                    "ternary": {
                      "aaxis": {
                        "gridcolor": "white",
                        "linecolor": "white",
                        "ticks": ""
                      },
                      "baxis": {
                        "gridcolor": "white",
                        "linecolor": "white",
                        "ticks": ""
                      },
                      "bgcolor": "#E5ECF6",
                      "caxis": {
                        "gridcolor": "white",
                        "linecolor": "white",
                        "ticks": ""
                      }
                    },
                    "title": {
                      "x": 0.05
                    },
                    "xaxis": {
                      "automargin": true,
                      "gridcolor": "white",
                      "linecolor": "white",
                      "ticks": "",
                      "title": {
                        "standoff": 15
                      },
                      "zerolinecolor": "white",
                      "zerolinewidth": 2
                    },
                    "yaxis": {
                      "automargin": true,
                      "gridcolor": "white",
                      "linecolor": "white",
                      "ticks": "",
                      "title": {
                        "standoff": 15
                      },
                      "zerolinecolor": "white",
                      "zerolinewidth": 2
                    }
                  }
                },
                "title": {
                  "text": "Distribution of launches prices"
                },
                "xaxis": {
                  "anchor": "y",
                  "domain": [
                    0,
                    1
                  ],
                  "title": {
                    "text": "Price (in USD millions)"
                  }
                },
                "yaxis": {
                  "anchor": "x",
                  "domain": [
                    0,
                    1
                  ],
                  "title": {}
                }
              }
            }
          },
          "metadata": {},
          "output_type": "display_data"
        }
      ],
      "source": [
        "fig_price = px.histogram(\n",
        "    clean_df,\n",
        "    \"Price\"\n",
        ")\n",
        "\n",
        "fig_price.update_layout(\n",
        "    title=\"Distribution of launches prices\",\n",
        "    yaxis_title=None,\n",
        "    xaxis_title=\"Price (in USD millions)\"\n",
        ")\n",
        "\n",
        "fig_price.show()\n"
      ]
    },
    {
      "cell_type": "markdown",
      "metadata": {
        "id": "QiNtigQDne3E"
      },
      "source": [
        "# Use a Choropleth Map to Show the Number of Launches by Country\n",
        "\n",
        "* Create a choropleth map using [the plotly documentation](https://plotly.com/python/choropleth-maps/)\n",
        "* Experiment with [plotly's available colours](https://plotly.com/python/builtin-colorscales/). I quite like the sequential colour `matter` on this map. \n",
        "* You'll need to extract a `country` feature as well as change the country names that no longer exist.\n",
        "\n",
        "Wrangle the Country Names\n",
        "\n",
        "You'll need to use a 3 letter country code for each country. You might have to change some country names.\n",
        "\n",
        "* Russia is the Russian Federation\n",
        "* New Mexico should be USA\n",
        "* Yellow Sea refers to China\n",
        "* Shahrud Missile Test Site should be Iran\n",
        "* Pacific Missile Range Facility should be USA\n",
        "* Barents Sea should be Russian Federation\n",
        "* Gran Canaria should be USA\n",
        "\n",
        "\n",
        "You can use the iso3166 package to convert the country names to Alpha3 format."
      ]
    },
    {
      "cell_type": "code",
      "execution_count": 23,
      "metadata": {
        "id": "Y46-4GHrozhF"
      },
      "outputs": [],
      "source": [
        "df_data['Country'] = df_data['Location'].str.rsplit(\",\", 1).str[-1].str.strip()"
      ]
    },
    {
      "cell_type": "code",
      "execution_count": 24,
      "metadata": {
        "id": "ESGRWiX6ozZG"
      },
      "outputs": [
        {
          "data": {
            "text/plain": [
              "array(['USA', 'China', 'Kazakhstan', 'Japan', 'Israel', 'New Zealand',\n",
              "       'Russian Federation', 'Iran', 'France', 'India', 'North Korea',\n",
              "       'Pacific Ocean', 'South Korea', 'Brazil', 'Kenya', 'Australia'],\n",
              "      dtype=object)"
            ]
          },
          "execution_count": 24,
          "metadata": {},
          "output_type": "execute_result"
        }
      ],
      "source": [
        "df_data.loc[(df_data.Country == \"Russia\"), \"Country\"] = \"Russian Federation\"\n",
        "df_data.loc[(df_data.Country == \"New Mexico\"), \"Country\"] = \"USA\"\n",
        "df_data.loc[(df_data.Country == \"Yellow Sea\"), \"Country\"] = \"China\"\n",
        "df_data.loc[(df_data.Country == \"Shahrud Missile Test Site\"), \"Country\"] = \"Iran\"\n",
        "df_data.loc[(df_data.Country == \"Pacific Missile Range Facility\"), \"Country\"] = \"USA\"\n",
        "df_data.loc[(df_data.Country == \"Barents Sea\"), \"Country\"] = \"Russian Federation\"\n",
        "df_data.loc[(df_data.Country == \"Gran Canaria\"), \"Country\"] = \"USA\"\n",
        "\n",
        "df_data.Country.unique()"
      ]
    },
    {
      "cell_type": "code",
      "execution_count": 25,
      "metadata": {},
      "outputs": [],
      "source": [
        "df_data.loc[(df_data.Country == \"Iran\", \"Country\")] = \"IRN\"\n",
        "df_data.loc[(df_data.Country == \"North Korea\", \"Country\")] = \"PRK\""
      ]
    },
    {
      "cell_type": "code",
      "execution_count": 26,
      "metadata": {},
      "outputs": [],
      "source": [
        "def get_country_name(x):\n",
        "    if x != \"IRN\" and x != \"PRK\":\n",
        "        try:\n",
        "            return countries.get(x).alpha3\n",
        "        except KeyError:\n",
        "            return 'Unknown'\n",
        "    else:\n",
        "        return x"
      ]
    },
    {
      "cell_type": "code",
      "execution_count": 27,
      "metadata": {},
      "outputs": [],
      "source": [
        "df_data.Country = df_data.Country.apply(lambda x: get_country_name(x))"
      ]
    },
    {
      "cell_type": "code",
      "execution_count": 34,
      "metadata": {},
      "outputs": [
        {
          "data": {
            "text/html": [
              "<div>\n",
              "<style scoped>\n",
              "    .dataframe tbody tr th:only-of-type {\n",
              "        vertical-align: middle;\n",
              "    }\n",
              "\n",
              "    .dataframe tbody tr th {\n",
              "        vertical-align: top;\n",
              "    }\n",
              "\n",
              "    .dataframe thead th {\n",
              "        text-align: right;\n",
              "    }\n",
              "</style>\n",
              "<table border=\"1\" class=\"dataframe\">\n",
              "  <thead>\n",
              "    <tr style=\"text-align: right;\">\n",
              "      <th></th>\n",
              "      <th>Organisation</th>\n",
              "      <th>Location</th>\n",
              "      <th>Date</th>\n",
              "      <th>Detail</th>\n",
              "      <th>Rocket_Status</th>\n",
              "      <th>Price</th>\n",
              "      <th>Mission_Status</th>\n",
              "    </tr>\n",
              "    <tr>\n",
              "      <th>Country</th>\n",
              "      <th></th>\n",
              "      <th></th>\n",
              "      <th></th>\n",
              "      <th></th>\n",
              "      <th></th>\n",
              "      <th></th>\n",
              "      <th></th>\n",
              "    </tr>\n",
              "  </thead>\n",
              "  <tbody>\n",
              "    <tr>\n",
              "      <th>AUS</th>\n",
              "      <td>6</td>\n",
              "      <td>6</td>\n",
              "      <td>6</td>\n",
              "      <td>6</td>\n",
              "      <td>6</td>\n",
              "      <td>0</td>\n",
              "      <td>6</td>\n",
              "    </tr>\n",
              "    <tr>\n",
              "      <th>BRA</th>\n",
              "      <td>3</td>\n",
              "      <td>3</td>\n",
              "      <td>3</td>\n",
              "      <td>3</td>\n",
              "      <td>3</td>\n",
              "      <td>0</td>\n",
              "      <td>3</td>\n",
              "    </tr>\n",
              "    <tr>\n",
              "      <th>CHN</th>\n",
              "      <td>269</td>\n",
              "      <td>269</td>\n",
              "      <td>269</td>\n",
              "      <td>269</td>\n",
              "      <td>269</td>\n",
              "      <td>159</td>\n",
              "      <td>269</td>\n",
              "    </tr>\n",
              "    <tr>\n",
              "      <th>FRA</th>\n",
              "      <td>303</td>\n",
              "      <td>303</td>\n",
              "      <td>303</td>\n",
              "      <td>303</td>\n",
              "      <td>303</td>\n",
              "      <td>95</td>\n",
              "      <td>303</td>\n",
              "    </tr>\n",
              "    <tr>\n",
              "      <th>IND</th>\n",
              "      <td>76</td>\n",
              "      <td>76</td>\n",
              "      <td>76</td>\n",
              "      <td>76</td>\n",
              "      <td>76</td>\n",
              "      <td>67</td>\n",
              "      <td>76</td>\n",
              "    </tr>\n",
              "    <tr>\n",
              "      <th>IRN</th>\n",
              "      <td>14</td>\n",
              "      <td>14</td>\n",
              "      <td>14</td>\n",
              "      <td>14</td>\n",
              "      <td>14</td>\n",
              "      <td>0</td>\n",
              "      <td>14</td>\n",
              "    </tr>\n",
              "    <tr>\n",
              "      <th>ISR</th>\n",
              "      <td>11</td>\n",
              "      <td>11</td>\n",
              "      <td>11</td>\n",
              "      <td>11</td>\n",
              "      <td>11</td>\n",
              "      <td>0</td>\n",
              "      <td>11</td>\n",
              "    </tr>\n",
              "    <tr>\n",
              "      <th>JPN</th>\n",
              "      <td>126</td>\n",
              "      <td>126</td>\n",
              "      <td>126</td>\n",
              "      <td>126</td>\n",
              "      <td>126</td>\n",
              "      <td>40</td>\n",
              "      <td>126</td>\n",
              "    </tr>\n",
              "    <tr>\n",
              "      <th>KAZ</th>\n",
              "      <td>701</td>\n",
              "      <td>701</td>\n",
              "      <td>701</td>\n",
              "      <td>701</td>\n",
              "      <td>701</td>\n",
              "      <td>46</td>\n",
              "      <td>701</td>\n",
              "    </tr>\n",
              "    <tr>\n",
              "      <th>KEN</th>\n",
              "      <td>9</td>\n",
              "      <td>9</td>\n",
              "      <td>9</td>\n",
              "      <td>9</td>\n",
              "      <td>9</td>\n",
              "      <td>0</td>\n",
              "      <td>9</td>\n",
              "    </tr>\n",
              "    <tr>\n",
              "      <th>NZL</th>\n",
              "      <td>13</td>\n",
              "      <td>13</td>\n",
              "      <td>13</td>\n",
              "      <td>13</td>\n",
              "      <td>13</td>\n",
              "      <td>13</td>\n",
              "      <td>13</td>\n",
              "    </tr>\n",
              "    <tr>\n",
              "      <th>PRK</th>\n",
              "      <td>5</td>\n",
              "      <td>5</td>\n",
              "      <td>5</td>\n",
              "      <td>5</td>\n",
              "      <td>5</td>\n",
              "      <td>0</td>\n",
              "      <td>5</td>\n",
              "    </tr>\n",
              "    <tr>\n",
              "      <th>RUS</th>\n",
              "      <td>1398</td>\n",
              "      <td>1398</td>\n",
              "      <td>1398</td>\n",
              "      <td>1398</td>\n",
              "      <td>1398</td>\n",
              "      <td>54</td>\n",
              "      <td>1398</td>\n",
              "    </tr>\n",
              "    <tr>\n",
              "      <th>USA</th>\n",
              "      <td>1351</td>\n",
              "      <td>1351</td>\n",
              "      <td>1351</td>\n",
              "      <td>1351</td>\n",
              "      <td>1351</td>\n",
              "      <td>490</td>\n",
              "      <td>1351</td>\n",
              "    </tr>\n",
              "    <tr>\n",
              "      <th>Unknown</th>\n",
              "      <td>39</td>\n",
              "      <td>39</td>\n",
              "      <td>39</td>\n",
              "      <td>39</td>\n",
              "      <td>39</td>\n",
              "      <td>0</td>\n",
              "      <td>39</td>\n",
              "    </tr>\n",
              "  </tbody>\n",
              "</table>\n",
              "</div>"
            ],
            "text/plain": [
              "         Organisation  Location  Date  Detail  Rocket_Status  Price  \\\n",
              "Country                                                               \n",
              "AUS                 6         6     6       6              6      0   \n",
              "BRA                 3         3     3       3              3      0   \n",
              "CHN               269       269   269     269            269    159   \n",
              "FRA               303       303   303     303            303     95   \n",
              "IND                76        76    76      76             76     67   \n",
              "IRN                14        14    14      14             14      0   \n",
              "ISR                11        11    11      11             11      0   \n",
              "JPN               126       126   126     126            126     40   \n",
              "KAZ               701       701   701     701            701     46   \n",
              "KEN                 9         9     9       9              9      0   \n",
              "NZL                13        13    13      13             13     13   \n",
              "PRK                 5         5     5       5              5      0   \n",
              "RUS              1398      1398  1398    1398           1398     54   \n",
              "USA              1351      1351  1351    1351           1351    490   \n",
              "Unknown            39        39    39      39             39      0   \n",
              "\n",
              "         Mission_Status  \n",
              "Country                  \n",
              "AUS                   6  \n",
              "BRA                   3  \n",
              "CHN                 269  \n",
              "FRA                 303  \n",
              "IND                  76  \n",
              "IRN                  14  \n",
              "ISR                  11  \n",
              "JPN                 126  \n",
              "KAZ                 701  \n",
              "KEN                   9  \n",
              "NZL                  13  \n",
              "PRK                   5  \n",
              "RUS                1398  \n",
              "USA                1351  \n",
              "Unknown              39  "
            ]
          },
          "execution_count": 34,
          "metadata": {},
          "output_type": "execute_result"
        }
      ],
      "source": [
        "launch_per_country_df = df_data.groupby(\"Country\").count()\n",
        "launch_per_country_df"
      ]
    },
    {
      "cell_type": "code",
      "execution_count": 35,
      "metadata": {},
      "outputs": [
        {
          "data": {
            "text/html": [
              "<div>\n",
              "<style scoped>\n",
              "    .dataframe tbody tr th:only-of-type {\n",
              "        vertical-align: middle;\n",
              "    }\n",
              "\n",
              "    .dataframe tbody tr th {\n",
              "        vertical-align: top;\n",
              "    }\n",
              "\n",
              "    .dataframe thead th {\n",
              "        text-align: right;\n",
              "    }\n",
              "</style>\n",
              "<table border=\"1\" class=\"dataframe\">\n",
              "  <thead>\n",
              "    <tr style=\"text-align: right;\">\n",
              "      <th></th>\n",
              "      <th>Total Launches</th>\n",
              "    </tr>\n",
              "    <tr>\n",
              "      <th>Country</th>\n",
              "      <th></th>\n",
              "    </tr>\n",
              "  </thead>\n",
              "  <tbody>\n",
              "    <tr>\n",
              "      <th>AUS</th>\n",
              "      <td>6</td>\n",
              "    </tr>\n",
              "    <tr>\n",
              "      <th>BRA</th>\n",
              "      <td>3</td>\n",
              "    </tr>\n",
              "    <tr>\n",
              "      <th>CHN</th>\n",
              "      <td>269</td>\n",
              "    </tr>\n",
              "    <tr>\n",
              "      <th>FRA</th>\n",
              "      <td>303</td>\n",
              "    </tr>\n",
              "    <tr>\n",
              "      <th>IND</th>\n",
              "      <td>76</td>\n",
              "    </tr>\n",
              "    <tr>\n",
              "      <th>IRN</th>\n",
              "      <td>14</td>\n",
              "    </tr>\n",
              "    <tr>\n",
              "      <th>ISR</th>\n",
              "      <td>11</td>\n",
              "    </tr>\n",
              "    <tr>\n",
              "      <th>JPN</th>\n",
              "      <td>126</td>\n",
              "    </tr>\n",
              "    <tr>\n",
              "      <th>KAZ</th>\n",
              "      <td>701</td>\n",
              "    </tr>\n",
              "    <tr>\n",
              "      <th>KEN</th>\n",
              "      <td>9</td>\n",
              "    </tr>\n",
              "    <tr>\n",
              "      <th>NZL</th>\n",
              "      <td>13</td>\n",
              "    </tr>\n",
              "    <tr>\n",
              "      <th>PRK</th>\n",
              "      <td>5</td>\n",
              "    </tr>\n",
              "    <tr>\n",
              "      <th>RUS</th>\n",
              "      <td>1398</td>\n",
              "    </tr>\n",
              "    <tr>\n",
              "      <th>USA</th>\n",
              "      <td>1351</td>\n",
              "    </tr>\n",
              "    <tr>\n",
              "      <th>Unknown</th>\n",
              "      <td>39</td>\n",
              "    </tr>\n",
              "  </tbody>\n",
              "</table>\n",
              "</div>"
            ],
            "text/plain": [
              "         Total Launches\n",
              "Country                \n",
              "AUS                   6\n",
              "BRA                   3\n",
              "CHN                 269\n",
              "FRA                 303\n",
              "IND                  76\n",
              "IRN                  14\n",
              "ISR                  11\n",
              "JPN                 126\n",
              "KAZ                 701\n",
              "KEN                   9\n",
              "NZL                  13\n",
              "PRK                   5\n",
              "RUS                1398\n",
              "USA                1351\n",
              "Unknown              39"
            ]
          },
          "execution_count": 35,
          "metadata": {},
          "output_type": "execute_result"
        }
      ],
      "source": [
        "launch_per_country_df = df_data.groupby(\"Country\").count()\n",
        "launch_per_country_df = launch_per_country_df.drop(launch_per_country_df[launch_per_country_df.columns.difference([\"Organisation\"])], axis=1)\n",
        "launch_per_country_df = launch_per_country_df.rename(columns={\"Organisation\" : \"Total Launches\"})\n",
        "launch_per_country_df"
      ]
    },
    {
      "cell_type": "code",
      "execution_count": 121,
      "metadata": {},
      "outputs": [
        {
          "data": {
            "application/vnd.plotly.v1+json": {
              "config": {
                "plotlyServerURL": "https://plot.ly"
              },
              "data": [
                {
                  "coloraxis": "coloraxis",
                  "geo": "geo",
                  "hovertemplate": "Country=%{location}<br>Total Launches=%{z}<extra></extra>",
                  "locations": [
                    "AUS",
                    "BRA",
                    "CHN",
                    "FRA",
                    "IND",
                    "IRN",
                    "ISR",
                    "JPN",
                    "KAZ",
                    "KEN",
                    "NZL",
                    "PRK",
                    "RUS",
                    "USA",
                    "Unknown"
                  ],
                  "name": "",
                  "type": "choropleth",
                  "z": [
                    6,
                    3,
                    269,
                    303,
                    76,
                    14,
                    11,
                    126,
                    701,
                    9,
                    13,
                    5,
                    1398,
                    1351,
                    39
                  ]
                }
              ],
              "layout": {
                "coloraxis": {
                  "cmax": 1500,
                  "cmin": 10,
                  "colorbar": {
                    "tickfont": {
                      "color": "white"
                    },
                    "title": {
                      "font": {
                        "color": "white"
                      },
                      "text": "Number of Launches"
                    }
                  },
                  "colorscale": [
                    [
                      0,
                      "rgb(176, 242, 188)"
                    ],
                    [
                      0.16666666666666666,
                      "rgb(137, 232, 172)"
                    ],
                    [
                      0.3333333333333333,
                      "rgb(103, 219, 165)"
                    ],
                    [
                      0.5,
                      "rgb(76, 200, 163)"
                    ],
                    [
                      0.6666666666666666,
                      "rgb(56, 178, 163)"
                    ],
                    [
                      0.8333333333333334,
                      "rgb(44, 152, 160)"
                    ],
                    [
                      1,
                      "rgb(37, 125, 152)"
                    ]
                  ]
                },
                "geo": {
                  "bgcolor": "#323130",
                  "center": {},
                  "countrycolor": "#455A64",
                  "domain": {
                    "x": [
                      0,
                      1
                    ],
                    "y": [
                      0,
                      1
                    ]
                  },
                  "showcountries": true,
                  "visible": false
                },
                "legend": {
                  "tracegroupgap": 0
                },
                "margin": {
                  "t": 60
                },
                "paper_bgcolor": "#323130",
                "template": {
                  "data": {
                    "bar": [
                      {
                        "error_x": {
                          "color": "#2a3f5f"
                        },
                        "error_y": {
                          "color": "#2a3f5f"
                        },
                        "marker": {
                          "line": {
                            "color": "#E5ECF6",
                            "width": 0.5
                          },
                          "pattern": {
                            "fillmode": "overlay",
                            "size": 10,
                            "solidity": 0.2
                          }
                        },
                        "type": "bar"
                      }
                    ],
                    "barpolar": [
                      {
                        "marker": {
                          "line": {
                            "color": "#E5ECF6",
                            "width": 0.5
                          },
                          "pattern": {
                            "fillmode": "overlay",
                            "size": 10,
                            "solidity": 0.2
                          }
                        },
                        "type": "barpolar"
                      }
                    ],
                    "carpet": [
                      {
                        "aaxis": {
                          "endlinecolor": "#2a3f5f",
                          "gridcolor": "white",
                          "linecolor": "white",
                          "minorgridcolor": "white",
                          "startlinecolor": "#2a3f5f"
                        },
                        "baxis": {
                          "endlinecolor": "#2a3f5f",
                          "gridcolor": "white",
                          "linecolor": "white",
                          "minorgridcolor": "white",
                          "startlinecolor": "#2a3f5f"
                        },
                        "type": "carpet"
                      }
                    ],
                    "choropleth": [
                      {
                        "colorbar": {
                          "outlinewidth": 0,
                          "ticks": ""
                        },
                        "type": "choropleth"
                      }
                    ],
                    "contour": [
                      {
                        "colorbar": {
                          "outlinewidth": 0,
                          "ticks": ""
                        },
                        "colorscale": [
                          [
                            0,
                            "#0d0887"
                          ],
                          [
                            0.1111111111111111,
                            "#46039f"
                          ],
                          [
                            0.2222222222222222,
                            "#7201a8"
                          ],
                          [
                            0.3333333333333333,
                            "#9c179e"
                          ],
                          [
                            0.4444444444444444,
                            "#bd3786"
                          ],
                          [
                            0.5555555555555556,
                            "#d8576b"
                          ],
                          [
                            0.6666666666666666,
                            "#ed7953"
                          ],
                          [
                            0.7777777777777778,
                            "#fb9f3a"
                          ],
                          [
                            0.8888888888888888,
                            "#fdca26"
                          ],
                          [
                            1,
                            "#f0f921"
                          ]
                        ],
                        "type": "contour"
                      }
                    ],
                    "contourcarpet": [
                      {
                        "colorbar": {
                          "outlinewidth": 0,
                          "ticks": ""
                        },
                        "type": "contourcarpet"
                      }
                    ],
                    "heatmap": [
                      {
                        "colorbar": {
                          "outlinewidth": 0,
                          "ticks": ""
                        },
                        "colorscale": [
                          [
                            0,
                            "#0d0887"
                          ],
                          [
                            0.1111111111111111,
                            "#46039f"
                          ],
                          [
                            0.2222222222222222,
                            "#7201a8"
                          ],
                          [
                            0.3333333333333333,
                            "#9c179e"
                          ],
                          [
                            0.4444444444444444,
                            "#bd3786"
                          ],
                          [
                            0.5555555555555556,
                            "#d8576b"
                          ],
                          [
                            0.6666666666666666,
                            "#ed7953"
                          ],
                          [
                            0.7777777777777778,
                            "#fb9f3a"
                          ],
                          [
                            0.8888888888888888,
                            "#fdca26"
                          ],
                          [
                            1,
                            "#f0f921"
                          ]
                        ],
                        "type": "heatmap"
                      }
                    ],
                    "heatmapgl": [
                      {
                        "colorbar": {
                          "outlinewidth": 0,
                          "ticks": ""
                        },
                        "colorscale": [
                          [
                            0,
                            "#0d0887"
                          ],
                          [
                            0.1111111111111111,
                            "#46039f"
                          ],
                          [
                            0.2222222222222222,
                            "#7201a8"
                          ],
                          [
                            0.3333333333333333,
                            "#9c179e"
                          ],
                          [
                            0.4444444444444444,
                            "#bd3786"
                          ],
                          [
                            0.5555555555555556,
                            "#d8576b"
                          ],
                          [
                            0.6666666666666666,
                            "#ed7953"
                          ],
                          [
                            0.7777777777777778,
                            "#fb9f3a"
                          ],
                          [
                            0.8888888888888888,
                            "#fdca26"
                          ],
                          [
                            1,
                            "#f0f921"
                          ]
                        ],
                        "type": "heatmapgl"
                      }
                    ],
                    "histogram": [
                      {
                        "marker": {
                          "pattern": {
                            "fillmode": "overlay",
                            "size": 10,
                            "solidity": 0.2
                          }
                        },
                        "type": "histogram"
                      }
                    ],
                    "histogram2d": [
                      {
                        "colorbar": {
                          "outlinewidth": 0,
                          "ticks": ""
                        },
                        "colorscale": [
                          [
                            0,
                            "#0d0887"
                          ],
                          [
                            0.1111111111111111,
                            "#46039f"
                          ],
                          [
                            0.2222222222222222,
                            "#7201a8"
                          ],
                          [
                            0.3333333333333333,
                            "#9c179e"
                          ],
                          [
                            0.4444444444444444,
                            "#bd3786"
                          ],
                          [
                            0.5555555555555556,
                            "#d8576b"
                          ],
                          [
                            0.6666666666666666,
                            "#ed7953"
                          ],
                          [
                            0.7777777777777778,
                            "#fb9f3a"
                          ],
                          [
                            0.8888888888888888,
                            "#fdca26"
                          ],
                          [
                            1,
                            "#f0f921"
                          ]
                        ],
                        "type": "histogram2d"
                      }
                    ],
                    "histogram2dcontour": [
                      {
                        "colorbar": {
                          "outlinewidth": 0,
                          "ticks": ""
                        },
                        "colorscale": [
                          [
                            0,
                            "#0d0887"
                          ],
                          [
                            0.1111111111111111,
                            "#46039f"
                          ],
                          [
                            0.2222222222222222,
                            "#7201a8"
                          ],
                          [
                            0.3333333333333333,
                            "#9c179e"
                          ],
                          [
                            0.4444444444444444,
                            "#bd3786"
                          ],
                          [
                            0.5555555555555556,
                            "#d8576b"
                          ],
                          [
                            0.6666666666666666,
                            "#ed7953"
                          ],
                          [
                            0.7777777777777778,
                            "#fb9f3a"
                          ],
                          [
                            0.8888888888888888,
                            "#fdca26"
                          ],
                          [
                            1,
                            "#f0f921"
                          ]
                        ],
                        "type": "histogram2dcontour"
                      }
                    ],
                    "mesh3d": [
                      {
                        "colorbar": {
                          "outlinewidth": 0,
                          "ticks": ""
                        },
                        "type": "mesh3d"
                      }
                    ],
                    "parcoords": [
                      {
                        "line": {
                          "colorbar": {
                            "outlinewidth": 0,
                            "ticks": ""
                          }
                        },
                        "type": "parcoords"
                      }
                    ],
                    "pie": [
                      {
                        "automargin": true,
                        "type": "pie"
                      }
                    ],
                    "scatter": [
                      {
                        "fillpattern": {
                          "fillmode": "overlay",
                          "size": 10,
                          "solidity": 0.2
                        },
                        "type": "scatter"
                      }
                    ],
                    "scatter3d": [
                      {
                        "line": {
                          "colorbar": {
                            "outlinewidth": 0,
                            "ticks": ""
                          }
                        },
                        "marker": {
                          "colorbar": {
                            "outlinewidth": 0,
                            "ticks": ""
                          }
                        },
                        "type": "scatter3d"
                      }
                    ],
                    "scattercarpet": [
                      {
                        "marker": {
                          "colorbar": {
                            "outlinewidth": 0,
                            "ticks": ""
                          }
                        },
                        "type": "scattercarpet"
                      }
                    ],
                    "scattergeo": [
                      {
                        "marker": {
                          "colorbar": {
                            "outlinewidth": 0,
                            "ticks": ""
                          }
                        },
                        "type": "scattergeo"
                      }
                    ],
                    "scattergl": [
                      {
                        "marker": {
                          "colorbar": {
                            "outlinewidth": 0,
                            "ticks": ""
                          }
                        },
                        "type": "scattergl"
                      }
                    ],
                    "scattermapbox": [
                      {
                        "marker": {
                          "colorbar": {
                            "outlinewidth": 0,
                            "ticks": ""
                          }
                        },
                        "type": "scattermapbox"
                      }
                    ],
                    "scatterpolar": [
                      {
                        "marker": {
                          "colorbar": {
                            "outlinewidth": 0,
                            "ticks": ""
                          }
                        },
                        "type": "scatterpolar"
                      }
                    ],
                    "scatterpolargl": [
                      {
                        "marker": {
                          "colorbar": {
                            "outlinewidth": 0,
                            "ticks": ""
                          }
                        },
                        "type": "scatterpolargl"
                      }
                    ],
                    "scatterternary": [
                      {
                        "marker": {
                          "colorbar": {
                            "outlinewidth": 0,
                            "ticks": ""
                          }
                        },
                        "type": "scatterternary"
                      }
                    ],
                    "surface": [
                      {
                        "colorbar": {
                          "outlinewidth": 0,
                          "ticks": ""
                        },
                        "colorscale": [
                          [
                            0,
                            "#0d0887"
                          ],
                          [
                            0.1111111111111111,
                            "#46039f"
                          ],
                          [
                            0.2222222222222222,
                            "#7201a8"
                          ],
                          [
                            0.3333333333333333,
                            "#9c179e"
                          ],
                          [
                            0.4444444444444444,
                            "#bd3786"
                          ],
                          [
                            0.5555555555555556,
                            "#d8576b"
                          ],
                          [
                            0.6666666666666666,
                            "#ed7953"
                          ],
                          [
                            0.7777777777777778,
                            "#fb9f3a"
                          ],
                          [
                            0.8888888888888888,
                            "#fdca26"
                          ],
                          [
                            1,
                            "#f0f921"
                          ]
                        ],
                        "type": "surface"
                      }
                    ],
                    "table": [
                      {
                        "cells": {
                          "fill": {
                            "color": "#EBF0F8"
                          },
                          "line": {
                            "color": "white"
                          }
                        },
                        "header": {
                          "fill": {
                            "color": "#C8D4E3"
                          },
                          "line": {
                            "color": "white"
                          }
                        },
                        "type": "table"
                      }
                    ]
                  },
                  "layout": {
                    "annotationdefaults": {
                      "arrowcolor": "#2a3f5f",
                      "arrowhead": 0,
                      "arrowwidth": 1
                    },
                    "autotypenumbers": "strict",
                    "coloraxis": {
                      "colorbar": {
                        "outlinewidth": 0,
                        "ticks": ""
                      }
                    },
                    "colorscale": {
                      "diverging": [
                        [
                          0,
                          "#8e0152"
                        ],
                        [
                          0.1,
                          "#c51b7d"
                        ],
                        [
                          0.2,
                          "#de77ae"
                        ],
                        [
                          0.3,
                          "#f1b6da"
                        ],
                        [
                          0.4,
                          "#fde0ef"
                        ],
                        [
                          0.5,
                          "#f7f7f7"
                        ],
                        [
                          0.6,
                          "#e6f5d0"
                        ],
                        [
                          0.7,
                          "#b8e186"
                        ],
                        [
                          0.8,
                          "#7fbc41"
                        ],
                        [
                          0.9,
                          "#4d9221"
                        ],
                        [
                          1,
                          "#276419"
                        ]
                      ],
                      "sequential": [
                        [
                          0,
                          "#0d0887"
                        ],
                        [
                          0.1111111111111111,
                          "#46039f"
                        ],
                        [
                          0.2222222222222222,
                          "#7201a8"
                        ],
                        [
                          0.3333333333333333,
                          "#9c179e"
                        ],
                        [
                          0.4444444444444444,
                          "#bd3786"
                        ],
                        [
                          0.5555555555555556,
                          "#d8576b"
                        ],
                        [
                          0.6666666666666666,
                          "#ed7953"
                        ],
                        [
                          0.7777777777777778,
                          "#fb9f3a"
                        ],
                        [
                          0.8888888888888888,
                          "#fdca26"
                        ],
                        [
                          1,
                          "#f0f921"
                        ]
                      ],
                      "sequentialminus": [
                        [
                          0,
                          "#0d0887"
                        ],
                        [
                          0.1111111111111111,
                          "#46039f"
                        ],
                        [
                          0.2222222222222222,
                          "#7201a8"
                        ],
                        [
                          0.3333333333333333,
                          "#9c179e"
                        ],
                        [
                          0.4444444444444444,
                          "#bd3786"
                        ],
                        [
                          0.5555555555555556,
                          "#d8576b"
                        ],
                        [
                          0.6666666666666666,
                          "#ed7953"
                        ],
                        [
                          0.7777777777777778,
                          "#fb9f3a"
                        ],
                        [
                          0.8888888888888888,
                          "#fdca26"
                        ],
                        [
                          1,
                          "#f0f921"
                        ]
                      ]
                    },
                    "colorway": [
                      "#636efa",
                      "#EF553B",
                      "#00cc96",
                      "#ab63fa",
                      "#FFA15A",
                      "#19d3f3",
                      "#FF6692",
                      "#B6E880",
                      "#FF97FF",
                      "#FECB52"
                    ],
                    "font": {
                      "color": "#2a3f5f"
                    },
                    "geo": {
                      "bgcolor": "white",
                      "lakecolor": "white",
                      "landcolor": "#E5ECF6",
                      "showlakes": true,
                      "showland": true,
                      "subunitcolor": "white"
                    },
                    "hoverlabel": {
                      "align": "left"
                    },
                    "hovermode": "closest",
                    "mapbox": {
                      "style": "light"
                    },
                    "paper_bgcolor": "white",
                    "plot_bgcolor": "#E5ECF6",
                    "polar": {
                      "angularaxis": {
                        "gridcolor": "white",
                        "linecolor": "white",
                        "ticks": ""
                      },
                      "bgcolor": "#E5ECF6",
                      "radialaxis": {
                        "gridcolor": "white",
                        "linecolor": "white",
                        "ticks": ""
                      }
                    },
                    "scene": {
                      "xaxis": {
                        "backgroundcolor": "#E5ECF6",
                        "gridcolor": "white",
                        "gridwidth": 2,
                        "linecolor": "white",
                        "showbackground": true,
                        "ticks": "",
                        "zerolinecolor": "white"
                      },
                      "yaxis": {
                        "backgroundcolor": "#E5ECF6",
                        "gridcolor": "white",
                        "gridwidth": 2,
                        "linecolor": "white",
                        "showbackground": true,
                        "ticks": "",
                        "zerolinecolor": "white"
                      },
                      "zaxis": {
                        "backgroundcolor": "#E5ECF6",
                        "gridcolor": "white",
                        "gridwidth": 2,
                        "linecolor": "white",
                        "showbackground": true,
                        "ticks": "",
                        "zerolinecolor": "white"
                      }
                    },
                    "shapedefaults": {
                      "line": {
                        "color": "#2a3f5f"
                      }
                    },
                    "ternary": {
                      "aaxis": {
                        "gridcolor": "white",
                        "linecolor": "white",
                        "ticks": ""
                      },
                      "baxis": {
                        "gridcolor": "white",
                        "linecolor": "white",
                        "ticks": ""
                      },
                      "bgcolor": "#E5ECF6",
                      "caxis": {
                        "gridcolor": "white",
                        "linecolor": "white",
                        "ticks": ""
                      }
                    },
                    "title": {
                      "x": 0.05
                    },
                    "xaxis": {
                      "automargin": true,
                      "gridcolor": "white",
                      "linecolor": "white",
                      "ticks": "",
                      "title": {
                        "standoff": 15
                      },
                      "zerolinecolor": "white",
                      "zerolinewidth": 2
                    },
                    "yaxis": {
                      "automargin": true,
                      "gridcolor": "white",
                      "linecolor": "white",
                      "ticks": "",
                      "title": {
                        "standoff": 15
                      },
                      "zerolinecolor": "white",
                      "zerolinewidth": 2
                    }
                  }
                },
                "title": {
                  "font": {
                    "color": "white"
                  },
                  "text": "Map world of launches per country"
                }
              }
            }
          },
          "metadata": {},
          "output_type": "display_data"
        }
      ],
      "source": [
        "fig_map = px.choropleth(\n",
        "    launch_per_country_df,\n",
        "    locations=launch_per_country_df.index,\n",
        "    color=\"Total Launches\",\n",
        "    color_continuous_scale=\"Tealgrn\",\n",
        "    range_color=(10,1500)\n",
        ")\n",
        "\n",
        "fig_map.update_geos(\n",
        "    visible=False,\n",
        "    showcountries=True,\n",
        "    countrycolor=\"#455A64\",\n",
        "    bgcolor=\"#323130\"\n",
        ")\n",
        "\n",
        "fig_map.update_layout(\n",
        "    paper_bgcolor=\"#323130\",\n",
        "    title=\"Map world of launches per country\",\n",
        "    titlefont=dict(color=\"white\"),\n",
        "    coloraxis_colorbar=dict(\n",
        "        title=\"Number of Launches\", \n",
        "        titlefont=dict(color=\"white\"), \n",
        "        tickfont=dict(color=\"white\")\n",
        "    )\n",
        ")\n",
        "\n",
        "fig_map.show()"
      ]
    },
    {
      "cell_type": "markdown",
      "metadata": {
        "id": "F3pwYSUlo_AK"
      },
      "source": [
        "# Use a Choropleth Map to Show the Number of Failures by Country\n"
      ]
    },
    {
      "cell_type": "code",
      "execution_count": 166,
      "metadata": {
        "id": "8BH4ICtro9I0"
      },
      "outputs": [
        {
          "data": {
            "text/html": [
              "<div>\n",
              "<style scoped>\n",
              "    .dataframe tbody tr th:only-of-type {\n",
              "        vertical-align: middle;\n",
              "    }\n",
              "\n",
              "    .dataframe tbody tr th {\n",
              "        vertical-align: top;\n",
              "    }\n",
              "\n",
              "    .dataframe thead th {\n",
              "        text-align: right;\n",
              "    }\n",
              "</style>\n",
              "<table border=\"1\" class=\"dataframe\">\n",
              "  <thead>\n",
              "    <tr style=\"text-align: right;\">\n",
              "      <th></th>\n",
              "      <th>Country</th>\n",
              "      <th>Mission_Status_Binary</th>\n",
              "      <th>Failures</th>\n",
              "    </tr>\n",
              "  </thead>\n",
              "  <tbody>\n",
              "    <tr>\n",
              "      <th>0</th>\n",
              "      <td>AUS</td>\n",
              "      <td>Failure</td>\n",
              "      <td>3</td>\n",
              "    </tr>\n",
              "    <tr>\n",
              "      <th>1</th>\n",
              "      <td>BRA</td>\n",
              "      <td>Failure</td>\n",
              "      <td>3</td>\n",
              "    </tr>\n",
              "    <tr>\n",
              "      <th>2</th>\n",
              "      <td>CHN</td>\n",
              "      <td>Failure</td>\n",
              "      <td>25</td>\n",
              "    </tr>\n",
              "    <tr>\n",
              "      <th>3</th>\n",
              "      <td>FRA</td>\n",
              "      <td>Failure</td>\n",
              "      <td>18</td>\n",
              "    </tr>\n",
              "    <tr>\n",
              "      <th>4</th>\n",
              "      <td>IND</td>\n",
              "      <td>Failure</td>\n",
              "      <td>13</td>\n",
              "    </tr>\n",
              "    <tr>\n",
              "      <th>5</th>\n",
              "      <td>IRN</td>\n",
              "      <td>Failure</td>\n",
              "      <td>9</td>\n",
              "    </tr>\n",
              "    <tr>\n",
              "      <th>6</th>\n",
              "      <td>ISR</td>\n",
              "      <td>Failure</td>\n",
              "      <td>2</td>\n",
              "    </tr>\n",
              "    <tr>\n",
              "      <th>7</th>\n",
              "      <td>JPN</td>\n",
              "      <td>Failure</td>\n",
              "      <td>13</td>\n",
              "    </tr>\n",
              "    <tr>\n",
              "      <th>8</th>\n",
              "      <td>KAZ</td>\n",
              "      <td>Failure</td>\n",
              "      <td>93</td>\n",
              "    </tr>\n",
              "    <tr>\n",
              "      <th>9</th>\n",
              "      <td>NZL</td>\n",
              "      <td>Failure</td>\n",
              "      <td>2</td>\n",
              "    </tr>\n",
              "    <tr>\n",
              "      <th>10</th>\n",
              "      <td>PRK</td>\n",
              "      <td>Failure</td>\n",
              "      <td>3</td>\n",
              "    </tr>\n",
              "    <tr>\n",
              "      <th>11</th>\n",
              "      <td>RUS</td>\n",
              "      <td>Failure</td>\n",
              "      <td>93</td>\n",
              "    </tr>\n",
              "    <tr>\n",
              "      <th>12</th>\n",
              "      <td>USA</td>\n",
              "      <td>Failure</td>\n",
              "      <td>163</td>\n",
              "    </tr>\n",
              "    <tr>\n",
              "      <th>13</th>\n",
              "      <td>Unknown</td>\n",
              "      <td>Failure</td>\n",
              "      <td>5</td>\n",
              "    </tr>\n",
              "  </tbody>\n",
              "</table>\n",
              "</div>"
            ],
            "text/plain": [
              "    Country Mission_Status_Binary  Failures\n",
              "0       AUS               Failure         3\n",
              "1       BRA               Failure         3\n",
              "2       CHN               Failure        25\n",
              "3       FRA               Failure        18\n",
              "4       IND               Failure        13\n",
              "5       IRN               Failure         9\n",
              "6       ISR               Failure         2\n",
              "7       JPN               Failure        13\n",
              "8       KAZ               Failure        93\n",
              "9       NZL               Failure         2\n",
              "10      PRK               Failure         3\n",
              "11      RUS               Failure        93\n",
              "12      USA               Failure       163\n",
              "13  Unknown               Failure         5"
            ]
          },
          "execution_count": 166,
          "metadata": {},
          "output_type": "execute_result"
        }
      ],
      "source": [
        "df_data['Mission_Status_Binary'] = np.where(df_data.Mission_Status != \"Success\", \"Failure\", \"Success\")\n",
        "df_failures = df_data.groupby([\"Country\", \"Mission_Status_Binary\"]).count()\n",
        "df_failures = df_failures.query('Mission_Status_Binary == \"Failure\"')\n",
        "df_failures = df_failures.drop(df_failures[df_failures.columns.difference([\"Organisation\"])], axis=1)\n",
        "df_failures = df_failures.rename(columns={\"Organisation\": \"Failures\"})\n",
        "df_failures = df_failures.reset_index()\n",
        "df_failures"
      ]
    },
    {
      "cell_type": "code",
      "execution_count": 218,
      "metadata": {
        "id": "sfw-q7Obo9GM"
      },
      "outputs": [
        {
          "data": {
            "application/vnd.plotly.v1+json": {
              "config": {
                "plotlyServerURL": "https://plot.ly"
              },
              "data": [
                {
                  "coloraxis": "coloraxis",
                  "geo": "geo",
                  "hovertemplate": "Country=%{location}<br>Failures=%{z}<extra></extra>",
                  "locations": [
                    "AUS",
                    "BRA",
                    "CHN",
                    "FRA",
                    "IND",
                    "IRN",
                    "ISR",
                    "JPN",
                    "KAZ",
                    "NZL",
                    "PRK",
                    "RUS",
                    "USA",
                    "Unknown"
                  ],
                  "name": "",
                  "type": "choropleth",
                  "z": [
                    3,
                    3,
                    25,
                    18,
                    13,
                    9,
                    2,
                    13,
                    93,
                    2,
                    3,
                    93,
                    163,
                    5
                  ]
                }
              ],
              "layout": {
                "coloraxis": {
                  "cmax": 160,
                  "cmin": 2,
                  "colorbar": {
                    "tickfont": {
                      "color": "white"
                    },
                    "title": {
                      "font": {
                        "color": "white"
                      },
                      "text": "Total failures"
                    }
                  },
                  "colorscale": [
                    [
                      0,
                      "rgb(255,245,240)"
                    ],
                    [
                      0.125,
                      "rgb(254,224,210)"
                    ],
                    [
                      0.25,
                      "rgb(252,187,161)"
                    ],
                    [
                      0.375,
                      "rgb(252,146,114)"
                    ],
                    [
                      0.5,
                      "rgb(251,106,74)"
                    ],
                    [
                      0.625,
                      "rgb(239,59,44)"
                    ],
                    [
                      0.75,
                      "rgb(203,24,29)"
                    ],
                    [
                      0.875,
                      "rgb(165,15,21)"
                    ],
                    [
                      1,
                      "rgb(103,0,13)"
                    ]
                  ]
                },
                "geo": {
                  "bgcolor": "#323130",
                  "center": {},
                  "countrycolor": "#455A64",
                  "domain": {
                    "x": [
                      0,
                      1
                    ],
                    "y": [
                      0,
                      1
                    ]
                  },
                  "showcountries": true,
                  "visible": false
                },
                "legend": {
                  "tracegroupgap": 0
                },
                "margin": {
                  "t": 60
                },
                "paper_bgcolor": "#323130",
                "template": {
                  "data": {
                    "bar": [
                      {
                        "error_x": {
                          "color": "#2a3f5f"
                        },
                        "error_y": {
                          "color": "#2a3f5f"
                        },
                        "marker": {
                          "line": {
                            "color": "#E5ECF6",
                            "width": 0.5
                          },
                          "pattern": {
                            "fillmode": "overlay",
                            "size": 10,
                            "solidity": 0.2
                          }
                        },
                        "type": "bar"
                      }
                    ],
                    "barpolar": [
                      {
                        "marker": {
                          "line": {
                            "color": "#E5ECF6",
                            "width": 0.5
                          },
                          "pattern": {
                            "fillmode": "overlay",
                            "size": 10,
                            "solidity": 0.2
                          }
                        },
                        "type": "barpolar"
                      }
                    ],
                    "carpet": [
                      {
                        "aaxis": {
                          "endlinecolor": "#2a3f5f",
                          "gridcolor": "white",
                          "linecolor": "white",
                          "minorgridcolor": "white",
                          "startlinecolor": "#2a3f5f"
                        },
                        "baxis": {
                          "endlinecolor": "#2a3f5f",
                          "gridcolor": "white",
                          "linecolor": "white",
                          "minorgridcolor": "white",
                          "startlinecolor": "#2a3f5f"
                        },
                        "type": "carpet"
                      }
                    ],
                    "choropleth": [
                      {
                        "colorbar": {
                          "outlinewidth": 0,
                          "ticks": ""
                        },
                        "type": "choropleth"
                      }
                    ],
                    "contour": [
                      {
                        "colorbar": {
                          "outlinewidth": 0,
                          "ticks": ""
                        },
                        "colorscale": [
                          [
                            0,
                            "#0d0887"
                          ],
                          [
                            0.1111111111111111,
                            "#46039f"
                          ],
                          [
                            0.2222222222222222,
                            "#7201a8"
                          ],
                          [
                            0.3333333333333333,
                            "#9c179e"
                          ],
                          [
                            0.4444444444444444,
                            "#bd3786"
                          ],
                          [
                            0.5555555555555556,
                            "#d8576b"
                          ],
                          [
                            0.6666666666666666,
                            "#ed7953"
                          ],
                          [
                            0.7777777777777778,
                            "#fb9f3a"
                          ],
                          [
                            0.8888888888888888,
                            "#fdca26"
                          ],
                          [
                            1,
                            "#f0f921"
                          ]
                        ],
                        "type": "contour"
                      }
                    ],
                    "contourcarpet": [
                      {
                        "colorbar": {
                          "outlinewidth": 0,
                          "ticks": ""
                        },
                        "type": "contourcarpet"
                      }
                    ],
                    "heatmap": [
                      {
                        "colorbar": {
                          "outlinewidth": 0,
                          "ticks": ""
                        },
                        "colorscale": [
                          [
                            0,
                            "#0d0887"
                          ],
                          [
                            0.1111111111111111,
                            "#46039f"
                          ],
                          [
                            0.2222222222222222,
                            "#7201a8"
                          ],
                          [
                            0.3333333333333333,
                            "#9c179e"
                          ],
                          [
                            0.4444444444444444,
                            "#bd3786"
                          ],
                          [
                            0.5555555555555556,
                            "#d8576b"
                          ],
                          [
                            0.6666666666666666,
                            "#ed7953"
                          ],
                          [
                            0.7777777777777778,
                            "#fb9f3a"
                          ],
                          [
                            0.8888888888888888,
                            "#fdca26"
                          ],
                          [
                            1,
                            "#f0f921"
                          ]
                        ],
                        "type": "heatmap"
                      }
                    ],
                    "heatmapgl": [
                      {
                        "colorbar": {
                          "outlinewidth": 0,
                          "ticks": ""
                        },
                        "colorscale": [
                          [
                            0,
                            "#0d0887"
                          ],
                          [
                            0.1111111111111111,
                            "#46039f"
                          ],
                          [
                            0.2222222222222222,
                            "#7201a8"
                          ],
                          [
                            0.3333333333333333,
                            "#9c179e"
                          ],
                          [
                            0.4444444444444444,
                            "#bd3786"
                          ],
                          [
                            0.5555555555555556,
                            "#d8576b"
                          ],
                          [
                            0.6666666666666666,
                            "#ed7953"
                          ],
                          [
                            0.7777777777777778,
                            "#fb9f3a"
                          ],
                          [
                            0.8888888888888888,
                            "#fdca26"
                          ],
                          [
                            1,
                            "#f0f921"
                          ]
                        ],
                        "type": "heatmapgl"
                      }
                    ],
                    "histogram": [
                      {
                        "marker": {
                          "pattern": {
                            "fillmode": "overlay",
                            "size": 10,
                            "solidity": 0.2
                          }
                        },
                        "type": "histogram"
                      }
                    ],
                    "histogram2d": [
                      {
                        "colorbar": {
                          "outlinewidth": 0,
                          "ticks": ""
                        },
                        "colorscale": [
                          [
                            0,
                            "#0d0887"
                          ],
                          [
                            0.1111111111111111,
                            "#46039f"
                          ],
                          [
                            0.2222222222222222,
                            "#7201a8"
                          ],
                          [
                            0.3333333333333333,
                            "#9c179e"
                          ],
                          [
                            0.4444444444444444,
                            "#bd3786"
                          ],
                          [
                            0.5555555555555556,
                            "#d8576b"
                          ],
                          [
                            0.6666666666666666,
                            "#ed7953"
                          ],
                          [
                            0.7777777777777778,
                            "#fb9f3a"
                          ],
                          [
                            0.8888888888888888,
                            "#fdca26"
                          ],
                          [
                            1,
                            "#f0f921"
                          ]
                        ],
                        "type": "histogram2d"
                      }
                    ],
                    "histogram2dcontour": [
                      {
                        "colorbar": {
                          "outlinewidth": 0,
                          "ticks": ""
                        },
                        "colorscale": [
                          [
                            0,
                            "#0d0887"
                          ],
                          [
                            0.1111111111111111,
                            "#46039f"
                          ],
                          [
                            0.2222222222222222,
                            "#7201a8"
                          ],
                          [
                            0.3333333333333333,
                            "#9c179e"
                          ],
                          [
                            0.4444444444444444,
                            "#bd3786"
                          ],
                          [
                            0.5555555555555556,
                            "#d8576b"
                          ],
                          [
                            0.6666666666666666,
                            "#ed7953"
                          ],
                          [
                            0.7777777777777778,
                            "#fb9f3a"
                          ],
                          [
                            0.8888888888888888,
                            "#fdca26"
                          ],
                          [
                            1,
                            "#f0f921"
                          ]
                        ],
                        "type": "histogram2dcontour"
                      }
                    ],
                    "mesh3d": [
                      {
                        "colorbar": {
                          "outlinewidth": 0,
                          "ticks": ""
                        },
                        "type": "mesh3d"
                      }
                    ],
                    "parcoords": [
                      {
                        "line": {
                          "colorbar": {
                            "outlinewidth": 0,
                            "ticks": ""
                          }
                        },
                        "type": "parcoords"
                      }
                    ],
                    "pie": [
                      {
                        "automargin": true,
                        "type": "pie"
                      }
                    ],
                    "scatter": [
                      {
                        "fillpattern": {
                          "fillmode": "overlay",
                          "size": 10,
                          "solidity": 0.2
                        },
                        "type": "scatter"
                      }
                    ],
                    "scatter3d": [
                      {
                        "line": {
                          "colorbar": {
                            "outlinewidth": 0,
                            "ticks": ""
                          }
                        },
                        "marker": {
                          "colorbar": {
                            "outlinewidth": 0,
                            "ticks": ""
                          }
                        },
                        "type": "scatter3d"
                      }
                    ],
                    "scattercarpet": [
                      {
                        "marker": {
                          "colorbar": {
                            "outlinewidth": 0,
                            "ticks": ""
                          }
                        },
                        "type": "scattercarpet"
                      }
                    ],
                    "scattergeo": [
                      {
                        "marker": {
                          "colorbar": {
                            "outlinewidth": 0,
                            "ticks": ""
                          }
                        },
                        "type": "scattergeo"
                      }
                    ],
                    "scattergl": [
                      {
                        "marker": {
                          "colorbar": {
                            "outlinewidth": 0,
                            "ticks": ""
                          }
                        },
                        "type": "scattergl"
                      }
                    ],
                    "scattermapbox": [
                      {
                        "marker": {
                          "colorbar": {
                            "outlinewidth": 0,
                            "ticks": ""
                          }
                        },
                        "type": "scattermapbox"
                      }
                    ],
                    "scatterpolar": [
                      {
                        "marker": {
                          "colorbar": {
                            "outlinewidth": 0,
                            "ticks": ""
                          }
                        },
                        "type": "scatterpolar"
                      }
                    ],
                    "scatterpolargl": [
                      {
                        "marker": {
                          "colorbar": {
                            "outlinewidth": 0,
                            "ticks": ""
                          }
                        },
                        "type": "scatterpolargl"
                      }
                    ],
                    "scatterternary": [
                      {
                        "marker": {
                          "colorbar": {
                            "outlinewidth": 0,
                            "ticks": ""
                          }
                        },
                        "type": "scatterternary"
                      }
                    ],
                    "surface": [
                      {
                        "colorbar": {
                          "outlinewidth": 0,
                          "ticks": ""
                        },
                        "colorscale": [
                          [
                            0,
                            "#0d0887"
                          ],
                          [
                            0.1111111111111111,
                            "#46039f"
                          ],
                          [
                            0.2222222222222222,
                            "#7201a8"
                          ],
                          [
                            0.3333333333333333,
                            "#9c179e"
                          ],
                          [
                            0.4444444444444444,
                            "#bd3786"
                          ],
                          [
                            0.5555555555555556,
                            "#d8576b"
                          ],
                          [
                            0.6666666666666666,
                            "#ed7953"
                          ],
                          [
                            0.7777777777777778,
                            "#fb9f3a"
                          ],
                          [
                            0.8888888888888888,
                            "#fdca26"
                          ],
                          [
                            1,
                            "#f0f921"
                          ]
                        ],
                        "type": "surface"
                      }
                    ],
                    "table": [
                      {
                        "cells": {
                          "fill": {
                            "color": "#EBF0F8"
                          },
                          "line": {
                            "color": "white"
                          }
                        },
                        "header": {
                          "fill": {
                            "color": "#C8D4E3"
                          },
                          "line": {
                            "color": "white"
                          }
                        },
                        "type": "table"
                      }
                    ]
                  },
                  "layout": {
                    "annotationdefaults": {
                      "arrowcolor": "#2a3f5f",
                      "arrowhead": 0,
                      "arrowwidth": 1
                    },
                    "autotypenumbers": "strict",
                    "coloraxis": {
                      "colorbar": {
                        "outlinewidth": 0,
                        "ticks": ""
                      }
                    },
                    "colorscale": {
                      "diverging": [
                        [
                          0,
                          "#8e0152"
                        ],
                        [
                          0.1,
                          "#c51b7d"
                        ],
                        [
                          0.2,
                          "#de77ae"
                        ],
                        [
                          0.3,
                          "#f1b6da"
                        ],
                        [
                          0.4,
                          "#fde0ef"
                        ],
                        [
                          0.5,
                          "#f7f7f7"
                        ],
                        [
                          0.6,
                          "#e6f5d0"
                        ],
                        [
                          0.7,
                          "#b8e186"
                        ],
                        [
                          0.8,
                          "#7fbc41"
                        ],
                        [
                          0.9,
                          "#4d9221"
                        ],
                        [
                          1,
                          "#276419"
                        ]
                      ],
                      "sequential": [
                        [
                          0,
                          "#0d0887"
                        ],
                        [
                          0.1111111111111111,
                          "#46039f"
                        ],
                        [
                          0.2222222222222222,
                          "#7201a8"
                        ],
                        [
                          0.3333333333333333,
                          "#9c179e"
                        ],
                        [
                          0.4444444444444444,
                          "#bd3786"
                        ],
                        [
                          0.5555555555555556,
                          "#d8576b"
                        ],
                        [
                          0.6666666666666666,
                          "#ed7953"
                        ],
                        [
                          0.7777777777777778,
                          "#fb9f3a"
                        ],
                        [
                          0.8888888888888888,
                          "#fdca26"
                        ],
                        [
                          1,
                          "#f0f921"
                        ]
                      ],
                      "sequentialminus": [
                        [
                          0,
                          "#0d0887"
                        ],
                        [
                          0.1111111111111111,
                          "#46039f"
                        ],
                        [
                          0.2222222222222222,
                          "#7201a8"
                        ],
                        [
                          0.3333333333333333,
                          "#9c179e"
                        ],
                        [
                          0.4444444444444444,
                          "#bd3786"
                        ],
                        [
                          0.5555555555555556,
                          "#d8576b"
                        ],
                        [
                          0.6666666666666666,
                          "#ed7953"
                        ],
                        [
                          0.7777777777777778,
                          "#fb9f3a"
                        ],
                        [
                          0.8888888888888888,
                          "#fdca26"
                        ],
                        [
                          1,
                          "#f0f921"
                        ]
                      ]
                    },
                    "colorway": [
                      "#636efa",
                      "#EF553B",
                      "#00cc96",
                      "#ab63fa",
                      "#FFA15A",
                      "#19d3f3",
                      "#FF6692",
                      "#B6E880",
                      "#FF97FF",
                      "#FECB52"
                    ],
                    "font": {
                      "color": "#2a3f5f"
                    },
                    "geo": {
                      "bgcolor": "white",
                      "lakecolor": "white",
                      "landcolor": "#E5ECF6",
                      "showlakes": true,
                      "showland": true,
                      "subunitcolor": "white"
                    },
                    "hoverlabel": {
                      "align": "left"
                    },
                    "hovermode": "closest",
                    "mapbox": {
                      "style": "light"
                    },
                    "paper_bgcolor": "white",
                    "plot_bgcolor": "#E5ECF6",
                    "polar": {
                      "angularaxis": {
                        "gridcolor": "white",
                        "linecolor": "white",
                        "ticks": ""
                      },
                      "bgcolor": "#E5ECF6",
                      "radialaxis": {
                        "gridcolor": "white",
                        "linecolor": "white",
                        "ticks": ""
                      }
                    },
                    "scene": {
                      "xaxis": {
                        "backgroundcolor": "#E5ECF6",
                        "gridcolor": "white",
                        "gridwidth": 2,
                        "linecolor": "white",
                        "showbackground": true,
                        "ticks": "",
                        "zerolinecolor": "white"
                      },
                      "yaxis": {
                        "backgroundcolor": "#E5ECF6",
                        "gridcolor": "white",
                        "gridwidth": 2,
                        "linecolor": "white",
                        "showbackground": true,
                        "ticks": "",
                        "zerolinecolor": "white"
                      },
                      "zaxis": {
                        "backgroundcolor": "#E5ECF6",
                        "gridcolor": "white",
                        "gridwidth": 2,
                        "linecolor": "white",
                        "showbackground": true,
                        "ticks": "",
                        "zerolinecolor": "white"
                      }
                    },
                    "shapedefaults": {
                      "line": {
                        "color": "#2a3f5f"
                      }
                    },
                    "ternary": {
                      "aaxis": {
                        "gridcolor": "white",
                        "linecolor": "white",
                        "ticks": ""
                      },
                      "baxis": {
                        "gridcolor": "white",
                        "linecolor": "white",
                        "ticks": ""
                      },
                      "bgcolor": "#E5ECF6",
                      "caxis": {
                        "gridcolor": "white",
                        "linecolor": "white",
                        "ticks": ""
                      }
                    },
                    "title": {
                      "x": 0.05
                    },
                    "xaxis": {
                      "automargin": true,
                      "gridcolor": "white",
                      "linecolor": "white",
                      "ticks": "",
                      "title": {
                        "standoff": 15
                      },
                      "zerolinecolor": "white",
                      "zerolinewidth": 2
                    },
                    "yaxis": {
                      "automargin": true,
                      "gridcolor": "white",
                      "linecolor": "white",
                      "ticks": "",
                      "title": {
                        "standoff": 15
                      },
                      "zerolinecolor": "white",
                      "zerolinewidth": 2
                    }
                  }
                },
                "title": {
                  "font": {
                    "color": "white"
                  },
                  "text": "Map world of total failures launches per country"
                }
              }
            }
          },
          "metadata": {},
          "output_type": "display_data"
        }
      ],
      "source": [
        "fig_failure = px.choropleth(\n",
        "    df_failures,\n",
        "    locations=\"Country\",\n",
        "    color=\"Failures\",\n",
        "    color_continuous_scale=\"Reds\",\n",
        "    range_color=(df_failures.Failures.min(), 160)\n",
        ")\n",
        "\n",
        "fig_failure.update_geos(\n",
        "    visible=False,\n",
        "    showcountries=True,\n",
        "    countrycolor=\"#455A64\",\n",
        "    bgcolor=\"#323130\"\n",
        ")\n",
        "\n",
        "fig_failure.update_layout(\n",
        "    paper_bgcolor=\"#323130\",\n",
        "    title=\"Map world of total failures launches per country\",\n",
        "    titlefont=dict(color=\"white\"),\n",
        "    coloraxis_colorbar=dict(\n",
        "        title=\"Total failures\", \n",
        "        titlefont=dict(color=\"white\"), \n",
        "        tickfont=dict(color=\"white\")\n",
        "    )\n",
        ")\n",
        "\n",
        "fig_failure.show()"
      ]
    },
    {
      "cell_type": "markdown",
      "metadata": {
        "id": "9LqcqSrKa-qN",
        "papermill": {
          "duration": 0.039343,
          "end_time": "2020-10-20T21:34:06.591694",
          "exception": false,
          "start_time": "2020-10-20T21:34:06.552351",
          "status": "completed"
        },
        "tags": []
      },
      "source": [
        "# Create a Plotly Sunburst Chart of the countries, organisations, and mission status. "
      ]
    },
    {
      "cell_type": "code",
      "execution_count": 217,
      "metadata": {
        "id": "MwUfpoByo3_J"
      },
      "outputs": [
        {
          "data": {
            "application/vnd.plotly.v1+json": {
              "config": {
                "plotlyServerURL": "https://plot.ly"
              },
              "data": [
                {
                  "branchvalues": "total",
                  "customdata": [
                    [
                      "Unknown"
                    ],
                    [
                      "FRA"
                    ],
                    [
                      "AUS"
                    ],
                    [
                      "CHN"
                    ],
                    [
                      "CHN"
                    ],
                    [
                      "KAZ"
                    ],
                    [
                      "KAZ"
                    ],
                    [
                      "AUS"
                    ],
                    [
                      "AUS"
                    ],
                    [
                      "USA"
                    ],
                    [
                      "AUS"
                    ],
                    [
                      "RUS"
                    ],
                    [
                      "USA"
                    ],
                    [
                      "RUS"
                    ],
                    [
                      "KAZ"
                    ],
                    [
                      "RUS"
                    ],
                    [
                      "USA"
                    ],
                    [
                      "USA"
                    ],
                    [
                      "JPN"
                    ],
                    [
                      "USA"
                    ],
                    [
                      "FRA"
                    ],
                    [
                      "JPN"
                    ],
                    [
                      "RUS"
                    ],
                    [
                      "USA"
                    ],
                    [
                      "USA"
                    ],
                    [
                      "KAZ"
                    ],
                    [
                      "CHN"
                    ],
                    [
                      "AUS"
                    ],
                    [
                      "RUS"
                    ],
                    [
                      "USA"
                    ],
                    [
                      "IRN"
                    ],
                    [
                      "Unknown"
                    ],
                    [
                      "RUS"
                    ],
                    [
                      "USA"
                    ],
                    [
                      "USA"
                    ],
                    [
                      "KAZ"
                    ],
                    [
                      "RUS"
                    ],
                    [
                      "KAZ"
                    ],
                    [
                      "RUS"
                    ],
                    [
                      "PRK"
                    ],
                    [
                      "JPN"
                    ],
                    [
                      "IRN"
                    ],
                    [
                      "ISR"
                    ],
                    [
                      "USA"
                    ],
                    [
                      "KAZ"
                    ],
                    [
                      "FRA"
                    ],
                    [
                      "JPN"
                    ],
                    [
                      "RUS"
                    ],
                    [
                      "KAZ"
                    ],
                    [
                      "AUS"
                    ],
                    [
                      "CHN"
                    ],
                    [
                      "USA"
                    ],
                    [
                      "IRN"
                    ],
                    [
                      "IRN"
                    ],
                    [
                      "JPN"
                    ],
                    [
                      "CHN"
                    ],
                    [
                      "KAZ"
                    ],
                    [
                      "RUS"
                    ],
                    [
                      "IND"
                    ],
                    [
                      "USA"
                    ],
                    [
                      "JPN"
                    ],
                    [
                      "IND"
                    ],
                    [
                      "RUS"
                    ],
                    [
                      "KAZ"
                    ],
                    [
                      "Unknown"
                    ],
                    [
                      "USA"
                    ],
                    [
                      "RUS"
                    ],
                    [
                      "CHN"
                    ],
                    [
                      "FRA"
                    ],
                    [
                      "NZL"
                    ],
                    [
                      "Unknown"
                    ],
                    [
                      "USA"
                    ],
                    [
                      "FRA"
                    ],
                    [
                      "USA"
                    ],
                    [
                      "USA"
                    ],
                    [
                      "CHN"
                    ],
                    [
                      "ISR"
                    ],
                    [
                      "PRK"
                    ],
                    [
                      "USA"
                    ],
                    [
                      "RUS"
                    ],
                    [
                      "AUS"
                    ],
                    [
                      "KAZ"
                    ],
                    [
                      "USA"
                    ],
                    [
                      "KAZ"
                    ],
                    [
                      "IND"
                    ],
                    [
                      "KAZ"
                    ],
                    [
                      "KAZ"
                    ],
                    [
                      "RUS"
                    ],
                    [
                      "FRA"
                    ],
                    [
                      "USA"
                    ],
                    [
                      "IRN"
                    ],
                    [
                      "NZL"
                    ],
                    [
                      "FRA"
                    ],
                    [
                      "USA"
                    ],
                    [
                      "RUS"
                    ],
                    [
                      "KAZ"
                    ],
                    [
                      "USA"
                    ],
                    [
                      "JPN"
                    ],
                    [
                      "RUS"
                    ],
                    [
                      "FRA"
                    ],
                    [
                      "USA"
                    ],
                    [
                      "USA"
                    ],
                    [
                      "Unknown"
                    ],
                    [
                      "USA"
                    ],
                    [
                      "USA"
                    ],
                    [
                      "FRA"
                    ],
                    [
                      "USA"
                    ],
                    [
                      "USA"
                    ],
                    [
                      "USA"
                    ],
                    [
                      "USA"
                    ],
                    [
                      "Unknown"
                    ],
                    [
                      "USA"
                    ],
                    [
                      "AUS"
                    ],
                    [
                      "USA"
                    ],
                    [
                      "PRK"
                    ],
                    [
                      "USA"
                    ],
                    [
                      "FRA"
                    ],
                    [
                      "USA"
                    ],
                    [
                      "KAZ"
                    ],
                    [
                      "KAZ"
                    ],
                    [
                      "IRN"
                    ],
                    [
                      "KAZ"
                    ],
                    [
                      "NZL"
                    ],
                    [
                      "RUS"
                    ],
                    [
                      "RUS"
                    ],
                    [
                      "IND"
                    ],
                    [
                      "RUS"
                    ],
                    [
                      "RUS"
                    ],
                    [
                      "KAZ"
                    ],
                    [
                      "USA"
                    ],
                    [
                      "CHN"
                    ],
                    [
                      "KAZ"
                    ],
                    [
                      "USA"
                    ],
                    [
                      "ISR"
                    ],
                    [
                      "KEN"
                    ],
                    [
                      "USA"
                    ],
                    [
                      "USA"
                    ],
                    [
                      "RUS"
                    ],
                    [
                      "KAZ"
                    ],
                    [
                      "PRK"
                    ],
                    [
                      "KAZ"
                    ],
                    [
                      "BRA"
                    ],
                    [
                      "USA"
                    ],
                    [
                      "USA"
                    ],
                    [
                      "ISR"
                    ],
                    [
                      "KAZ"
                    ],
                    [
                      "RUS"
                    ],
                    [
                      "JPN"
                    ],
                    [
                      "KAZ"
                    ],
                    [
                      "USA"
                    ],
                    [
                      "USA"
                    ],
                    [
                      "USA"
                    ],
                    [
                      "USA"
                    ],
                    [
                      "JPN"
                    ],
                    [
                      "KEN"
                    ],
                    [
                      "KAZ"
                    ],
                    [
                      "USA"
                    ],
                    [
                      "USA"
                    ],
                    [
                      "CHN"
                    ],
                    [
                      "JPN"
                    ],
                    [
                      "FRA"
                    ],
                    [
                      "RUS"
                    ],
                    [
                      "USA"
                    ],
                    [
                      "RUS"
                    ],
                    [
                      "IND"
                    ],
                    [
                      "KAZ"
                    ],
                    [
                      "USA"
                    ],
                    [
                      "USA"
                    ],
                    [
                      "USA"
                    ],
                    [
                      "CHN"
                    ],
                    [
                      "USA"
                    ],
                    [
                      "JPN"
                    ],
                    [
                      "CHN"
                    ],
                    [
                      "Unknown"
                    ],
                    [
                      "JPN"
                    ],
                    [
                      "FRA"
                    ],
                    [
                      "KEN"
                    ],
                    [
                      "FRA"
                    ],
                    [
                      "CHN"
                    ],
                    [
                      "FRA"
                    ],
                    [
                      "USA"
                    ],
                    [
                      "NZL"
                    ],
                    [
                      "BRA"
                    ],
                    [
                      "USA"
                    ],
                    [
                      "CHN"
                    ],
                    [
                      "CHN"
                    ],
                    [
                      "FRA"
                    ],
                    [
                      "BRA"
                    ],
                    [
                      "KAZ"
                    ],
                    [
                      "KAZ"
                    ],
                    [
                      "KAZ"
                    ],
                    [
                      "IRN"
                    ],
                    [
                      "JPN"
                    ],
                    [
                      "RUS"
                    ],
                    [
                      "JPN"
                    ],
                    [
                      "AUS"
                    ],
                    [
                      "USA"
                    ],
                    [
                      "KAZ"
                    ],
                    [
                      "RUS"
                    ],
                    [
                      "USA"
                    ],
                    [
                      "CHN"
                    ],
                    [
                      "USA"
                    ],
                    [
                      "RUS"
                    ],
                    [
                      "USA"
                    ],
                    [
                      "CHN"
                    ],
                    [
                      "USA"
                    ],
                    [
                      "CHN"
                    ],
                    [
                      "FRA"
                    ],
                    [
                      "FRA"
                    ],
                    [
                      "USA"
                    ],
                    [
                      "JPN"
                    ],
                    [
                      "BRA"
                    ]
                  ],
                  "domain": {
                    "x": [
                      0,
                      1
                    ],
                    "y": [
                      0,
                      1
                    ]
                  },
                  "hovertemplate": "labels=%{label}<br>count=%{value}<br>parent=%{parent}<br>id=%{id}<br>Country=%{customdata[0]}<extra></extra>",
                  "ids": [
                    "Unknown",
                    "FRA/CNES/Success",
                    "AUS/CECLES/Success",
                    "CHN/CASIC/Success",
                    "CHN/CASC/Success",
                    "KAZ/OKB-586",
                    "KAZ/Arianespace/Success",
                    "AUS/RAE",
                    "AUS/AMBA/Success",
                    "USA/SpaceX/Prelaunch Failure",
                    "AUS/CECLES",
                    "RUS/VKS RF/Partial Failure",
                    "USA/ULA/Partial Failure",
                    "RUS/Roscosmos",
                    "KAZ/RVSN USSR/Partial Failure",
                    "RUS/SRC",
                    "USA/NASA/Partial Failure",
                    "USA/Martin Marietta/Partial Failure",
                    "JPN/MHI/Partial Failure",
                    "USA/AMBA/Partial Failure",
                    "FRA/ESA/Success",
                    "JPN/UT",
                    "RUS/Eurockot/Success",
                    "USA/Martin Marietta",
                    "USA/Blue Origin",
                    "KAZ/Arianespace",
                    "CHN/ExPace",
                    "AUS/AMBA",
                    "RUS/Yuzhmash/Success",
                    "USA/General Dynamics",
                    "IRN/IRGC",
                    "Unknown/Sea Launch/Success",
                    "RUS/Roscosmos/Success",
                    "USA/Northrop/Success",
                    "USA/NASA/Success",
                    "KAZ/Land Launch",
                    "RUS/Kosmotras/Success",
                    "KAZ/Kosmotras/Success",
                    "RUS/Khrunichev/Success",
                    "PRK/KCST/Success",
                    "JPN/JAXA/Success",
                    "IRN/ISA/Success",
                    "ISR/IAI/Success",
                    "USA/NASA",
                    "KAZ/VKS RF",
                    "FRA/CECLES",
                    "JPN/UT/Failure",
                    "RUS/Eurockot/Failure",
                    "KAZ/RVSN USSR/Failure",
                    "AUS/RAE/Failure",
                    "CHN/ExPace/Failure",
                    "USA/General Dynamics/Failure",
                    "IRN/ISA/Failure",
                    "IRN",
                    "JPN",
                    "CHN",
                    "KAZ/VKS RF/Failure",
                    "RUS/MITT/Failure",
                    "IND",
                    "USA/Lockheed/Failure",
                    "JPN/JAXA/Failure",
                    "IND/ISRO/Failure",
                    "RUS/Roscosmos/Failure",
                    "KAZ/Kosmotras/Failure",
                    "Unknown/Sea Launch/Failure",
                    "USA/AMBA/Failure",
                    "RUS",
                    "CHN/CASIC/Failure",
                    "FRA/CECLES/Failure",
                    "NZL",
                    "Unknown/Sea Launch",
                    "USA/EER",
                    "FRA/Arianespace/Partial Failure",
                    "USA/US Navy",
                    "USA/Blue Origin/Success",
                    "CHN/i-Space/Success",
                    "ISR/IAI",
                    "PRK/KCST",
                    "USA/US Air Force/Success",
                    "RUS/RVSN USSR",
                    "AUS",
                    "KAZ",
                    "USA/US Air Force/Partial Failure",
                    "KAZ/RVSN USSR/Success",
                    "IND/ISRO",
                    "KAZ/Land Launch/Partial Failure",
                    "KAZ/Kosmotras",
                    "RUS/Eurockot",
                    "FRA/Arm??e de l'Air",
                    "USA/SpaceX/Success",
                    "IRN/ISA/Prelaunch Failure",
                    "NZL/Rocket Lab",
                    "FRA/Arm??e de l'Air/Success",
                    "USA/US Air Force",
                    "RUS/Yuzhmash",
                    "KAZ/Roscosmos/Failure",
                    "USA/Lockheed/Success",
                    "JPN/MHI",
                    "RUS/Khrunichev",
                    "FRA/ESA/Partial Failure",
                    "USA/Exos/Failure",
                    "USA/EER/Failure",
                    "Unknown/KARI/Success",
                    "USA/Northrop/Failure",
                    "USA/Lockheed",
                    "FRA",
                    "USA/Exos/Partial Failure",
                    "USA/SpaceX/Failure",
                    "USA/ILS",
                    "USA/ULA/Success",
                    "Unknown/KARI",
                    "USA/AMBA",
                    "AUS/CECLES/Failure",
                    "USA/General Dynamics/Partial Failure",
                    "PRK",
                    "USA/Boeing/Failure",
                    "FRA/ESA",
                    "USA/Virgin Orbit",
                    "KAZ/Starsem",
                    "KAZ/Starsem/Success",
                    "IRN/IRGC/Success",
                    "KAZ/Roscosmos/Partial Failure",
                    "NZL/Rocket Lab/Success",
                    "RUS/RVSN USSR/Success",
                    "RUS/RVSN USSR/Failure",
                    "IND/ISRO/Success",
                    "RUS/MITT/Success",
                    "RUS/SRC/Failure",
                    "KAZ/RVSN USSR",
                    "USA/AMBA/Success",
                    "CHN/i-Space",
                    "KAZ/ILS/Success",
                    "USA/Boeing",
                    "ISR/IAI/Failure",
                    "KEN/ASI/Success",
                    "USA/Exos",
                    "USA/Martin Marietta/Success",
                    "RUS/VKS RF/Success",
                    "KAZ/Roscosmos",
                    "PRK/KCST/Failure",
                    "KAZ/ILS/Partial Failure",
                    "BRA",
                    "USA/ULA",
                    "USA/Northrop",
                    "ISR",
                    "KAZ/Land Launch/Success",
                    "RUS/RVSN USSR/Partial Failure",
                    "JPN/ISAS/Success",
                    "KAZ/Roscosmos/Success",
                    "USA/NASA/Failure",
                    "USA/Virgin Orbit/Failure",
                    "USA/US Navy/Success",
                    "USA/US Navy/Failure",
                    "JPN/UT/Success",
                    "KEN/ASI",
                    "KAZ/RVSN USSR/Prelaunch Failure",
                    "USA/Boeing/Success",
                    "USA/Boeing/Partial Failure",
                    "CHN/CASC/Partial Failure",
                    "JPN/ISAS/Partial Failure",
                    "FRA/Arm??e de l'Air/Partial Failure",
                    "RUS/VKS RF/Failure",
                    "USA/SpaceX",
                    "RUS/VKS RF",
                    "IND/ISRO/Partial Failure",
                    "KAZ/Yuzhmash",
                    "USA/Douglas",
                    "USA/Sandia/Failure",
                    "USA/Sandia",
                    "CHN/OneSpace/Failure",
                    "USA/Martin Marietta/Failure",
                    "JPN/MHI/Failure",
                    "CHN/Landspace/Failure",
                    "Unknown/KARI/Failure",
                    "JPN/ISAS/Failure",
                    "FRA/ESA/Failure",
                    "KEN",
                    "FRA/CNES/Failure",
                    "CHN/CASC/Failure",
                    "FRA/Arianespace/Failure",
                    "USA/US Air Force/Failure",
                    "NZL/Rocket Lab/Failure",
                    "BRA/AEB/Prelaunch Failure",
                    "USA/SpaceX/Partial Failure",
                    "CHN/CASIC",
                    "CHN/CASC",
                    "FRA/Arianespace",
                    "BRA/AEB",
                    "KAZ/Yuzhmash/Success",
                    "KAZ/VKS RF/Success",
                    "KAZ/ILS",
                    "IRN/ISA",
                    "JPN/ISAS",
                    "RUS/SRC/Success",
                    "JPN/JAXA",
                    "AUS/RAE/Success",
                    "USA/Northrop/Partial Failure",
                    "KAZ/OKB-586/Success",
                    "RUS/Kosmotras",
                    "USA",
                    "CHN/Landspace",
                    "USA/ILS/Success",
                    "RUS/MITT",
                    "USA/General Dynamics/Success",
                    "CHN/ExPace/Success",
                    "USA/Douglas/Success",
                    "CHN/OneSpace",
                    "FRA/Arianespace/Success",
                    "FRA/CNES",
                    "USA/US Navy/Partial Failure",
                    "JPN/MHI/Success",
                    "BRA/AEB/Failure"
                  ],
                  "labels": [
                    "Unknown",
                    "Success",
                    "Success",
                    "Success",
                    "Success",
                    "OKB-586",
                    "Success",
                    "RAE",
                    "Success",
                    "Prelaunch Failure",
                    "CECLES",
                    "Partial Failure",
                    "Partial Failure",
                    "Roscosmos",
                    "Partial Failure",
                    "SRC",
                    "Partial Failure",
                    "Partial Failure",
                    "Partial Failure",
                    "Partial Failure",
                    "Success",
                    "UT",
                    "Success",
                    "Martin Marietta",
                    "Blue Origin",
                    "Arianespace",
                    "ExPace",
                    "AMBA",
                    "Success",
                    "General Dynamics",
                    "IRGC",
                    "Success",
                    "Success",
                    "Success",
                    "Success",
                    "Land Launch",
                    "Success",
                    "Success",
                    "Success",
                    "Success",
                    "Success",
                    "Success",
                    "Success",
                    "NASA",
                    "VKS RF",
                    "CECLES",
                    "Failure",
                    "Failure",
                    "Failure",
                    "Failure",
                    "Failure",
                    "Failure",
                    "Failure",
                    "IRN",
                    "JPN",
                    "CHN",
                    "Failure",
                    "Failure",
                    "IND",
                    "Failure",
                    "Failure",
                    "Failure",
                    "Failure",
                    "Failure",
                    "Failure",
                    "Failure",
                    "RUS",
                    "Failure",
                    "Failure",
                    "NZL",
                    "Sea Launch",
                    "EER",
                    "Partial Failure",
                    "US Navy",
                    "Success",
                    "Success",
                    "IAI",
                    "KCST",
                    "Success",
                    "RVSN USSR",
                    "AUS",
                    "KAZ",
                    "Partial Failure",
                    "Success",
                    "ISRO",
                    "Partial Failure",
                    "Kosmotras",
                    "Eurockot",
                    "Arm??e de l'Air",
                    "Success",
                    "Prelaunch Failure",
                    "Rocket Lab",
                    "Success",
                    "US Air Force",
                    "Yuzhmash",
                    "Failure",
                    "Success",
                    "MHI",
                    "Khrunichev",
                    "Partial Failure",
                    "Failure",
                    "Failure",
                    "Success",
                    "Failure",
                    "Lockheed",
                    "FRA",
                    "Partial Failure",
                    "Failure",
                    "ILS",
                    "Success",
                    "KARI",
                    "AMBA",
                    "Failure",
                    "Partial Failure",
                    "PRK",
                    "Failure",
                    "ESA",
                    "Virgin Orbit",
                    "Starsem",
                    "Success",
                    "Success",
                    "Partial Failure",
                    "Success",
                    "Success",
                    "Failure",
                    "Success",
                    "Success",
                    "Failure",
                    "RVSN USSR",
                    "Success",
                    "i-Space",
                    "Success",
                    "Boeing",
                    "Failure",
                    "Success",
                    "Exos",
                    "Success",
                    "Success",
                    "Roscosmos",
                    "Failure",
                    "Partial Failure",
                    "BRA",
                    "ULA",
                    "Northrop",
                    "ISR",
                    "Success",
                    "Partial Failure",
                    "Success",
                    "Success",
                    "Failure",
                    "Failure",
                    "Success",
                    "Failure",
                    "Success",
                    "ASI",
                    "Prelaunch Failure",
                    "Success",
                    "Partial Failure",
                    "Partial Failure",
                    "Partial Failure",
                    "Partial Failure",
                    "Failure",
                    "SpaceX",
                    "VKS RF",
                    "Partial Failure",
                    "Yuzhmash",
                    "Douglas",
                    "Failure",
                    "Sandia",
                    "Failure",
                    "Failure",
                    "Failure",
                    "Failure",
                    "Failure",
                    "Failure",
                    "Failure",
                    "KEN",
                    "Failure",
                    "Failure",
                    "Failure",
                    "Failure",
                    "Failure",
                    "Prelaunch Failure",
                    "Partial Failure",
                    "CASIC",
                    "CASC",
                    "Arianespace",
                    "AEB",
                    "Success",
                    "Success",
                    "ILS",
                    "ISA",
                    "ISAS",
                    "Success",
                    "JAXA",
                    "Success",
                    "Partial Failure",
                    "Success",
                    "Kosmotras",
                    "USA",
                    "Landspace",
                    "Success",
                    "MITT",
                    "Success",
                    "Success",
                    "Success",
                    "OneSpace",
                    "Success",
                    "CNES",
                    "Partial Failure",
                    "Success",
                    "Failure"
                  ],
                  "marker": {
                    "colors": [
                      "#636efa",
                      "#EF553B",
                      "#00cc96",
                      "#ab63fa",
                      "#ab63fa",
                      "#FFA15A",
                      "#FFA15A",
                      "#00cc96",
                      "#00cc96",
                      "#19d3f3",
                      "#00cc96",
                      "#FF6692",
                      "#19d3f3",
                      "#FF6692",
                      "#FFA15A",
                      "#FF6692",
                      "#19d3f3",
                      "#19d3f3",
                      "#B6E880",
                      "#19d3f3",
                      "#EF553B",
                      "#B6E880",
                      "#FF6692",
                      "#19d3f3",
                      "#19d3f3",
                      "#FFA15A",
                      "#ab63fa",
                      "#00cc96",
                      "#FF6692",
                      "#19d3f3",
                      "#FF97FF",
                      "#636efa",
                      "#FF6692",
                      "#19d3f3",
                      "#19d3f3",
                      "#FFA15A",
                      "#FF6692",
                      "#FFA15A",
                      "#FF6692",
                      "#FECB52",
                      "#B6E880",
                      "#FF97FF",
                      "#636efa",
                      "#19d3f3",
                      "#FFA15A",
                      "#EF553B",
                      "#B6E880",
                      "#FF6692",
                      "#FFA15A",
                      "#00cc96",
                      "#ab63fa",
                      "#19d3f3",
                      "#FF97FF",
                      "#FF97FF",
                      "#B6E880",
                      "#ab63fa",
                      "#FFA15A",
                      "#FF6692",
                      "#EF553B",
                      "#19d3f3",
                      "#B6E880",
                      "#EF553B",
                      "#FF6692",
                      "#FFA15A",
                      "#636efa",
                      "#19d3f3",
                      "#FF6692",
                      "#ab63fa",
                      "#EF553B",
                      "#00cc96",
                      "#636efa",
                      "#19d3f3",
                      "#EF553B",
                      "#19d3f3",
                      "#19d3f3",
                      "#ab63fa",
                      "#636efa",
                      "#FECB52",
                      "#19d3f3",
                      "#FF6692",
                      "#00cc96",
                      "#FFA15A",
                      "#19d3f3",
                      "#FFA15A",
                      "#EF553B",
                      "#FFA15A",
                      "#FFA15A",
                      "#FF6692",
                      "#EF553B",
                      "#19d3f3",
                      "#FF97FF",
                      "#00cc96",
                      "#EF553B",
                      "#19d3f3",
                      "#FF6692",
                      "#FFA15A",
                      "#19d3f3",
                      "#B6E880",
                      "#FF6692",
                      "#EF553B",
                      "#19d3f3",
                      "#19d3f3",
                      "#636efa",
                      "#19d3f3",
                      "#19d3f3",
                      "#EF553B",
                      "#19d3f3",
                      "#19d3f3",
                      "#19d3f3",
                      "#19d3f3",
                      "#636efa",
                      "#19d3f3",
                      "#00cc96",
                      "#19d3f3",
                      "#FECB52",
                      "#19d3f3",
                      "#EF553B",
                      "#19d3f3",
                      "#FFA15A",
                      "#FFA15A",
                      "#FF97FF",
                      "#FFA15A",
                      "#00cc96",
                      "#FF6692",
                      "#FF6692",
                      "#EF553B",
                      "#FF6692",
                      "#FF6692",
                      "#FFA15A",
                      "#19d3f3",
                      "#ab63fa",
                      "#FFA15A",
                      "#19d3f3",
                      "#636efa",
                      "#ab63fa",
                      "#19d3f3",
                      "#19d3f3",
                      "#FF6692",
                      "#FFA15A",
                      "#FECB52",
                      "#FFA15A",
                      "#FFA15A",
                      "#19d3f3",
                      "#19d3f3",
                      "#636efa",
                      "#FFA15A",
                      "#FF6692",
                      "#B6E880",
                      "#FFA15A",
                      "#19d3f3",
                      "#19d3f3",
                      "#19d3f3",
                      "#19d3f3",
                      "#B6E880",
                      "#ab63fa",
                      "#FFA15A",
                      "#19d3f3",
                      "#19d3f3",
                      "#ab63fa",
                      "#B6E880",
                      "#EF553B",
                      "#FF6692",
                      "#19d3f3",
                      "#FF6692",
                      "#EF553B",
                      "#FFA15A",
                      "#19d3f3",
                      "#19d3f3",
                      "#19d3f3",
                      "#ab63fa",
                      "#19d3f3",
                      "#B6E880",
                      "#ab63fa",
                      "#636efa",
                      "#B6E880",
                      "#EF553B",
                      "#ab63fa",
                      "#EF553B",
                      "#ab63fa",
                      "#EF553B",
                      "#19d3f3",
                      "#00cc96",
                      "#FFA15A",
                      "#19d3f3",
                      "#ab63fa",
                      "#ab63fa",
                      "#EF553B",
                      "#FFA15A",
                      "#FFA15A",
                      "#FFA15A",
                      "#FFA15A",
                      "#FF97FF",
                      "#B6E880",
                      "#FF6692",
                      "#B6E880",
                      "#00cc96",
                      "#19d3f3",
                      "#FFA15A",
                      "#FF6692",
                      "#19d3f3",
                      "#ab63fa",
                      "#19d3f3",
                      "#FF6692",
                      "#19d3f3",
                      "#ab63fa",
                      "#19d3f3",
                      "#ab63fa",
                      "#EF553B",
                      "#EF553B",
                      "#19d3f3",
                      "#B6E880",
                      "#FFA15A"
                    ]
                  },
                  "name": "",
                  "parents": [
                    "",
                    "FRA/CNES",
                    "AUS/CECLES",
                    "CHN/CASIC",
                    "CHN/CASC",
                    "KAZ",
                    "KAZ/Arianespace",
                    "AUS",
                    "AUS/AMBA",
                    "USA/SpaceX",
                    "AUS",
                    "RUS/VKS RF",
                    "USA/ULA",
                    "RUS",
                    "KAZ/RVSN USSR",
                    "RUS",
                    "USA/NASA",
                    "USA/Martin Marietta",
                    "JPN/MHI",
                    "USA/AMBA",
                    "FRA/ESA",
                    "JPN",
                    "RUS/Eurockot",
                    "USA",
                    "USA",
                    "KAZ",
                    "CHN",
                    "AUS",
                    "RUS/Yuzhmash",
                    "USA",
                    "IRN",
                    "Unknown/Sea Launch",
                    "RUS/Roscosmos",
                    "USA/Northrop",
                    "USA/NASA",
                    "KAZ",
                    "RUS/Kosmotras",
                    "KAZ/Kosmotras",
                    "RUS/Khrunichev",
                    "PRK/KCST",
                    "JPN/JAXA",
                    "IRN/ISA",
                    "ISR/IAI",
                    "USA",
                    "KAZ",
                    "FRA",
                    "JPN/UT",
                    "RUS/Eurockot",
                    "KAZ/RVSN USSR",
                    "AUS/RAE",
                    "CHN/ExPace",
                    "USA/General Dynamics",
                    "IRN/ISA",
                    "",
                    "",
                    "",
                    "KAZ/VKS RF",
                    "RUS/MITT",
                    "",
                    "USA/Lockheed",
                    "JPN/JAXA",
                    "IND/ISRO",
                    "RUS/Roscosmos",
                    "KAZ/Kosmotras",
                    "Unknown/Sea Launch",
                    "USA/AMBA",
                    "",
                    "CHN/CASIC",
                    "FRA/CECLES",
                    "",
                    "Unknown",
                    "USA",
                    "FRA/Arianespace",
                    "USA",
                    "USA/Blue Origin",
                    "CHN/i-Space",
                    "ISR",
                    "PRK",
                    "USA/US Air Force",
                    "RUS",
                    "",
                    "",
                    "USA/US Air Force",
                    "KAZ/RVSN USSR",
                    "IND",
                    "KAZ/Land Launch",
                    "KAZ",
                    "RUS",
                    "FRA",
                    "USA/SpaceX",
                    "IRN/ISA",
                    "NZL",
                    "FRA/Arm??e de l'Air",
                    "USA",
                    "RUS",
                    "KAZ/Roscosmos",
                    "USA/Lockheed",
                    "JPN",
                    "RUS",
                    "FRA/ESA",
                    "USA/Exos",
                    "USA/EER",
                    "Unknown/KARI",
                    "USA/Northrop",
                    "USA",
                    "",
                    "USA/Exos",
                    "USA/SpaceX",
                    "USA",
                    "USA/ULA",
                    "Unknown",
                    "USA",
                    "AUS/CECLES",
                    "USA/General Dynamics",
                    "",
                    "USA/Boeing",
                    "FRA",
                    "USA",
                    "KAZ",
                    "KAZ/Starsem",
                    "IRN/IRGC",
                    "KAZ/Roscosmos",
                    "NZL/Rocket Lab",
                    "RUS/RVSN USSR",
                    "RUS/RVSN USSR",
                    "IND/ISRO",
                    "RUS/MITT",
                    "RUS/SRC",
                    "KAZ",
                    "USA/AMBA",
                    "CHN",
                    "KAZ/ILS",
                    "USA",
                    "ISR/IAI",
                    "KEN/ASI",
                    "USA",
                    "USA/Martin Marietta",
                    "RUS/VKS RF",
                    "KAZ",
                    "PRK/KCST",
                    "KAZ/ILS",
                    "",
                    "USA",
                    "USA",
                    "",
                    "KAZ/Land Launch",
                    "RUS/RVSN USSR",
                    "JPN/ISAS",
                    "KAZ/Roscosmos",
                    "USA/NASA",
                    "USA/Virgin Orbit",
                    "USA/US Navy",
                    "USA/US Navy",
                    "JPN/UT",
                    "KEN",
                    "KAZ/RVSN USSR",
                    "USA/Boeing",
                    "USA/Boeing",
                    "CHN/CASC",
                    "JPN/ISAS",
                    "FRA/Arm??e de l'Air",
                    "RUS/VKS RF",
                    "USA",
                    "RUS",
                    "IND/ISRO",
                    "KAZ",
                    "USA",
                    "USA/Sandia",
                    "USA",
                    "CHN/OneSpace",
                    "USA/Martin Marietta",
                    "JPN/MHI",
                    "CHN/Landspace",
                    "Unknown/KARI",
                    "JPN/ISAS",
                    "FRA/ESA",
                    "",
                    "FRA/CNES",
                    "CHN/CASC",
                    "FRA/Arianespace",
                    "USA/US Air Force",
                    "NZL/Rocket Lab",
                    "BRA/AEB",
                    "USA/SpaceX",
                    "CHN",
                    "CHN",
                    "FRA",
                    "BRA",
                    "KAZ/Yuzhmash",
                    "KAZ/VKS RF",
                    "KAZ",
                    "IRN",
                    "JPN",
                    "RUS/SRC",
                    "JPN",
                    "AUS/RAE",
                    "USA/Northrop",
                    "KAZ/OKB-586",
                    "RUS",
                    "",
                    "CHN",
                    "USA/ILS",
                    "RUS",
                    "USA/General Dynamics",
                    "CHN/ExPace",
                    "USA/Douglas",
                    "CHN",
                    "FRA/Arianespace",
                    "FRA",
                    "USA/US Navy",
                    "JPN/MHI",
                    "BRA/AEB"
                  ],
                  "type": "sunburst",
                  "values": [
                    39,
                    6,
                    1,
                    3,
                    231,
                    2,
                    2,
                    2,
                    1,
                    1,
                    3,
                    6,
                    1,
                    8,
                    17,
                    3,
                    6,
                    3,
                    2,
                    1,
                    9,
                    5,
                    12,
                    114,
                    12,
                    2,
                    10,
                    1,
                    1,
                    251,
                    1,
                    33,
                    7,
                    74,
                    186,
                    7,
                    10,
                    11,
                    1,
                    2,
                    6,
                    4,
                    9,
                    203,
                    44,
                    1,
                    4,
                    1,
                    66,
                    1,
                    1,
                    37,
                    8,
                    14,
                    126,
                    269,
                    3,
                    1,
                    76,
                    5,
                    1,
                    8,
                    1,
                    1,
                    3,
                    3,
                    1398,
                    2,
                    1,
                    13,
                    36,
                    1,
                    3,
                    17,
                    12,
                    1,
                    11,
                    5,
                    129,
                    1198,
                    6,
                    701,
                    2,
                    495,
                    76,
                    1,
                    12,
                    13,
                    4,
                    94,
                    1,
                    13,
                    3,
                    161,
                    1,
                    2,
                    74,
                    84,
                    1,
                    1,
                    1,
                    1,
                    1,
                    7,
                    79,
                    303,
                    3,
                    4,
                    40,
                    139,
                    3,
                    7,
                    2,
                    11,
                    5,
                    3,
                    13,
                    1,
                    1,
                    1,
                    1,
                    1,
                    11,
                    1119,
                    55,
                    63,
                    6,
                    1,
                    579,
                    3,
                    1,
                    5,
                    136,
                    2,
                    9,
                    4,
                    100,
                    147,
                    47,
                    3,
                    1,
                    3,
                    140,
                    83,
                    11,
                    6,
                    24,
                    26,
                    44,
                    11,
                    1,
                    2,
                    14,
                    1,
                    9,
                    1,
                    131,
                    2,
                    6,
                    1,
                    1,
                    4,
                    100,
                    157,
                    5,
                    1,
                    1,
                    1,
                    1,
                    1,
                    11,
                    2,
                    1,
                    2,
                    3,
                    3,
                    9,
                    2,
                    14,
                    7,
                    30,
                    2,
                    1,
                    1,
                    5,
                    251,
                    277,
                    3,
                    1,
                    41,
                    6,
                    13,
                    30,
                    2,
                    7,
                    1,
                    2,
                    2,
                    10,
                    1351,
                    1,
                    40,
                    7,
                    203,
                    9,
                    1,
                    1,
                    267,
                    8,
                    1,
                    80,
                    2
                  ]
                }
              ],
              "layout": {
                "height": 600,
                "legend": {
                  "tracegroupgap": 0
                },
                "margin": {
                  "t": 60
                },
                "paper_bgcolor": "#323130",
                "template": {
                  "data": {
                    "bar": [
                      {
                        "error_x": {
                          "color": "#2a3f5f"
                        },
                        "error_y": {
                          "color": "#2a3f5f"
                        },
                        "marker": {
                          "line": {
                            "color": "#E5ECF6",
                            "width": 0.5
                          },
                          "pattern": {
                            "fillmode": "overlay",
                            "size": 10,
                            "solidity": 0.2
                          }
                        },
                        "type": "bar"
                      }
                    ],
                    "barpolar": [
                      {
                        "marker": {
                          "line": {
                            "color": "#E5ECF6",
                            "width": 0.5
                          },
                          "pattern": {
                            "fillmode": "overlay",
                            "size": 10,
                            "solidity": 0.2
                          }
                        },
                        "type": "barpolar"
                      }
                    ],
                    "carpet": [
                      {
                        "aaxis": {
                          "endlinecolor": "#2a3f5f",
                          "gridcolor": "white",
                          "linecolor": "white",
                          "minorgridcolor": "white",
                          "startlinecolor": "#2a3f5f"
                        },
                        "baxis": {
                          "endlinecolor": "#2a3f5f",
                          "gridcolor": "white",
                          "linecolor": "white",
                          "minorgridcolor": "white",
                          "startlinecolor": "#2a3f5f"
                        },
                        "type": "carpet"
                      }
                    ],
                    "choropleth": [
                      {
                        "colorbar": {
                          "outlinewidth": 0,
                          "ticks": ""
                        },
                        "type": "choropleth"
                      }
                    ],
                    "contour": [
                      {
                        "colorbar": {
                          "outlinewidth": 0,
                          "ticks": ""
                        },
                        "colorscale": [
                          [
                            0,
                            "#0d0887"
                          ],
                          [
                            0.1111111111111111,
                            "#46039f"
                          ],
                          [
                            0.2222222222222222,
                            "#7201a8"
                          ],
                          [
                            0.3333333333333333,
                            "#9c179e"
                          ],
                          [
                            0.4444444444444444,
                            "#bd3786"
                          ],
                          [
                            0.5555555555555556,
                            "#d8576b"
                          ],
                          [
                            0.6666666666666666,
                            "#ed7953"
                          ],
                          [
                            0.7777777777777778,
                            "#fb9f3a"
                          ],
                          [
                            0.8888888888888888,
                            "#fdca26"
                          ],
                          [
                            1,
                            "#f0f921"
                          ]
                        ],
                        "type": "contour"
                      }
                    ],
                    "contourcarpet": [
                      {
                        "colorbar": {
                          "outlinewidth": 0,
                          "ticks": ""
                        },
                        "type": "contourcarpet"
                      }
                    ],
                    "heatmap": [
                      {
                        "colorbar": {
                          "outlinewidth": 0,
                          "ticks": ""
                        },
                        "colorscale": [
                          [
                            0,
                            "#0d0887"
                          ],
                          [
                            0.1111111111111111,
                            "#46039f"
                          ],
                          [
                            0.2222222222222222,
                            "#7201a8"
                          ],
                          [
                            0.3333333333333333,
                            "#9c179e"
                          ],
                          [
                            0.4444444444444444,
                            "#bd3786"
                          ],
                          [
                            0.5555555555555556,
                            "#d8576b"
                          ],
                          [
                            0.6666666666666666,
                            "#ed7953"
                          ],
                          [
                            0.7777777777777778,
                            "#fb9f3a"
                          ],
                          [
                            0.8888888888888888,
                            "#fdca26"
                          ],
                          [
                            1,
                            "#f0f921"
                          ]
                        ],
                        "type": "heatmap"
                      }
                    ],
                    "heatmapgl": [
                      {
                        "colorbar": {
                          "outlinewidth": 0,
                          "ticks": ""
                        },
                        "colorscale": [
                          [
                            0,
                            "#0d0887"
                          ],
                          [
                            0.1111111111111111,
                            "#46039f"
                          ],
                          [
                            0.2222222222222222,
                            "#7201a8"
                          ],
                          [
                            0.3333333333333333,
                            "#9c179e"
                          ],
                          [
                            0.4444444444444444,
                            "#bd3786"
                          ],
                          [
                            0.5555555555555556,
                            "#d8576b"
                          ],
                          [
                            0.6666666666666666,
                            "#ed7953"
                          ],
                          [
                            0.7777777777777778,
                            "#fb9f3a"
                          ],
                          [
                            0.8888888888888888,
                            "#fdca26"
                          ],
                          [
                            1,
                            "#f0f921"
                          ]
                        ],
                        "type": "heatmapgl"
                      }
                    ],
                    "histogram": [
                      {
                        "marker": {
                          "pattern": {
                            "fillmode": "overlay",
                            "size": 10,
                            "solidity": 0.2
                          }
                        },
                        "type": "histogram"
                      }
                    ],
                    "histogram2d": [
                      {
                        "colorbar": {
                          "outlinewidth": 0,
                          "ticks": ""
                        },
                        "colorscale": [
                          [
                            0,
                            "#0d0887"
                          ],
                          [
                            0.1111111111111111,
                            "#46039f"
                          ],
                          [
                            0.2222222222222222,
                            "#7201a8"
                          ],
                          [
                            0.3333333333333333,
                            "#9c179e"
                          ],
                          [
                            0.4444444444444444,
                            "#bd3786"
                          ],
                          [
                            0.5555555555555556,
                            "#d8576b"
                          ],
                          [
                            0.6666666666666666,
                            "#ed7953"
                          ],
                          [
                            0.7777777777777778,
                            "#fb9f3a"
                          ],
                          [
                            0.8888888888888888,
                            "#fdca26"
                          ],
                          [
                            1,
                            "#f0f921"
                          ]
                        ],
                        "type": "histogram2d"
                      }
                    ],
                    "histogram2dcontour": [
                      {
                        "colorbar": {
                          "outlinewidth": 0,
                          "ticks": ""
                        },
                        "colorscale": [
                          [
                            0,
                            "#0d0887"
                          ],
                          [
                            0.1111111111111111,
                            "#46039f"
                          ],
                          [
                            0.2222222222222222,
                            "#7201a8"
                          ],
                          [
                            0.3333333333333333,
                            "#9c179e"
                          ],
                          [
                            0.4444444444444444,
                            "#bd3786"
                          ],
                          [
                            0.5555555555555556,
                            "#d8576b"
                          ],
                          [
                            0.6666666666666666,
                            "#ed7953"
                          ],
                          [
                            0.7777777777777778,
                            "#fb9f3a"
                          ],
                          [
                            0.8888888888888888,
                            "#fdca26"
                          ],
                          [
                            1,
                            "#f0f921"
                          ]
                        ],
                        "type": "histogram2dcontour"
                      }
                    ],
                    "mesh3d": [
                      {
                        "colorbar": {
                          "outlinewidth": 0,
                          "ticks": ""
                        },
                        "type": "mesh3d"
                      }
                    ],
                    "parcoords": [
                      {
                        "line": {
                          "colorbar": {
                            "outlinewidth": 0,
                            "ticks": ""
                          }
                        },
                        "type": "parcoords"
                      }
                    ],
                    "pie": [
                      {
                        "automargin": true,
                        "type": "pie"
                      }
                    ],
                    "scatter": [
                      {
                        "fillpattern": {
                          "fillmode": "overlay",
                          "size": 10,
                          "solidity": 0.2
                        },
                        "type": "scatter"
                      }
                    ],
                    "scatter3d": [
                      {
                        "line": {
                          "colorbar": {
                            "outlinewidth": 0,
                            "ticks": ""
                          }
                        },
                        "marker": {
                          "colorbar": {
                            "outlinewidth": 0,
                            "ticks": ""
                          }
                        },
                        "type": "scatter3d"
                      }
                    ],
                    "scattercarpet": [
                      {
                        "marker": {
                          "colorbar": {
                            "outlinewidth": 0,
                            "ticks": ""
                          }
                        },
                        "type": "scattercarpet"
                      }
                    ],
                    "scattergeo": [
                      {
                        "marker": {
                          "colorbar": {
                            "outlinewidth": 0,
                            "ticks": ""
                          }
                        },
                        "type": "scattergeo"
                      }
                    ],
                    "scattergl": [
                      {
                        "marker": {
                          "colorbar": {
                            "outlinewidth": 0,
                            "ticks": ""
                          }
                        },
                        "type": "scattergl"
                      }
                    ],
                    "scattermapbox": [
                      {
                        "marker": {
                          "colorbar": {
                            "outlinewidth": 0,
                            "ticks": ""
                          }
                        },
                        "type": "scattermapbox"
                      }
                    ],
                    "scatterpolar": [
                      {
                        "marker": {
                          "colorbar": {
                            "outlinewidth": 0,
                            "ticks": ""
                          }
                        },
                        "type": "scatterpolar"
                      }
                    ],
                    "scatterpolargl": [
                      {
                        "marker": {
                          "colorbar": {
                            "outlinewidth": 0,
                            "ticks": ""
                          }
                        },
                        "type": "scatterpolargl"
                      }
                    ],
                    "scatterternary": [
                      {
                        "marker": {
                          "colorbar": {
                            "outlinewidth": 0,
                            "ticks": ""
                          }
                        },
                        "type": "scatterternary"
                      }
                    ],
                    "surface": [
                      {
                        "colorbar": {
                          "outlinewidth": 0,
                          "ticks": ""
                        },
                        "colorscale": [
                          [
                            0,
                            "#0d0887"
                          ],
                          [
                            0.1111111111111111,
                            "#46039f"
                          ],
                          [
                            0.2222222222222222,
                            "#7201a8"
                          ],
                          [
                            0.3333333333333333,
                            "#9c179e"
                          ],
                          [
                            0.4444444444444444,
                            "#bd3786"
                          ],
                          [
                            0.5555555555555556,
                            "#d8576b"
                          ],
                          [
                            0.6666666666666666,
                            "#ed7953"
                          ],
                          [
                            0.7777777777777778,
                            "#fb9f3a"
                          ],
                          [
                            0.8888888888888888,
                            "#fdca26"
                          ],
                          [
                            1,
                            "#f0f921"
                          ]
                        ],
                        "type": "surface"
                      }
                    ],
                    "table": [
                      {
                        "cells": {
                          "fill": {
                            "color": "#EBF0F8"
                          },
                          "line": {
                            "color": "white"
                          }
                        },
                        "header": {
                          "fill": {
                            "color": "#C8D4E3"
                          },
                          "line": {
                            "color": "white"
                          }
                        },
                        "type": "table"
                      }
                    ]
                  },
                  "layout": {
                    "annotationdefaults": {
                      "arrowcolor": "#2a3f5f",
                      "arrowhead": 0,
                      "arrowwidth": 1
                    },
                    "autotypenumbers": "strict",
                    "coloraxis": {
                      "colorbar": {
                        "outlinewidth": 0,
                        "ticks": ""
                      }
                    },
                    "colorscale": {
                      "diverging": [
                        [
                          0,
                          "#8e0152"
                        ],
                        [
                          0.1,
                          "#c51b7d"
                        ],
                        [
                          0.2,
                          "#de77ae"
                        ],
                        [
                          0.3,
                          "#f1b6da"
                        ],
                        [
                          0.4,
                          "#fde0ef"
                        ],
                        [
                          0.5,
                          "#f7f7f7"
                        ],
                        [
                          0.6,
                          "#e6f5d0"
                        ],
                        [
                          0.7,
                          "#b8e186"
                        ],
                        [
                          0.8,
                          "#7fbc41"
                        ],
                        [
                          0.9,
                          "#4d9221"
                        ],
                        [
                          1,
                          "#276419"
                        ]
                      ],
                      "sequential": [
                        [
                          0,
                          "#0d0887"
                        ],
                        [
                          0.1111111111111111,
                          "#46039f"
                        ],
                        [
                          0.2222222222222222,
                          "#7201a8"
                        ],
                        [
                          0.3333333333333333,
                          "#9c179e"
                        ],
                        [
                          0.4444444444444444,
                          "#bd3786"
                        ],
                        [
                          0.5555555555555556,
                          "#d8576b"
                        ],
                        [
                          0.6666666666666666,
                          "#ed7953"
                        ],
                        [
                          0.7777777777777778,
                          "#fb9f3a"
                        ],
                        [
                          0.8888888888888888,
                          "#fdca26"
                        ],
                        [
                          1,
                          "#f0f921"
                        ]
                      ],
                      "sequentialminus": [
                        [
                          0,
                          "#0d0887"
                        ],
                        [
                          0.1111111111111111,
                          "#46039f"
                        ],
                        [
                          0.2222222222222222,
                          "#7201a8"
                        ],
                        [
                          0.3333333333333333,
                          "#9c179e"
                        ],
                        [
                          0.4444444444444444,
                          "#bd3786"
                        ],
                        [
                          0.5555555555555556,
                          "#d8576b"
                        ],
                        [
                          0.6666666666666666,
                          "#ed7953"
                        ],
                        [
                          0.7777777777777778,
                          "#fb9f3a"
                        ],
                        [
                          0.8888888888888888,
                          "#fdca26"
                        ],
                        [
                          1,
                          "#f0f921"
                        ]
                      ]
                    },
                    "colorway": [
                      "#636efa",
                      "#EF553B",
                      "#00cc96",
                      "#ab63fa",
                      "#FFA15A",
                      "#19d3f3",
                      "#FF6692",
                      "#B6E880",
                      "#FF97FF",
                      "#FECB52"
                    ],
                    "font": {
                      "color": "#2a3f5f"
                    },
                    "geo": {
                      "bgcolor": "white",
                      "lakecolor": "white",
                      "landcolor": "#E5ECF6",
                      "showlakes": true,
                      "showland": true,
                      "subunitcolor": "white"
                    },
                    "hoverlabel": {
                      "align": "left"
                    },
                    "hovermode": "closest",
                    "mapbox": {
                      "style": "light"
                    },
                    "paper_bgcolor": "white",
                    "plot_bgcolor": "#E5ECF6",
                    "polar": {
                      "angularaxis": {
                        "gridcolor": "white",
                        "linecolor": "white",
                        "ticks": ""
                      },
                      "bgcolor": "#E5ECF6",
                      "radialaxis": {
                        "gridcolor": "white",
                        "linecolor": "white",
                        "ticks": ""
                      }
                    },
                    "scene": {
                      "xaxis": {
                        "backgroundcolor": "#E5ECF6",
                        "gridcolor": "white",
                        "gridwidth": 2,
                        "linecolor": "white",
                        "showbackground": true,
                        "ticks": "",
                        "zerolinecolor": "white"
                      },
                      "yaxis": {
                        "backgroundcolor": "#E5ECF6",
                        "gridcolor": "white",
                        "gridwidth": 2,
                        "linecolor": "white",
                        "showbackground": true,
                        "ticks": "",
                        "zerolinecolor": "white"
                      },
                      "zaxis": {
                        "backgroundcolor": "#E5ECF6",
                        "gridcolor": "white",
                        "gridwidth": 2,
                        "linecolor": "white",
                        "showbackground": true,
                        "ticks": "",
                        "zerolinecolor": "white"
                      }
                    },
                    "shapedefaults": {
                      "line": {
                        "color": "#2a3f5f"
                      }
                    },
                    "ternary": {
                      "aaxis": {
                        "gridcolor": "white",
                        "linecolor": "white",
                        "ticks": ""
                      },
                      "baxis": {
                        "gridcolor": "white",
                        "linecolor": "white",
                        "ticks": ""
                      },
                      "bgcolor": "#E5ECF6",
                      "caxis": {
                        "gridcolor": "white",
                        "linecolor": "white",
                        "ticks": ""
                      }
                    },
                    "title": {
                      "x": 0.05
                    },
                    "xaxis": {
                      "automargin": true,
                      "gridcolor": "white",
                      "linecolor": "white",
                      "ticks": "",
                      "title": {
                        "standoff": 15
                      },
                      "zerolinecolor": "white",
                      "zerolinewidth": 2
                    },
                    "yaxis": {
                      "automargin": true,
                      "gridcolor": "white",
                      "linecolor": "white",
                      "ticks": "",
                      "title": {
                        "standoff": 15
                      },
                      "zerolinecolor": "white",
                      "zerolinewidth": 2
                    }
                  }
                },
                "title": {
                  "font": {
                    "color": "white"
                  },
                  "text": "Sunburst Chart of countries, organisations and status missions"
                },
                "width": 1000
              }
            }
          },
          "metadata": {},
          "output_type": "display_data"
        }
      ],
      "source": [
        "fig = px.sunburst(\n",
        "    df_data,\n",
        "    path=['Country', 'Organisation', 'Mission_Status'],\n",
        "    color=\"Country\",\n",
        "    width=1000,\n",
        "    height=600\n",
        ")\n",
        "\n",
        "fig.update_layout(\n",
        "    title=\"Sunburst Chart of countries, organisations and status missions\",\n",
        "    titlefont=dict(color=\"white\"),\n",
        "    paper_bgcolor=\"#323130\"\n",
        ")\n",
        "\n",
        "fig.show()"
      ]
    },
    {
      "cell_type": "markdown",
      "metadata": {
        "id": "70pG1BCZa-qY",
        "papermill": {
          "duration": 0.062712,
          "end_time": "2020-10-20T21:34:07.951200",
          "exception": false,
          "start_time": "2020-10-20T21:34:07.888488",
          "status": "completed"
        },
        "tags": []
      },
      "source": [
        "# Analyse the Total Amount of Money Spent by Organisation on Space Missions"
      ]
    },
    {
      "cell_type": "code",
      "execution_count": null,
      "metadata": {
        "id": "IaJYxwEVpKHy"
      },
      "outputs": [],
      "source": []
    },
    {
      "cell_type": "code",
      "execution_count": null,
      "metadata": {
        "id": "orIFf-appPDL"
      },
      "outputs": [],
      "source": []
    },
    {
      "cell_type": "code",
      "execution_count": null,
      "metadata": {
        "id": "86OMPfpEpO7R"
      },
      "outputs": [],
      "source": []
    },
    {
      "cell_type": "markdown",
      "metadata": {
        "id": "DpsWkPxzpPXs"
      },
      "source": [
        "# Analyse the Amount of Money Spent by Organisation per Launch"
      ]
    },
    {
      "cell_type": "code",
      "execution_count": null,
      "metadata": {
        "id": "opYJ6GiRpTk5"
      },
      "outputs": [],
      "source": []
    },
    {
      "cell_type": "code",
      "execution_count": null,
      "metadata": {
        "id": "VEkHzAk2pTvj"
      },
      "outputs": [],
      "source": []
    },
    {
      "cell_type": "code",
      "execution_count": null,
      "metadata": {
        "id": "R5rFf501pKXD"
      },
      "outputs": [],
      "source": []
    },
    {
      "cell_type": "markdown",
      "metadata": {
        "id": "yRa1BbPoa-qf",
        "papermill": {
          "duration": 0.042662,
          "end_time": "2020-10-20T21:34:09.943196",
          "exception": false,
          "start_time": "2020-10-20T21:34:09.900534",
          "status": "completed"
        },
        "tags": []
      },
      "source": [
        "# Chart the Number of Launches per Year"
      ]
    },
    {
      "cell_type": "code",
      "execution_count": null,
      "metadata": {
        "id": "_9FohVh3pcAJ"
      },
      "outputs": [],
      "source": []
    },
    {
      "cell_type": "code",
      "execution_count": null,
      "metadata": {
        "id": "b2pggcZBpb4x"
      },
      "outputs": [],
      "source": []
    },
    {
      "cell_type": "markdown",
      "metadata": {
        "id": "NomJVLi3tIaM"
      },
      "source": [
        "# Chart the Number of Launches Month-on-Month until the Present\n",
        "\n",
        "Which month has seen the highest number of launches in all time? Superimpose a rolling average on the month on month time series chart. "
      ]
    },
    {
      "cell_type": "code",
      "execution_count": null,
      "metadata": {
        "id": "H1N2aBs5tH9z"
      },
      "outputs": [],
      "source": []
    },
    {
      "cell_type": "code",
      "execution_count": null,
      "metadata": {
        "id": "pfw0aX1lpdRv"
      },
      "outputs": [],
      "source": []
    },
    {
      "cell_type": "markdown",
      "metadata": {
        "id": "t-avMIZoa-qh",
        "papermill": {
          "duration": 0.044409,
          "end_time": "2020-10-20T21:34:10.162592",
          "exception": false,
          "start_time": "2020-10-20T21:34:10.118183",
          "status": "completed"
        },
        "tags": []
      },
      "source": [
        "# Launches per Month: Which months are most popular and least popular for launches?\n",
        "\n",
        "Some months have better weather than others. Which time of year seems to be best for space missions?"
      ]
    },
    {
      "cell_type": "code",
      "execution_count": null,
      "metadata": {
        "id": "zmtp5uBHppFG"
      },
      "outputs": [],
      "source": []
    },
    {
      "cell_type": "code",
      "execution_count": null,
      "metadata": {
        "id": "fnk2m_cpppJo"
      },
      "outputs": [],
      "source": []
    },
    {
      "cell_type": "markdown",
      "metadata": {
        "id": "dPQ_N_sfa-qo",
        "papermill": {
          "duration": 0.067915,
          "end_time": "2020-10-20T21:34:11.122539",
          "exception": false,
          "start_time": "2020-10-20T21:34:11.054624",
          "status": "completed"
        },
        "tags": []
      },
      "source": [
        "# How has the Launch Price varied Over Time? \n",
        "\n",
        "Create a line chart that shows the average price of rocket launches over time. "
      ]
    },
    {
      "cell_type": "code",
      "execution_count": null,
      "metadata": {
        "id": "hFc-2M5-qCrv"
      },
      "outputs": [],
      "source": []
    },
    {
      "cell_type": "code",
      "execution_count": null,
      "metadata": {
        "id": "ggYFiAsEqC6J"
      },
      "outputs": [],
      "source": []
    },
    {
      "cell_type": "markdown",
      "metadata": {
        "id": "8OYrWyiOa-qs",
        "papermill": {
          "duration": 0.047152,
          "end_time": "2020-10-20T21:34:11.681371",
          "exception": false,
          "start_time": "2020-10-20T21:34:11.634219",
          "status": "completed"
        },
        "tags": []
      },
      "source": [
        "# Chart the Number of Launches over Time by the Top 10 Organisations. \n",
        "\n",
        "How has the dominance of launches changed over time between the different players? "
      ]
    },
    {
      "cell_type": "code",
      "execution_count": null,
      "metadata": {
        "id": "RcsrPPpAqVFj"
      },
      "outputs": [],
      "source": []
    },
    {
      "cell_type": "code",
      "execution_count": null,
      "metadata": {
        "id": "1IgfafiyqWEe"
      },
      "outputs": [],
      "source": []
    },
    {
      "cell_type": "code",
      "execution_count": null,
      "metadata": {
        "id": "akCDKT8CqVjG"
      },
      "outputs": [],
      "source": []
    },
    {
      "cell_type": "markdown",
      "metadata": {
        "id": "6Cm8_ch6a-q7",
        "papermill": {
          "duration": 0.052399,
          "end_time": "2020-10-20T21:34:13.756781",
          "exception": false,
          "start_time": "2020-10-20T21:34:13.704382",
          "status": "completed"
        },
        "tags": []
      },
      "source": [
        "# Cold War Space Race: USA vs USSR\n",
        "\n",
        "The cold war lasted from the start of the dataset up until 1991. "
      ]
    },
    {
      "cell_type": "code",
      "execution_count": null,
      "metadata": {
        "id": "AcE_U8csrICL"
      },
      "outputs": [],
      "source": []
    },
    {
      "cell_type": "code",
      "execution_count": null,
      "metadata": {
        "id": "cOe_t4OmrHr9"
      },
      "outputs": [],
      "source": []
    },
    {
      "cell_type": "markdown",
      "metadata": {
        "id": "Os-3A5vLa-q9",
        "papermill": {
          "duration": 0.054318,
          "end_time": "2020-10-20T21:34:14.089604",
          "exception": false,
          "start_time": "2020-10-20T21:34:14.035286",
          "status": "completed"
        },
        "tags": []
      },
      "source": [
        "## Create a Plotly Pie Chart comparing the total number of launches of the USSR and the USA\n",
        "\n",
        "Hint: Remember to include former Soviet Republics like Kazakhstan when analysing the total number of launches. "
      ]
    },
    {
      "cell_type": "code",
      "execution_count": null,
      "metadata": {
        "id": "1irc6_W9rD59"
      },
      "outputs": [],
      "source": []
    },
    {
      "cell_type": "code",
      "execution_count": null,
      "metadata": {
        "id": "OhhuLQycrEE-"
      },
      "outputs": [],
      "source": []
    },
    {
      "cell_type": "markdown",
      "metadata": {
        "id": "0C29Zz4xa-rA",
        "papermill": {
          "duration": 0.052921,
          "end_time": "2020-10-20T21:34:14.340085",
          "exception": false,
          "start_time": "2020-10-20T21:34:14.287164",
          "status": "completed"
        },
        "tags": []
      },
      "source": [
        "## Create a Chart that Shows the Total Number of Launches Year-On-Year by the Two Superpowers"
      ]
    },
    {
      "cell_type": "code",
      "execution_count": null,
      "metadata": {
        "id": "9ISKvOiCrS73"
      },
      "outputs": [],
      "source": []
    },
    {
      "cell_type": "code",
      "execution_count": null,
      "metadata": {
        "id": "oCc7VTzGrTK-"
      },
      "outputs": [],
      "source": []
    },
    {
      "cell_type": "markdown",
      "metadata": {
        "id": "eWv4iZmra-rE",
        "papermill": {
          "duration": 0.079311,
          "end_time": "2020-10-20T21:34:14.933058",
          "exception": false,
          "start_time": "2020-10-20T21:34:14.853747",
          "status": "completed"
        },
        "tags": []
      },
      "source": [
        "## Chart the Total Number of Mission Failures Year on Year."
      ]
    },
    {
      "cell_type": "code",
      "execution_count": null,
      "metadata": {
        "id": "I-Zss5-Mre-4"
      },
      "outputs": [],
      "source": []
    },
    {
      "cell_type": "code",
      "execution_count": null,
      "metadata": {
        "id": "7Ps9Iq_crfYl"
      },
      "outputs": [],
      "source": []
    },
    {
      "cell_type": "markdown",
      "metadata": {
        "id": "XNp-NkrJriEF"
      },
      "source": [
        "## Chart the Percentage of Failures over Time\n",
        "\n",
        "Did failures go up or down over time? Did the countries get better at minimising risk and improving their chances of success over time? "
      ]
    },
    {
      "cell_type": "code",
      "execution_count": null,
      "metadata": {
        "id": "Kj3-zsI0rhOS"
      },
      "outputs": [],
      "source": []
    },
    {
      "cell_type": "code",
      "execution_count": null,
      "metadata": {
        "id": "nxnnzx89rwvH"
      },
      "outputs": [],
      "source": []
    },
    {
      "cell_type": "code",
      "execution_count": null,
      "metadata": {
        "id": "_TPWaaJ5r1Fz"
      },
      "outputs": [],
      "source": []
    },
    {
      "cell_type": "markdown",
      "metadata": {
        "id": "S5aOC7bGr2OX"
      },
      "source": [
        "# For Every Year Show which Country was in the Lead in terms of Total Number of Launches up to and including including 2020)\n",
        "\n",
        "Do the results change if we only look at the number of successful launches? "
      ]
    },
    {
      "cell_type": "code",
      "execution_count": null,
      "metadata": {
        "id": "_h0grIXKsOz_"
      },
      "outputs": [],
      "source": []
    },
    {
      "cell_type": "code",
      "execution_count": null,
      "metadata": {
        "id": "zgVysedmsOp4"
      },
      "outputs": [],
      "source": []
    },
    {
      "cell_type": "markdown",
      "metadata": {
        "id": "jQcqBfJ8serG"
      },
      "source": [
        "# Create a Year-on-Year Chart Showing the Organisation Doing the Most Number of Launches\n",
        "\n",
        "Which organisation was dominant in the 1970s and 1980s? Which organisation was dominant in 2018, 2019 and 2020? "
      ]
    },
    {
      "cell_type": "code",
      "execution_count": null,
      "metadata": {
        "id": "jc9ImQEWsztG"
      },
      "outputs": [],
      "source": []
    },
    {
      "cell_type": "code",
      "execution_count": null,
      "metadata": {
        "id": "r5frxzwlsz5W"
      },
      "outputs": [],
      "source": []
    },
    {
      "cell_type": "code",
      "execution_count": null,
      "metadata": {
        "id": "8vHKpuc5a-rc",
        "papermill": {
          "duration": 0.092403,
          "end_time": "2020-10-20T21:34:26.709168",
          "exception": false,
          "start_time": "2020-10-20T21:34:26.616765",
          "status": "completed"
        },
        "tags": []
      },
      "outputs": [],
      "source": []
    }
  ],
  "metadata": {
    "colab": {
      "name": "Space Missions Analysis (start).ipynb",
      "provenance": []
    },
    "interpreter": {
      "hash": "4b0b6e046dcb112613bb95bde11efb2c9cffde2180568f84c49cebb107e22b35"
    },
    "kernelspec": {
      "display_name": "Python 3.10.4 64-bit",
      "language": "python",
      "name": "python3"
    },
    "language_info": {
      "codemirror_mode": {
        "name": "ipython",
        "version": 3
      },
      "file_extension": ".py",
      "mimetype": "text/x-python",
      "name": "python",
      "nbconvert_exporter": "python",
      "pygments_lexer": "ipython3",
      "version": "3.10.4"
    },
    "papermill": {
      "duration": 28.468597,
      "end_time": "2020-10-20T21:34:26.910951",
      "environment_variables": {},
      "exception": null,
      "input_path": "__notebook__.ipynb",
      "output_path": "__notebook__.ipynb",
      "parameters": {},
      "start_time": "2020-10-20T21:33:58.442354",
      "version": "2.1.0"
    }
  },
  "nbformat": 4,
  "nbformat_minor": 0
}
