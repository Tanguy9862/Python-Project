{
  "cells": [
    {
      "cell_type": "markdown",
      "metadata": {
        "id": "ka_FkvXBiABo"
      },
      "source": [
        "# Introduction"
      ]
    },
    {
      "cell_type": "markdown",
      "metadata": {
        "id": "AWaMmfxXa-p0",
        "papermill": {
          "duration": 0.035434,
          "end_time": "2020-10-20T21:34:01.886225",
          "exception": false,
          "start_time": "2020-10-20T21:34:01.850791",
          "status": "completed"
        },
        "tags": []
      },
      "source": [
        "<center><img src=\"https://i.imgur.com/9hLRsjZ.jpg\" height=400></center>\n",
        "\n",
        "This dataset was scraped from [nextspaceflight.com](https://nextspaceflight.com/launches/past/?page=1) and includes all the space missions since the beginning of Space Race between the USA and the Soviet Union in 1957!"
      ]
    },
    {
      "cell_type": "markdown",
      "metadata": {
        "id": "ufzKRKS3bV0r"
      },
      "source": [
        "### Install Package with Country Codes"
      ]
    },
    {
      "cell_type": "code",
      "execution_count": 150,
      "metadata": {
        "colab": {
          "base_uri": "https://localhost:8080/"
        },
        "id": "0HxV9o6dbRUE",
        "outputId": "35464d43-d601-4b8f-81fd-6dbd400167f5"
      },
      "outputs": [],
      "source": [
        "#%pip install iso3166"
      ]
    },
    {
      "cell_type": "markdown",
      "metadata": {
        "id": "sghkhFoLbof8"
      },
      "source": [
        "### Upgrade Plotly\n",
        "\n",
        "Run the cell below if you are working with Google Colab."
      ]
    },
    {
      "cell_type": "code",
      "execution_count": 151,
      "metadata": {
        "colab": {
          "base_uri": "https://localhost:8080/"
        },
        "id": "gQ61wy9gbmxd",
        "outputId": "99185d87-acb8-4237-c0f7-bfb18bfd4d39"
      },
      "outputs": [],
      "source": [
        "#%pip install --upgrade plotly"
      ]
    },
    {
      "cell_type": "markdown",
      "metadata": {
        "id": "ErFDBihUi1jN"
      },
      "source": [
        "### Import Statements"
      ]
    },
    {
      "cell_type": "code",
      "execution_count": 152,
      "metadata": {
        "_cell_guid": "b1076dfc-b9ad-4769-8c92-a6c4dae69d19",
        "_kg_hide-input": true,
        "_kg_hide-output": true,
        "_uuid": "8f2839f25d086af736a60e9eeb907d3b93b6e0e5",
        "colab": {
          "base_uri": "https://localhost:8080/"
        },
        "execution": {
          "iopub.execute_input": "2020-10-20T21:34:02.101551Z",
          "iopub.status.busy": "2020-10-20T21:34:02.101085Z",
          "iopub.status.idle": "2020-10-20T21:34:03.726868Z",
          "shell.execute_reply": "2020-10-20T21:34:03.725783Z"
        },
        "id": "xdolY0-Sa-p1",
        "outputId": "7142dedb-82e9-457d-db44-cea4e121bdfe",
        "papermill": {
          "duration": 1.665326,
          "end_time": "2020-10-20T21:34:03.726995",
          "exception": false,
          "start_time": "2020-10-20T21:34:02.061669",
          "status": "completed"
        },
        "tags": []
      },
      "outputs": [],
      "source": [
        "import numpy as np\n",
        "import pandas as pd\n",
        "import plotly.express as px\n",
        "import matplotlib.pyplot as plt\n",
        "import seaborn as sns\n",
        "\n",
        "# These might be helpful:\n",
        "from iso3166 import countries\n",
        "from datetime import datetime, timedelta"
      ]
    },
    {
      "cell_type": "markdown",
      "metadata": {
        "id": "lovGPRgKxIgo"
      },
      "source": [
        "### Notebook Presentation"
      ]
    },
    {
      "cell_type": "code",
      "execution_count": 153,
      "metadata": {
        "id": "DHEULCOjxIIm"
      },
      "outputs": [],
      "source": [
        "pd.options.display.float_format = '{:,.2f}'.format"
      ]
    },
    {
      "cell_type": "markdown",
      "metadata": {
        "id": "yaT3QbjEa-p4",
        "papermill": {
          "duration": 0.034606,
          "end_time": "2020-10-20T21:34:03.798396",
          "exception": false,
          "start_time": "2020-10-20T21:34:03.763790",
          "status": "completed"
        },
        "tags": []
      },
      "source": [
        "### Load the Data"
      ]
    },
    {
      "cell_type": "code",
      "execution_count": 154,
      "metadata": {
        "_cell_guid": "79c7e3d0-c299-4dcb-8224-4455121ee9b0",
        "_kg_hide-input": true,
        "_uuid": "d629ff2d2480ee46fbb7e2d37f6b5fab8052498a",
        "execution": {
          "iopub.execute_input": "2020-10-20T21:34:03.874195Z",
          "iopub.status.busy": "2020-10-20T21:34:03.873775Z",
          "iopub.status.idle": "2020-10-20T21:34:03.921919Z",
          "shell.execute_reply": "2020-10-20T21:34:03.921418Z"
        },
        "id": "0lDOu8aka-p4",
        "papermill": {
          "duration": 0.08876,
          "end_time": "2020-10-20T21:34:03.922028",
          "exception": false,
          "start_time": "2020-10-20T21:34:03.833268",
          "status": "completed"
        },
        "tags": []
      },
      "outputs": [],
      "source": [
        "df_data = pd.read_csv('mission_launches.csv')"
      ]
    },
    {
      "cell_type": "markdown",
      "metadata": {
        "id": "jAnMiVcVjuKB"
      },
      "source": [
        "# Preliminary Data Exploration\n",
        "\n",
        "* What is the shape of `df_data`? \n",
        "* How many rows and columns does it have?\n",
        "* What are the column names?\n",
        "* Are there any NaN values or duplicates?"
      ]
    },
    {
      "cell_type": "code",
      "execution_count": 155,
      "metadata": {
        "id": "0tIuYcYNlPFQ"
      },
      "outputs": [
        {
          "data": {
            "text/plain": [
              "(4324, 9)"
            ]
          },
          "execution_count": 155,
          "metadata": {},
          "output_type": "execute_result"
        }
      ],
      "source": [
        "df_data.shape"
      ]
    },
    {
      "cell_type": "code",
      "execution_count": 156,
      "metadata": {},
      "outputs": [
        {
          "data": {
            "text/plain": [
              "Index(['Unnamed: 0.1', 'Unnamed: 0', 'Organisation', 'Location', 'Date',\n",
              "       'Detail', 'Rocket_Status', 'Price', 'Mission_Status'],\n",
              "      dtype='object')"
            ]
          },
          "execution_count": 156,
          "metadata": {},
          "output_type": "execute_result"
        }
      ],
      "source": [
        "df_data.columns"
      ]
    },
    {
      "cell_type": "code",
      "execution_count": 157,
      "metadata": {},
      "outputs": [
        {
          "name": "stdout",
          "output_type": "stream",
          "text": [
            "<class 'pandas.core.frame.DataFrame'>\n",
            "RangeIndex: 4324 entries, 0 to 4323\n",
            "Data columns (total 9 columns):\n",
            " #   Column          Non-Null Count  Dtype \n",
            "---  ------          --------------  ----- \n",
            " 0   Unnamed: 0.1    4324 non-null   int64 \n",
            " 1   Unnamed: 0      4324 non-null   int64 \n",
            " 2   Organisation    4324 non-null   object\n",
            " 3   Location        4324 non-null   object\n",
            " 4   Date            4324 non-null   object\n",
            " 5   Detail          4324 non-null   object\n",
            " 6   Rocket_Status   4324 non-null   object\n",
            " 7   Price           964 non-null    object\n",
            " 8   Mission_Status  4324 non-null   object\n",
            "dtypes: int64(2), object(7)\n",
            "memory usage: 304.2+ KB\n"
          ]
        }
      ],
      "source": [
        "df_data.info()"
      ]
    },
    {
      "cell_type": "markdown",
      "metadata": {},
      "source": [
        "Testing for NaN and duplicated values:"
      ]
    },
    {
      "cell_type": "code",
      "execution_count": 158,
      "metadata": {
        "id": "0dw2hd9UlPmP"
      },
      "outputs": [
        {
          "data": {
            "text/plain": [
              "True"
            ]
          },
          "execution_count": 158,
          "metadata": {},
          "output_type": "execute_result"
        }
      ],
      "source": [
        "df_data.isna().values.any()"
      ]
    },
    {
      "cell_type": "code",
      "execution_count": 159,
      "metadata": {},
      "outputs": [
        {
          "data": {
            "text/plain": [
              "False"
            ]
          },
          "execution_count": 159,
          "metadata": {},
          "output_type": "execute_result"
        }
      ],
      "source": [
        "df_data.duplicated().values.any()"
      ]
    },
    {
      "cell_type": "markdown",
      "metadata": {
        "id": "KUN30y6ja-p9",
        "papermill": {
          "duration": 0.05406,
          "end_time": "2020-10-20T21:34:04.149973",
          "exception": false,
          "start_time": "2020-10-20T21:34:04.095913",
          "status": "completed"
        },
        "tags": []
      },
      "source": [
        "## Data Cleaning - Check for Missing Values and Duplicates\n",
        "\n",
        "Consider removing columns containing junk data. "
      ]
    },
    {
      "cell_type": "code",
      "execution_count": 160,
      "metadata": {
        "id": "wWQvnJb0k2Ig"
      },
      "outputs": [
        {
          "data": {
            "text/html": [
              "<div>\n",
              "<style scoped>\n",
              "    .dataframe tbody tr th:only-of-type {\n",
              "        vertical-align: middle;\n",
              "    }\n",
              "\n",
              "    .dataframe tbody tr th {\n",
              "        vertical-align: top;\n",
              "    }\n",
              "\n",
              "    .dataframe thead th {\n",
              "        text-align: right;\n",
              "    }\n",
              "</style>\n",
              "<table border=\"1\" class=\"dataframe\">\n",
              "  <thead>\n",
              "    <tr style=\"text-align: right;\">\n",
              "      <th></th>\n",
              "      <th>Unnamed: 0.1</th>\n",
              "      <th>Unnamed: 0</th>\n",
              "      <th>Organisation</th>\n",
              "      <th>Location</th>\n",
              "      <th>Date</th>\n",
              "      <th>Detail</th>\n",
              "      <th>Rocket_Status</th>\n",
              "      <th>Price</th>\n",
              "      <th>Mission_Status</th>\n",
              "    </tr>\n",
              "  </thead>\n",
              "  <tbody>\n",
              "    <tr>\n",
              "      <th>2</th>\n",
              "      <td>2</td>\n",
              "      <td>2</td>\n",
              "      <td>SpaceX</td>\n",
              "      <td>Pad A, Boca Chica, Texas, USA</td>\n",
              "      <td>Tue Aug 04, 2020 23:57 UTC</td>\n",
              "      <td>Starship Prototype | 150 Meter Hop</td>\n",
              "      <td>StatusActive</td>\n",
              "      <td>NaN</td>\n",
              "      <td>Success</td>\n",
              "    </tr>\n",
              "    <tr>\n",
              "      <th>7</th>\n",
              "      <td>7</td>\n",
              "      <td>7</td>\n",
              "      <td>CASC</td>\n",
              "      <td>LC-101, Wenchang Satellite Launch Center, China</td>\n",
              "      <td>Thu Jul 23, 2020 04:41 UTC</td>\n",
              "      <td>Long March 5 | Tianwen-1</td>\n",
              "      <td>StatusActive</td>\n",
              "      <td>NaN</td>\n",
              "      <td>Success</td>\n",
              "    </tr>\n",
              "    <tr>\n",
              "      <th>13</th>\n",
              "      <td>13</td>\n",
              "      <td>13</td>\n",
              "      <td>IAI</td>\n",
              "      <td>Pad 1, Palmachim Airbase, Israel</td>\n",
              "      <td>Mon Jul 06, 2020 01:00 UTC</td>\n",
              "      <td>Shavit-2 | Ofek-16</td>\n",
              "      <td>StatusActive</td>\n",
              "      <td>NaN</td>\n",
              "      <td>Success</td>\n",
              "    </tr>\n",
              "    <tr>\n",
              "      <th>28</th>\n",
              "      <td>28</td>\n",
              "      <td>28</td>\n",
              "      <td>VKS RF</td>\n",
              "      <td>Site 43/4, Plesetsk Cosmodrome, Russia</td>\n",
              "      <td>Fri May 22, 2020 07:31 UTC</td>\n",
              "      <td>Soyuz 2.1b/Fregat-M | Cosmos 2546</td>\n",
              "      <td>StatusActive</td>\n",
              "      <td>NaN</td>\n",
              "      <td>Success</td>\n",
              "    </tr>\n",
              "    <tr>\n",
              "      <th>31</th>\n",
              "      <td>31</td>\n",
              "      <td>31</td>\n",
              "      <td>ExPace</td>\n",
              "      <td>Site 95, Jiuquan Satellite Launch Center, China</td>\n",
              "      <td>Tue May 12, 2020 01:16 UTC</td>\n",
              "      <td>Kuaizhou 1A | Xingyun-2 01 (Wuhan) &amp; 02</td>\n",
              "      <td>StatusActive</td>\n",
              "      <td>NaN</td>\n",
              "      <td>Success</td>\n",
              "    </tr>\n",
              "    <tr>\n",
              "      <th>...</th>\n",
              "      <td>...</td>\n",
              "      <td>...</td>\n",
              "      <td>...</td>\n",
              "      <td>...</td>\n",
              "      <td>...</td>\n",
              "      <td>...</td>\n",
              "      <td>...</td>\n",
              "      <td>...</td>\n",
              "      <td>...</td>\n",
              "    </tr>\n",
              "    <tr>\n",
              "      <th>4319</th>\n",
              "      <td>4319</td>\n",
              "      <td>4319</td>\n",
              "      <td>US Navy</td>\n",
              "      <td>LC-18A, Cape Canaveral AFS, Florida, USA</td>\n",
              "      <td>Wed Feb 05, 1958 07:33 UTC</td>\n",
              "      <td>Vanguard | Vanguard TV3BU</td>\n",
              "      <td>StatusRetired</td>\n",
              "      <td>NaN</td>\n",
              "      <td>Failure</td>\n",
              "    </tr>\n",
              "    <tr>\n",
              "      <th>4320</th>\n",
              "      <td>4320</td>\n",
              "      <td>4320</td>\n",
              "      <td>AMBA</td>\n",
              "      <td>LC-26A, Cape Canaveral AFS, Florida, USA</td>\n",
              "      <td>Sat Feb 01, 1958 03:48 UTC</td>\n",
              "      <td>Juno I | Explorer 1</td>\n",
              "      <td>StatusRetired</td>\n",
              "      <td>NaN</td>\n",
              "      <td>Success</td>\n",
              "    </tr>\n",
              "    <tr>\n",
              "      <th>4321</th>\n",
              "      <td>4321</td>\n",
              "      <td>4321</td>\n",
              "      <td>US Navy</td>\n",
              "      <td>LC-18A, Cape Canaveral AFS, Florida, USA</td>\n",
              "      <td>Fri Dec 06, 1957 16:44 UTC</td>\n",
              "      <td>Vanguard | Vanguard TV3</td>\n",
              "      <td>StatusRetired</td>\n",
              "      <td>NaN</td>\n",
              "      <td>Failure</td>\n",
              "    </tr>\n",
              "    <tr>\n",
              "      <th>4322</th>\n",
              "      <td>4322</td>\n",
              "      <td>4322</td>\n",
              "      <td>RVSN USSR</td>\n",
              "      <td>Site 1/5, Baikonur Cosmodrome, Kazakhstan</td>\n",
              "      <td>Sun Nov 03, 1957 02:30 UTC</td>\n",
              "      <td>Sputnik 8K71PS | Sputnik-2</td>\n",
              "      <td>StatusRetired</td>\n",
              "      <td>NaN</td>\n",
              "      <td>Success</td>\n",
              "    </tr>\n",
              "    <tr>\n",
              "      <th>4323</th>\n",
              "      <td>4323</td>\n",
              "      <td>4323</td>\n",
              "      <td>RVSN USSR</td>\n",
              "      <td>Site 1/5, Baikonur Cosmodrome, Kazakhstan</td>\n",
              "      <td>Fri Oct 04, 1957 19:28 UTC</td>\n",
              "      <td>Sputnik 8K71PS | Sputnik-1</td>\n",
              "      <td>StatusRetired</td>\n",
              "      <td>NaN</td>\n",
              "      <td>Success</td>\n",
              "    </tr>\n",
              "  </tbody>\n",
              "</table>\n",
              "<p>3360 rows × 9 columns</p>\n",
              "</div>"
            ],
            "text/plain": [
              "      Unnamed: 0.1  Unnamed: 0 Organisation  \\\n",
              "2                2           2       SpaceX   \n",
              "7                7           7         CASC   \n",
              "13              13          13          IAI   \n",
              "28              28          28       VKS RF   \n",
              "31              31          31       ExPace   \n",
              "...            ...         ...          ...   \n",
              "4319          4319        4319      US Navy   \n",
              "4320          4320        4320         AMBA   \n",
              "4321          4321        4321      US Navy   \n",
              "4322          4322        4322    RVSN USSR   \n",
              "4323          4323        4323    RVSN USSR   \n",
              "\n",
              "                                             Location  \\\n",
              "2                       Pad A, Boca Chica, Texas, USA   \n",
              "7     LC-101, Wenchang Satellite Launch Center, China   \n",
              "13                   Pad 1, Palmachim Airbase, Israel   \n",
              "28             Site 43/4, Plesetsk Cosmodrome, Russia   \n",
              "31    Site 95, Jiuquan Satellite Launch Center, China   \n",
              "...                                               ...   \n",
              "4319         LC-18A, Cape Canaveral AFS, Florida, USA   \n",
              "4320         LC-26A, Cape Canaveral AFS, Florida, USA   \n",
              "4321         LC-18A, Cape Canaveral AFS, Florida, USA   \n",
              "4322        Site 1/5, Baikonur Cosmodrome, Kazakhstan   \n",
              "4323        Site 1/5, Baikonur Cosmodrome, Kazakhstan   \n",
              "\n",
              "                            Date                                   Detail  \\\n",
              "2     Tue Aug 04, 2020 23:57 UTC       Starship Prototype | 150 Meter Hop   \n",
              "7     Thu Jul 23, 2020 04:41 UTC                 Long March 5 | Tianwen-1   \n",
              "13    Mon Jul 06, 2020 01:00 UTC                       Shavit-2 | Ofek-16   \n",
              "28    Fri May 22, 2020 07:31 UTC        Soyuz 2.1b/Fregat-M | Cosmos 2546   \n",
              "31    Tue May 12, 2020 01:16 UTC  Kuaizhou 1A | Xingyun-2 01 (Wuhan) & 02   \n",
              "...                          ...                                      ...   \n",
              "4319  Wed Feb 05, 1958 07:33 UTC                Vanguard | Vanguard TV3BU   \n",
              "4320  Sat Feb 01, 1958 03:48 UTC                      Juno I | Explorer 1   \n",
              "4321  Fri Dec 06, 1957 16:44 UTC                  Vanguard | Vanguard TV3   \n",
              "4322  Sun Nov 03, 1957 02:30 UTC               Sputnik 8K71PS | Sputnik-2   \n",
              "4323  Fri Oct 04, 1957 19:28 UTC               Sputnik 8K71PS | Sputnik-1   \n",
              "\n",
              "      Rocket_Status Price Mission_Status  \n",
              "2      StatusActive   NaN        Success  \n",
              "7      StatusActive   NaN        Success  \n",
              "13     StatusActive   NaN        Success  \n",
              "28     StatusActive   NaN        Success  \n",
              "31     StatusActive   NaN        Success  \n",
              "...             ...   ...            ...  \n",
              "4319  StatusRetired   NaN        Failure  \n",
              "4320  StatusRetired   NaN        Success  \n",
              "4321  StatusRetired   NaN        Failure  \n",
              "4322  StatusRetired   NaN        Success  \n",
              "4323  StatusRetired   NaN        Success  \n",
              "\n",
              "[3360 rows x 9 columns]"
            ]
          },
          "execution_count": 160,
          "metadata": {},
          "output_type": "execute_result"
        }
      ],
      "source": [
        "df_data[df_data.isna().any(axis=1)]"
      ]
    },
    {
      "cell_type": "code",
      "execution_count": 161,
      "metadata": {
        "id": "SfxVooCYk2As"
      },
      "outputs": [
        {
          "data": {
            "text/plain": [
              "(964, 9)"
            ]
          },
          "execution_count": 161,
          "metadata": {},
          "output_type": "execute_result"
        }
      ],
      "source": [
        "df_data.Price = df_data.Price.str.replace(\",\", \"\")\n",
        "clean_df = df_data.dropna()\n",
        "clean_df.shape"
      ]
    },
    {
      "cell_type": "markdown",
      "metadata": {
        "id": "QHon_T5sa-p_",
        "papermill": {
          "duration": 0.036712,
          "end_time": "2020-10-20T21:34:05.227032",
          "exception": false,
          "start_time": "2020-10-20T21:34:05.190320",
          "status": "completed"
        },
        "tags": []
      },
      "source": [
        "## Descriptive Statistics"
      ]
    },
    {
      "cell_type": "code",
      "execution_count": 162,
      "metadata": {
        "id": "Fh1-libjkJIK"
      },
      "outputs": [],
      "source": [
        "df_data = df_data.drop([\"Unnamed: 0.1\", \"Unnamed: 0\"], axis=1)"
      ]
    },
    {
      "cell_type": "code",
      "execution_count": 163,
      "metadata": {},
      "outputs": [],
      "source": [
        "df_data.Price = np.where(df_data.Price == df_data.Price.isnull().values.any(), df_data.Price, df_data.Price.astype(float))"
      ]
    },
    {
      "cell_type": "code",
      "execution_count": 164,
      "metadata": {},
      "outputs": [],
      "source": [
        "clean_df.Price = pd.to_numeric(clean_df.Price)"
      ]
    },
    {
      "cell_type": "code",
      "execution_count": 165,
      "metadata": {},
      "outputs": [
        {
          "data": {
            "text/plain": [
              "count    964.00\n",
              "unique    56.00\n",
              "top      450.00\n",
              "freq     136.00\n",
              "Name: Price, dtype: float64"
            ]
          },
          "execution_count": 165,
          "metadata": {},
          "output_type": "execute_result"
        }
      ],
      "source": [
        "df_data['Price'].describe()"
      ]
    },
    {
      "cell_type": "markdown",
      "metadata": {
        "id": "cgCjcpeUkKPW"
      },
      "source": [
        "# Number of Launches per Company\n",
        "\n",
        "Create a chart that shows the number of space mission launches by organisation."
      ]
    },
    {
      "cell_type": "code",
      "execution_count": 166,
      "metadata": {
        "id": "rxvcIrtskxYB"
      },
      "outputs": [
        {
          "data": {
            "text/html": [
              "<div>\n",
              "<style scoped>\n",
              "    .dataframe tbody tr th:only-of-type {\n",
              "        vertical-align: middle;\n",
              "    }\n",
              "\n",
              "    .dataframe tbody tr th {\n",
              "        vertical-align: top;\n",
              "    }\n",
              "\n",
              "    .dataframe thead th {\n",
              "        text-align: right;\n",
              "    }\n",
              "</style>\n",
              "<table border=\"1\" class=\"dataframe\">\n",
              "  <thead>\n",
              "    <tr style=\"text-align: right;\">\n",
              "      <th></th>\n",
              "      <th>Total Launches</th>\n",
              "    </tr>\n",
              "  </thead>\n",
              "  <tbody>\n",
              "    <tr>\n",
              "      <th>RVSN USSR</th>\n",
              "      <td>1777</td>\n",
              "    </tr>\n",
              "    <tr>\n",
              "      <th>Arianespace</th>\n",
              "      <td>279</td>\n",
              "    </tr>\n",
              "    <tr>\n",
              "      <th>CASC</th>\n",
              "      <td>251</td>\n",
              "    </tr>\n",
              "    <tr>\n",
              "      <th>General Dynamics</th>\n",
              "      <td>251</td>\n",
              "    </tr>\n",
              "    <tr>\n",
              "      <th>NASA</th>\n",
              "      <td>203</td>\n",
              "    </tr>\n",
              "    <tr>\n",
              "      <th>VKS RF</th>\n",
              "      <td>201</td>\n",
              "    </tr>\n",
              "    <tr>\n",
              "      <th>US Air Force</th>\n",
              "      <td>161</td>\n",
              "    </tr>\n",
              "    <tr>\n",
              "      <th>ULA</th>\n",
              "      <td>140</td>\n",
              "    </tr>\n",
              "    <tr>\n",
              "      <th>Boeing</th>\n",
              "      <td>136</td>\n",
              "    </tr>\n",
              "    <tr>\n",
              "      <th>Martin Marietta</th>\n",
              "      <td>114</td>\n",
              "    </tr>\n",
              "    <tr>\n",
              "      <th>SpaceX</th>\n",
              "      <td>100</td>\n",
              "    </tr>\n",
              "    <tr>\n",
              "      <th>MHI</th>\n",
              "      <td>84</td>\n",
              "    </tr>\n",
              "    <tr>\n",
              "      <th>Northrop</th>\n",
              "      <td>83</td>\n",
              "    </tr>\n",
              "    <tr>\n",
              "      <th>Lockheed</th>\n",
              "      <td>79</td>\n",
              "    </tr>\n",
              "    <tr>\n",
              "      <th>ISRO</th>\n",
              "      <td>76</td>\n",
              "    </tr>\n",
              "    <tr>\n",
              "      <th>Roscosmos</th>\n",
              "      <td>55</td>\n",
              "    </tr>\n",
              "    <tr>\n",
              "      <th>ILS</th>\n",
              "      <td>46</td>\n",
              "    </tr>\n",
              "    <tr>\n",
              "      <th>Sea Launch</th>\n",
              "      <td>36</td>\n",
              "    </tr>\n",
              "    <tr>\n",
              "      <th>ISAS</th>\n",
              "      <td>30</td>\n",
              "    </tr>\n",
              "    <tr>\n",
              "      <th>Kosmotras</th>\n",
              "      <td>22</td>\n",
              "    </tr>\n",
              "    <tr>\n",
              "      <th>US Navy</th>\n",
              "      <td>17</td>\n",
              "    </tr>\n",
              "    <tr>\n",
              "      <th>ISA</th>\n",
              "      <td>13</td>\n",
              "    </tr>\n",
              "    <tr>\n",
              "      <th>Rocket Lab</th>\n",
              "      <td>13</td>\n",
              "    </tr>\n",
              "    <tr>\n",
              "      <th>Eurockot</th>\n",
              "      <td>13</td>\n",
              "    </tr>\n",
              "    <tr>\n",
              "      <th>ESA</th>\n",
              "      <td>13</td>\n",
              "    </tr>\n",
              "    <tr>\n",
              "      <th>Blue Origin</th>\n",
              "      <td>12</td>\n",
              "    </tr>\n",
              "    <tr>\n",
              "      <th>IAI</th>\n",
              "      <td>11</td>\n",
              "    </tr>\n",
              "    <tr>\n",
              "      <th>ExPace</th>\n",
              "      <td>10</td>\n",
              "    </tr>\n",
              "    <tr>\n",
              "      <th>ASI</th>\n",
              "      <td>9</td>\n",
              "    </tr>\n",
              "    <tr>\n",
              "      <th>CNES</th>\n",
              "      <td>8</td>\n",
              "    </tr>\n",
              "    <tr>\n",
              "      <th>AMBA</th>\n",
              "      <td>8</td>\n",
              "    </tr>\n",
              "    <tr>\n",
              "      <th>MITT</th>\n",
              "      <td>7</td>\n",
              "    </tr>\n",
              "    <tr>\n",
              "      <th>JAXA</th>\n",
              "      <td>7</td>\n",
              "    </tr>\n",
              "    <tr>\n",
              "      <th>Land Launch</th>\n",
              "      <td>7</td>\n",
              "    </tr>\n",
              "    <tr>\n",
              "      <th>UT</th>\n",
              "      <td>5</td>\n",
              "    </tr>\n",
              "    <tr>\n",
              "      <th>KCST</th>\n",
              "      <td>5</td>\n",
              "    </tr>\n",
              "    <tr>\n",
              "      <th>CASIC</th>\n",
              "      <td>5</td>\n",
              "    </tr>\n",
              "    <tr>\n",
              "      <th>Exos</th>\n",
              "      <td>4</td>\n",
              "    </tr>\n",
              "    <tr>\n",
              "      <th>CECLES</th>\n",
              "      <td>4</td>\n",
              "    </tr>\n",
              "    <tr>\n",
              "      <th>Arm??e de l'Air</th>\n",
              "      <td>4</td>\n",
              "    </tr>\n",
              "    <tr>\n",
              "      <th>KARI</th>\n",
              "      <td>3</td>\n",
              "    </tr>\n",
              "    <tr>\n",
              "      <th>SRC</th>\n",
              "      <td>3</td>\n",
              "    </tr>\n",
              "    <tr>\n",
              "      <th>AEB</th>\n",
              "      <td>3</td>\n",
              "    </tr>\n",
              "    <tr>\n",
              "      <th>RAE</th>\n",
              "      <td>2</td>\n",
              "    </tr>\n",
              "    <tr>\n",
              "      <th>OKB-586</th>\n",
              "      <td>2</td>\n",
              "    </tr>\n",
              "    <tr>\n",
              "      <th>Yuzhmash</th>\n",
              "      <td>2</td>\n",
              "    </tr>\n",
              "    <tr>\n",
              "      <th>Landspace</th>\n",
              "      <td>1</td>\n",
              "    </tr>\n",
              "    <tr>\n",
              "      <th>Douglas</th>\n",
              "      <td>1</td>\n",
              "    </tr>\n",
              "    <tr>\n",
              "      <th>EER</th>\n",
              "      <td>1</td>\n",
              "    </tr>\n",
              "    <tr>\n",
              "      <th>Starsem</th>\n",
              "      <td>1</td>\n",
              "    </tr>\n",
              "    <tr>\n",
              "      <th>Virgin Orbit</th>\n",
              "      <td>1</td>\n",
              "    </tr>\n",
              "    <tr>\n",
              "      <th>IRGC</th>\n",
              "      <td>1</td>\n",
              "    </tr>\n",
              "    <tr>\n",
              "      <th>i-Space</th>\n",
              "      <td>1</td>\n",
              "    </tr>\n",
              "    <tr>\n",
              "      <th>OneSpace</th>\n",
              "      <td>1</td>\n",
              "    </tr>\n",
              "    <tr>\n",
              "      <th>Sandia</th>\n",
              "      <td>1</td>\n",
              "    </tr>\n",
              "    <tr>\n",
              "      <th>Khrunichev</th>\n",
              "      <td>1</td>\n",
              "    </tr>\n",
              "  </tbody>\n",
              "</table>\n",
              "</div>"
            ],
            "text/plain": [
              "                  Total Launches\n",
              "RVSN USSR                   1777\n",
              "Arianespace                  279\n",
              "CASC                         251\n",
              "General Dynamics             251\n",
              "NASA                         203\n",
              "VKS RF                       201\n",
              "US Air Force                 161\n",
              "ULA                          140\n",
              "Boeing                       136\n",
              "Martin Marietta              114\n",
              "SpaceX                       100\n",
              "MHI                           84\n",
              "Northrop                      83\n",
              "Lockheed                      79\n",
              "ISRO                          76\n",
              "Roscosmos                     55\n",
              "ILS                           46\n",
              "Sea Launch                    36\n",
              "ISAS                          30\n",
              "Kosmotras                     22\n",
              "US Navy                       17\n",
              "ISA                           13\n",
              "Rocket Lab                    13\n",
              "Eurockot                      13\n",
              "ESA                           13\n",
              "Blue Origin                   12\n",
              "IAI                           11\n",
              "ExPace                        10\n",
              "ASI                            9\n",
              "CNES                           8\n",
              "AMBA                           8\n",
              "MITT                           7\n",
              "JAXA                           7\n",
              "Land Launch                    7\n",
              "UT                             5\n",
              "KCST                           5\n",
              "CASIC                          5\n",
              "Exos                           4\n",
              "CECLES                         4\n",
              "Arm??e de l'Air                4\n",
              "KARI                           3\n",
              "SRC                            3\n",
              "AEB                            3\n",
              "RAE                            2\n",
              "OKB-586                        2\n",
              "Yuzhmash                       2\n",
              "Landspace                      1\n",
              "Douglas                        1\n",
              "EER                            1\n",
              "Starsem                        1\n",
              "Virgin Orbit                   1\n",
              "IRGC                           1\n",
              "i-Space                        1\n",
              "OneSpace                       1\n",
              "Sandia                         1\n",
              "Khrunichev                     1"
            ]
          },
          "execution_count": 166,
          "metadata": {},
          "output_type": "execute_result"
        }
      ],
      "source": [
        "launch_per_organisations = df_data['Organisation'].value_counts()\n",
        "launch_per_organisations = pd.DataFrame(launch_per_organisations.values, launch_per_organisations.index, columns=['Total Launches'])\n",
        "launch_per_organisations"
      ]
    },
    {
      "cell_type": "code",
      "execution_count": 167,
      "metadata": {
        "id": "qgneHUbWkw5v"
      },
      "outputs": [
        {
          "data": {
            "application/vnd.plotly.v1+json": {
              "config": {
                "plotlyServerURL": "https://plot.ly"
              },
              "data": [
                {
                  "alignmentgroup": "True",
                  "hovertemplate": "Total Launches=%{marker.color}<br>Company=%{y}<extra></extra>",
                  "legendgroup": "",
                  "marker": {
                    "color": [
                      1777,
                      279,
                      251,
                      251,
                      203,
                      201,
                      161,
                      140,
                      136,
                      114,
                      100,
                      84,
                      83,
                      79,
                      76,
                      55,
                      46,
                      36,
                      30,
                      22,
                      17,
                      13,
                      13,
                      13,
                      13,
                      12,
                      11,
                      10,
                      9,
                      8,
                      8,
                      7,
                      7,
                      7,
                      5,
                      5,
                      5,
                      4,
                      4,
                      4,
                      3,
                      3,
                      3,
                      2,
                      2,
                      2,
                      1,
                      1,
                      1,
                      1,
                      1,
                      1,
                      1,
                      1,
                      1,
                      1
                    ],
                    "coloraxis": "coloraxis",
                    "pattern": {
                      "shape": ""
                    }
                  },
                  "name": "",
                  "offsetgroup": "",
                  "orientation": "h",
                  "showlegend": false,
                  "textposition": "auto",
                  "type": "bar",
                  "x": [
                    1777,
                    279,
                    251,
                    251,
                    203,
                    201,
                    161,
                    140,
                    136,
                    114,
                    100,
                    84,
                    83,
                    79,
                    76,
                    55,
                    46,
                    36,
                    30,
                    22,
                    17,
                    13,
                    13,
                    13,
                    13,
                    12,
                    11,
                    10,
                    9,
                    8,
                    8,
                    7,
                    7,
                    7,
                    5,
                    5,
                    5,
                    4,
                    4,
                    4,
                    3,
                    3,
                    3,
                    2,
                    2,
                    2,
                    1,
                    1,
                    1,
                    1,
                    1,
                    1,
                    1,
                    1,
                    1,
                    1
                  ],
                  "xaxis": "x",
                  "y": [
                    "RVSN USSR",
                    "Arianespace",
                    "CASC",
                    "General Dynamics",
                    "NASA",
                    "VKS RF",
                    "US Air Force",
                    "ULA",
                    "Boeing",
                    "Martin Marietta",
                    "SpaceX",
                    "MHI",
                    "Northrop",
                    "Lockheed",
                    "ISRO",
                    "Roscosmos",
                    "ILS",
                    "Sea Launch",
                    "ISAS",
                    "Kosmotras",
                    "US Navy",
                    "ISA",
                    "Rocket Lab",
                    "Eurockot",
                    "ESA",
                    "Blue Origin",
                    "IAI",
                    "ExPace",
                    "ASI",
                    "CNES",
                    "AMBA",
                    "MITT",
                    "JAXA",
                    "Land Launch",
                    "UT",
                    "KCST",
                    "CASIC",
                    "Exos",
                    "CECLES",
                    "Arm??e de l'Air",
                    "KARI",
                    "SRC",
                    "AEB",
                    "RAE",
                    "OKB-586",
                    "Yuzhmash",
                    "Landspace",
                    "Douglas",
                    "EER",
                    "Starsem",
                    "Virgin Orbit",
                    "IRGC",
                    "i-Space",
                    "OneSpace",
                    "Sandia",
                    "Khrunichev"
                  ],
                  "yaxis": "y"
                }
              ],
              "layout": {
                "barmode": "relative",
                "coloraxis": {
                  "colorbar": {
                    "title": {
                      "text": "Total Launches"
                    }
                  },
                  "colorscale": [
                    [
                      0,
                      "#440154"
                    ],
                    [
                      0.1111111111111111,
                      "#482878"
                    ],
                    [
                      0.2222222222222222,
                      "#3e4989"
                    ],
                    [
                      0.3333333333333333,
                      "#31688e"
                    ],
                    [
                      0.4444444444444444,
                      "#26828e"
                    ],
                    [
                      0.5555555555555556,
                      "#1f9e89"
                    ],
                    [
                      0.6666666666666666,
                      "#35b779"
                    ],
                    [
                      0.7777777777777778,
                      "#6ece58"
                    ],
                    [
                      0.8888888888888888,
                      "#b5de2b"
                    ],
                    [
                      1,
                      "#fde725"
                    ]
                  ]
                },
                "height": 800,
                "legend": {
                  "tracegroupgap": 0
                },
                "margin": {
                  "t": 60
                },
                "template": {
                  "data": {
                    "bar": [
                      {
                        "error_x": {
                          "color": "#2a3f5f"
                        },
                        "error_y": {
                          "color": "#2a3f5f"
                        },
                        "marker": {
                          "line": {
                            "color": "#E5ECF6",
                            "width": 0.5
                          },
                          "pattern": {
                            "fillmode": "overlay",
                            "size": 10,
                            "solidity": 0.2
                          }
                        },
                        "type": "bar"
                      }
                    ],
                    "barpolar": [
                      {
                        "marker": {
                          "line": {
                            "color": "#E5ECF6",
                            "width": 0.5
                          },
                          "pattern": {
                            "fillmode": "overlay",
                            "size": 10,
                            "solidity": 0.2
                          }
                        },
                        "type": "barpolar"
                      }
                    ],
                    "carpet": [
                      {
                        "aaxis": {
                          "endlinecolor": "#2a3f5f",
                          "gridcolor": "white",
                          "linecolor": "white",
                          "minorgridcolor": "white",
                          "startlinecolor": "#2a3f5f"
                        },
                        "baxis": {
                          "endlinecolor": "#2a3f5f",
                          "gridcolor": "white",
                          "linecolor": "white",
                          "minorgridcolor": "white",
                          "startlinecolor": "#2a3f5f"
                        },
                        "type": "carpet"
                      }
                    ],
                    "choropleth": [
                      {
                        "colorbar": {
                          "outlinewidth": 0,
                          "ticks": ""
                        },
                        "type": "choropleth"
                      }
                    ],
                    "contour": [
                      {
                        "colorbar": {
                          "outlinewidth": 0,
                          "ticks": ""
                        },
                        "colorscale": [
                          [
                            0,
                            "#0d0887"
                          ],
                          [
                            0.1111111111111111,
                            "#46039f"
                          ],
                          [
                            0.2222222222222222,
                            "#7201a8"
                          ],
                          [
                            0.3333333333333333,
                            "#9c179e"
                          ],
                          [
                            0.4444444444444444,
                            "#bd3786"
                          ],
                          [
                            0.5555555555555556,
                            "#d8576b"
                          ],
                          [
                            0.6666666666666666,
                            "#ed7953"
                          ],
                          [
                            0.7777777777777778,
                            "#fb9f3a"
                          ],
                          [
                            0.8888888888888888,
                            "#fdca26"
                          ],
                          [
                            1,
                            "#f0f921"
                          ]
                        ],
                        "type": "contour"
                      }
                    ],
                    "contourcarpet": [
                      {
                        "colorbar": {
                          "outlinewidth": 0,
                          "ticks": ""
                        },
                        "type": "contourcarpet"
                      }
                    ],
                    "heatmap": [
                      {
                        "colorbar": {
                          "outlinewidth": 0,
                          "ticks": ""
                        },
                        "colorscale": [
                          [
                            0,
                            "#0d0887"
                          ],
                          [
                            0.1111111111111111,
                            "#46039f"
                          ],
                          [
                            0.2222222222222222,
                            "#7201a8"
                          ],
                          [
                            0.3333333333333333,
                            "#9c179e"
                          ],
                          [
                            0.4444444444444444,
                            "#bd3786"
                          ],
                          [
                            0.5555555555555556,
                            "#d8576b"
                          ],
                          [
                            0.6666666666666666,
                            "#ed7953"
                          ],
                          [
                            0.7777777777777778,
                            "#fb9f3a"
                          ],
                          [
                            0.8888888888888888,
                            "#fdca26"
                          ],
                          [
                            1,
                            "#f0f921"
                          ]
                        ],
                        "type": "heatmap"
                      }
                    ],
                    "heatmapgl": [
                      {
                        "colorbar": {
                          "outlinewidth": 0,
                          "ticks": ""
                        },
                        "colorscale": [
                          [
                            0,
                            "#0d0887"
                          ],
                          [
                            0.1111111111111111,
                            "#46039f"
                          ],
                          [
                            0.2222222222222222,
                            "#7201a8"
                          ],
                          [
                            0.3333333333333333,
                            "#9c179e"
                          ],
                          [
                            0.4444444444444444,
                            "#bd3786"
                          ],
                          [
                            0.5555555555555556,
                            "#d8576b"
                          ],
                          [
                            0.6666666666666666,
                            "#ed7953"
                          ],
                          [
                            0.7777777777777778,
                            "#fb9f3a"
                          ],
                          [
                            0.8888888888888888,
                            "#fdca26"
                          ],
                          [
                            1,
                            "#f0f921"
                          ]
                        ],
                        "type": "heatmapgl"
                      }
                    ],
                    "histogram": [
                      {
                        "marker": {
                          "pattern": {
                            "fillmode": "overlay",
                            "size": 10,
                            "solidity": 0.2
                          }
                        },
                        "type": "histogram"
                      }
                    ],
                    "histogram2d": [
                      {
                        "colorbar": {
                          "outlinewidth": 0,
                          "ticks": ""
                        },
                        "colorscale": [
                          [
                            0,
                            "#0d0887"
                          ],
                          [
                            0.1111111111111111,
                            "#46039f"
                          ],
                          [
                            0.2222222222222222,
                            "#7201a8"
                          ],
                          [
                            0.3333333333333333,
                            "#9c179e"
                          ],
                          [
                            0.4444444444444444,
                            "#bd3786"
                          ],
                          [
                            0.5555555555555556,
                            "#d8576b"
                          ],
                          [
                            0.6666666666666666,
                            "#ed7953"
                          ],
                          [
                            0.7777777777777778,
                            "#fb9f3a"
                          ],
                          [
                            0.8888888888888888,
                            "#fdca26"
                          ],
                          [
                            1,
                            "#f0f921"
                          ]
                        ],
                        "type": "histogram2d"
                      }
                    ],
                    "histogram2dcontour": [
                      {
                        "colorbar": {
                          "outlinewidth": 0,
                          "ticks": ""
                        },
                        "colorscale": [
                          [
                            0,
                            "#0d0887"
                          ],
                          [
                            0.1111111111111111,
                            "#46039f"
                          ],
                          [
                            0.2222222222222222,
                            "#7201a8"
                          ],
                          [
                            0.3333333333333333,
                            "#9c179e"
                          ],
                          [
                            0.4444444444444444,
                            "#bd3786"
                          ],
                          [
                            0.5555555555555556,
                            "#d8576b"
                          ],
                          [
                            0.6666666666666666,
                            "#ed7953"
                          ],
                          [
                            0.7777777777777778,
                            "#fb9f3a"
                          ],
                          [
                            0.8888888888888888,
                            "#fdca26"
                          ],
                          [
                            1,
                            "#f0f921"
                          ]
                        ],
                        "type": "histogram2dcontour"
                      }
                    ],
                    "mesh3d": [
                      {
                        "colorbar": {
                          "outlinewidth": 0,
                          "ticks": ""
                        },
                        "type": "mesh3d"
                      }
                    ],
                    "parcoords": [
                      {
                        "line": {
                          "colorbar": {
                            "outlinewidth": 0,
                            "ticks": ""
                          }
                        },
                        "type": "parcoords"
                      }
                    ],
                    "pie": [
                      {
                        "automargin": true,
                        "type": "pie"
                      }
                    ],
                    "scatter": [
                      {
                        "fillpattern": {
                          "fillmode": "overlay",
                          "size": 10,
                          "solidity": 0.2
                        },
                        "type": "scatter"
                      }
                    ],
                    "scatter3d": [
                      {
                        "line": {
                          "colorbar": {
                            "outlinewidth": 0,
                            "ticks": ""
                          }
                        },
                        "marker": {
                          "colorbar": {
                            "outlinewidth": 0,
                            "ticks": ""
                          }
                        },
                        "type": "scatter3d"
                      }
                    ],
                    "scattercarpet": [
                      {
                        "marker": {
                          "colorbar": {
                            "outlinewidth": 0,
                            "ticks": ""
                          }
                        },
                        "type": "scattercarpet"
                      }
                    ],
                    "scattergeo": [
                      {
                        "marker": {
                          "colorbar": {
                            "outlinewidth": 0,
                            "ticks": ""
                          }
                        },
                        "type": "scattergeo"
                      }
                    ],
                    "scattergl": [
                      {
                        "marker": {
                          "colorbar": {
                            "outlinewidth": 0,
                            "ticks": ""
                          }
                        },
                        "type": "scattergl"
                      }
                    ],
                    "scattermapbox": [
                      {
                        "marker": {
                          "colorbar": {
                            "outlinewidth": 0,
                            "ticks": ""
                          }
                        },
                        "type": "scattermapbox"
                      }
                    ],
                    "scatterpolar": [
                      {
                        "marker": {
                          "colorbar": {
                            "outlinewidth": 0,
                            "ticks": ""
                          }
                        },
                        "type": "scatterpolar"
                      }
                    ],
                    "scatterpolargl": [
                      {
                        "marker": {
                          "colorbar": {
                            "outlinewidth": 0,
                            "ticks": ""
                          }
                        },
                        "type": "scatterpolargl"
                      }
                    ],
                    "scatterternary": [
                      {
                        "marker": {
                          "colorbar": {
                            "outlinewidth": 0,
                            "ticks": ""
                          }
                        },
                        "type": "scatterternary"
                      }
                    ],
                    "surface": [
                      {
                        "colorbar": {
                          "outlinewidth": 0,
                          "ticks": ""
                        },
                        "colorscale": [
                          [
                            0,
                            "#0d0887"
                          ],
                          [
                            0.1111111111111111,
                            "#46039f"
                          ],
                          [
                            0.2222222222222222,
                            "#7201a8"
                          ],
                          [
                            0.3333333333333333,
                            "#9c179e"
                          ],
                          [
                            0.4444444444444444,
                            "#bd3786"
                          ],
                          [
                            0.5555555555555556,
                            "#d8576b"
                          ],
                          [
                            0.6666666666666666,
                            "#ed7953"
                          ],
                          [
                            0.7777777777777778,
                            "#fb9f3a"
                          ],
                          [
                            0.8888888888888888,
                            "#fdca26"
                          ],
                          [
                            1,
                            "#f0f921"
                          ]
                        ],
                        "type": "surface"
                      }
                    ],
                    "table": [
                      {
                        "cells": {
                          "fill": {
                            "color": "#EBF0F8"
                          },
                          "line": {
                            "color": "white"
                          }
                        },
                        "header": {
                          "fill": {
                            "color": "#C8D4E3"
                          },
                          "line": {
                            "color": "white"
                          }
                        },
                        "type": "table"
                      }
                    ]
                  },
                  "layout": {
                    "annotationdefaults": {
                      "arrowcolor": "#2a3f5f",
                      "arrowhead": 0,
                      "arrowwidth": 1
                    },
                    "autotypenumbers": "strict",
                    "coloraxis": {
                      "colorbar": {
                        "outlinewidth": 0,
                        "ticks": ""
                      }
                    },
                    "colorscale": {
                      "diverging": [
                        [
                          0,
                          "#8e0152"
                        ],
                        [
                          0.1,
                          "#c51b7d"
                        ],
                        [
                          0.2,
                          "#de77ae"
                        ],
                        [
                          0.3,
                          "#f1b6da"
                        ],
                        [
                          0.4,
                          "#fde0ef"
                        ],
                        [
                          0.5,
                          "#f7f7f7"
                        ],
                        [
                          0.6,
                          "#e6f5d0"
                        ],
                        [
                          0.7,
                          "#b8e186"
                        ],
                        [
                          0.8,
                          "#7fbc41"
                        ],
                        [
                          0.9,
                          "#4d9221"
                        ],
                        [
                          1,
                          "#276419"
                        ]
                      ],
                      "sequential": [
                        [
                          0,
                          "#0d0887"
                        ],
                        [
                          0.1111111111111111,
                          "#46039f"
                        ],
                        [
                          0.2222222222222222,
                          "#7201a8"
                        ],
                        [
                          0.3333333333333333,
                          "#9c179e"
                        ],
                        [
                          0.4444444444444444,
                          "#bd3786"
                        ],
                        [
                          0.5555555555555556,
                          "#d8576b"
                        ],
                        [
                          0.6666666666666666,
                          "#ed7953"
                        ],
                        [
                          0.7777777777777778,
                          "#fb9f3a"
                        ],
                        [
                          0.8888888888888888,
                          "#fdca26"
                        ],
                        [
                          1,
                          "#f0f921"
                        ]
                      ],
                      "sequentialminus": [
                        [
                          0,
                          "#0d0887"
                        ],
                        [
                          0.1111111111111111,
                          "#46039f"
                        ],
                        [
                          0.2222222222222222,
                          "#7201a8"
                        ],
                        [
                          0.3333333333333333,
                          "#9c179e"
                        ],
                        [
                          0.4444444444444444,
                          "#bd3786"
                        ],
                        [
                          0.5555555555555556,
                          "#d8576b"
                        ],
                        [
                          0.6666666666666666,
                          "#ed7953"
                        ],
                        [
                          0.7777777777777778,
                          "#fb9f3a"
                        ],
                        [
                          0.8888888888888888,
                          "#fdca26"
                        ],
                        [
                          1,
                          "#f0f921"
                        ]
                      ]
                    },
                    "colorway": [
                      "#636efa",
                      "#EF553B",
                      "#00cc96",
                      "#ab63fa",
                      "#FFA15A",
                      "#19d3f3",
                      "#FF6692",
                      "#B6E880",
                      "#FF97FF",
                      "#FECB52"
                    ],
                    "font": {
                      "color": "#2a3f5f"
                    },
                    "geo": {
                      "bgcolor": "white",
                      "lakecolor": "white",
                      "landcolor": "#E5ECF6",
                      "showlakes": true,
                      "showland": true,
                      "subunitcolor": "white"
                    },
                    "hoverlabel": {
                      "align": "left"
                    },
                    "hovermode": "closest",
                    "mapbox": {
                      "style": "light"
                    },
                    "paper_bgcolor": "white",
                    "plot_bgcolor": "#E5ECF6",
                    "polar": {
                      "angularaxis": {
                        "gridcolor": "white",
                        "linecolor": "white",
                        "ticks": ""
                      },
                      "bgcolor": "#E5ECF6",
                      "radialaxis": {
                        "gridcolor": "white",
                        "linecolor": "white",
                        "ticks": ""
                      }
                    },
                    "scene": {
                      "xaxis": {
                        "backgroundcolor": "#E5ECF6",
                        "gridcolor": "white",
                        "gridwidth": 2,
                        "linecolor": "white",
                        "showbackground": true,
                        "ticks": "",
                        "zerolinecolor": "white"
                      },
                      "yaxis": {
                        "backgroundcolor": "#E5ECF6",
                        "gridcolor": "white",
                        "gridwidth": 2,
                        "linecolor": "white",
                        "showbackground": true,
                        "ticks": "",
                        "zerolinecolor": "white"
                      },
                      "zaxis": {
                        "backgroundcolor": "#E5ECF6",
                        "gridcolor": "white",
                        "gridwidth": 2,
                        "linecolor": "white",
                        "showbackground": true,
                        "ticks": "",
                        "zerolinecolor": "white"
                      }
                    },
                    "shapedefaults": {
                      "line": {
                        "color": "#2a3f5f"
                      }
                    },
                    "ternary": {
                      "aaxis": {
                        "gridcolor": "white",
                        "linecolor": "white",
                        "ticks": ""
                      },
                      "baxis": {
                        "gridcolor": "white",
                        "linecolor": "white",
                        "ticks": ""
                      },
                      "bgcolor": "#E5ECF6",
                      "caxis": {
                        "gridcolor": "white",
                        "linecolor": "white",
                        "ticks": ""
                      }
                    },
                    "title": {
                      "x": 0.05
                    },
                    "xaxis": {
                      "automargin": true,
                      "gridcolor": "white",
                      "linecolor": "white",
                      "ticks": "",
                      "title": {
                        "standoff": 15
                      },
                      "zerolinecolor": "white",
                      "zerolinewidth": 2
                    },
                    "yaxis": {
                      "automargin": true,
                      "gridcolor": "white",
                      "linecolor": "white",
                      "ticks": "",
                      "title": {
                        "standoff": 15
                      },
                      "zerolinecolor": "white",
                      "zerolinewidth": 2
                    }
                  }
                },
                "title": {
                  "text": "Number of launches per Company"
                },
                "xaxis": {
                  "anchor": "y",
                  "domain": [
                    0,
                    1
                  ],
                  "title": {
                    "text": "Company"
                  }
                },
                "yaxis": {
                  "anchor": "x",
                  "categoryorder": "total ascending",
                  "domain": [
                    0,
                    1
                  ],
                  "dtick": 1,
                  "title": {
                    "text": "Total"
                  }
                }
              }
            }
          },
          "metadata": {},
          "output_type": "display_data"
        }
      ],
      "source": [
        "fig = px.bar(\n",
        "    launch_per_organisations,\n",
        "    x='Total Launches',\n",
        "    y=launch_per_organisations.index,\n",
        "    height=800,\n",
        "    color='Total Launches',\n",
        "    labels={'index': 'Company', 'y': 'Number of Launches'},\n",
        "    color_continuous_scale=px.colors.sequential.Viridis,\n",
        "    orientation=\"h\"\n",
        ")\n",
        "\n",
        "fig.update_layout(\n",
        "    title=\"Number of launches per Company\",\n",
        "    xaxis_title=\"Company\",\n",
        "    yaxis_title=\"Total\",\n",
        "    yaxis={'categoryorder':'total ascending', \"dtick\": 1}\n",
        ")\n",
        "\n",
        "fig.show()"
      ]
    },
    {
      "cell_type": "markdown",
      "metadata": {
        "id": "7Gwteht2kR_h"
      },
      "source": [
        "# Number of Active versus Retired Rockets\n",
        "\n",
        "How many rockets are active compared to those that are decomissioned? "
      ]
    },
    {
      "cell_type": "code",
      "execution_count": 168,
      "metadata": {
        "id": "SxmOWS9cmTq6"
      },
      "outputs": [
        {
          "data": {
            "text/html": [
              "<div>\n",
              "<style scoped>\n",
              "    .dataframe tbody tr th:only-of-type {\n",
              "        vertical-align: middle;\n",
              "    }\n",
              "\n",
              "    .dataframe tbody tr th {\n",
              "        vertical-align: top;\n",
              "    }\n",
              "\n",
              "    .dataframe thead th {\n",
              "        text-align: right;\n",
              "    }\n",
              "</style>\n",
              "<table border=\"1\" class=\"dataframe\">\n",
              "  <thead>\n",
              "    <tr style=\"text-align: right;\">\n",
              "      <th></th>\n",
              "      <th>Count</th>\n",
              "    </tr>\n",
              "  </thead>\n",
              "  <tbody>\n",
              "    <tr>\n",
              "      <th>StatusRetired</th>\n",
              "      <td>3534</td>\n",
              "    </tr>\n",
              "    <tr>\n",
              "      <th>StatusActive</th>\n",
              "      <td>790</td>\n",
              "    </tr>\n",
              "  </tbody>\n",
              "</table>\n",
              "</div>"
            ],
            "text/plain": [
              "               Count\n",
              "StatusRetired   3534\n",
              "StatusActive     790"
            ]
          },
          "execution_count": 168,
          "metadata": {},
          "output_type": "execute_result"
        }
      ],
      "source": [
        "df_rocket = df_data['Rocket_Status'].value_counts()\n",
        "df_rocket = pd.DataFrame(df_rocket.values, df_rocket.index, columns=['Count'])\n",
        "df_rocket"
      ]
    },
    {
      "cell_type": "code",
      "execution_count": 169,
      "metadata": {
        "id": "ydj0-OZ6mToH"
      },
      "outputs": [
        {
          "data": {
            "application/vnd.plotly.v1+json": {
              "config": {
                "plotlyServerURL": "https://plot.ly"
              },
              "data": [
                {
                  "alignmentgroup": "True",
                  "hovertemplate": "Count=%{marker.color}<br>index=%{y}<extra></extra>",
                  "legendgroup": "",
                  "marker": {
                    "color": [
                      3534,
                      790
                    ],
                    "coloraxis": "coloraxis",
                    "pattern": {
                      "shape": ""
                    }
                  },
                  "name": "",
                  "offsetgroup": "",
                  "orientation": "h",
                  "showlegend": false,
                  "textposition": "auto",
                  "type": "bar",
                  "x": [
                    3534,
                    790
                  ],
                  "xaxis": "x",
                  "y": [
                    "StatusRetired",
                    "StatusActive"
                  ],
                  "yaxis": "y"
                }
              ],
              "layout": {
                "barmode": "relative",
                "coloraxis": {
                  "colorbar": {
                    "title": {
                      "text": "Count"
                    }
                  },
                  "colorscale": [
                    [
                      0,
                      "rgb(5,48,97)"
                    ],
                    [
                      0.1,
                      "rgb(33,102,172)"
                    ],
                    [
                      0.2,
                      "rgb(67,147,195)"
                    ],
                    [
                      0.3,
                      "rgb(146,197,222)"
                    ],
                    [
                      0.4,
                      "rgb(209,229,240)"
                    ],
                    [
                      0.5,
                      "rgb(247,247,247)"
                    ],
                    [
                      0.6,
                      "rgb(253,219,199)"
                    ],
                    [
                      0.7,
                      "rgb(244,165,130)"
                    ],
                    [
                      0.8,
                      "rgb(214,96,77)"
                    ],
                    [
                      0.9,
                      "rgb(178,24,43)"
                    ],
                    [
                      1,
                      "rgb(103,0,31)"
                    ]
                  ],
                  "showscale": false
                },
                "height": 250,
                "legend": {
                  "tracegroupgap": 0
                },
                "margin": {
                  "t": 60
                },
                "template": {
                  "data": {
                    "bar": [
                      {
                        "error_x": {
                          "color": "#2a3f5f"
                        },
                        "error_y": {
                          "color": "#2a3f5f"
                        },
                        "marker": {
                          "line": {
                            "color": "#E5ECF6",
                            "width": 0.5
                          },
                          "pattern": {
                            "fillmode": "overlay",
                            "size": 10,
                            "solidity": 0.2
                          }
                        },
                        "type": "bar"
                      }
                    ],
                    "barpolar": [
                      {
                        "marker": {
                          "line": {
                            "color": "#E5ECF6",
                            "width": 0.5
                          },
                          "pattern": {
                            "fillmode": "overlay",
                            "size": 10,
                            "solidity": 0.2
                          }
                        },
                        "type": "barpolar"
                      }
                    ],
                    "carpet": [
                      {
                        "aaxis": {
                          "endlinecolor": "#2a3f5f",
                          "gridcolor": "white",
                          "linecolor": "white",
                          "minorgridcolor": "white",
                          "startlinecolor": "#2a3f5f"
                        },
                        "baxis": {
                          "endlinecolor": "#2a3f5f",
                          "gridcolor": "white",
                          "linecolor": "white",
                          "minorgridcolor": "white",
                          "startlinecolor": "#2a3f5f"
                        },
                        "type": "carpet"
                      }
                    ],
                    "choropleth": [
                      {
                        "colorbar": {
                          "outlinewidth": 0,
                          "ticks": ""
                        },
                        "type": "choropleth"
                      }
                    ],
                    "contour": [
                      {
                        "colorbar": {
                          "outlinewidth": 0,
                          "ticks": ""
                        },
                        "colorscale": [
                          [
                            0,
                            "#0d0887"
                          ],
                          [
                            0.1111111111111111,
                            "#46039f"
                          ],
                          [
                            0.2222222222222222,
                            "#7201a8"
                          ],
                          [
                            0.3333333333333333,
                            "#9c179e"
                          ],
                          [
                            0.4444444444444444,
                            "#bd3786"
                          ],
                          [
                            0.5555555555555556,
                            "#d8576b"
                          ],
                          [
                            0.6666666666666666,
                            "#ed7953"
                          ],
                          [
                            0.7777777777777778,
                            "#fb9f3a"
                          ],
                          [
                            0.8888888888888888,
                            "#fdca26"
                          ],
                          [
                            1,
                            "#f0f921"
                          ]
                        ],
                        "type": "contour"
                      }
                    ],
                    "contourcarpet": [
                      {
                        "colorbar": {
                          "outlinewidth": 0,
                          "ticks": ""
                        },
                        "type": "contourcarpet"
                      }
                    ],
                    "heatmap": [
                      {
                        "colorbar": {
                          "outlinewidth": 0,
                          "ticks": ""
                        },
                        "colorscale": [
                          [
                            0,
                            "#0d0887"
                          ],
                          [
                            0.1111111111111111,
                            "#46039f"
                          ],
                          [
                            0.2222222222222222,
                            "#7201a8"
                          ],
                          [
                            0.3333333333333333,
                            "#9c179e"
                          ],
                          [
                            0.4444444444444444,
                            "#bd3786"
                          ],
                          [
                            0.5555555555555556,
                            "#d8576b"
                          ],
                          [
                            0.6666666666666666,
                            "#ed7953"
                          ],
                          [
                            0.7777777777777778,
                            "#fb9f3a"
                          ],
                          [
                            0.8888888888888888,
                            "#fdca26"
                          ],
                          [
                            1,
                            "#f0f921"
                          ]
                        ],
                        "type": "heatmap"
                      }
                    ],
                    "heatmapgl": [
                      {
                        "colorbar": {
                          "outlinewidth": 0,
                          "ticks": ""
                        },
                        "colorscale": [
                          [
                            0,
                            "#0d0887"
                          ],
                          [
                            0.1111111111111111,
                            "#46039f"
                          ],
                          [
                            0.2222222222222222,
                            "#7201a8"
                          ],
                          [
                            0.3333333333333333,
                            "#9c179e"
                          ],
                          [
                            0.4444444444444444,
                            "#bd3786"
                          ],
                          [
                            0.5555555555555556,
                            "#d8576b"
                          ],
                          [
                            0.6666666666666666,
                            "#ed7953"
                          ],
                          [
                            0.7777777777777778,
                            "#fb9f3a"
                          ],
                          [
                            0.8888888888888888,
                            "#fdca26"
                          ],
                          [
                            1,
                            "#f0f921"
                          ]
                        ],
                        "type": "heatmapgl"
                      }
                    ],
                    "histogram": [
                      {
                        "marker": {
                          "pattern": {
                            "fillmode": "overlay",
                            "size": 10,
                            "solidity": 0.2
                          }
                        },
                        "type": "histogram"
                      }
                    ],
                    "histogram2d": [
                      {
                        "colorbar": {
                          "outlinewidth": 0,
                          "ticks": ""
                        },
                        "colorscale": [
                          [
                            0,
                            "#0d0887"
                          ],
                          [
                            0.1111111111111111,
                            "#46039f"
                          ],
                          [
                            0.2222222222222222,
                            "#7201a8"
                          ],
                          [
                            0.3333333333333333,
                            "#9c179e"
                          ],
                          [
                            0.4444444444444444,
                            "#bd3786"
                          ],
                          [
                            0.5555555555555556,
                            "#d8576b"
                          ],
                          [
                            0.6666666666666666,
                            "#ed7953"
                          ],
                          [
                            0.7777777777777778,
                            "#fb9f3a"
                          ],
                          [
                            0.8888888888888888,
                            "#fdca26"
                          ],
                          [
                            1,
                            "#f0f921"
                          ]
                        ],
                        "type": "histogram2d"
                      }
                    ],
                    "histogram2dcontour": [
                      {
                        "colorbar": {
                          "outlinewidth": 0,
                          "ticks": ""
                        },
                        "colorscale": [
                          [
                            0,
                            "#0d0887"
                          ],
                          [
                            0.1111111111111111,
                            "#46039f"
                          ],
                          [
                            0.2222222222222222,
                            "#7201a8"
                          ],
                          [
                            0.3333333333333333,
                            "#9c179e"
                          ],
                          [
                            0.4444444444444444,
                            "#bd3786"
                          ],
                          [
                            0.5555555555555556,
                            "#d8576b"
                          ],
                          [
                            0.6666666666666666,
                            "#ed7953"
                          ],
                          [
                            0.7777777777777778,
                            "#fb9f3a"
                          ],
                          [
                            0.8888888888888888,
                            "#fdca26"
                          ],
                          [
                            1,
                            "#f0f921"
                          ]
                        ],
                        "type": "histogram2dcontour"
                      }
                    ],
                    "mesh3d": [
                      {
                        "colorbar": {
                          "outlinewidth": 0,
                          "ticks": ""
                        },
                        "type": "mesh3d"
                      }
                    ],
                    "parcoords": [
                      {
                        "line": {
                          "colorbar": {
                            "outlinewidth": 0,
                            "ticks": ""
                          }
                        },
                        "type": "parcoords"
                      }
                    ],
                    "pie": [
                      {
                        "automargin": true,
                        "type": "pie"
                      }
                    ],
                    "scatter": [
                      {
                        "fillpattern": {
                          "fillmode": "overlay",
                          "size": 10,
                          "solidity": 0.2
                        },
                        "type": "scatter"
                      }
                    ],
                    "scatter3d": [
                      {
                        "line": {
                          "colorbar": {
                            "outlinewidth": 0,
                            "ticks": ""
                          }
                        },
                        "marker": {
                          "colorbar": {
                            "outlinewidth": 0,
                            "ticks": ""
                          }
                        },
                        "type": "scatter3d"
                      }
                    ],
                    "scattercarpet": [
                      {
                        "marker": {
                          "colorbar": {
                            "outlinewidth": 0,
                            "ticks": ""
                          }
                        },
                        "type": "scattercarpet"
                      }
                    ],
                    "scattergeo": [
                      {
                        "marker": {
                          "colorbar": {
                            "outlinewidth": 0,
                            "ticks": ""
                          }
                        },
                        "type": "scattergeo"
                      }
                    ],
                    "scattergl": [
                      {
                        "marker": {
                          "colorbar": {
                            "outlinewidth": 0,
                            "ticks": ""
                          }
                        },
                        "type": "scattergl"
                      }
                    ],
                    "scattermapbox": [
                      {
                        "marker": {
                          "colorbar": {
                            "outlinewidth": 0,
                            "ticks": ""
                          }
                        },
                        "type": "scattermapbox"
                      }
                    ],
                    "scatterpolar": [
                      {
                        "marker": {
                          "colorbar": {
                            "outlinewidth": 0,
                            "ticks": ""
                          }
                        },
                        "type": "scatterpolar"
                      }
                    ],
                    "scatterpolargl": [
                      {
                        "marker": {
                          "colorbar": {
                            "outlinewidth": 0,
                            "ticks": ""
                          }
                        },
                        "type": "scatterpolargl"
                      }
                    ],
                    "scatterternary": [
                      {
                        "marker": {
                          "colorbar": {
                            "outlinewidth": 0,
                            "ticks": ""
                          }
                        },
                        "type": "scatterternary"
                      }
                    ],
                    "surface": [
                      {
                        "colorbar": {
                          "outlinewidth": 0,
                          "ticks": ""
                        },
                        "colorscale": [
                          [
                            0,
                            "#0d0887"
                          ],
                          [
                            0.1111111111111111,
                            "#46039f"
                          ],
                          [
                            0.2222222222222222,
                            "#7201a8"
                          ],
                          [
                            0.3333333333333333,
                            "#9c179e"
                          ],
                          [
                            0.4444444444444444,
                            "#bd3786"
                          ],
                          [
                            0.5555555555555556,
                            "#d8576b"
                          ],
                          [
                            0.6666666666666666,
                            "#ed7953"
                          ],
                          [
                            0.7777777777777778,
                            "#fb9f3a"
                          ],
                          [
                            0.8888888888888888,
                            "#fdca26"
                          ],
                          [
                            1,
                            "#f0f921"
                          ]
                        ],
                        "type": "surface"
                      }
                    ],
                    "table": [
                      {
                        "cells": {
                          "fill": {
                            "color": "#EBF0F8"
                          },
                          "line": {
                            "color": "white"
                          }
                        },
                        "header": {
                          "fill": {
                            "color": "#C8D4E3"
                          },
                          "line": {
                            "color": "white"
                          }
                        },
                        "type": "table"
                      }
                    ]
                  },
                  "layout": {
                    "annotationdefaults": {
                      "arrowcolor": "#2a3f5f",
                      "arrowhead": 0,
                      "arrowwidth": 1
                    },
                    "autotypenumbers": "strict",
                    "coloraxis": {
                      "colorbar": {
                        "outlinewidth": 0,
                        "ticks": ""
                      }
                    },
                    "colorscale": {
                      "diverging": [
                        [
                          0,
                          "#8e0152"
                        ],
                        [
                          0.1,
                          "#c51b7d"
                        ],
                        [
                          0.2,
                          "#de77ae"
                        ],
                        [
                          0.3,
                          "#f1b6da"
                        ],
                        [
                          0.4,
                          "#fde0ef"
                        ],
                        [
                          0.5,
                          "#f7f7f7"
                        ],
                        [
                          0.6,
                          "#e6f5d0"
                        ],
                        [
                          0.7,
                          "#b8e186"
                        ],
                        [
                          0.8,
                          "#7fbc41"
                        ],
                        [
                          0.9,
                          "#4d9221"
                        ],
                        [
                          1,
                          "#276419"
                        ]
                      ],
                      "sequential": [
                        [
                          0,
                          "#0d0887"
                        ],
                        [
                          0.1111111111111111,
                          "#46039f"
                        ],
                        [
                          0.2222222222222222,
                          "#7201a8"
                        ],
                        [
                          0.3333333333333333,
                          "#9c179e"
                        ],
                        [
                          0.4444444444444444,
                          "#bd3786"
                        ],
                        [
                          0.5555555555555556,
                          "#d8576b"
                        ],
                        [
                          0.6666666666666666,
                          "#ed7953"
                        ],
                        [
                          0.7777777777777778,
                          "#fb9f3a"
                        ],
                        [
                          0.8888888888888888,
                          "#fdca26"
                        ],
                        [
                          1,
                          "#f0f921"
                        ]
                      ],
                      "sequentialminus": [
                        [
                          0,
                          "#0d0887"
                        ],
                        [
                          0.1111111111111111,
                          "#46039f"
                        ],
                        [
                          0.2222222222222222,
                          "#7201a8"
                        ],
                        [
                          0.3333333333333333,
                          "#9c179e"
                        ],
                        [
                          0.4444444444444444,
                          "#bd3786"
                        ],
                        [
                          0.5555555555555556,
                          "#d8576b"
                        ],
                        [
                          0.6666666666666666,
                          "#ed7953"
                        ],
                        [
                          0.7777777777777778,
                          "#fb9f3a"
                        ],
                        [
                          0.8888888888888888,
                          "#fdca26"
                        ],
                        [
                          1,
                          "#f0f921"
                        ]
                      ]
                    },
                    "colorway": [
                      "#636efa",
                      "#EF553B",
                      "#00cc96",
                      "#ab63fa",
                      "#FFA15A",
                      "#19d3f3",
                      "#FF6692",
                      "#B6E880",
                      "#FF97FF",
                      "#FECB52"
                    ],
                    "font": {
                      "color": "#2a3f5f"
                    },
                    "geo": {
                      "bgcolor": "white",
                      "lakecolor": "white",
                      "landcolor": "#E5ECF6",
                      "showlakes": true,
                      "showland": true,
                      "subunitcolor": "white"
                    },
                    "hoverlabel": {
                      "align": "left"
                    },
                    "hovermode": "closest",
                    "mapbox": {
                      "style": "light"
                    },
                    "paper_bgcolor": "white",
                    "plot_bgcolor": "#E5ECF6",
                    "polar": {
                      "angularaxis": {
                        "gridcolor": "white",
                        "linecolor": "white",
                        "ticks": ""
                      },
                      "bgcolor": "#E5ECF6",
                      "radialaxis": {
                        "gridcolor": "white",
                        "linecolor": "white",
                        "ticks": ""
                      }
                    },
                    "scene": {
                      "xaxis": {
                        "backgroundcolor": "#E5ECF6",
                        "gridcolor": "white",
                        "gridwidth": 2,
                        "linecolor": "white",
                        "showbackground": true,
                        "ticks": "",
                        "zerolinecolor": "white"
                      },
                      "yaxis": {
                        "backgroundcolor": "#E5ECF6",
                        "gridcolor": "white",
                        "gridwidth": 2,
                        "linecolor": "white",
                        "showbackground": true,
                        "ticks": "",
                        "zerolinecolor": "white"
                      },
                      "zaxis": {
                        "backgroundcolor": "#E5ECF6",
                        "gridcolor": "white",
                        "gridwidth": 2,
                        "linecolor": "white",
                        "showbackground": true,
                        "ticks": "",
                        "zerolinecolor": "white"
                      }
                    },
                    "shapedefaults": {
                      "line": {
                        "color": "#2a3f5f"
                      }
                    },
                    "ternary": {
                      "aaxis": {
                        "gridcolor": "white",
                        "linecolor": "white",
                        "ticks": ""
                      },
                      "baxis": {
                        "gridcolor": "white",
                        "linecolor": "white",
                        "ticks": ""
                      },
                      "bgcolor": "#E5ECF6",
                      "caxis": {
                        "gridcolor": "white",
                        "linecolor": "white",
                        "ticks": ""
                      }
                    },
                    "title": {
                      "x": 0.05
                    },
                    "xaxis": {
                      "automargin": true,
                      "gridcolor": "white",
                      "linecolor": "white",
                      "ticks": "",
                      "title": {
                        "standoff": 15
                      },
                      "zerolinecolor": "white",
                      "zerolinewidth": 2
                    },
                    "yaxis": {
                      "automargin": true,
                      "gridcolor": "white",
                      "linecolor": "white",
                      "ticks": "",
                      "title": {
                        "standoff": 15
                      },
                      "zerolinecolor": "white",
                      "zerolinewidth": 2
                    }
                  }
                },
                "title": {
                  "text": "Active rockets Vs. Decomissioned rockets"
                },
                "xaxis": {
                  "anchor": "y",
                  "domain": [
                    0,
                    1
                  ],
                  "title": {
                    "text": "Count"
                  }
                },
                "yaxis": {
                  "anchor": "x",
                  "categoryorder": "total ascending",
                  "domain": [
                    0,
                    1
                  ],
                  "title": {
                    "text": "Status"
                  }
                }
              }
            }
          },
          "metadata": {},
          "output_type": "display_data"
        }
      ],
      "source": [
        "rocket_fig = px.bar(\n",
        "    df_rocket,\n",
        "    x=\"Count\",\n",
        "    y=df_rocket.index,\n",
        "    color=\"Count\",\n",
        "    orientation=\"h\",\n",
        "    color_continuous_scale=px.colors.sequential.RdBu_r,\n",
        "    height=250\n",
        ")\n",
        "\n",
        "rocket_fig.update_layout(\n",
        "    title=\"Active rockets Vs. Decomissioned rockets\",\n",
        "    yaxis=dict(title=\"Status\", categoryorder=\"total ascending\"),\n",
        "    xaxis_title=\"Count\"\n",
        ")\n",
        "\n",
        "rocket_fig.update(layout_coloraxis_showscale=False)\n",
        "\n",
        "rocket_fig.show()"
      ]
    },
    {
      "cell_type": "markdown",
      "metadata": {
        "id": "y9WtP5xWkYkp"
      },
      "source": [
        "# Distribution of Mission Status\n",
        "\n",
        "How many missions were successful?\n",
        "How many missions failed?"
      ]
    },
    {
      "cell_type": "code",
      "execution_count": 170,
      "metadata": {
        "id": "83kY1alqmUhb"
      },
      "outputs": [
        {
          "data": {
            "text/html": [
              "<div>\n",
              "<style scoped>\n",
              "    .dataframe tbody tr th:only-of-type {\n",
              "        vertical-align: middle;\n",
              "    }\n",
              "\n",
              "    .dataframe tbody tr th {\n",
              "        vertical-align: top;\n",
              "    }\n",
              "\n",
              "    .dataframe thead th {\n",
              "        text-align: right;\n",
              "    }\n",
              "</style>\n",
              "<table border=\"1\" class=\"dataframe\">\n",
              "  <thead>\n",
              "    <tr style=\"text-align: right;\">\n",
              "      <th></th>\n",
              "      <th>Count</th>\n",
              "    </tr>\n",
              "  </thead>\n",
              "  <tbody>\n",
              "    <tr>\n",
              "      <th>Success</th>\n",
              "      <td>3879</td>\n",
              "    </tr>\n",
              "    <tr>\n",
              "      <th>Failure</th>\n",
              "      <td>339</td>\n",
              "    </tr>\n",
              "    <tr>\n",
              "      <th>Partial Failure</th>\n",
              "      <td>102</td>\n",
              "    </tr>\n",
              "    <tr>\n",
              "      <th>Prelaunch Failure</th>\n",
              "      <td>4</td>\n",
              "    </tr>\n",
              "  </tbody>\n",
              "</table>\n",
              "</div>"
            ],
            "text/plain": [
              "                   Count\n",
              "Success             3879\n",
              "Failure              339\n",
              "Partial Failure      102\n",
              "Prelaunch Failure      4"
            ]
          },
          "execution_count": 170,
          "metadata": {},
          "output_type": "execute_result"
        }
      ],
      "source": [
        "df_missions_status = df_data['Mission_Status'].value_counts()\n",
        "df_missions_status = pd.DataFrame(df_missions_status.values, df_missions_status.index, columns=['Count'])\n",
        "df_missions_status"
      ]
    },
    {
      "cell_type": "code",
      "execution_count": 171,
      "metadata": {
        "id": "bdmXcaopmUeZ"
      },
      "outputs": [
        {
          "data": {
            "application/vnd.plotly.v1+json": {
              "config": {
                "plotlyServerURL": "https://plot.ly"
              },
              "data": [
                {
                  "domain": {
                    "x": [
                      0,
                      1
                    ],
                    "y": [
                      0,
                      1
                    ]
                  },
                  "hole": 0.5,
                  "hovertemplate": "index=%{label}<br>Count=%{value}<extra></extra>",
                  "labels": [
                    "Success",
                    "Failure",
                    "Partial Failure",
                    "Prelaunch Failure"
                  ],
                  "legendgroup": "",
                  "name": "",
                  "showlegend": true,
                  "type": "pie",
                  "values": [
                    3879,
                    339,
                    102,
                    4
                  ]
                }
              ],
              "layout": {
                "legend": {
                  "tracegroupgap": 0
                },
                "margin": {
                  "t": 60
                },
                "piecolorway": [
                  "rgb(75, 41, 145)",
                  "rgb(135, 44, 162)",
                  "rgb(192, 54, 157)",
                  "rgb(234, 79, 136)",
                  "rgb(250, 120, 118)",
                  "rgb(246, 169, 122)",
                  "rgb(237, 217, 163)"
                ],
                "template": {
                  "data": {
                    "bar": [
                      {
                        "error_x": {
                          "color": "#2a3f5f"
                        },
                        "error_y": {
                          "color": "#2a3f5f"
                        },
                        "marker": {
                          "line": {
                            "color": "#E5ECF6",
                            "width": 0.5
                          },
                          "pattern": {
                            "fillmode": "overlay",
                            "size": 10,
                            "solidity": 0.2
                          }
                        },
                        "type": "bar"
                      }
                    ],
                    "barpolar": [
                      {
                        "marker": {
                          "line": {
                            "color": "#E5ECF6",
                            "width": 0.5
                          },
                          "pattern": {
                            "fillmode": "overlay",
                            "size": 10,
                            "solidity": 0.2
                          }
                        },
                        "type": "barpolar"
                      }
                    ],
                    "carpet": [
                      {
                        "aaxis": {
                          "endlinecolor": "#2a3f5f",
                          "gridcolor": "white",
                          "linecolor": "white",
                          "minorgridcolor": "white",
                          "startlinecolor": "#2a3f5f"
                        },
                        "baxis": {
                          "endlinecolor": "#2a3f5f",
                          "gridcolor": "white",
                          "linecolor": "white",
                          "minorgridcolor": "white",
                          "startlinecolor": "#2a3f5f"
                        },
                        "type": "carpet"
                      }
                    ],
                    "choropleth": [
                      {
                        "colorbar": {
                          "outlinewidth": 0,
                          "ticks": ""
                        },
                        "type": "choropleth"
                      }
                    ],
                    "contour": [
                      {
                        "colorbar": {
                          "outlinewidth": 0,
                          "ticks": ""
                        },
                        "colorscale": [
                          [
                            0,
                            "#0d0887"
                          ],
                          [
                            0.1111111111111111,
                            "#46039f"
                          ],
                          [
                            0.2222222222222222,
                            "#7201a8"
                          ],
                          [
                            0.3333333333333333,
                            "#9c179e"
                          ],
                          [
                            0.4444444444444444,
                            "#bd3786"
                          ],
                          [
                            0.5555555555555556,
                            "#d8576b"
                          ],
                          [
                            0.6666666666666666,
                            "#ed7953"
                          ],
                          [
                            0.7777777777777778,
                            "#fb9f3a"
                          ],
                          [
                            0.8888888888888888,
                            "#fdca26"
                          ],
                          [
                            1,
                            "#f0f921"
                          ]
                        ],
                        "type": "contour"
                      }
                    ],
                    "contourcarpet": [
                      {
                        "colorbar": {
                          "outlinewidth": 0,
                          "ticks": ""
                        },
                        "type": "contourcarpet"
                      }
                    ],
                    "heatmap": [
                      {
                        "colorbar": {
                          "outlinewidth": 0,
                          "ticks": ""
                        },
                        "colorscale": [
                          [
                            0,
                            "#0d0887"
                          ],
                          [
                            0.1111111111111111,
                            "#46039f"
                          ],
                          [
                            0.2222222222222222,
                            "#7201a8"
                          ],
                          [
                            0.3333333333333333,
                            "#9c179e"
                          ],
                          [
                            0.4444444444444444,
                            "#bd3786"
                          ],
                          [
                            0.5555555555555556,
                            "#d8576b"
                          ],
                          [
                            0.6666666666666666,
                            "#ed7953"
                          ],
                          [
                            0.7777777777777778,
                            "#fb9f3a"
                          ],
                          [
                            0.8888888888888888,
                            "#fdca26"
                          ],
                          [
                            1,
                            "#f0f921"
                          ]
                        ],
                        "type": "heatmap"
                      }
                    ],
                    "heatmapgl": [
                      {
                        "colorbar": {
                          "outlinewidth": 0,
                          "ticks": ""
                        },
                        "colorscale": [
                          [
                            0,
                            "#0d0887"
                          ],
                          [
                            0.1111111111111111,
                            "#46039f"
                          ],
                          [
                            0.2222222222222222,
                            "#7201a8"
                          ],
                          [
                            0.3333333333333333,
                            "#9c179e"
                          ],
                          [
                            0.4444444444444444,
                            "#bd3786"
                          ],
                          [
                            0.5555555555555556,
                            "#d8576b"
                          ],
                          [
                            0.6666666666666666,
                            "#ed7953"
                          ],
                          [
                            0.7777777777777778,
                            "#fb9f3a"
                          ],
                          [
                            0.8888888888888888,
                            "#fdca26"
                          ],
                          [
                            1,
                            "#f0f921"
                          ]
                        ],
                        "type": "heatmapgl"
                      }
                    ],
                    "histogram": [
                      {
                        "marker": {
                          "pattern": {
                            "fillmode": "overlay",
                            "size": 10,
                            "solidity": 0.2
                          }
                        },
                        "type": "histogram"
                      }
                    ],
                    "histogram2d": [
                      {
                        "colorbar": {
                          "outlinewidth": 0,
                          "ticks": ""
                        },
                        "colorscale": [
                          [
                            0,
                            "#0d0887"
                          ],
                          [
                            0.1111111111111111,
                            "#46039f"
                          ],
                          [
                            0.2222222222222222,
                            "#7201a8"
                          ],
                          [
                            0.3333333333333333,
                            "#9c179e"
                          ],
                          [
                            0.4444444444444444,
                            "#bd3786"
                          ],
                          [
                            0.5555555555555556,
                            "#d8576b"
                          ],
                          [
                            0.6666666666666666,
                            "#ed7953"
                          ],
                          [
                            0.7777777777777778,
                            "#fb9f3a"
                          ],
                          [
                            0.8888888888888888,
                            "#fdca26"
                          ],
                          [
                            1,
                            "#f0f921"
                          ]
                        ],
                        "type": "histogram2d"
                      }
                    ],
                    "histogram2dcontour": [
                      {
                        "colorbar": {
                          "outlinewidth": 0,
                          "ticks": ""
                        },
                        "colorscale": [
                          [
                            0,
                            "#0d0887"
                          ],
                          [
                            0.1111111111111111,
                            "#46039f"
                          ],
                          [
                            0.2222222222222222,
                            "#7201a8"
                          ],
                          [
                            0.3333333333333333,
                            "#9c179e"
                          ],
                          [
                            0.4444444444444444,
                            "#bd3786"
                          ],
                          [
                            0.5555555555555556,
                            "#d8576b"
                          ],
                          [
                            0.6666666666666666,
                            "#ed7953"
                          ],
                          [
                            0.7777777777777778,
                            "#fb9f3a"
                          ],
                          [
                            0.8888888888888888,
                            "#fdca26"
                          ],
                          [
                            1,
                            "#f0f921"
                          ]
                        ],
                        "type": "histogram2dcontour"
                      }
                    ],
                    "mesh3d": [
                      {
                        "colorbar": {
                          "outlinewidth": 0,
                          "ticks": ""
                        },
                        "type": "mesh3d"
                      }
                    ],
                    "parcoords": [
                      {
                        "line": {
                          "colorbar": {
                            "outlinewidth": 0,
                            "ticks": ""
                          }
                        },
                        "type": "parcoords"
                      }
                    ],
                    "pie": [
                      {
                        "automargin": true,
                        "type": "pie"
                      }
                    ],
                    "scatter": [
                      {
                        "fillpattern": {
                          "fillmode": "overlay",
                          "size": 10,
                          "solidity": 0.2
                        },
                        "type": "scatter"
                      }
                    ],
                    "scatter3d": [
                      {
                        "line": {
                          "colorbar": {
                            "outlinewidth": 0,
                            "ticks": ""
                          }
                        },
                        "marker": {
                          "colorbar": {
                            "outlinewidth": 0,
                            "ticks": ""
                          }
                        },
                        "type": "scatter3d"
                      }
                    ],
                    "scattercarpet": [
                      {
                        "marker": {
                          "colorbar": {
                            "outlinewidth": 0,
                            "ticks": ""
                          }
                        },
                        "type": "scattercarpet"
                      }
                    ],
                    "scattergeo": [
                      {
                        "marker": {
                          "colorbar": {
                            "outlinewidth": 0,
                            "ticks": ""
                          }
                        },
                        "type": "scattergeo"
                      }
                    ],
                    "scattergl": [
                      {
                        "marker": {
                          "colorbar": {
                            "outlinewidth": 0,
                            "ticks": ""
                          }
                        },
                        "type": "scattergl"
                      }
                    ],
                    "scattermapbox": [
                      {
                        "marker": {
                          "colorbar": {
                            "outlinewidth": 0,
                            "ticks": ""
                          }
                        },
                        "type": "scattermapbox"
                      }
                    ],
                    "scatterpolar": [
                      {
                        "marker": {
                          "colorbar": {
                            "outlinewidth": 0,
                            "ticks": ""
                          }
                        },
                        "type": "scatterpolar"
                      }
                    ],
                    "scatterpolargl": [
                      {
                        "marker": {
                          "colorbar": {
                            "outlinewidth": 0,
                            "ticks": ""
                          }
                        },
                        "type": "scatterpolargl"
                      }
                    ],
                    "scatterternary": [
                      {
                        "marker": {
                          "colorbar": {
                            "outlinewidth": 0,
                            "ticks": ""
                          }
                        },
                        "type": "scatterternary"
                      }
                    ],
                    "surface": [
                      {
                        "colorbar": {
                          "outlinewidth": 0,
                          "ticks": ""
                        },
                        "colorscale": [
                          [
                            0,
                            "#0d0887"
                          ],
                          [
                            0.1111111111111111,
                            "#46039f"
                          ],
                          [
                            0.2222222222222222,
                            "#7201a8"
                          ],
                          [
                            0.3333333333333333,
                            "#9c179e"
                          ],
                          [
                            0.4444444444444444,
                            "#bd3786"
                          ],
                          [
                            0.5555555555555556,
                            "#d8576b"
                          ],
                          [
                            0.6666666666666666,
                            "#ed7953"
                          ],
                          [
                            0.7777777777777778,
                            "#fb9f3a"
                          ],
                          [
                            0.8888888888888888,
                            "#fdca26"
                          ],
                          [
                            1,
                            "#f0f921"
                          ]
                        ],
                        "type": "surface"
                      }
                    ],
                    "table": [
                      {
                        "cells": {
                          "fill": {
                            "color": "#EBF0F8"
                          },
                          "line": {
                            "color": "white"
                          }
                        },
                        "header": {
                          "fill": {
                            "color": "#C8D4E3"
                          },
                          "line": {
                            "color": "white"
                          }
                        },
                        "type": "table"
                      }
                    ]
                  },
                  "layout": {
                    "annotationdefaults": {
                      "arrowcolor": "#2a3f5f",
                      "arrowhead": 0,
                      "arrowwidth": 1
                    },
                    "autotypenumbers": "strict",
                    "coloraxis": {
                      "colorbar": {
                        "outlinewidth": 0,
                        "ticks": ""
                      }
                    },
                    "colorscale": {
                      "diverging": [
                        [
                          0,
                          "#8e0152"
                        ],
                        [
                          0.1,
                          "#c51b7d"
                        ],
                        [
                          0.2,
                          "#de77ae"
                        ],
                        [
                          0.3,
                          "#f1b6da"
                        ],
                        [
                          0.4,
                          "#fde0ef"
                        ],
                        [
                          0.5,
                          "#f7f7f7"
                        ],
                        [
                          0.6,
                          "#e6f5d0"
                        ],
                        [
                          0.7,
                          "#b8e186"
                        ],
                        [
                          0.8,
                          "#7fbc41"
                        ],
                        [
                          0.9,
                          "#4d9221"
                        ],
                        [
                          1,
                          "#276419"
                        ]
                      ],
                      "sequential": [
                        [
                          0,
                          "#0d0887"
                        ],
                        [
                          0.1111111111111111,
                          "#46039f"
                        ],
                        [
                          0.2222222222222222,
                          "#7201a8"
                        ],
                        [
                          0.3333333333333333,
                          "#9c179e"
                        ],
                        [
                          0.4444444444444444,
                          "#bd3786"
                        ],
                        [
                          0.5555555555555556,
                          "#d8576b"
                        ],
                        [
                          0.6666666666666666,
                          "#ed7953"
                        ],
                        [
                          0.7777777777777778,
                          "#fb9f3a"
                        ],
                        [
                          0.8888888888888888,
                          "#fdca26"
                        ],
                        [
                          1,
                          "#f0f921"
                        ]
                      ],
                      "sequentialminus": [
                        [
                          0,
                          "#0d0887"
                        ],
                        [
                          0.1111111111111111,
                          "#46039f"
                        ],
                        [
                          0.2222222222222222,
                          "#7201a8"
                        ],
                        [
                          0.3333333333333333,
                          "#9c179e"
                        ],
                        [
                          0.4444444444444444,
                          "#bd3786"
                        ],
                        [
                          0.5555555555555556,
                          "#d8576b"
                        ],
                        [
                          0.6666666666666666,
                          "#ed7953"
                        ],
                        [
                          0.7777777777777778,
                          "#fb9f3a"
                        ],
                        [
                          0.8888888888888888,
                          "#fdca26"
                        ],
                        [
                          1,
                          "#f0f921"
                        ]
                      ]
                    },
                    "colorway": [
                      "#636efa",
                      "#EF553B",
                      "#00cc96",
                      "#ab63fa",
                      "#FFA15A",
                      "#19d3f3",
                      "#FF6692",
                      "#B6E880",
                      "#FF97FF",
                      "#FECB52"
                    ],
                    "font": {
                      "color": "#2a3f5f"
                    },
                    "geo": {
                      "bgcolor": "white",
                      "lakecolor": "white",
                      "landcolor": "#E5ECF6",
                      "showlakes": true,
                      "showland": true,
                      "subunitcolor": "white"
                    },
                    "hoverlabel": {
                      "align": "left"
                    },
                    "hovermode": "closest",
                    "mapbox": {
                      "style": "light"
                    },
                    "paper_bgcolor": "white",
                    "plot_bgcolor": "#E5ECF6",
                    "polar": {
                      "angularaxis": {
                        "gridcolor": "white",
                        "linecolor": "white",
                        "ticks": ""
                      },
                      "bgcolor": "#E5ECF6",
                      "radialaxis": {
                        "gridcolor": "white",
                        "linecolor": "white",
                        "ticks": ""
                      }
                    },
                    "scene": {
                      "xaxis": {
                        "backgroundcolor": "#E5ECF6",
                        "gridcolor": "white",
                        "gridwidth": 2,
                        "linecolor": "white",
                        "showbackground": true,
                        "ticks": "",
                        "zerolinecolor": "white"
                      },
                      "yaxis": {
                        "backgroundcolor": "#E5ECF6",
                        "gridcolor": "white",
                        "gridwidth": 2,
                        "linecolor": "white",
                        "showbackground": true,
                        "ticks": "",
                        "zerolinecolor": "white"
                      },
                      "zaxis": {
                        "backgroundcolor": "#E5ECF6",
                        "gridcolor": "white",
                        "gridwidth": 2,
                        "linecolor": "white",
                        "showbackground": true,
                        "ticks": "",
                        "zerolinecolor": "white"
                      }
                    },
                    "shapedefaults": {
                      "line": {
                        "color": "#2a3f5f"
                      }
                    },
                    "ternary": {
                      "aaxis": {
                        "gridcolor": "white",
                        "linecolor": "white",
                        "ticks": ""
                      },
                      "baxis": {
                        "gridcolor": "white",
                        "linecolor": "white",
                        "ticks": ""
                      },
                      "bgcolor": "#E5ECF6",
                      "caxis": {
                        "gridcolor": "white",
                        "linecolor": "white",
                        "ticks": ""
                      }
                    },
                    "title": {
                      "x": 0.05
                    },
                    "xaxis": {
                      "automargin": true,
                      "gridcolor": "white",
                      "linecolor": "white",
                      "ticks": "",
                      "title": {
                        "standoff": 15
                      },
                      "zerolinecolor": "white",
                      "zerolinewidth": 2
                    },
                    "yaxis": {
                      "automargin": true,
                      "gridcolor": "white",
                      "linecolor": "white",
                      "ticks": "",
                      "title": {
                        "standoff": 15
                      },
                      "zerolinecolor": "white",
                      "zerolinewidth": 2
                    }
                  }
                },
                "title": {
                  "text": "Distribution of Mission Status"
                }
              }
            }
          },
          "metadata": {},
          "output_type": "display_data"
        }
      ],
      "source": [
        "missions_status_fig = px.pie(\n",
        "    df_missions_status,\n",
        "    values=\"Count\",\n",
        "    names=df_missions_status.index,\n",
        "    hole=0.5,\n",
        "    color_discrete_sequence=px.colors.sequential.Agsunset\n",
        ")\n",
        "\n",
        "missions_status_fig.update_layout(\n",
        "    title=\"Distribution of Mission Status\"\n",
        ")\n",
        "\n",
        "missions_status_fig.show()"
      ]
    },
    {
      "cell_type": "markdown",
      "metadata": {
        "id": "jgTCihuoa-qH",
        "papermill": {
          "duration": 0.03854,
          "end_time": "2020-10-20T21:34:05.968626",
          "exception": false,
          "start_time": "2020-10-20T21:34:05.930086",
          "status": "completed"
        },
        "tags": []
      },
      "source": [
        "# How Expensive are the Launches? \n",
        "\n",
        "Create a histogram and visualise the distribution. The price column is given in USD millions (careful of missing values). "
      ]
    },
    {
      "cell_type": "code",
      "execution_count": 172,
      "metadata": {
        "id": "PLOMhzZFnSCO"
      },
      "outputs": [
        {
          "data": {
            "application/vnd.plotly.v1+json": {
              "config": {
                "plotlyServerURL": "https://plot.ly"
              },
              "data": [
                {
                  "alignmentgroup": "True",
                  "bingroup": "x",
                  "hovertemplate": "Price=%{x}<br>count=%{y}<extra></extra>",
                  "legendgroup": "",
                  "marker": {
                    "color": "#636efa",
                    "pattern": {
                      "shape": ""
                    }
                  },
                  "name": "",
                  "offsetgroup": "",
                  "orientation": "v",
                  "showlegend": false,
                  "type": "histogram",
                  "x": [
                    50,
                    29.75,
                    65,
                    145,
                    64.68,
                    48.5,
                    50,
                    90,
                    46,
                    28.3,
                    29.15,
                    29.75,
                    7.5,
                    64.68,
                    50,
                    29.15,
                    29.75,
                    50,
                    7.5,
                    30.8,
                    50,
                    29.75,
                    50,
                    5.3,
                    12,
                    112.5,
                    120,
                    48.5,
                    50,
                    29.15,
                    48.5,
                    153,
                    30.8,
                    48.5,
                    50,
                    29.15,
                    50,
                    48.5,
                    29.75,
                    200,
                    50,
                    85,
                    115,
                    90,
                    48.5,
                    7.5,
                    50,
                    50,
                    200,
                    29.75,
                    29.15,
                    50,
                    41.8,
                    65,
                    64.68,
                    50,
                    21,
                    48.5,
                    48.5,
                    7.5,
                    50,
                    64.68,
                    31,
                    200,
                    50,
                    29.15,
                    64.68,
                    85,
                    29.15,
                    7.5,
                    40,
                    65,
                    64.68,
                    48.5,
                    29.75,
                    112.5,
                    5.3,
                    64.68,
                    41.8,
                    164,
                    48.5,
                    7.5,
                    29.15,
                    7.5,
                    153,
                    50,
                    200,
                    65,
                    48.5,
                    48.5,
                    30.8,
                    50,
                    62,
                    65,
                    37,
                    7.5,
                    90,
                    29.15,
                    200,
                    50,
                    5.3,
                    65,
                    50,
                    64.68,
                    21,
                    7.5,
                    50,
                    64.68,
                    29.15,
                    85,
                    90,
                    48.5,
                    21,
                    29.15,
                    7.5,
                    37,
                    29.15,
                    50,
                    50,
                    200,
                    5.3,
                    350,
                    39,
                    50,
                    29.15,
                    48.5,
                    50,
                    5.3,
                    65,
                    47,
                    7.5,
                    29.15,
                    29.75,
                    50,
                    200,
                    50,
                    41.8,
                    21,
                    37,
                    29.75,
                    85,
                    50,
                    62,
                    7.5,
                    48.5,
                    29.15,
                    90,
                    30.8,
                    35,
                    64.68,
                    200,
                    153,
                    30.8,
                    50,
                    200,
                    112.5,
                    21,
                    50,
                    30.8,
                    37,
                    350,
                    50,
                    64.68,
                    50,
                    50,
                    48.5,
                    69.7,
                    30.8,
                    62,
                    30.8,
                    90,
                    69.7,
                    62,
                    29.75,
                    62,
                    85,
                    64.68,
                    50,
                    64.68,
                    109,
                    29.15,
                    5.3,
                    41.8,
                    62,
                    65,
                    153,
                    31,
                    64.68,
                    200,
                    62,
                    64.68,
                    62,
                    47,
                    29.75,
                    62,
                    145,
                    90,
                    62,
                    48.5,
                    90,
                    29.75,
                    48.5,
                    62,
                    200,
                    30.8,
                    7.5,
                    115,
                    5.3,
                    39,
                    29.75,
                    31,
                    29.75,
                    62,
                    30.8,
                    29.75,
                    62,
                    90,
                    62,
                    29.15,
                    29.75,
                    35,
                    30.8,
                    64.68,
                    85,
                    37,
                    45,
                    62,
                    123,
                    48.5,
                    41.8,
                    62,
                    90,
                    62,
                    29.75,
                    200,
                    30.8,
                    65,
                    145,
                    65,
                    62,
                    31,
                    46,
                    62,
                    109,
                    65,
                    62,
                    37,
                    48.5,
                    62,
                    200,
                    62,
                    62,
                    31,
                    29.15,
                    64.68,
                    48.5,
                    65,
                    62,
                    62,
                    200,
                    90,
                    7.5,
                    62,
                    47,
                    200,
                    62,
                    109,
                    29.15,
                    62,
                    90,
                    62,
                    37,
                    109,
                    62,
                    31,
                    200,
                    109,
                    62,
                    29.15,
                    29.75,
                    200,
                    29.75,
                    130,
                    40,
                    29.15,
                    112.5,
                    31,
                    37,
                    145,
                    29.75,
                    109,
                    5.3,
                    90,
                    85,
                    200,
                    25,
                    37,
                    115,
                    47,
                    62,
                    64.68,
                    200,
                    164,
                    29.75,
                    62,
                    64.68,
                    29.15,
                    123,
                    62,
                    64.68,
                    153,
                    31,
                    200,
                    62,
                    350,
                    65,
                    41.8,
                    64.68,
                    48.5,
                    62,
                    29.75,
                    62,
                    31,
                    62,
                    29.75,
                    48.5,
                    69.7,
                    48.5,
                    109,
                    65,
                    35,
                    31,
                    200,
                    62,
                    90,
                    41.8,
                    48.5,
                    109,
                    65,
                    200,
                    31,
                    56.5,
                    29.15,
                    62,
                    21,
                    109,
                    37,
                    200,
                    15,
                    109,
                    109,
                    123,
                    200,
                    31,
                    5.3,
                    41.8,
                    153,
                    47,
                    200,
                    112.5,
                    200,
                    109,
                    31,
                    56.5,
                    37,
                    200,
                    120,
                    56.5,
                    200,
                    56.5,
                    41.8,
                    31,
                    90,
                    29,
                    164,
                    123,
                    56.5,
                    56.5,
                    37,
                    90,
                    153,
                    56.5,
                    62,
                    145,
                    200,
                    350,
                    90,
                    29,
                    109,
                    80,
                    200,
                    31,
                    90,
                    56.5,
                    109,
                    200,
                    56.5,
                    109,
                    56.5,
                    109,
                    164,
                    56.5,
                    80,
                    41.8,
                    21,
                    29,
                    90,
                    41.8,
                    109,
                    164,
                    37,
                    56.5,
                    145,
                    31,
                    109,
                    200,
                    90,
                    164,
                    200,
                    109,
                    80,
                    56.5,
                    47,
                    41.8,
                    120,
                    56.5,
                    41.8,
                    29,
                    40,
                    109,
                    31,
                    56.5,
                    140,
                    80,
                    41.8,
                    55,
                    200,
                    350,
                    29,
                    112.5,
                    200,
                    153,
                    65,
                    31,
                    40,
                    109,
                    37,
                    80,
                    109,
                    59.5,
                    21,
                    109,
                    200,
                    109,
                    90,
                    41.8,
                    200,
                    120,
                    80,
                    200,
                    59.5,
                    164,
                    200,
                    109,
                    21,
                    109,
                    200,
                    41.8,
                    112.5,
                    200,
                    350,
                    109,
                    40,
                    59.5,
                    90,
                    200,
                    140,
                    31,
                    31,
                    153,
                    37,
                    80,
                    90,
                    145,
                    21,
                    46,
                    90,
                    200,
                    90,
                    29,
                    200,
                    153,
                    164,
                    31,
                    450,
                    40,
                    200,
                    450,
                    109,
                    200,
                    25,
                    115,
                    164,
                    120,
                    45,
                    450,
                    40,
                    41.8,
                    112.5,
                    350,
                    200,
                    47,
                    59.5,
                    200,
                    350,
                    46,
                    200,
                    46,
                    120,
                    41.8,
                    140,
                    200,
                    21,
                    200,
                    29,
                    29,
                    59.5,
                    41.8,
                    164,
                    200,
                    450,
                    90,
                    120,
                    47,
                    29,
                    450,
                    164,
                    109,
                    450,
                    90,
                    130,
                    450,
                    41.8,
                    200,
                    450,
                    109,
                    200,
                    21,
                    112.5,
                    109,
                    450,
                    200,
                    29,
                    450,
                    7,
                    41.8,
                    200,
                    164,
                    123,
                    40,
                    200,
                    450,
                    21,
                    123,
                    41.8,
                    450,
                    45,
                    200,
                    90,
                    350,
                    200,
                    450,
                    29.75,
                    29.75,
                    29.15,
                    64.68,
                    31,
                    40,
                    29,
                    7,
                    29,
                    200,
                    7,
                    200,
                    200,
                    450,
                    64.68,
                    41.8,
                    21,
                    20.14,
                    200,
                    40,
                    123,
                    115,
                    450,
                    90,
                    450,
                    21,
                    109,
                    200,
                    64.68,
                    350,
                    450,
                    123,
                    64.68,
                    47,
                    200,
                    450,
                    29,
                    109,
                    29,
                    450,
                    69.7,
                    29.75,
                    29.15,
                    200,
                    40,
                    40,
                    21,
                    29,
                    69.7,
                    30.8,
                    7,
                    200,
                    109,
                    69.7,
                    25,
                    40,
                    450,
                    200,
                    69.7,
                    133,
                    64.68,
                    200,
                    69.7,
                    90,
                    450,
                    30.8,
                    200,
                    41.8,
                    29,
                    29,
                    47,
                    450,
                    164,
                    200,
                    164,
                    64.68,
                    115,
                    40,
                    40,
                    7,
                    200,
                    153,
                    200,
                    41.8,
                    40,
                    29.75,
                    41.8,
                    29,
                    109,
                    30.8,
                    450,
                    29.75,
                    25,
                    40,
                    40,
                    130,
                    200,
                    350,
                    190,
                    135,
                    30.8,
                    48.5,
                    64.68,
                    69.7,
                    29.75,
                    47,
                    64.68,
                    30.8,
                    30.8,
                    190,
                    29,
                    45,
                    30.8,
                    190,
                    30.8,
                    69.7,
                    29.75,
                    41.8,
                    64.68,
                    35,
                    25,
                    133,
                    40,
                    135,
                    41.8,
                    40,
                    69.7,
                    109,
                    47,
                    40,
                    133,
                    40,
                    450,
                    35,
                    29,
                    90,
                    200,
                    450,
                    164,
                    64.68,
                    450,
                    25,
                    109,
                    35,
                    41.8,
                    450,
                    64.68,
                    450,
                    41.8,
                    450,
                    40,
                    450,
                    25,
                    45,
                    90,
                    450,
                    450,
                    450,
                    47,
                    450,
                    450,
                    69.7,
                    450,
                    69.7,
                    450,
                    40,
                    29,
                    35,
                    450,
                    40,
                    40,
                    450,
                    41.8,
                    45,
                    450,
                    40,
                    69.7,
                    45,
                    450,
                    35,
                    40,
                    64.68,
                    450,
                    35,
                    30.8,
                    25,
                    450,
                    40,
                    64.68,
                    29,
                    40,
                    30.8,
                    40,
                    450,
                    450,
                    40,
                    45,
                    40,
                    30.8,
                    40,
                    450,
                    35,
                    30.8,
                    450,
                    40,
                    30.8,
                    40,
                    45,
                    450,
                    40,
                    30.8,
                    450,
                    40,
                    25,
                    450,
                    30.8,
                    40,
                    450,
                    40,
                    450,
                    450,
                    69.7,
                    40,
                    450,
                    35,
                    450,
                    450,
                    450,
                    40,
                    29.75,
                    450,
                    40,
                    40,
                    450,
                    450,
                    40,
                    450,
                    25,
                    40,
                    450,
                    450,
                    450,
                    20,
                    450,
                    450,
                    450,
                    450,
                    40,
                    40,
                    450,
                    450,
                    69.7,
                    450,
                    25,
                    450,
                    450,
                    40,
                    450,
                    29.75,
                    40,
                    40,
                    450,
                    45,
                    450,
                    69.7,
                    450,
                    35,
                    450,
                    450,
                    30.8,
                    35,
                    25,
                    450,
                    450,
                    450,
                    40,
                    450,
                    40,
                    450,
                    450,
                    450,
                    30.8,
                    136.6,
                    450,
                    29.75,
                    450,
                    450,
                    450,
                    35,
                    450,
                    450,
                    450,
                    450,
                    450,
                    40,
                    450,
                    450,
                    450,
                    450,
                    450,
                    450,
                    30.8,
                    136.6,
                    450,
                    40,
                    136.6,
                    450,
                    450,
                    136.6,
                    450,
                    450,
                    35,
                    450,
                    450,
                    450,
                    450,
                    5000,
                    450,
                    35,
                    30.8,
                    30.8,
                    30.8,
                    5000,
                    30.8,
                    450,
                    450,
                    450,
                    450,
                    30.8,
                    450,
                    450,
                    450,
                    450,
                    450,
                    450,
                    450,
                    450,
                    450,
                    30.8,
                    450,
                    450,
                    450,
                    450,
                    450,
                    30.8,
                    450,
                    450,
                    450,
                    30.8,
                    450,
                    450,
                    450,
                    450,
                    1160,
                    1160,
                    1160,
                    1160,
                    1160,
                    1160,
                    1160,
                    1160,
                    59,
                    1160,
                    59,
                    59,
                    1160,
                    59,
                    1160,
                    59,
                    59,
                    59,
                    59,
                    59,
                    59,
                    1160,
                    59,
                    59,
                    59,
                    1160,
                    59,
                    59,
                    59,
                    59,
                    59,
                    59,
                    59,
                    59,
                    59,
                    63.23,
                    63.23,
                    63.23,
                    63.23
                  ],
                  "xaxis": "x",
                  "yaxis": "y"
                }
              ],
              "layout": {
                "barmode": "relative",
                "legend": {
                  "tracegroupgap": 0
                },
                "margin": {
                  "t": 60
                },
                "template": {
                  "data": {
                    "bar": [
                      {
                        "error_x": {
                          "color": "#2a3f5f"
                        },
                        "error_y": {
                          "color": "#2a3f5f"
                        },
                        "marker": {
                          "line": {
                            "color": "#E5ECF6",
                            "width": 0.5
                          },
                          "pattern": {
                            "fillmode": "overlay",
                            "size": 10,
                            "solidity": 0.2
                          }
                        },
                        "type": "bar"
                      }
                    ],
                    "barpolar": [
                      {
                        "marker": {
                          "line": {
                            "color": "#E5ECF6",
                            "width": 0.5
                          },
                          "pattern": {
                            "fillmode": "overlay",
                            "size": 10,
                            "solidity": 0.2
                          }
                        },
                        "type": "barpolar"
                      }
                    ],
                    "carpet": [
                      {
                        "aaxis": {
                          "endlinecolor": "#2a3f5f",
                          "gridcolor": "white",
                          "linecolor": "white",
                          "minorgridcolor": "white",
                          "startlinecolor": "#2a3f5f"
                        },
                        "baxis": {
                          "endlinecolor": "#2a3f5f",
                          "gridcolor": "white",
                          "linecolor": "white",
                          "minorgridcolor": "white",
                          "startlinecolor": "#2a3f5f"
                        },
                        "type": "carpet"
                      }
                    ],
                    "choropleth": [
                      {
                        "colorbar": {
                          "outlinewidth": 0,
                          "ticks": ""
                        },
                        "type": "choropleth"
                      }
                    ],
                    "contour": [
                      {
                        "colorbar": {
                          "outlinewidth": 0,
                          "ticks": ""
                        },
                        "colorscale": [
                          [
                            0,
                            "#0d0887"
                          ],
                          [
                            0.1111111111111111,
                            "#46039f"
                          ],
                          [
                            0.2222222222222222,
                            "#7201a8"
                          ],
                          [
                            0.3333333333333333,
                            "#9c179e"
                          ],
                          [
                            0.4444444444444444,
                            "#bd3786"
                          ],
                          [
                            0.5555555555555556,
                            "#d8576b"
                          ],
                          [
                            0.6666666666666666,
                            "#ed7953"
                          ],
                          [
                            0.7777777777777778,
                            "#fb9f3a"
                          ],
                          [
                            0.8888888888888888,
                            "#fdca26"
                          ],
                          [
                            1,
                            "#f0f921"
                          ]
                        ],
                        "type": "contour"
                      }
                    ],
                    "contourcarpet": [
                      {
                        "colorbar": {
                          "outlinewidth": 0,
                          "ticks": ""
                        },
                        "type": "contourcarpet"
                      }
                    ],
                    "heatmap": [
                      {
                        "colorbar": {
                          "outlinewidth": 0,
                          "ticks": ""
                        },
                        "colorscale": [
                          [
                            0,
                            "#0d0887"
                          ],
                          [
                            0.1111111111111111,
                            "#46039f"
                          ],
                          [
                            0.2222222222222222,
                            "#7201a8"
                          ],
                          [
                            0.3333333333333333,
                            "#9c179e"
                          ],
                          [
                            0.4444444444444444,
                            "#bd3786"
                          ],
                          [
                            0.5555555555555556,
                            "#d8576b"
                          ],
                          [
                            0.6666666666666666,
                            "#ed7953"
                          ],
                          [
                            0.7777777777777778,
                            "#fb9f3a"
                          ],
                          [
                            0.8888888888888888,
                            "#fdca26"
                          ],
                          [
                            1,
                            "#f0f921"
                          ]
                        ],
                        "type": "heatmap"
                      }
                    ],
                    "heatmapgl": [
                      {
                        "colorbar": {
                          "outlinewidth": 0,
                          "ticks": ""
                        },
                        "colorscale": [
                          [
                            0,
                            "#0d0887"
                          ],
                          [
                            0.1111111111111111,
                            "#46039f"
                          ],
                          [
                            0.2222222222222222,
                            "#7201a8"
                          ],
                          [
                            0.3333333333333333,
                            "#9c179e"
                          ],
                          [
                            0.4444444444444444,
                            "#bd3786"
                          ],
                          [
                            0.5555555555555556,
                            "#d8576b"
                          ],
                          [
                            0.6666666666666666,
                            "#ed7953"
                          ],
                          [
                            0.7777777777777778,
                            "#fb9f3a"
                          ],
                          [
                            0.8888888888888888,
                            "#fdca26"
                          ],
                          [
                            1,
                            "#f0f921"
                          ]
                        ],
                        "type": "heatmapgl"
                      }
                    ],
                    "histogram": [
                      {
                        "marker": {
                          "pattern": {
                            "fillmode": "overlay",
                            "size": 10,
                            "solidity": 0.2
                          }
                        },
                        "type": "histogram"
                      }
                    ],
                    "histogram2d": [
                      {
                        "colorbar": {
                          "outlinewidth": 0,
                          "ticks": ""
                        },
                        "colorscale": [
                          [
                            0,
                            "#0d0887"
                          ],
                          [
                            0.1111111111111111,
                            "#46039f"
                          ],
                          [
                            0.2222222222222222,
                            "#7201a8"
                          ],
                          [
                            0.3333333333333333,
                            "#9c179e"
                          ],
                          [
                            0.4444444444444444,
                            "#bd3786"
                          ],
                          [
                            0.5555555555555556,
                            "#d8576b"
                          ],
                          [
                            0.6666666666666666,
                            "#ed7953"
                          ],
                          [
                            0.7777777777777778,
                            "#fb9f3a"
                          ],
                          [
                            0.8888888888888888,
                            "#fdca26"
                          ],
                          [
                            1,
                            "#f0f921"
                          ]
                        ],
                        "type": "histogram2d"
                      }
                    ],
                    "histogram2dcontour": [
                      {
                        "colorbar": {
                          "outlinewidth": 0,
                          "ticks": ""
                        },
                        "colorscale": [
                          [
                            0,
                            "#0d0887"
                          ],
                          [
                            0.1111111111111111,
                            "#46039f"
                          ],
                          [
                            0.2222222222222222,
                            "#7201a8"
                          ],
                          [
                            0.3333333333333333,
                            "#9c179e"
                          ],
                          [
                            0.4444444444444444,
                            "#bd3786"
                          ],
                          [
                            0.5555555555555556,
                            "#d8576b"
                          ],
                          [
                            0.6666666666666666,
                            "#ed7953"
                          ],
                          [
                            0.7777777777777778,
                            "#fb9f3a"
                          ],
                          [
                            0.8888888888888888,
                            "#fdca26"
                          ],
                          [
                            1,
                            "#f0f921"
                          ]
                        ],
                        "type": "histogram2dcontour"
                      }
                    ],
                    "mesh3d": [
                      {
                        "colorbar": {
                          "outlinewidth": 0,
                          "ticks": ""
                        },
                        "type": "mesh3d"
                      }
                    ],
                    "parcoords": [
                      {
                        "line": {
                          "colorbar": {
                            "outlinewidth": 0,
                            "ticks": ""
                          }
                        },
                        "type": "parcoords"
                      }
                    ],
                    "pie": [
                      {
                        "automargin": true,
                        "type": "pie"
                      }
                    ],
                    "scatter": [
                      {
                        "fillpattern": {
                          "fillmode": "overlay",
                          "size": 10,
                          "solidity": 0.2
                        },
                        "type": "scatter"
                      }
                    ],
                    "scatter3d": [
                      {
                        "line": {
                          "colorbar": {
                            "outlinewidth": 0,
                            "ticks": ""
                          }
                        },
                        "marker": {
                          "colorbar": {
                            "outlinewidth": 0,
                            "ticks": ""
                          }
                        },
                        "type": "scatter3d"
                      }
                    ],
                    "scattercarpet": [
                      {
                        "marker": {
                          "colorbar": {
                            "outlinewidth": 0,
                            "ticks": ""
                          }
                        },
                        "type": "scattercarpet"
                      }
                    ],
                    "scattergeo": [
                      {
                        "marker": {
                          "colorbar": {
                            "outlinewidth": 0,
                            "ticks": ""
                          }
                        },
                        "type": "scattergeo"
                      }
                    ],
                    "scattergl": [
                      {
                        "marker": {
                          "colorbar": {
                            "outlinewidth": 0,
                            "ticks": ""
                          }
                        },
                        "type": "scattergl"
                      }
                    ],
                    "scattermapbox": [
                      {
                        "marker": {
                          "colorbar": {
                            "outlinewidth": 0,
                            "ticks": ""
                          }
                        },
                        "type": "scattermapbox"
                      }
                    ],
                    "scatterpolar": [
                      {
                        "marker": {
                          "colorbar": {
                            "outlinewidth": 0,
                            "ticks": ""
                          }
                        },
                        "type": "scatterpolar"
                      }
                    ],
                    "scatterpolargl": [
                      {
                        "marker": {
                          "colorbar": {
                            "outlinewidth": 0,
                            "ticks": ""
                          }
                        },
                        "type": "scatterpolargl"
                      }
                    ],
                    "scatterternary": [
                      {
                        "marker": {
                          "colorbar": {
                            "outlinewidth": 0,
                            "ticks": ""
                          }
                        },
                        "type": "scatterternary"
                      }
                    ],
                    "surface": [
                      {
                        "colorbar": {
                          "outlinewidth": 0,
                          "ticks": ""
                        },
                        "colorscale": [
                          [
                            0,
                            "#0d0887"
                          ],
                          [
                            0.1111111111111111,
                            "#46039f"
                          ],
                          [
                            0.2222222222222222,
                            "#7201a8"
                          ],
                          [
                            0.3333333333333333,
                            "#9c179e"
                          ],
                          [
                            0.4444444444444444,
                            "#bd3786"
                          ],
                          [
                            0.5555555555555556,
                            "#d8576b"
                          ],
                          [
                            0.6666666666666666,
                            "#ed7953"
                          ],
                          [
                            0.7777777777777778,
                            "#fb9f3a"
                          ],
                          [
                            0.8888888888888888,
                            "#fdca26"
                          ],
                          [
                            1,
                            "#f0f921"
                          ]
                        ],
                        "type": "surface"
                      }
                    ],
                    "table": [
                      {
                        "cells": {
                          "fill": {
                            "color": "#EBF0F8"
                          },
                          "line": {
                            "color": "white"
                          }
                        },
                        "header": {
                          "fill": {
                            "color": "#C8D4E3"
                          },
                          "line": {
                            "color": "white"
                          }
                        },
                        "type": "table"
                      }
                    ]
                  },
                  "layout": {
                    "annotationdefaults": {
                      "arrowcolor": "#2a3f5f",
                      "arrowhead": 0,
                      "arrowwidth": 1
                    },
                    "autotypenumbers": "strict",
                    "coloraxis": {
                      "colorbar": {
                        "outlinewidth": 0,
                        "ticks": ""
                      }
                    },
                    "colorscale": {
                      "diverging": [
                        [
                          0,
                          "#8e0152"
                        ],
                        [
                          0.1,
                          "#c51b7d"
                        ],
                        [
                          0.2,
                          "#de77ae"
                        ],
                        [
                          0.3,
                          "#f1b6da"
                        ],
                        [
                          0.4,
                          "#fde0ef"
                        ],
                        [
                          0.5,
                          "#f7f7f7"
                        ],
                        [
                          0.6,
                          "#e6f5d0"
                        ],
                        [
                          0.7,
                          "#b8e186"
                        ],
                        [
                          0.8,
                          "#7fbc41"
                        ],
                        [
                          0.9,
                          "#4d9221"
                        ],
                        [
                          1,
                          "#276419"
                        ]
                      ],
                      "sequential": [
                        [
                          0,
                          "#0d0887"
                        ],
                        [
                          0.1111111111111111,
                          "#46039f"
                        ],
                        [
                          0.2222222222222222,
                          "#7201a8"
                        ],
                        [
                          0.3333333333333333,
                          "#9c179e"
                        ],
                        [
                          0.4444444444444444,
                          "#bd3786"
                        ],
                        [
                          0.5555555555555556,
                          "#d8576b"
                        ],
                        [
                          0.6666666666666666,
                          "#ed7953"
                        ],
                        [
                          0.7777777777777778,
                          "#fb9f3a"
                        ],
                        [
                          0.8888888888888888,
                          "#fdca26"
                        ],
                        [
                          1,
                          "#f0f921"
                        ]
                      ],
                      "sequentialminus": [
                        [
                          0,
                          "#0d0887"
                        ],
                        [
                          0.1111111111111111,
                          "#46039f"
                        ],
                        [
                          0.2222222222222222,
                          "#7201a8"
                        ],
                        [
                          0.3333333333333333,
                          "#9c179e"
                        ],
                        [
                          0.4444444444444444,
                          "#bd3786"
                        ],
                        [
                          0.5555555555555556,
                          "#d8576b"
                        ],
                        [
                          0.6666666666666666,
                          "#ed7953"
                        ],
                        [
                          0.7777777777777778,
                          "#fb9f3a"
                        ],
                        [
                          0.8888888888888888,
                          "#fdca26"
                        ],
                        [
                          1,
                          "#f0f921"
                        ]
                      ]
                    },
                    "colorway": [
                      "#636efa",
                      "#EF553B",
                      "#00cc96",
                      "#ab63fa",
                      "#FFA15A",
                      "#19d3f3",
                      "#FF6692",
                      "#B6E880",
                      "#FF97FF",
                      "#FECB52"
                    ],
                    "font": {
                      "color": "#2a3f5f"
                    },
                    "geo": {
                      "bgcolor": "white",
                      "lakecolor": "white",
                      "landcolor": "#E5ECF6",
                      "showlakes": true,
                      "showland": true,
                      "subunitcolor": "white"
                    },
                    "hoverlabel": {
                      "align": "left"
                    },
                    "hovermode": "closest",
                    "mapbox": {
                      "style": "light"
                    },
                    "paper_bgcolor": "white",
                    "plot_bgcolor": "#E5ECF6",
                    "polar": {
                      "angularaxis": {
                        "gridcolor": "white",
                        "linecolor": "white",
                        "ticks": ""
                      },
                      "bgcolor": "#E5ECF6",
                      "radialaxis": {
                        "gridcolor": "white",
                        "linecolor": "white",
                        "ticks": ""
                      }
                    },
                    "scene": {
                      "xaxis": {
                        "backgroundcolor": "#E5ECF6",
                        "gridcolor": "white",
                        "gridwidth": 2,
                        "linecolor": "white",
                        "showbackground": true,
                        "ticks": "",
                        "zerolinecolor": "white"
                      },
                      "yaxis": {
                        "backgroundcolor": "#E5ECF6",
                        "gridcolor": "white",
                        "gridwidth": 2,
                        "linecolor": "white",
                        "showbackground": true,
                        "ticks": "",
                        "zerolinecolor": "white"
                      },
                      "zaxis": {
                        "backgroundcolor": "#E5ECF6",
                        "gridcolor": "white",
                        "gridwidth": 2,
                        "linecolor": "white",
                        "showbackground": true,
                        "ticks": "",
                        "zerolinecolor": "white"
                      }
                    },
                    "shapedefaults": {
                      "line": {
                        "color": "#2a3f5f"
                      }
                    },
                    "ternary": {
                      "aaxis": {
                        "gridcolor": "white",
                        "linecolor": "white",
                        "ticks": ""
                      },
                      "baxis": {
                        "gridcolor": "white",
                        "linecolor": "white",
                        "ticks": ""
                      },
                      "bgcolor": "#E5ECF6",
                      "caxis": {
                        "gridcolor": "white",
                        "linecolor": "white",
                        "ticks": ""
                      }
                    },
                    "title": {
                      "x": 0.05
                    },
                    "xaxis": {
                      "automargin": true,
                      "gridcolor": "white",
                      "linecolor": "white",
                      "ticks": "",
                      "title": {
                        "standoff": 15
                      },
                      "zerolinecolor": "white",
                      "zerolinewidth": 2
                    },
                    "yaxis": {
                      "automargin": true,
                      "gridcolor": "white",
                      "linecolor": "white",
                      "ticks": "",
                      "title": {
                        "standoff": 15
                      },
                      "zerolinecolor": "white",
                      "zerolinewidth": 2
                    }
                  }
                },
                "title": {
                  "text": "Distribution of launches prices"
                },
                "xaxis": {
                  "anchor": "y",
                  "domain": [
                    0,
                    1
                  ],
                  "title": {
                    "text": "Price (in USD millions)"
                  }
                },
                "yaxis": {
                  "anchor": "x",
                  "domain": [
                    0,
                    1
                  ],
                  "title": {}
                }
              }
            }
          },
          "metadata": {},
          "output_type": "display_data"
        }
      ],
      "source": [
        "fig_price = px.histogram(\n",
        "    clean_df,\n",
        "    \"Price\"\n",
        ")\n",
        "\n",
        "fig_price.update_layout(\n",
        "    title=\"Distribution of launches prices\",\n",
        "    yaxis_title=None,\n",
        "    xaxis_title=\"Price (in USD millions)\"\n",
        ")\n",
        "\n",
        "fig_price.show()\n"
      ]
    },
    {
      "cell_type": "markdown",
      "metadata": {
        "id": "QiNtigQDne3E"
      },
      "source": [
        "# Use a Choropleth Map to Show the Number of Launches by Country\n",
        "\n",
        "* Create a choropleth map using [the plotly documentation](https://plotly.com/python/choropleth-maps/)\n",
        "* Experiment with [plotly's available colours](https://plotly.com/python/builtin-colorscales/). I quite like the sequential colour `matter` on this map. \n",
        "* You'll need to extract a `country` feature as well as change the country names that no longer exist.\n",
        "\n",
        "Wrangle the Country Names\n",
        "\n",
        "You'll need to use a 3 letter country code for each country. You might have to change some country names.\n",
        "\n",
        "* Russia is the Russian Federation\n",
        "* New Mexico should be USA\n",
        "* Yellow Sea refers to China\n",
        "* Shahrud Missile Test Site should be Iran\n",
        "* Pacific Missile Range Facility should be USA\n",
        "* Barents Sea should be Russian Federation\n",
        "* Gran Canaria should be USA\n",
        "\n",
        "\n",
        "You can use the iso3166 package to convert the country names to Alpha3 format."
      ]
    },
    {
      "cell_type": "code",
      "execution_count": 173,
      "metadata": {
        "id": "Y46-4GHrozhF"
      },
      "outputs": [],
      "source": [
        "df_data['Country'] = df_data['Location'].str.rsplit(\",\", 1).str[-1].str.strip()"
      ]
    },
    {
      "cell_type": "code",
      "execution_count": 174,
      "metadata": {
        "id": "ESGRWiX6ozZG"
      },
      "outputs": [
        {
          "data": {
            "text/plain": [
              "array(['USA', 'China', 'Kazakhstan', 'Japan', 'Israel', 'New Zealand',\n",
              "       'Russian Federation', 'Iran', 'France', 'India', 'North Korea',\n",
              "       'Pacific Ocean', 'South Korea', 'Brazil', 'Kenya', 'Australia'],\n",
              "      dtype=object)"
            ]
          },
          "execution_count": 174,
          "metadata": {},
          "output_type": "execute_result"
        }
      ],
      "source": [
        "df_data.loc[(df_data.Country == \"Russia\"), \"Country\"] = \"Russian Federation\"\n",
        "df_data.loc[(df_data.Country == \"New Mexico\"), \"Country\"] = \"USA\"\n",
        "df_data.loc[(df_data.Country == \"Yellow Sea\"), \"Country\"] = \"China\"\n",
        "df_data.loc[(df_data.Country == \"Shahrud Missile Test Site\"), \"Country\"] = \"Iran\"\n",
        "df_data.loc[(df_data.Country == \"Pacific Missile Range Facility\"), \"Country\"] = \"USA\"\n",
        "df_data.loc[(df_data.Country == \"Barents Sea\"), \"Country\"] = \"Russian Federation\"\n",
        "df_data.loc[(df_data.Country == \"Gran Canaria\"), \"Country\"] = \"USA\"\n",
        "\n",
        "df_data.Country.unique()"
      ]
    },
    {
      "cell_type": "code",
      "execution_count": 175,
      "metadata": {},
      "outputs": [],
      "source": [
        "df_data.loc[(df_data.Country == \"Iran\", \"Country\")] = \"IRN\"\n",
        "df_data.loc[(df_data.Country == \"North Korea\", \"Country\")] = \"PRK\""
      ]
    },
    {
      "cell_type": "code",
      "execution_count": 176,
      "metadata": {},
      "outputs": [],
      "source": [
        "def get_country_name(x):\n",
        "    if x != \"IRN\" and x != \"PRK\":\n",
        "        try:\n",
        "            return countries.get(x).alpha3\n",
        "        except KeyError:\n",
        "            return 'Unknown'\n",
        "    else:\n",
        "        return x"
      ]
    },
    {
      "cell_type": "code",
      "execution_count": 177,
      "metadata": {},
      "outputs": [],
      "source": [
        "df_data.Country = df_data.Country.apply(lambda x: get_country_name(x))"
      ]
    },
    {
      "cell_type": "code",
      "execution_count": 178,
      "metadata": {},
      "outputs": [
        {
          "data": {
            "text/html": [
              "<div>\n",
              "<style scoped>\n",
              "    .dataframe tbody tr th:only-of-type {\n",
              "        vertical-align: middle;\n",
              "    }\n",
              "\n",
              "    .dataframe tbody tr th {\n",
              "        vertical-align: top;\n",
              "    }\n",
              "\n",
              "    .dataframe thead th {\n",
              "        text-align: right;\n",
              "    }\n",
              "</style>\n",
              "<table border=\"1\" class=\"dataframe\">\n",
              "  <thead>\n",
              "    <tr style=\"text-align: right;\">\n",
              "      <th></th>\n",
              "      <th>Organisation</th>\n",
              "      <th>Location</th>\n",
              "      <th>Date</th>\n",
              "      <th>Detail</th>\n",
              "      <th>Rocket_Status</th>\n",
              "      <th>Price</th>\n",
              "      <th>Mission_Status</th>\n",
              "    </tr>\n",
              "    <tr>\n",
              "      <th>Country</th>\n",
              "      <th></th>\n",
              "      <th></th>\n",
              "      <th></th>\n",
              "      <th></th>\n",
              "      <th></th>\n",
              "      <th></th>\n",
              "      <th></th>\n",
              "    </tr>\n",
              "  </thead>\n",
              "  <tbody>\n",
              "    <tr>\n",
              "      <th>AUS</th>\n",
              "      <td>6</td>\n",
              "      <td>6</td>\n",
              "      <td>6</td>\n",
              "      <td>6</td>\n",
              "      <td>6</td>\n",
              "      <td>0</td>\n",
              "      <td>6</td>\n",
              "    </tr>\n",
              "    <tr>\n",
              "      <th>BRA</th>\n",
              "      <td>3</td>\n",
              "      <td>3</td>\n",
              "      <td>3</td>\n",
              "      <td>3</td>\n",
              "      <td>3</td>\n",
              "      <td>0</td>\n",
              "      <td>3</td>\n",
              "    </tr>\n",
              "    <tr>\n",
              "      <th>CHN</th>\n",
              "      <td>269</td>\n",
              "      <td>269</td>\n",
              "      <td>269</td>\n",
              "      <td>269</td>\n",
              "      <td>269</td>\n",
              "      <td>159</td>\n",
              "      <td>269</td>\n",
              "    </tr>\n",
              "    <tr>\n",
              "      <th>FRA</th>\n",
              "      <td>303</td>\n",
              "      <td>303</td>\n",
              "      <td>303</td>\n",
              "      <td>303</td>\n",
              "      <td>303</td>\n",
              "      <td>95</td>\n",
              "      <td>303</td>\n",
              "    </tr>\n",
              "    <tr>\n",
              "      <th>IND</th>\n",
              "      <td>76</td>\n",
              "      <td>76</td>\n",
              "      <td>76</td>\n",
              "      <td>76</td>\n",
              "      <td>76</td>\n",
              "      <td>67</td>\n",
              "      <td>76</td>\n",
              "    </tr>\n",
              "    <tr>\n",
              "      <th>IRN</th>\n",
              "      <td>14</td>\n",
              "      <td>14</td>\n",
              "      <td>14</td>\n",
              "      <td>14</td>\n",
              "      <td>14</td>\n",
              "      <td>0</td>\n",
              "      <td>14</td>\n",
              "    </tr>\n",
              "    <tr>\n",
              "      <th>ISR</th>\n",
              "      <td>11</td>\n",
              "      <td>11</td>\n",
              "      <td>11</td>\n",
              "      <td>11</td>\n",
              "      <td>11</td>\n",
              "      <td>0</td>\n",
              "      <td>11</td>\n",
              "    </tr>\n",
              "    <tr>\n",
              "      <th>JPN</th>\n",
              "      <td>126</td>\n",
              "      <td>126</td>\n",
              "      <td>126</td>\n",
              "      <td>126</td>\n",
              "      <td>126</td>\n",
              "      <td>40</td>\n",
              "      <td>126</td>\n",
              "    </tr>\n",
              "    <tr>\n",
              "      <th>KAZ</th>\n",
              "      <td>701</td>\n",
              "      <td>701</td>\n",
              "      <td>701</td>\n",
              "      <td>701</td>\n",
              "      <td>701</td>\n",
              "      <td>46</td>\n",
              "      <td>701</td>\n",
              "    </tr>\n",
              "    <tr>\n",
              "      <th>KEN</th>\n",
              "      <td>9</td>\n",
              "      <td>9</td>\n",
              "      <td>9</td>\n",
              "      <td>9</td>\n",
              "      <td>9</td>\n",
              "      <td>0</td>\n",
              "      <td>9</td>\n",
              "    </tr>\n",
              "    <tr>\n",
              "      <th>NZL</th>\n",
              "      <td>13</td>\n",
              "      <td>13</td>\n",
              "      <td>13</td>\n",
              "      <td>13</td>\n",
              "      <td>13</td>\n",
              "      <td>13</td>\n",
              "      <td>13</td>\n",
              "    </tr>\n",
              "    <tr>\n",
              "      <th>PRK</th>\n",
              "      <td>5</td>\n",
              "      <td>5</td>\n",
              "      <td>5</td>\n",
              "      <td>5</td>\n",
              "      <td>5</td>\n",
              "      <td>0</td>\n",
              "      <td>5</td>\n",
              "    </tr>\n",
              "    <tr>\n",
              "      <th>RUS</th>\n",
              "      <td>1398</td>\n",
              "      <td>1398</td>\n",
              "      <td>1398</td>\n",
              "      <td>1398</td>\n",
              "      <td>1398</td>\n",
              "      <td>54</td>\n",
              "      <td>1398</td>\n",
              "    </tr>\n",
              "    <tr>\n",
              "      <th>USA</th>\n",
              "      <td>1351</td>\n",
              "      <td>1351</td>\n",
              "      <td>1351</td>\n",
              "      <td>1351</td>\n",
              "      <td>1351</td>\n",
              "      <td>490</td>\n",
              "      <td>1351</td>\n",
              "    </tr>\n",
              "    <tr>\n",
              "      <th>Unknown</th>\n",
              "      <td>39</td>\n",
              "      <td>39</td>\n",
              "      <td>39</td>\n",
              "      <td>39</td>\n",
              "      <td>39</td>\n",
              "      <td>0</td>\n",
              "      <td>39</td>\n",
              "    </tr>\n",
              "  </tbody>\n",
              "</table>\n",
              "</div>"
            ],
            "text/plain": [
              "         Organisation  Location  Date  Detail  Rocket_Status  Price  \\\n",
              "Country                                                               \n",
              "AUS                 6         6     6       6              6      0   \n",
              "BRA                 3         3     3       3              3      0   \n",
              "CHN               269       269   269     269            269    159   \n",
              "FRA               303       303   303     303            303     95   \n",
              "IND                76        76    76      76             76     67   \n",
              "IRN                14        14    14      14             14      0   \n",
              "ISR                11        11    11      11             11      0   \n",
              "JPN               126       126   126     126            126     40   \n",
              "KAZ               701       701   701     701            701     46   \n",
              "KEN                 9         9     9       9              9      0   \n",
              "NZL                13        13    13      13             13     13   \n",
              "PRK                 5         5     5       5              5      0   \n",
              "RUS              1398      1398  1398    1398           1398     54   \n",
              "USA              1351      1351  1351    1351           1351    490   \n",
              "Unknown            39        39    39      39             39      0   \n",
              "\n",
              "         Mission_Status  \n",
              "Country                  \n",
              "AUS                   6  \n",
              "BRA                   3  \n",
              "CHN                 269  \n",
              "FRA                 303  \n",
              "IND                  76  \n",
              "IRN                  14  \n",
              "ISR                  11  \n",
              "JPN                 126  \n",
              "KAZ                 701  \n",
              "KEN                   9  \n",
              "NZL                  13  \n",
              "PRK                   5  \n",
              "RUS                1398  \n",
              "USA                1351  \n",
              "Unknown              39  "
            ]
          },
          "execution_count": 178,
          "metadata": {},
          "output_type": "execute_result"
        }
      ],
      "source": [
        "launch_per_country_df = df_data.groupby(\"Country\").count()\n",
        "launch_per_country_df"
      ]
    },
    {
      "cell_type": "code",
      "execution_count": 179,
      "metadata": {},
      "outputs": [
        {
          "data": {
            "text/html": [
              "<div>\n",
              "<style scoped>\n",
              "    .dataframe tbody tr th:only-of-type {\n",
              "        vertical-align: middle;\n",
              "    }\n",
              "\n",
              "    .dataframe tbody tr th {\n",
              "        vertical-align: top;\n",
              "    }\n",
              "\n",
              "    .dataframe thead th {\n",
              "        text-align: right;\n",
              "    }\n",
              "</style>\n",
              "<table border=\"1\" class=\"dataframe\">\n",
              "  <thead>\n",
              "    <tr style=\"text-align: right;\">\n",
              "      <th></th>\n",
              "      <th>Total Launches</th>\n",
              "    </tr>\n",
              "    <tr>\n",
              "      <th>Country</th>\n",
              "      <th></th>\n",
              "    </tr>\n",
              "  </thead>\n",
              "  <tbody>\n",
              "    <tr>\n",
              "      <th>AUS</th>\n",
              "      <td>6</td>\n",
              "    </tr>\n",
              "    <tr>\n",
              "      <th>BRA</th>\n",
              "      <td>3</td>\n",
              "    </tr>\n",
              "    <tr>\n",
              "      <th>CHN</th>\n",
              "      <td>269</td>\n",
              "    </tr>\n",
              "    <tr>\n",
              "      <th>FRA</th>\n",
              "      <td>303</td>\n",
              "    </tr>\n",
              "    <tr>\n",
              "      <th>IND</th>\n",
              "      <td>76</td>\n",
              "    </tr>\n",
              "    <tr>\n",
              "      <th>IRN</th>\n",
              "      <td>14</td>\n",
              "    </tr>\n",
              "    <tr>\n",
              "      <th>ISR</th>\n",
              "      <td>11</td>\n",
              "    </tr>\n",
              "    <tr>\n",
              "      <th>JPN</th>\n",
              "      <td>126</td>\n",
              "    </tr>\n",
              "    <tr>\n",
              "      <th>KAZ</th>\n",
              "      <td>701</td>\n",
              "    </tr>\n",
              "    <tr>\n",
              "      <th>KEN</th>\n",
              "      <td>9</td>\n",
              "    </tr>\n",
              "    <tr>\n",
              "      <th>NZL</th>\n",
              "      <td>13</td>\n",
              "    </tr>\n",
              "    <tr>\n",
              "      <th>PRK</th>\n",
              "      <td>5</td>\n",
              "    </tr>\n",
              "    <tr>\n",
              "      <th>RUS</th>\n",
              "      <td>1398</td>\n",
              "    </tr>\n",
              "    <tr>\n",
              "      <th>USA</th>\n",
              "      <td>1351</td>\n",
              "    </tr>\n",
              "    <tr>\n",
              "      <th>Unknown</th>\n",
              "      <td>39</td>\n",
              "    </tr>\n",
              "  </tbody>\n",
              "</table>\n",
              "</div>"
            ],
            "text/plain": [
              "         Total Launches\n",
              "Country                \n",
              "AUS                   6\n",
              "BRA                   3\n",
              "CHN                 269\n",
              "FRA                 303\n",
              "IND                  76\n",
              "IRN                  14\n",
              "ISR                  11\n",
              "JPN                 126\n",
              "KAZ                 701\n",
              "KEN                   9\n",
              "NZL                  13\n",
              "PRK                   5\n",
              "RUS                1398\n",
              "USA                1351\n",
              "Unknown              39"
            ]
          },
          "execution_count": 179,
          "metadata": {},
          "output_type": "execute_result"
        }
      ],
      "source": [
        "launch_per_country_df = df_data.groupby(\"Country\").count()\n",
        "launch_per_country_df = launch_per_country_df.drop(launch_per_country_df[launch_per_country_df.columns.difference([\"Organisation\"])], axis=1)\n",
        "launch_per_country_df = launch_per_country_df.rename(columns={\"Organisation\" : \"Total Launches\"})\n",
        "launch_per_country_df"
      ]
    },
    {
      "cell_type": "code",
      "execution_count": 180,
      "metadata": {},
      "outputs": [
        {
          "data": {
            "application/vnd.plotly.v1+json": {
              "config": {
                "plotlyServerURL": "https://plot.ly"
              },
              "data": [
                {
                  "coloraxis": "coloraxis",
                  "geo": "geo",
                  "hovertemplate": "Country=%{location}<br>Total Launches=%{z}<extra></extra>",
                  "locations": [
                    "AUS",
                    "BRA",
                    "CHN",
                    "FRA",
                    "IND",
                    "IRN",
                    "ISR",
                    "JPN",
                    "KAZ",
                    "KEN",
                    "NZL",
                    "PRK",
                    "RUS",
                    "USA",
                    "Unknown"
                  ],
                  "name": "",
                  "type": "choropleth",
                  "z": [
                    6,
                    3,
                    269,
                    303,
                    76,
                    14,
                    11,
                    126,
                    701,
                    9,
                    13,
                    5,
                    1398,
                    1351,
                    39
                  ]
                }
              ],
              "layout": {
                "coloraxis": {
                  "cmax": 1500,
                  "cmin": 0,
                  "colorbar": {
                    "tickfont": {
                      "color": "white"
                    },
                    "title": {
                      "font": {
                        "color": "white"
                      },
                      "text": "Number of Launches"
                    }
                  },
                  "colorscale": [
                    [
                      0,
                      "rgb(76, 200, 163)"
                    ],
                    [
                      0.3333333333333333,
                      "rgb(56, 178, 163)"
                    ],
                    [
                      0.6666666666666666,
                      "rgb(44, 152, 160)"
                    ],
                    [
                      1,
                      "rgb(37, 125, 152)"
                    ]
                  ]
                },
                "geo": {
                  "bgcolor": "#323130",
                  "center": {},
                  "countrycolor": "#455A64",
                  "domain": {
                    "x": [
                      0,
                      1
                    ],
                    "y": [
                      0,
                      1
                    ]
                  },
                  "showcountries": true,
                  "visible": false
                },
                "height": 500,
                "legend": {
                  "tracegroupgap": 0
                },
                "margin": {
                  "t": 60
                },
                "paper_bgcolor": "#323130",
                "template": {
                  "data": {
                    "bar": [
                      {
                        "error_x": {
                          "color": "#2a3f5f"
                        },
                        "error_y": {
                          "color": "#2a3f5f"
                        },
                        "marker": {
                          "line": {
                            "color": "#E5ECF6",
                            "width": 0.5
                          },
                          "pattern": {
                            "fillmode": "overlay",
                            "size": 10,
                            "solidity": 0.2
                          }
                        },
                        "type": "bar"
                      }
                    ],
                    "barpolar": [
                      {
                        "marker": {
                          "line": {
                            "color": "#E5ECF6",
                            "width": 0.5
                          },
                          "pattern": {
                            "fillmode": "overlay",
                            "size": 10,
                            "solidity": 0.2
                          }
                        },
                        "type": "barpolar"
                      }
                    ],
                    "carpet": [
                      {
                        "aaxis": {
                          "endlinecolor": "#2a3f5f",
                          "gridcolor": "white",
                          "linecolor": "white",
                          "minorgridcolor": "white",
                          "startlinecolor": "#2a3f5f"
                        },
                        "baxis": {
                          "endlinecolor": "#2a3f5f",
                          "gridcolor": "white",
                          "linecolor": "white",
                          "minorgridcolor": "white",
                          "startlinecolor": "#2a3f5f"
                        },
                        "type": "carpet"
                      }
                    ],
                    "choropleth": [
                      {
                        "colorbar": {
                          "outlinewidth": 0,
                          "ticks": ""
                        },
                        "type": "choropleth"
                      }
                    ],
                    "contour": [
                      {
                        "colorbar": {
                          "outlinewidth": 0,
                          "ticks": ""
                        },
                        "colorscale": [
                          [
                            0,
                            "#0d0887"
                          ],
                          [
                            0.1111111111111111,
                            "#46039f"
                          ],
                          [
                            0.2222222222222222,
                            "#7201a8"
                          ],
                          [
                            0.3333333333333333,
                            "#9c179e"
                          ],
                          [
                            0.4444444444444444,
                            "#bd3786"
                          ],
                          [
                            0.5555555555555556,
                            "#d8576b"
                          ],
                          [
                            0.6666666666666666,
                            "#ed7953"
                          ],
                          [
                            0.7777777777777778,
                            "#fb9f3a"
                          ],
                          [
                            0.8888888888888888,
                            "#fdca26"
                          ],
                          [
                            1,
                            "#f0f921"
                          ]
                        ],
                        "type": "contour"
                      }
                    ],
                    "contourcarpet": [
                      {
                        "colorbar": {
                          "outlinewidth": 0,
                          "ticks": ""
                        },
                        "type": "contourcarpet"
                      }
                    ],
                    "heatmap": [
                      {
                        "colorbar": {
                          "outlinewidth": 0,
                          "ticks": ""
                        },
                        "colorscale": [
                          [
                            0,
                            "#0d0887"
                          ],
                          [
                            0.1111111111111111,
                            "#46039f"
                          ],
                          [
                            0.2222222222222222,
                            "#7201a8"
                          ],
                          [
                            0.3333333333333333,
                            "#9c179e"
                          ],
                          [
                            0.4444444444444444,
                            "#bd3786"
                          ],
                          [
                            0.5555555555555556,
                            "#d8576b"
                          ],
                          [
                            0.6666666666666666,
                            "#ed7953"
                          ],
                          [
                            0.7777777777777778,
                            "#fb9f3a"
                          ],
                          [
                            0.8888888888888888,
                            "#fdca26"
                          ],
                          [
                            1,
                            "#f0f921"
                          ]
                        ],
                        "type": "heatmap"
                      }
                    ],
                    "heatmapgl": [
                      {
                        "colorbar": {
                          "outlinewidth": 0,
                          "ticks": ""
                        },
                        "colorscale": [
                          [
                            0,
                            "#0d0887"
                          ],
                          [
                            0.1111111111111111,
                            "#46039f"
                          ],
                          [
                            0.2222222222222222,
                            "#7201a8"
                          ],
                          [
                            0.3333333333333333,
                            "#9c179e"
                          ],
                          [
                            0.4444444444444444,
                            "#bd3786"
                          ],
                          [
                            0.5555555555555556,
                            "#d8576b"
                          ],
                          [
                            0.6666666666666666,
                            "#ed7953"
                          ],
                          [
                            0.7777777777777778,
                            "#fb9f3a"
                          ],
                          [
                            0.8888888888888888,
                            "#fdca26"
                          ],
                          [
                            1,
                            "#f0f921"
                          ]
                        ],
                        "type": "heatmapgl"
                      }
                    ],
                    "histogram": [
                      {
                        "marker": {
                          "pattern": {
                            "fillmode": "overlay",
                            "size": 10,
                            "solidity": 0.2
                          }
                        },
                        "type": "histogram"
                      }
                    ],
                    "histogram2d": [
                      {
                        "colorbar": {
                          "outlinewidth": 0,
                          "ticks": ""
                        },
                        "colorscale": [
                          [
                            0,
                            "#0d0887"
                          ],
                          [
                            0.1111111111111111,
                            "#46039f"
                          ],
                          [
                            0.2222222222222222,
                            "#7201a8"
                          ],
                          [
                            0.3333333333333333,
                            "#9c179e"
                          ],
                          [
                            0.4444444444444444,
                            "#bd3786"
                          ],
                          [
                            0.5555555555555556,
                            "#d8576b"
                          ],
                          [
                            0.6666666666666666,
                            "#ed7953"
                          ],
                          [
                            0.7777777777777778,
                            "#fb9f3a"
                          ],
                          [
                            0.8888888888888888,
                            "#fdca26"
                          ],
                          [
                            1,
                            "#f0f921"
                          ]
                        ],
                        "type": "histogram2d"
                      }
                    ],
                    "histogram2dcontour": [
                      {
                        "colorbar": {
                          "outlinewidth": 0,
                          "ticks": ""
                        },
                        "colorscale": [
                          [
                            0,
                            "#0d0887"
                          ],
                          [
                            0.1111111111111111,
                            "#46039f"
                          ],
                          [
                            0.2222222222222222,
                            "#7201a8"
                          ],
                          [
                            0.3333333333333333,
                            "#9c179e"
                          ],
                          [
                            0.4444444444444444,
                            "#bd3786"
                          ],
                          [
                            0.5555555555555556,
                            "#d8576b"
                          ],
                          [
                            0.6666666666666666,
                            "#ed7953"
                          ],
                          [
                            0.7777777777777778,
                            "#fb9f3a"
                          ],
                          [
                            0.8888888888888888,
                            "#fdca26"
                          ],
                          [
                            1,
                            "#f0f921"
                          ]
                        ],
                        "type": "histogram2dcontour"
                      }
                    ],
                    "mesh3d": [
                      {
                        "colorbar": {
                          "outlinewidth": 0,
                          "ticks": ""
                        },
                        "type": "mesh3d"
                      }
                    ],
                    "parcoords": [
                      {
                        "line": {
                          "colorbar": {
                            "outlinewidth": 0,
                            "ticks": ""
                          }
                        },
                        "type": "parcoords"
                      }
                    ],
                    "pie": [
                      {
                        "automargin": true,
                        "type": "pie"
                      }
                    ],
                    "scatter": [
                      {
                        "fillpattern": {
                          "fillmode": "overlay",
                          "size": 10,
                          "solidity": 0.2
                        },
                        "type": "scatter"
                      }
                    ],
                    "scatter3d": [
                      {
                        "line": {
                          "colorbar": {
                            "outlinewidth": 0,
                            "ticks": ""
                          }
                        },
                        "marker": {
                          "colorbar": {
                            "outlinewidth": 0,
                            "ticks": ""
                          }
                        },
                        "type": "scatter3d"
                      }
                    ],
                    "scattercarpet": [
                      {
                        "marker": {
                          "colorbar": {
                            "outlinewidth": 0,
                            "ticks": ""
                          }
                        },
                        "type": "scattercarpet"
                      }
                    ],
                    "scattergeo": [
                      {
                        "marker": {
                          "colorbar": {
                            "outlinewidth": 0,
                            "ticks": ""
                          }
                        },
                        "type": "scattergeo"
                      }
                    ],
                    "scattergl": [
                      {
                        "marker": {
                          "colorbar": {
                            "outlinewidth": 0,
                            "ticks": ""
                          }
                        },
                        "type": "scattergl"
                      }
                    ],
                    "scattermapbox": [
                      {
                        "marker": {
                          "colorbar": {
                            "outlinewidth": 0,
                            "ticks": ""
                          }
                        },
                        "type": "scattermapbox"
                      }
                    ],
                    "scatterpolar": [
                      {
                        "marker": {
                          "colorbar": {
                            "outlinewidth": 0,
                            "ticks": ""
                          }
                        },
                        "type": "scatterpolar"
                      }
                    ],
                    "scatterpolargl": [
                      {
                        "marker": {
                          "colorbar": {
                            "outlinewidth": 0,
                            "ticks": ""
                          }
                        },
                        "type": "scatterpolargl"
                      }
                    ],
                    "scatterternary": [
                      {
                        "marker": {
                          "colorbar": {
                            "outlinewidth": 0,
                            "ticks": ""
                          }
                        },
                        "type": "scatterternary"
                      }
                    ],
                    "surface": [
                      {
                        "colorbar": {
                          "outlinewidth": 0,
                          "ticks": ""
                        },
                        "colorscale": [
                          [
                            0,
                            "#0d0887"
                          ],
                          [
                            0.1111111111111111,
                            "#46039f"
                          ],
                          [
                            0.2222222222222222,
                            "#7201a8"
                          ],
                          [
                            0.3333333333333333,
                            "#9c179e"
                          ],
                          [
                            0.4444444444444444,
                            "#bd3786"
                          ],
                          [
                            0.5555555555555556,
                            "#d8576b"
                          ],
                          [
                            0.6666666666666666,
                            "#ed7953"
                          ],
                          [
                            0.7777777777777778,
                            "#fb9f3a"
                          ],
                          [
                            0.8888888888888888,
                            "#fdca26"
                          ],
                          [
                            1,
                            "#f0f921"
                          ]
                        ],
                        "type": "surface"
                      }
                    ],
                    "table": [
                      {
                        "cells": {
                          "fill": {
                            "color": "#EBF0F8"
                          },
                          "line": {
                            "color": "white"
                          }
                        },
                        "header": {
                          "fill": {
                            "color": "#C8D4E3"
                          },
                          "line": {
                            "color": "white"
                          }
                        },
                        "type": "table"
                      }
                    ]
                  },
                  "layout": {
                    "annotationdefaults": {
                      "arrowcolor": "#2a3f5f",
                      "arrowhead": 0,
                      "arrowwidth": 1
                    },
                    "autotypenumbers": "strict",
                    "coloraxis": {
                      "colorbar": {
                        "outlinewidth": 0,
                        "ticks": ""
                      }
                    },
                    "colorscale": {
                      "diverging": [
                        [
                          0,
                          "#8e0152"
                        ],
                        [
                          0.1,
                          "#c51b7d"
                        ],
                        [
                          0.2,
                          "#de77ae"
                        ],
                        [
                          0.3,
                          "#f1b6da"
                        ],
                        [
                          0.4,
                          "#fde0ef"
                        ],
                        [
                          0.5,
                          "#f7f7f7"
                        ],
                        [
                          0.6,
                          "#e6f5d0"
                        ],
                        [
                          0.7,
                          "#b8e186"
                        ],
                        [
                          0.8,
                          "#7fbc41"
                        ],
                        [
                          0.9,
                          "#4d9221"
                        ],
                        [
                          1,
                          "#276419"
                        ]
                      ],
                      "sequential": [
                        [
                          0,
                          "#0d0887"
                        ],
                        [
                          0.1111111111111111,
                          "#46039f"
                        ],
                        [
                          0.2222222222222222,
                          "#7201a8"
                        ],
                        [
                          0.3333333333333333,
                          "#9c179e"
                        ],
                        [
                          0.4444444444444444,
                          "#bd3786"
                        ],
                        [
                          0.5555555555555556,
                          "#d8576b"
                        ],
                        [
                          0.6666666666666666,
                          "#ed7953"
                        ],
                        [
                          0.7777777777777778,
                          "#fb9f3a"
                        ],
                        [
                          0.8888888888888888,
                          "#fdca26"
                        ],
                        [
                          1,
                          "#f0f921"
                        ]
                      ],
                      "sequentialminus": [
                        [
                          0,
                          "#0d0887"
                        ],
                        [
                          0.1111111111111111,
                          "#46039f"
                        ],
                        [
                          0.2222222222222222,
                          "#7201a8"
                        ],
                        [
                          0.3333333333333333,
                          "#9c179e"
                        ],
                        [
                          0.4444444444444444,
                          "#bd3786"
                        ],
                        [
                          0.5555555555555556,
                          "#d8576b"
                        ],
                        [
                          0.6666666666666666,
                          "#ed7953"
                        ],
                        [
                          0.7777777777777778,
                          "#fb9f3a"
                        ],
                        [
                          0.8888888888888888,
                          "#fdca26"
                        ],
                        [
                          1,
                          "#f0f921"
                        ]
                      ]
                    },
                    "colorway": [
                      "#636efa",
                      "#EF553B",
                      "#00cc96",
                      "#ab63fa",
                      "#FFA15A",
                      "#19d3f3",
                      "#FF6692",
                      "#B6E880",
                      "#FF97FF",
                      "#FECB52"
                    ],
                    "font": {
                      "color": "#2a3f5f"
                    },
                    "geo": {
                      "bgcolor": "white",
                      "lakecolor": "white",
                      "landcolor": "#E5ECF6",
                      "showlakes": true,
                      "showland": true,
                      "subunitcolor": "white"
                    },
                    "hoverlabel": {
                      "align": "left"
                    },
                    "hovermode": "closest",
                    "mapbox": {
                      "style": "light"
                    },
                    "paper_bgcolor": "white",
                    "plot_bgcolor": "#E5ECF6",
                    "polar": {
                      "angularaxis": {
                        "gridcolor": "white",
                        "linecolor": "white",
                        "ticks": ""
                      },
                      "bgcolor": "#E5ECF6",
                      "radialaxis": {
                        "gridcolor": "white",
                        "linecolor": "white",
                        "ticks": ""
                      }
                    },
                    "scene": {
                      "xaxis": {
                        "backgroundcolor": "#E5ECF6",
                        "gridcolor": "white",
                        "gridwidth": 2,
                        "linecolor": "white",
                        "showbackground": true,
                        "ticks": "",
                        "zerolinecolor": "white"
                      },
                      "yaxis": {
                        "backgroundcolor": "#E5ECF6",
                        "gridcolor": "white",
                        "gridwidth": 2,
                        "linecolor": "white",
                        "showbackground": true,
                        "ticks": "",
                        "zerolinecolor": "white"
                      },
                      "zaxis": {
                        "backgroundcolor": "#E5ECF6",
                        "gridcolor": "white",
                        "gridwidth": 2,
                        "linecolor": "white",
                        "showbackground": true,
                        "ticks": "",
                        "zerolinecolor": "white"
                      }
                    },
                    "shapedefaults": {
                      "line": {
                        "color": "#2a3f5f"
                      }
                    },
                    "ternary": {
                      "aaxis": {
                        "gridcolor": "white",
                        "linecolor": "white",
                        "ticks": ""
                      },
                      "baxis": {
                        "gridcolor": "white",
                        "linecolor": "white",
                        "ticks": ""
                      },
                      "bgcolor": "#E5ECF6",
                      "caxis": {
                        "gridcolor": "white",
                        "linecolor": "white",
                        "ticks": ""
                      }
                    },
                    "title": {
                      "x": 0.05
                    },
                    "xaxis": {
                      "automargin": true,
                      "gridcolor": "white",
                      "linecolor": "white",
                      "ticks": "",
                      "title": {
                        "standoff": 15
                      },
                      "zerolinecolor": "white",
                      "zerolinewidth": 2
                    },
                    "yaxis": {
                      "automargin": true,
                      "gridcolor": "white",
                      "linecolor": "white",
                      "ticks": "",
                      "title": {
                        "standoff": 15
                      },
                      "zerolinecolor": "white",
                      "zerolinewidth": 2
                    }
                  }
                },
                "title": {
                  "font": {
                    "color": "white"
                  },
                  "text": "Map world of launches per country"
                },
                "width": 900
              }
            }
          },
          "metadata": {},
          "output_type": "display_data"
        }
      ],
      "source": [
        "fig_map = px.choropleth(\n",
        "    launch_per_country_df,\n",
        "    locations=launch_per_country_df.index,\n",
        "    color=\"Total Launches\",\n",
        "    color_continuous_scale=px.colors.sequential.Tealgrn[3:],\n",
        "    range_color=(0,1500),\n",
        "    width=900,\n",
        "    height=500\n",
        ")\n",
        "\n",
        "fig_map.update_geos(\n",
        "    visible=False,\n",
        "    showcountries=True,\n",
        "    countrycolor=\"#455A64\",\n",
        "    bgcolor=\"#323130\"\n",
        ")\n",
        "\n",
        "fig_map.update_layout(\n",
        "    paper_bgcolor=\"#323130\",\n",
        "    title=\"Map world of launches per country\",\n",
        "    titlefont=dict(color=\"white\"),\n",
        "    coloraxis_colorbar=dict(\n",
        "        title=\"Number of Launches\", \n",
        "        titlefont=dict(color=\"white\"), \n",
        "        tickfont=dict(color=\"white\")\n",
        "    )\n",
        ")\n",
        "\n",
        "fig_map.show()"
      ]
    },
    {
      "cell_type": "markdown",
      "metadata": {
        "id": "F3pwYSUlo_AK"
      },
      "source": [
        "# Use a Choropleth Map to Show the Number of Failures by Country\n"
      ]
    },
    {
      "cell_type": "code",
      "execution_count": 181,
      "metadata": {
        "id": "8BH4ICtro9I0"
      },
      "outputs": [
        {
          "data": {
            "text/html": [
              "<div>\n",
              "<style scoped>\n",
              "    .dataframe tbody tr th:only-of-type {\n",
              "        vertical-align: middle;\n",
              "    }\n",
              "\n",
              "    .dataframe tbody tr th {\n",
              "        vertical-align: top;\n",
              "    }\n",
              "\n",
              "    .dataframe thead th {\n",
              "        text-align: right;\n",
              "    }\n",
              "</style>\n",
              "<table border=\"1\" class=\"dataframe\">\n",
              "  <thead>\n",
              "    <tr style=\"text-align: right;\">\n",
              "      <th></th>\n",
              "      <th>Country</th>\n",
              "      <th>Mission_Status_Binary</th>\n",
              "      <th>Failures</th>\n",
              "    </tr>\n",
              "  </thead>\n",
              "  <tbody>\n",
              "    <tr>\n",
              "      <th>0</th>\n",
              "      <td>AUS</td>\n",
              "      <td>Failure</td>\n",
              "      <td>3</td>\n",
              "    </tr>\n",
              "    <tr>\n",
              "      <th>1</th>\n",
              "      <td>BRA</td>\n",
              "      <td>Failure</td>\n",
              "      <td>3</td>\n",
              "    </tr>\n",
              "    <tr>\n",
              "      <th>2</th>\n",
              "      <td>CHN</td>\n",
              "      <td>Failure</td>\n",
              "      <td>25</td>\n",
              "    </tr>\n",
              "    <tr>\n",
              "      <th>3</th>\n",
              "      <td>FRA</td>\n",
              "      <td>Failure</td>\n",
              "      <td>18</td>\n",
              "    </tr>\n",
              "    <tr>\n",
              "      <th>4</th>\n",
              "      <td>IND</td>\n",
              "      <td>Failure</td>\n",
              "      <td>13</td>\n",
              "    </tr>\n",
              "    <tr>\n",
              "      <th>5</th>\n",
              "      <td>IRN</td>\n",
              "      <td>Failure</td>\n",
              "      <td>9</td>\n",
              "    </tr>\n",
              "    <tr>\n",
              "      <th>6</th>\n",
              "      <td>ISR</td>\n",
              "      <td>Failure</td>\n",
              "      <td>2</td>\n",
              "    </tr>\n",
              "    <tr>\n",
              "      <th>7</th>\n",
              "      <td>JPN</td>\n",
              "      <td>Failure</td>\n",
              "      <td>13</td>\n",
              "    </tr>\n",
              "    <tr>\n",
              "      <th>8</th>\n",
              "      <td>KAZ</td>\n",
              "      <td>Failure</td>\n",
              "      <td>93</td>\n",
              "    </tr>\n",
              "    <tr>\n",
              "      <th>9</th>\n",
              "      <td>NZL</td>\n",
              "      <td>Failure</td>\n",
              "      <td>2</td>\n",
              "    </tr>\n",
              "    <tr>\n",
              "      <th>10</th>\n",
              "      <td>PRK</td>\n",
              "      <td>Failure</td>\n",
              "      <td>3</td>\n",
              "    </tr>\n",
              "    <tr>\n",
              "      <th>11</th>\n",
              "      <td>RUS</td>\n",
              "      <td>Failure</td>\n",
              "      <td>93</td>\n",
              "    </tr>\n",
              "    <tr>\n",
              "      <th>12</th>\n",
              "      <td>USA</td>\n",
              "      <td>Failure</td>\n",
              "      <td>163</td>\n",
              "    </tr>\n",
              "    <tr>\n",
              "      <th>13</th>\n",
              "      <td>Unknown</td>\n",
              "      <td>Failure</td>\n",
              "      <td>5</td>\n",
              "    </tr>\n",
              "  </tbody>\n",
              "</table>\n",
              "</div>"
            ],
            "text/plain": [
              "    Country Mission_Status_Binary  Failures\n",
              "0       AUS               Failure         3\n",
              "1       BRA               Failure         3\n",
              "2       CHN               Failure        25\n",
              "3       FRA               Failure        18\n",
              "4       IND               Failure        13\n",
              "5       IRN               Failure         9\n",
              "6       ISR               Failure         2\n",
              "7       JPN               Failure        13\n",
              "8       KAZ               Failure        93\n",
              "9       NZL               Failure         2\n",
              "10      PRK               Failure         3\n",
              "11      RUS               Failure        93\n",
              "12      USA               Failure       163\n",
              "13  Unknown               Failure         5"
            ]
          },
          "execution_count": 181,
          "metadata": {},
          "output_type": "execute_result"
        }
      ],
      "source": [
        "df_data['Mission_Status_Binary'] = np.where(df_data.Mission_Status != \"Success\", \"Failure\", \"Success\")\n",
        "df_failures = df_data.groupby([\"Country\", \"Mission_Status_Binary\"]).count()\n",
        "df_failures = df_failures.query('Mission_Status_Binary == \"Failure\"')\n",
        "df_failures = df_failures.drop(df_failures[df_failures.columns.difference([\"Organisation\"])], axis=1)\n",
        "df_failures = df_failures.rename(columns={\"Organisation\": \"Failures\"})\n",
        "df_failures = df_failures.reset_index()\n",
        "df_failures"
      ]
    },
    {
      "cell_type": "code",
      "execution_count": 182,
      "metadata": {
        "id": "sfw-q7Obo9GM"
      },
      "outputs": [
        {
          "data": {
            "application/vnd.plotly.v1+json": {
              "config": {
                "plotlyServerURL": "https://plot.ly"
              },
              "data": [
                {
                  "coloraxis": "coloraxis",
                  "geo": "geo",
                  "hovertemplate": "Country=%{location}<br>Failures=%{z}<extra></extra>",
                  "locations": [
                    "AUS",
                    "BRA",
                    "CHN",
                    "FRA",
                    "IND",
                    "IRN",
                    "ISR",
                    "JPN",
                    "KAZ",
                    "NZL",
                    "PRK",
                    "RUS",
                    "USA",
                    "Unknown"
                  ],
                  "name": "",
                  "type": "choropleth",
                  "z": [
                    3,
                    3,
                    25,
                    18,
                    13,
                    9,
                    2,
                    13,
                    93,
                    2,
                    3,
                    93,
                    163,
                    5
                  ]
                }
              ],
              "layout": {
                "coloraxis": {
                  "cmax": 160,
                  "cmin": 0,
                  "colorbar": {
                    "tickfont": {
                      "color": "white"
                    },
                    "title": {
                      "font": {
                        "color": "white"
                      },
                      "text": "Total failures"
                    }
                  },
                  "colorscale": [
                    [
                      0,
                      "rgb(252,146,114)"
                    ],
                    [
                      0.2,
                      "rgb(251,106,74)"
                    ],
                    [
                      0.4,
                      "rgb(239,59,44)"
                    ],
                    [
                      0.6,
                      "rgb(203,24,29)"
                    ],
                    [
                      0.8,
                      "rgb(165,15,21)"
                    ],
                    [
                      1,
                      "rgb(103,0,13)"
                    ]
                  ]
                },
                "geo": {
                  "bgcolor": "#323130",
                  "center": {},
                  "countrycolor": "#455A64",
                  "domain": {
                    "x": [
                      0,
                      1
                    ],
                    "y": [
                      0,
                      1
                    ]
                  },
                  "showcountries": true,
                  "visible": false
                },
                "height": 500,
                "legend": {
                  "tracegroupgap": 0
                },
                "margin": {
                  "t": 60
                },
                "paper_bgcolor": "#323130",
                "template": {
                  "data": {
                    "bar": [
                      {
                        "error_x": {
                          "color": "#2a3f5f"
                        },
                        "error_y": {
                          "color": "#2a3f5f"
                        },
                        "marker": {
                          "line": {
                            "color": "#E5ECF6",
                            "width": 0.5
                          },
                          "pattern": {
                            "fillmode": "overlay",
                            "size": 10,
                            "solidity": 0.2
                          }
                        },
                        "type": "bar"
                      }
                    ],
                    "barpolar": [
                      {
                        "marker": {
                          "line": {
                            "color": "#E5ECF6",
                            "width": 0.5
                          },
                          "pattern": {
                            "fillmode": "overlay",
                            "size": 10,
                            "solidity": 0.2
                          }
                        },
                        "type": "barpolar"
                      }
                    ],
                    "carpet": [
                      {
                        "aaxis": {
                          "endlinecolor": "#2a3f5f",
                          "gridcolor": "white",
                          "linecolor": "white",
                          "minorgridcolor": "white",
                          "startlinecolor": "#2a3f5f"
                        },
                        "baxis": {
                          "endlinecolor": "#2a3f5f",
                          "gridcolor": "white",
                          "linecolor": "white",
                          "minorgridcolor": "white",
                          "startlinecolor": "#2a3f5f"
                        },
                        "type": "carpet"
                      }
                    ],
                    "choropleth": [
                      {
                        "colorbar": {
                          "outlinewidth": 0,
                          "ticks": ""
                        },
                        "type": "choropleth"
                      }
                    ],
                    "contour": [
                      {
                        "colorbar": {
                          "outlinewidth": 0,
                          "ticks": ""
                        },
                        "colorscale": [
                          [
                            0,
                            "#0d0887"
                          ],
                          [
                            0.1111111111111111,
                            "#46039f"
                          ],
                          [
                            0.2222222222222222,
                            "#7201a8"
                          ],
                          [
                            0.3333333333333333,
                            "#9c179e"
                          ],
                          [
                            0.4444444444444444,
                            "#bd3786"
                          ],
                          [
                            0.5555555555555556,
                            "#d8576b"
                          ],
                          [
                            0.6666666666666666,
                            "#ed7953"
                          ],
                          [
                            0.7777777777777778,
                            "#fb9f3a"
                          ],
                          [
                            0.8888888888888888,
                            "#fdca26"
                          ],
                          [
                            1,
                            "#f0f921"
                          ]
                        ],
                        "type": "contour"
                      }
                    ],
                    "contourcarpet": [
                      {
                        "colorbar": {
                          "outlinewidth": 0,
                          "ticks": ""
                        },
                        "type": "contourcarpet"
                      }
                    ],
                    "heatmap": [
                      {
                        "colorbar": {
                          "outlinewidth": 0,
                          "ticks": ""
                        },
                        "colorscale": [
                          [
                            0,
                            "#0d0887"
                          ],
                          [
                            0.1111111111111111,
                            "#46039f"
                          ],
                          [
                            0.2222222222222222,
                            "#7201a8"
                          ],
                          [
                            0.3333333333333333,
                            "#9c179e"
                          ],
                          [
                            0.4444444444444444,
                            "#bd3786"
                          ],
                          [
                            0.5555555555555556,
                            "#d8576b"
                          ],
                          [
                            0.6666666666666666,
                            "#ed7953"
                          ],
                          [
                            0.7777777777777778,
                            "#fb9f3a"
                          ],
                          [
                            0.8888888888888888,
                            "#fdca26"
                          ],
                          [
                            1,
                            "#f0f921"
                          ]
                        ],
                        "type": "heatmap"
                      }
                    ],
                    "heatmapgl": [
                      {
                        "colorbar": {
                          "outlinewidth": 0,
                          "ticks": ""
                        },
                        "colorscale": [
                          [
                            0,
                            "#0d0887"
                          ],
                          [
                            0.1111111111111111,
                            "#46039f"
                          ],
                          [
                            0.2222222222222222,
                            "#7201a8"
                          ],
                          [
                            0.3333333333333333,
                            "#9c179e"
                          ],
                          [
                            0.4444444444444444,
                            "#bd3786"
                          ],
                          [
                            0.5555555555555556,
                            "#d8576b"
                          ],
                          [
                            0.6666666666666666,
                            "#ed7953"
                          ],
                          [
                            0.7777777777777778,
                            "#fb9f3a"
                          ],
                          [
                            0.8888888888888888,
                            "#fdca26"
                          ],
                          [
                            1,
                            "#f0f921"
                          ]
                        ],
                        "type": "heatmapgl"
                      }
                    ],
                    "histogram": [
                      {
                        "marker": {
                          "pattern": {
                            "fillmode": "overlay",
                            "size": 10,
                            "solidity": 0.2
                          }
                        },
                        "type": "histogram"
                      }
                    ],
                    "histogram2d": [
                      {
                        "colorbar": {
                          "outlinewidth": 0,
                          "ticks": ""
                        },
                        "colorscale": [
                          [
                            0,
                            "#0d0887"
                          ],
                          [
                            0.1111111111111111,
                            "#46039f"
                          ],
                          [
                            0.2222222222222222,
                            "#7201a8"
                          ],
                          [
                            0.3333333333333333,
                            "#9c179e"
                          ],
                          [
                            0.4444444444444444,
                            "#bd3786"
                          ],
                          [
                            0.5555555555555556,
                            "#d8576b"
                          ],
                          [
                            0.6666666666666666,
                            "#ed7953"
                          ],
                          [
                            0.7777777777777778,
                            "#fb9f3a"
                          ],
                          [
                            0.8888888888888888,
                            "#fdca26"
                          ],
                          [
                            1,
                            "#f0f921"
                          ]
                        ],
                        "type": "histogram2d"
                      }
                    ],
                    "histogram2dcontour": [
                      {
                        "colorbar": {
                          "outlinewidth": 0,
                          "ticks": ""
                        },
                        "colorscale": [
                          [
                            0,
                            "#0d0887"
                          ],
                          [
                            0.1111111111111111,
                            "#46039f"
                          ],
                          [
                            0.2222222222222222,
                            "#7201a8"
                          ],
                          [
                            0.3333333333333333,
                            "#9c179e"
                          ],
                          [
                            0.4444444444444444,
                            "#bd3786"
                          ],
                          [
                            0.5555555555555556,
                            "#d8576b"
                          ],
                          [
                            0.6666666666666666,
                            "#ed7953"
                          ],
                          [
                            0.7777777777777778,
                            "#fb9f3a"
                          ],
                          [
                            0.8888888888888888,
                            "#fdca26"
                          ],
                          [
                            1,
                            "#f0f921"
                          ]
                        ],
                        "type": "histogram2dcontour"
                      }
                    ],
                    "mesh3d": [
                      {
                        "colorbar": {
                          "outlinewidth": 0,
                          "ticks": ""
                        },
                        "type": "mesh3d"
                      }
                    ],
                    "parcoords": [
                      {
                        "line": {
                          "colorbar": {
                            "outlinewidth": 0,
                            "ticks": ""
                          }
                        },
                        "type": "parcoords"
                      }
                    ],
                    "pie": [
                      {
                        "automargin": true,
                        "type": "pie"
                      }
                    ],
                    "scatter": [
                      {
                        "fillpattern": {
                          "fillmode": "overlay",
                          "size": 10,
                          "solidity": 0.2
                        },
                        "type": "scatter"
                      }
                    ],
                    "scatter3d": [
                      {
                        "line": {
                          "colorbar": {
                            "outlinewidth": 0,
                            "ticks": ""
                          }
                        },
                        "marker": {
                          "colorbar": {
                            "outlinewidth": 0,
                            "ticks": ""
                          }
                        },
                        "type": "scatter3d"
                      }
                    ],
                    "scattercarpet": [
                      {
                        "marker": {
                          "colorbar": {
                            "outlinewidth": 0,
                            "ticks": ""
                          }
                        },
                        "type": "scattercarpet"
                      }
                    ],
                    "scattergeo": [
                      {
                        "marker": {
                          "colorbar": {
                            "outlinewidth": 0,
                            "ticks": ""
                          }
                        },
                        "type": "scattergeo"
                      }
                    ],
                    "scattergl": [
                      {
                        "marker": {
                          "colorbar": {
                            "outlinewidth": 0,
                            "ticks": ""
                          }
                        },
                        "type": "scattergl"
                      }
                    ],
                    "scattermapbox": [
                      {
                        "marker": {
                          "colorbar": {
                            "outlinewidth": 0,
                            "ticks": ""
                          }
                        },
                        "type": "scattermapbox"
                      }
                    ],
                    "scatterpolar": [
                      {
                        "marker": {
                          "colorbar": {
                            "outlinewidth": 0,
                            "ticks": ""
                          }
                        },
                        "type": "scatterpolar"
                      }
                    ],
                    "scatterpolargl": [
                      {
                        "marker": {
                          "colorbar": {
                            "outlinewidth": 0,
                            "ticks": ""
                          }
                        },
                        "type": "scatterpolargl"
                      }
                    ],
                    "scatterternary": [
                      {
                        "marker": {
                          "colorbar": {
                            "outlinewidth": 0,
                            "ticks": ""
                          }
                        },
                        "type": "scatterternary"
                      }
                    ],
                    "surface": [
                      {
                        "colorbar": {
                          "outlinewidth": 0,
                          "ticks": ""
                        },
                        "colorscale": [
                          [
                            0,
                            "#0d0887"
                          ],
                          [
                            0.1111111111111111,
                            "#46039f"
                          ],
                          [
                            0.2222222222222222,
                            "#7201a8"
                          ],
                          [
                            0.3333333333333333,
                            "#9c179e"
                          ],
                          [
                            0.4444444444444444,
                            "#bd3786"
                          ],
                          [
                            0.5555555555555556,
                            "#d8576b"
                          ],
                          [
                            0.6666666666666666,
                            "#ed7953"
                          ],
                          [
                            0.7777777777777778,
                            "#fb9f3a"
                          ],
                          [
                            0.8888888888888888,
                            "#fdca26"
                          ],
                          [
                            1,
                            "#f0f921"
                          ]
                        ],
                        "type": "surface"
                      }
                    ],
                    "table": [
                      {
                        "cells": {
                          "fill": {
                            "color": "#EBF0F8"
                          },
                          "line": {
                            "color": "white"
                          }
                        },
                        "header": {
                          "fill": {
                            "color": "#C8D4E3"
                          },
                          "line": {
                            "color": "white"
                          }
                        },
                        "type": "table"
                      }
                    ]
                  },
                  "layout": {
                    "annotationdefaults": {
                      "arrowcolor": "#2a3f5f",
                      "arrowhead": 0,
                      "arrowwidth": 1
                    },
                    "autotypenumbers": "strict",
                    "coloraxis": {
                      "colorbar": {
                        "outlinewidth": 0,
                        "ticks": ""
                      }
                    },
                    "colorscale": {
                      "diverging": [
                        [
                          0,
                          "#8e0152"
                        ],
                        [
                          0.1,
                          "#c51b7d"
                        ],
                        [
                          0.2,
                          "#de77ae"
                        ],
                        [
                          0.3,
                          "#f1b6da"
                        ],
                        [
                          0.4,
                          "#fde0ef"
                        ],
                        [
                          0.5,
                          "#f7f7f7"
                        ],
                        [
                          0.6,
                          "#e6f5d0"
                        ],
                        [
                          0.7,
                          "#b8e186"
                        ],
                        [
                          0.8,
                          "#7fbc41"
                        ],
                        [
                          0.9,
                          "#4d9221"
                        ],
                        [
                          1,
                          "#276419"
                        ]
                      ],
                      "sequential": [
                        [
                          0,
                          "#0d0887"
                        ],
                        [
                          0.1111111111111111,
                          "#46039f"
                        ],
                        [
                          0.2222222222222222,
                          "#7201a8"
                        ],
                        [
                          0.3333333333333333,
                          "#9c179e"
                        ],
                        [
                          0.4444444444444444,
                          "#bd3786"
                        ],
                        [
                          0.5555555555555556,
                          "#d8576b"
                        ],
                        [
                          0.6666666666666666,
                          "#ed7953"
                        ],
                        [
                          0.7777777777777778,
                          "#fb9f3a"
                        ],
                        [
                          0.8888888888888888,
                          "#fdca26"
                        ],
                        [
                          1,
                          "#f0f921"
                        ]
                      ],
                      "sequentialminus": [
                        [
                          0,
                          "#0d0887"
                        ],
                        [
                          0.1111111111111111,
                          "#46039f"
                        ],
                        [
                          0.2222222222222222,
                          "#7201a8"
                        ],
                        [
                          0.3333333333333333,
                          "#9c179e"
                        ],
                        [
                          0.4444444444444444,
                          "#bd3786"
                        ],
                        [
                          0.5555555555555556,
                          "#d8576b"
                        ],
                        [
                          0.6666666666666666,
                          "#ed7953"
                        ],
                        [
                          0.7777777777777778,
                          "#fb9f3a"
                        ],
                        [
                          0.8888888888888888,
                          "#fdca26"
                        ],
                        [
                          1,
                          "#f0f921"
                        ]
                      ]
                    },
                    "colorway": [
                      "#636efa",
                      "#EF553B",
                      "#00cc96",
                      "#ab63fa",
                      "#FFA15A",
                      "#19d3f3",
                      "#FF6692",
                      "#B6E880",
                      "#FF97FF",
                      "#FECB52"
                    ],
                    "font": {
                      "color": "#2a3f5f"
                    },
                    "geo": {
                      "bgcolor": "white",
                      "lakecolor": "white",
                      "landcolor": "#E5ECF6",
                      "showlakes": true,
                      "showland": true,
                      "subunitcolor": "white"
                    },
                    "hoverlabel": {
                      "align": "left"
                    },
                    "hovermode": "closest",
                    "mapbox": {
                      "style": "light"
                    },
                    "paper_bgcolor": "white",
                    "plot_bgcolor": "#E5ECF6",
                    "polar": {
                      "angularaxis": {
                        "gridcolor": "white",
                        "linecolor": "white",
                        "ticks": ""
                      },
                      "bgcolor": "#E5ECF6",
                      "radialaxis": {
                        "gridcolor": "white",
                        "linecolor": "white",
                        "ticks": ""
                      }
                    },
                    "scene": {
                      "xaxis": {
                        "backgroundcolor": "#E5ECF6",
                        "gridcolor": "white",
                        "gridwidth": 2,
                        "linecolor": "white",
                        "showbackground": true,
                        "ticks": "",
                        "zerolinecolor": "white"
                      },
                      "yaxis": {
                        "backgroundcolor": "#E5ECF6",
                        "gridcolor": "white",
                        "gridwidth": 2,
                        "linecolor": "white",
                        "showbackground": true,
                        "ticks": "",
                        "zerolinecolor": "white"
                      },
                      "zaxis": {
                        "backgroundcolor": "#E5ECF6",
                        "gridcolor": "white",
                        "gridwidth": 2,
                        "linecolor": "white",
                        "showbackground": true,
                        "ticks": "",
                        "zerolinecolor": "white"
                      }
                    },
                    "shapedefaults": {
                      "line": {
                        "color": "#2a3f5f"
                      }
                    },
                    "ternary": {
                      "aaxis": {
                        "gridcolor": "white",
                        "linecolor": "white",
                        "ticks": ""
                      },
                      "baxis": {
                        "gridcolor": "white",
                        "linecolor": "white",
                        "ticks": ""
                      },
                      "bgcolor": "#E5ECF6",
                      "caxis": {
                        "gridcolor": "white",
                        "linecolor": "white",
                        "ticks": ""
                      }
                    },
                    "title": {
                      "x": 0.05
                    },
                    "xaxis": {
                      "automargin": true,
                      "gridcolor": "white",
                      "linecolor": "white",
                      "ticks": "",
                      "title": {
                        "standoff": 15
                      },
                      "zerolinecolor": "white",
                      "zerolinewidth": 2
                    },
                    "yaxis": {
                      "automargin": true,
                      "gridcolor": "white",
                      "linecolor": "white",
                      "ticks": "",
                      "title": {
                        "standoff": 15
                      },
                      "zerolinecolor": "white",
                      "zerolinewidth": 2
                    }
                  }
                },
                "title": {
                  "font": {
                    "color": "white"
                  },
                  "text": "Map world of total failures launches per country"
                },
                "width": 900
              }
            }
          },
          "metadata": {},
          "output_type": "display_data"
        }
      ],
      "source": [
        "fig_failure = px.choropleth(\n",
        "    df_failures,\n",
        "    locations=\"Country\",\n",
        "    color=\"Failures\",\n",
        "    color_continuous_scale=px.colors.sequential.Reds[3:],\n",
        "    range_color=(0, 160),\n",
        "    width=900,\n",
        "    height=500\n",
        ")\n",
        "\n",
        "fig_failure.update_geos(\n",
        "    visible=False,\n",
        "    showcountries=True,\n",
        "    countrycolor=\"#455A64\",\n",
        "    bgcolor=\"#323130\"\n",
        ")\n",
        "\n",
        "fig_failure.update_layout(\n",
        "    paper_bgcolor=\"#323130\",\n",
        "    title=\"Map world of total failures launches per country\",\n",
        "    titlefont=dict(color=\"white\"),\n",
        "    coloraxis_colorbar=dict(\n",
        "        title=\"Total failures\", \n",
        "        titlefont=dict(color=\"white\"), \n",
        "        tickfont=dict(color=\"white\")\n",
        "    )\n",
        ")\n",
        "\n",
        "fig_failure.show()"
      ]
    },
    {
      "cell_type": "markdown",
      "metadata": {
        "id": "9LqcqSrKa-qN",
        "papermill": {
          "duration": 0.039343,
          "end_time": "2020-10-20T21:34:06.591694",
          "exception": false,
          "start_time": "2020-10-20T21:34:06.552351",
          "status": "completed"
        },
        "tags": []
      },
      "source": [
        "# Create a Plotly Sunburst Chart of the countries, organisations, and mission status. "
      ]
    },
    {
      "cell_type": "code",
      "execution_count": 183,
      "metadata": {
        "id": "MwUfpoByo3_J"
      },
      "outputs": [
        {
          "data": {
            "application/vnd.plotly.v1+json": {
              "config": {
                "plotlyServerURL": "https://plot.ly"
              },
              "data": [
                {
                  "branchvalues": "total",
                  "customdata": [
                    [
                      "Unknown"
                    ],
                    [
                      "FRA"
                    ],
                    [
                      "AUS"
                    ],
                    [
                      "CHN"
                    ],
                    [
                      "CHN"
                    ],
                    [
                      "KAZ"
                    ],
                    [
                      "KAZ"
                    ],
                    [
                      "AUS"
                    ],
                    [
                      "AUS"
                    ],
                    [
                      "USA"
                    ],
                    [
                      "AUS"
                    ],
                    [
                      "RUS"
                    ],
                    [
                      "USA"
                    ],
                    [
                      "RUS"
                    ],
                    [
                      "KAZ"
                    ],
                    [
                      "RUS"
                    ],
                    [
                      "USA"
                    ],
                    [
                      "USA"
                    ],
                    [
                      "JPN"
                    ],
                    [
                      "USA"
                    ],
                    [
                      "FRA"
                    ],
                    [
                      "JPN"
                    ],
                    [
                      "RUS"
                    ],
                    [
                      "USA"
                    ],
                    [
                      "USA"
                    ],
                    [
                      "KAZ"
                    ],
                    [
                      "CHN"
                    ],
                    [
                      "AUS"
                    ],
                    [
                      "RUS"
                    ],
                    [
                      "USA"
                    ],
                    [
                      "IRN"
                    ],
                    [
                      "Unknown"
                    ],
                    [
                      "RUS"
                    ],
                    [
                      "USA"
                    ],
                    [
                      "USA"
                    ],
                    [
                      "KAZ"
                    ],
                    [
                      "RUS"
                    ],
                    [
                      "KAZ"
                    ],
                    [
                      "RUS"
                    ],
                    [
                      "PRK"
                    ],
                    [
                      "JPN"
                    ],
                    [
                      "IRN"
                    ],
                    [
                      "ISR"
                    ],
                    [
                      "USA"
                    ],
                    [
                      "KAZ"
                    ],
                    [
                      "FRA"
                    ],
                    [
                      "JPN"
                    ],
                    [
                      "RUS"
                    ],
                    [
                      "KAZ"
                    ],
                    [
                      "AUS"
                    ],
                    [
                      "CHN"
                    ],
                    [
                      "USA"
                    ],
                    [
                      "IRN"
                    ],
                    [
                      "IRN"
                    ],
                    [
                      "JPN"
                    ],
                    [
                      "CHN"
                    ],
                    [
                      "KAZ"
                    ],
                    [
                      "RUS"
                    ],
                    [
                      "IND"
                    ],
                    [
                      "USA"
                    ],
                    [
                      "JPN"
                    ],
                    [
                      "IND"
                    ],
                    [
                      "RUS"
                    ],
                    [
                      "KAZ"
                    ],
                    [
                      "Unknown"
                    ],
                    [
                      "USA"
                    ],
                    [
                      "RUS"
                    ],
                    [
                      "CHN"
                    ],
                    [
                      "FRA"
                    ],
                    [
                      "NZL"
                    ],
                    [
                      "Unknown"
                    ],
                    [
                      "USA"
                    ],
                    [
                      "FRA"
                    ],
                    [
                      "USA"
                    ],
                    [
                      "USA"
                    ],
                    [
                      "CHN"
                    ],
                    [
                      "ISR"
                    ],
                    [
                      "PRK"
                    ],
                    [
                      "USA"
                    ],
                    [
                      "RUS"
                    ],
                    [
                      "AUS"
                    ],
                    [
                      "KAZ"
                    ],
                    [
                      "USA"
                    ],
                    [
                      "KAZ"
                    ],
                    [
                      "IND"
                    ],
                    [
                      "KAZ"
                    ],
                    [
                      "KAZ"
                    ],
                    [
                      "RUS"
                    ],
                    [
                      "FRA"
                    ],
                    [
                      "USA"
                    ],
                    [
                      "IRN"
                    ],
                    [
                      "NZL"
                    ],
                    [
                      "FRA"
                    ],
                    [
                      "USA"
                    ],
                    [
                      "RUS"
                    ],
                    [
                      "KAZ"
                    ],
                    [
                      "USA"
                    ],
                    [
                      "JPN"
                    ],
                    [
                      "RUS"
                    ],
                    [
                      "FRA"
                    ],
                    [
                      "USA"
                    ],
                    [
                      "USA"
                    ],
                    [
                      "Unknown"
                    ],
                    [
                      "USA"
                    ],
                    [
                      "USA"
                    ],
                    [
                      "FRA"
                    ],
                    [
                      "USA"
                    ],
                    [
                      "USA"
                    ],
                    [
                      "USA"
                    ],
                    [
                      "USA"
                    ],
                    [
                      "Unknown"
                    ],
                    [
                      "USA"
                    ],
                    [
                      "AUS"
                    ],
                    [
                      "USA"
                    ],
                    [
                      "PRK"
                    ],
                    [
                      "USA"
                    ],
                    [
                      "FRA"
                    ],
                    [
                      "USA"
                    ],
                    [
                      "KAZ"
                    ],
                    [
                      "KAZ"
                    ],
                    [
                      "IRN"
                    ],
                    [
                      "KAZ"
                    ],
                    [
                      "NZL"
                    ],
                    [
                      "RUS"
                    ],
                    [
                      "RUS"
                    ],
                    [
                      "IND"
                    ],
                    [
                      "RUS"
                    ],
                    [
                      "RUS"
                    ],
                    [
                      "KAZ"
                    ],
                    [
                      "USA"
                    ],
                    [
                      "CHN"
                    ],
                    [
                      "KAZ"
                    ],
                    [
                      "USA"
                    ],
                    [
                      "ISR"
                    ],
                    [
                      "KEN"
                    ],
                    [
                      "USA"
                    ],
                    [
                      "USA"
                    ],
                    [
                      "RUS"
                    ],
                    [
                      "KAZ"
                    ],
                    [
                      "PRK"
                    ],
                    [
                      "KAZ"
                    ],
                    [
                      "BRA"
                    ],
                    [
                      "USA"
                    ],
                    [
                      "USA"
                    ],
                    [
                      "ISR"
                    ],
                    [
                      "KAZ"
                    ],
                    [
                      "RUS"
                    ],
                    [
                      "JPN"
                    ],
                    [
                      "KAZ"
                    ],
                    [
                      "USA"
                    ],
                    [
                      "USA"
                    ],
                    [
                      "USA"
                    ],
                    [
                      "USA"
                    ],
                    [
                      "JPN"
                    ],
                    [
                      "KEN"
                    ],
                    [
                      "KAZ"
                    ],
                    [
                      "USA"
                    ],
                    [
                      "USA"
                    ],
                    [
                      "CHN"
                    ],
                    [
                      "JPN"
                    ],
                    [
                      "FRA"
                    ],
                    [
                      "RUS"
                    ],
                    [
                      "USA"
                    ],
                    [
                      "RUS"
                    ],
                    [
                      "IND"
                    ],
                    [
                      "KAZ"
                    ],
                    [
                      "USA"
                    ],
                    [
                      "USA"
                    ],
                    [
                      "USA"
                    ],
                    [
                      "CHN"
                    ],
                    [
                      "USA"
                    ],
                    [
                      "JPN"
                    ],
                    [
                      "CHN"
                    ],
                    [
                      "Unknown"
                    ],
                    [
                      "JPN"
                    ],
                    [
                      "FRA"
                    ],
                    [
                      "KEN"
                    ],
                    [
                      "FRA"
                    ],
                    [
                      "CHN"
                    ],
                    [
                      "FRA"
                    ],
                    [
                      "USA"
                    ],
                    [
                      "NZL"
                    ],
                    [
                      "BRA"
                    ],
                    [
                      "USA"
                    ],
                    [
                      "CHN"
                    ],
                    [
                      "CHN"
                    ],
                    [
                      "FRA"
                    ],
                    [
                      "BRA"
                    ],
                    [
                      "KAZ"
                    ],
                    [
                      "KAZ"
                    ],
                    [
                      "KAZ"
                    ],
                    [
                      "IRN"
                    ],
                    [
                      "JPN"
                    ],
                    [
                      "RUS"
                    ],
                    [
                      "JPN"
                    ],
                    [
                      "AUS"
                    ],
                    [
                      "USA"
                    ],
                    [
                      "KAZ"
                    ],
                    [
                      "RUS"
                    ],
                    [
                      "USA"
                    ],
                    [
                      "CHN"
                    ],
                    [
                      "USA"
                    ],
                    [
                      "RUS"
                    ],
                    [
                      "USA"
                    ],
                    [
                      "CHN"
                    ],
                    [
                      "USA"
                    ],
                    [
                      "CHN"
                    ],
                    [
                      "FRA"
                    ],
                    [
                      "FRA"
                    ],
                    [
                      "USA"
                    ],
                    [
                      "JPN"
                    ],
                    [
                      "BRA"
                    ]
                  ],
                  "domain": {
                    "x": [
                      0,
                      1
                    ],
                    "y": [
                      0,
                      1
                    ]
                  },
                  "hovertemplate": "labels=%{label}<br>count=%{value}<br>parent=%{parent}<br>id=%{id}<br>Country=%{customdata[0]}<extra></extra>",
                  "ids": [
                    "Unknown",
                    "FRA/CNES/Success",
                    "AUS/CECLES/Success",
                    "CHN/CASIC/Success",
                    "CHN/CASC/Success",
                    "KAZ/OKB-586",
                    "KAZ/Arianespace/Success",
                    "AUS/RAE",
                    "AUS/AMBA/Success",
                    "USA/SpaceX/Prelaunch Failure",
                    "AUS/CECLES",
                    "RUS/VKS RF/Partial Failure",
                    "USA/ULA/Partial Failure",
                    "RUS/Roscosmos",
                    "KAZ/RVSN USSR/Partial Failure",
                    "RUS/SRC",
                    "USA/NASA/Partial Failure",
                    "USA/Martin Marietta/Partial Failure",
                    "JPN/MHI/Partial Failure",
                    "USA/AMBA/Partial Failure",
                    "FRA/ESA/Success",
                    "JPN/UT",
                    "RUS/Eurockot/Success",
                    "USA/Martin Marietta",
                    "USA/Blue Origin",
                    "KAZ/Arianespace",
                    "CHN/ExPace",
                    "AUS/AMBA",
                    "RUS/Yuzhmash/Success",
                    "USA/General Dynamics",
                    "IRN/IRGC",
                    "Unknown/Sea Launch/Success",
                    "RUS/Roscosmos/Success",
                    "USA/Northrop/Success",
                    "USA/NASA/Success",
                    "KAZ/Land Launch",
                    "RUS/Kosmotras/Success",
                    "KAZ/Kosmotras/Success",
                    "RUS/Khrunichev/Success",
                    "PRK/KCST/Success",
                    "JPN/JAXA/Success",
                    "IRN/ISA/Success",
                    "ISR/IAI/Success",
                    "USA/NASA",
                    "KAZ/VKS RF",
                    "FRA/CECLES",
                    "JPN/UT/Failure",
                    "RUS/Eurockot/Failure",
                    "KAZ/RVSN USSR/Failure",
                    "AUS/RAE/Failure",
                    "CHN/ExPace/Failure",
                    "USA/General Dynamics/Failure",
                    "IRN/ISA/Failure",
                    "IRN",
                    "JPN",
                    "CHN",
                    "KAZ/VKS RF/Failure",
                    "RUS/MITT/Failure",
                    "IND",
                    "USA/Lockheed/Failure",
                    "JPN/JAXA/Failure",
                    "IND/ISRO/Failure",
                    "RUS/Roscosmos/Failure",
                    "KAZ/Kosmotras/Failure",
                    "Unknown/Sea Launch/Failure",
                    "USA/AMBA/Failure",
                    "RUS",
                    "CHN/CASIC/Failure",
                    "FRA/CECLES/Failure",
                    "NZL",
                    "Unknown/Sea Launch",
                    "USA/EER",
                    "FRA/Arianespace/Partial Failure",
                    "USA/US Navy",
                    "USA/Blue Origin/Success",
                    "CHN/i-Space/Success",
                    "ISR/IAI",
                    "PRK/KCST",
                    "USA/US Air Force/Success",
                    "RUS/RVSN USSR",
                    "AUS",
                    "KAZ",
                    "USA/US Air Force/Partial Failure",
                    "KAZ/RVSN USSR/Success",
                    "IND/ISRO",
                    "KAZ/Land Launch/Partial Failure",
                    "KAZ/Kosmotras",
                    "RUS/Eurockot",
                    "FRA/Arm??e de l'Air",
                    "USA/SpaceX/Success",
                    "IRN/ISA/Prelaunch Failure",
                    "NZL/Rocket Lab",
                    "FRA/Arm??e de l'Air/Success",
                    "USA/US Air Force",
                    "RUS/Yuzhmash",
                    "KAZ/Roscosmos/Failure",
                    "USA/Lockheed/Success",
                    "JPN/MHI",
                    "RUS/Khrunichev",
                    "FRA/ESA/Partial Failure",
                    "USA/Exos/Failure",
                    "USA/EER/Failure",
                    "Unknown/KARI/Success",
                    "USA/Northrop/Failure",
                    "USA/Lockheed",
                    "FRA",
                    "USA/Exos/Partial Failure",
                    "USA/SpaceX/Failure",
                    "USA/ILS",
                    "USA/ULA/Success",
                    "Unknown/KARI",
                    "USA/AMBA",
                    "AUS/CECLES/Failure",
                    "USA/General Dynamics/Partial Failure",
                    "PRK",
                    "USA/Boeing/Failure",
                    "FRA/ESA",
                    "USA/Virgin Orbit",
                    "KAZ/Starsem",
                    "KAZ/Starsem/Success",
                    "IRN/IRGC/Success",
                    "KAZ/Roscosmos/Partial Failure",
                    "NZL/Rocket Lab/Success",
                    "RUS/RVSN USSR/Success",
                    "RUS/RVSN USSR/Failure",
                    "IND/ISRO/Success",
                    "RUS/MITT/Success",
                    "RUS/SRC/Failure",
                    "KAZ/RVSN USSR",
                    "USA/AMBA/Success",
                    "CHN/i-Space",
                    "KAZ/ILS/Success",
                    "USA/Boeing",
                    "ISR/IAI/Failure",
                    "KEN/ASI/Success",
                    "USA/Exos",
                    "USA/Martin Marietta/Success",
                    "RUS/VKS RF/Success",
                    "KAZ/Roscosmos",
                    "PRK/KCST/Failure",
                    "KAZ/ILS/Partial Failure",
                    "BRA",
                    "USA/ULA",
                    "USA/Northrop",
                    "ISR",
                    "KAZ/Land Launch/Success",
                    "RUS/RVSN USSR/Partial Failure",
                    "JPN/ISAS/Success",
                    "KAZ/Roscosmos/Success",
                    "USA/NASA/Failure",
                    "USA/Virgin Orbit/Failure",
                    "USA/US Navy/Success",
                    "USA/US Navy/Failure",
                    "JPN/UT/Success",
                    "KEN/ASI",
                    "KAZ/RVSN USSR/Prelaunch Failure",
                    "USA/Boeing/Success",
                    "USA/Boeing/Partial Failure",
                    "CHN/CASC/Partial Failure",
                    "JPN/ISAS/Partial Failure",
                    "FRA/Arm??e de l'Air/Partial Failure",
                    "RUS/VKS RF/Failure",
                    "USA/SpaceX",
                    "RUS/VKS RF",
                    "IND/ISRO/Partial Failure",
                    "KAZ/Yuzhmash",
                    "USA/Douglas",
                    "USA/Sandia/Failure",
                    "USA/Sandia",
                    "CHN/OneSpace/Failure",
                    "USA/Martin Marietta/Failure",
                    "JPN/MHI/Failure",
                    "CHN/Landspace/Failure",
                    "Unknown/KARI/Failure",
                    "JPN/ISAS/Failure",
                    "FRA/ESA/Failure",
                    "KEN",
                    "FRA/CNES/Failure",
                    "CHN/CASC/Failure",
                    "FRA/Arianespace/Failure",
                    "USA/US Air Force/Failure",
                    "NZL/Rocket Lab/Failure",
                    "BRA/AEB/Prelaunch Failure",
                    "USA/SpaceX/Partial Failure",
                    "CHN/CASIC",
                    "CHN/CASC",
                    "FRA/Arianespace",
                    "BRA/AEB",
                    "KAZ/Yuzhmash/Success",
                    "KAZ/VKS RF/Success",
                    "KAZ/ILS",
                    "IRN/ISA",
                    "JPN/ISAS",
                    "RUS/SRC/Success",
                    "JPN/JAXA",
                    "AUS/RAE/Success",
                    "USA/Northrop/Partial Failure",
                    "KAZ/OKB-586/Success",
                    "RUS/Kosmotras",
                    "USA",
                    "CHN/Landspace",
                    "USA/ILS/Success",
                    "RUS/MITT",
                    "USA/General Dynamics/Success",
                    "CHN/ExPace/Success",
                    "USA/Douglas/Success",
                    "CHN/OneSpace",
                    "FRA/Arianespace/Success",
                    "FRA/CNES",
                    "USA/US Navy/Partial Failure",
                    "JPN/MHI/Success",
                    "BRA/AEB/Failure"
                  ],
                  "labels": [
                    "Unknown",
                    "Success",
                    "Success",
                    "Success",
                    "Success",
                    "OKB-586",
                    "Success",
                    "RAE",
                    "Success",
                    "Prelaunch Failure",
                    "CECLES",
                    "Partial Failure",
                    "Partial Failure",
                    "Roscosmos",
                    "Partial Failure",
                    "SRC",
                    "Partial Failure",
                    "Partial Failure",
                    "Partial Failure",
                    "Partial Failure",
                    "Success",
                    "UT",
                    "Success",
                    "Martin Marietta",
                    "Blue Origin",
                    "Arianespace",
                    "ExPace",
                    "AMBA",
                    "Success",
                    "General Dynamics",
                    "IRGC",
                    "Success",
                    "Success",
                    "Success",
                    "Success",
                    "Land Launch",
                    "Success",
                    "Success",
                    "Success",
                    "Success",
                    "Success",
                    "Success",
                    "Success",
                    "NASA",
                    "VKS RF",
                    "CECLES",
                    "Failure",
                    "Failure",
                    "Failure",
                    "Failure",
                    "Failure",
                    "Failure",
                    "Failure",
                    "IRN",
                    "JPN",
                    "CHN",
                    "Failure",
                    "Failure",
                    "IND",
                    "Failure",
                    "Failure",
                    "Failure",
                    "Failure",
                    "Failure",
                    "Failure",
                    "Failure",
                    "RUS",
                    "Failure",
                    "Failure",
                    "NZL",
                    "Sea Launch",
                    "EER",
                    "Partial Failure",
                    "US Navy",
                    "Success",
                    "Success",
                    "IAI",
                    "KCST",
                    "Success",
                    "RVSN USSR",
                    "AUS",
                    "KAZ",
                    "Partial Failure",
                    "Success",
                    "ISRO",
                    "Partial Failure",
                    "Kosmotras",
                    "Eurockot",
                    "Arm??e de l'Air",
                    "Success",
                    "Prelaunch Failure",
                    "Rocket Lab",
                    "Success",
                    "US Air Force",
                    "Yuzhmash",
                    "Failure",
                    "Success",
                    "MHI",
                    "Khrunichev",
                    "Partial Failure",
                    "Failure",
                    "Failure",
                    "Success",
                    "Failure",
                    "Lockheed",
                    "FRA",
                    "Partial Failure",
                    "Failure",
                    "ILS",
                    "Success",
                    "KARI",
                    "AMBA",
                    "Failure",
                    "Partial Failure",
                    "PRK",
                    "Failure",
                    "ESA",
                    "Virgin Orbit",
                    "Starsem",
                    "Success",
                    "Success",
                    "Partial Failure",
                    "Success",
                    "Success",
                    "Failure",
                    "Success",
                    "Success",
                    "Failure",
                    "RVSN USSR",
                    "Success",
                    "i-Space",
                    "Success",
                    "Boeing",
                    "Failure",
                    "Success",
                    "Exos",
                    "Success",
                    "Success",
                    "Roscosmos",
                    "Failure",
                    "Partial Failure",
                    "BRA",
                    "ULA",
                    "Northrop",
                    "ISR",
                    "Success",
                    "Partial Failure",
                    "Success",
                    "Success",
                    "Failure",
                    "Failure",
                    "Success",
                    "Failure",
                    "Success",
                    "ASI",
                    "Prelaunch Failure",
                    "Success",
                    "Partial Failure",
                    "Partial Failure",
                    "Partial Failure",
                    "Partial Failure",
                    "Failure",
                    "SpaceX",
                    "VKS RF",
                    "Partial Failure",
                    "Yuzhmash",
                    "Douglas",
                    "Failure",
                    "Sandia",
                    "Failure",
                    "Failure",
                    "Failure",
                    "Failure",
                    "Failure",
                    "Failure",
                    "Failure",
                    "KEN",
                    "Failure",
                    "Failure",
                    "Failure",
                    "Failure",
                    "Failure",
                    "Prelaunch Failure",
                    "Partial Failure",
                    "CASIC",
                    "CASC",
                    "Arianespace",
                    "AEB",
                    "Success",
                    "Success",
                    "ILS",
                    "ISA",
                    "ISAS",
                    "Success",
                    "JAXA",
                    "Success",
                    "Partial Failure",
                    "Success",
                    "Kosmotras",
                    "USA",
                    "Landspace",
                    "Success",
                    "MITT",
                    "Success",
                    "Success",
                    "Success",
                    "OneSpace",
                    "Success",
                    "CNES",
                    "Partial Failure",
                    "Success",
                    "Failure"
                  ],
                  "marker": {
                    "colors": [
                      "#636efa",
                      "#EF553B",
                      "#00cc96",
                      "#ab63fa",
                      "#ab63fa",
                      "#FFA15A",
                      "#FFA15A",
                      "#00cc96",
                      "#00cc96",
                      "#19d3f3",
                      "#00cc96",
                      "#FF6692",
                      "#19d3f3",
                      "#FF6692",
                      "#FFA15A",
                      "#FF6692",
                      "#19d3f3",
                      "#19d3f3",
                      "#B6E880",
                      "#19d3f3",
                      "#EF553B",
                      "#B6E880",
                      "#FF6692",
                      "#19d3f3",
                      "#19d3f3",
                      "#FFA15A",
                      "#ab63fa",
                      "#00cc96",
                      "#FF6692",
                      "#19d3f3",
                      "#FF97FF",
                      "#636efa",
                      "#FF6692",
                      "#19d3f3",
                      "#19d3f3",
                      "#FFA15A",
                      "#FF6692",
                      "#FFA15A",
                      "#FF6692",
                      "#FECB52",
                      "#B6E880",
                      "#FF97FF",
                      "#636efa",
                      "#19d3f3",
                      "#FFA15A",
                      "#EF553B",
                      "#B6E880",
                      "#FF6692",
                      "#FFA15A",
                      "#00cc96",
                      "#ab63fa",
                      "#19d3f3",
                      "#FF97FF",
                      "#FF97FF",
                      "#B6E880",
                      "#ab63fa",
                      "#FFA15A",
                      "#FF6692",
                      "#EF553B",
                      "#19d3f3",
                      "#B6E880",
                      "#EF553B",
                      "#FF6692",
                      "#FFA15A",
                      "#636efa",
                      "#19d3f3",
                      "#FF6692",
                      "#ab63fa",
                      "#EF553B",
                      "#00cc96",
                      "#636efa",
                      "#19d3f3",
                      "#EF553B",
                      "#19d3f3",
                      "#19d3f3",
                      "#ab63fa",
                      "#636efa",
                      "#FECB52",
                      "#19d3f3",
                      "#FF6692",
                      "#00cc96",
                      "#FFA15A",
                      "#19d3f3",
                      "#FFA15A",
                      "#EF553B",
                      "#FFA15A",
                      "#FFA15A",
                      "#FF6692",
                      "#EF553B",
                      "#19d3f3",
                      "#FF97FF",
                      "#00cc96",
                      "#EF553B",
                      "#19d3f3",
                      "#FF6692",
                      "#FFA15A",
                      "#19d3f3",
                      "#B6E880",
                      "#FF6692",
                      "#EF553B",
                      "#19d3f3",
                      "#19d3f3",
                      "#636efa",
                      "#19d3f3",
                      "#19d3f3",
                      "#EF553B",
                      "#19d3f3",
                      "#19d3f3",
                      "#19d3f3",
                      "#19d3f3",
                      "#636efa",
                      "#19d3f3",
                      "#00cc96",
                      "#19d3f3",
                      "#FECB52",
                      "#19d3f3",
                      "#EF553B",
                      "#19d3f3",
                      "#FFA15A",
                      "#FFA15A",
                      "#FF97FF",
                      "#FFA15A",
                      "#00cc96",
                      "#FF6692",
                      "#FF6692",
                      "#EF553B",
                      "#FF6692",
                      "#FF6692",
                      "#FFA15A",
                      "#19d3f3",
                      "#ab63fa",
                      "#FFA15A",
                      "#19d3f3",
                      "#636efa",
                      "#ab63fa",
                      "#19d3f3",
                      "#19d3f3",
                      "#FF6692",
                      "#FFA15A",
                      "#FECB52",
                      "#FFA15A",
                      "#FFA15A",
                      "#19d3f3",
                      "#19d3f3",
                      "#636efa",
                      "#FFA15A",
                      "#FF6692",
                      "#B6E880",
                      "#FFA15A",
                      "#19d3f3",
                      "#19d3f3",
                      "#19d3f3",
                      "#19d3f3",
                      "#B6E880",
                      "#ab63fa",
                      "#FFA15A",
                      "#19d3f3",
                      "#19d3f3",
                      "#ab63fa",
                      "#B6E880",
                      "#EF553B",
                      "#FF6692",
                      "#19d3f3",
                      "#FF6692",
                      "#EF553B",
                      "#FFA15A",
                      "#19d3f3",
                      "#19d3f3",
                      "#19d3f3",
                      "#ab63fa",
                      "#19d3f3",
                      "#B6E880",
                      "#ab63fa",
                      "#636efa",
                      "#B6E880",
                      "#EF553B",
                      "#ab63fa",
                      "#EF553B",
                      "#ab63fa",
                      "#EF553B",
                      "#19d3f3",
                      "#00cc96",
                      "#FFA15A",
                      "#19d3f3",
                      "#ab63fa",
                      "#ab63fa",
                      "#EF553B",
                      "#FFA15A",
                      "#FFA15A",
                      "#FFA15A",
                      "#FFA15A",
                      "#FF97FF",
                      "#B6E880",
                      "#FF6692",
                      "#B6E880",
                      "#00cc96",
                      "#19d3f3",
                      "#FFA15A",
                      "#FF6692",
                      "#19d3f3",
                      "#ab63fa",
                      "#19d3f3",
                      "#FF6692",
                      "#19d3f3",
                      "#ab63fa",
                      "#19d3f3",
                      "#ab63fa",
                      "#EF553B",
                      "#EF553B",
                      "#19d3f3",
                      "#B6E880",
                      "#FFA15A"
                    ]
                  },
                  "name": "",
                  "parents": [
                    "",
                    "FRA/CNES",
                    "AUS/CECLES",
                    "CHN/CASIC",
                    "CHN/CASC",
                    "KAZ",
                    "KAZ/Arianespace",
                    "AUS",
                    "AUS/AMBA",
                    "USA/SpaceX",
                    "AUS",
                    "RUS/VKS RF",
                    "USA/ULA",
                    "RUS",
                    "KAZ/RVSN USSR",
                    "RUS",
                    "USA/NASA",
                    "USA/Martin Marietta",
                    "JPN/MHI",
                    "USA/AMBA",
                    "FRA/ESA",
                    "JPN",
                    "RUS/Eurockot",
                    "USA",
                    "USA",
                    "KAZ",
                    "CHN",
                    "AUS",
                    "RUS/Yuzhmash",
                    "USA",
                    "IRN",
                    "Unknown/Sea Launch",
                    "RUS/Roscosmos",
                    "USA/Northrop",
                    "USA/NASA",
                    "KAZ",
                    "RUS/Kosmotras",
                    "KAZ/Kosmotras",
                    "RUS/Khrunichev",
                    "PRK/KCST",
                    "JPN/JAXA",
                    "IRN/ISA",
                    "ISR/IAI",
                    "USA",
                    "KAZ",
                    "FRA",
                    "JPN/UT",
                    "RUS/Eurockot",
                    "KAZ/RVSN USSR",
                    "AUS/RAE",
                    "CHN/ExPace",
                    "USA/General Dynamics",
                    "IRN/ISA",
                    "",
                    "",
                    "",
                    "KAZ/VKS RF",
                    "RUS/MITT",
                    "",
                    "USA/Lockheed",
                    "JPN/JAXA",
                    "IND/ISRO",
                    "RUS/Roscosmos",
                    "KAZ/Kosmotras",
                    "Unknown/Sea Launch",
                    "USA/AMBA",
                    "",
                    "CHN/CASIC",
                    "FRA/CECLES",
                    "",
                    "Unknown",
                    "USA",
                    "FRA/Arianespace",
                    "USA",
                    "USA/Blue Origin",
                    "CHN/i-Space",
                    "ISR",
                    "PRK",
                    "USA/US Air Force",
                    "RUS",
                    "",
                    "",
                    "USA/US Air Force",
                    "KAZ/RVSN USSR",
                    "IND",
                    "KAZ/Land Launch",
                    "KAZ",
                    "RUS",
                    "FRA",
                    "USA/SpaceX",
                    "IRN/ISA",
                    "NZL",
                    "FRA/Arm??e de l'Air",
                    "USA",
                    "RUS",
                    "KAZ/Roscosmos",
                    "USA/Lockheed",
                    "JPN",
                    "RUS",
                    "FRA/ESA",
                    "USA/Exos",
                    "USA/EER",
                    "Unknown/KARI",
                    "USA/Northrop",
                    "USA",
                    "",
                    "USA/Exos",
                    "USA/SpaceX",
                    "USA",
                    "USA/ULA",
                    "Unknown",
                    "USA",
                    "AUS/CECLES",
                    "USA/General Dynamics",
                    "",
                    "USA/Boeing",
                    "FRA",
                    "USA",
                    "KAZ",
                    "KAZ/Starsem",
                    "IRN/IRGC",
                    "KAZ/Roscosmos",
                    "NZL/Rocket Lab",
                    "RUS/RVSN USSR",
                    "RUS/RVSN USSR",
                    "IND/ISRO",
                    "RUS/MITT",
                    "RUS/SRC",
                    "KAZ",
                    "USA/AMBA",
                    "CHN",
                    "KAZ/ILS",
                    "USA",
                    "ISR/IAI",
                    "KEN/ASI",
                    "USA",
                    "USA/Martin Marietta",
                    "RUS/VKS RF",
                    "KAZ",
                    "PRK/KCST",
                    "KAZ/ILS",
                    "",
                    "USA",
                    "USA",
                    "",
                    "KAZ/Land Launch",
                    "RUS/RVSN USSR",
                    "JPN/ISAS",
                    "KAZ/Roscosmos",
                    "USA/NASA",
                    "USA/Virgin Orbit",
                    "USA/US Navy",
                    "USA/US Navy",
                    "JPN/UT",
                    "KEN",
                    "KAZ/RVSN USSR",
                    "USA/Boeing",
                    "USA/Boeing",
                    "CHN/CASC",
                    "JPN/ISAS",
                    "FRA/Arm??e de l'Air",
                    "RUS/VKS RF",
                    "USA",
                    "RUS",
                    "IND/ISRO",
                    "KAZ",
                    "USA",
                    "USA/Sandia",
                    "USA",
                    "CHN/OneSpace",
                    "USA/Martin Marietta",
                    "JPN/MHI",
                    "CHN/Landspace",
                    "Unknown/KARI",
                    "JPN/ISAS",
                    "FRA/ESA",
                    "",
                    "FRA/CNES",
                    "CHN/CASC",
                    "FRA/Arianespace",
                    "USA/US Air Force",
                    "NZL/Rocket Lab",
                    "BRA/AEB",
                    "USA/SpaceX",
                    "CHN",
                    "CHN",
                    "FRA",
                    "BRA",
                    "KAZ/Yuzhmash",
                    "KAZ/VKS RF",
                    "KAZ",
                    "IRN",
                    "JPN",
                    "RUS/SRC",
                    "JPN",
                    "AUS/RAE",
                    "USA/Northrop",
                    "KAZ/OKB-586",
                    "RUS",
                    "",
                    "CHN",
                    "USA/ILS",
                    "RUS",
                    "USA/General Dynamics",
                    "CHN/ExPace",
                    "USA/Douglas",
                    "CHN",
                    "FRA/Arianespace",
                    "FRA",
                    "USA/US Navy",
                    "JPN/MHI",
                    "BRA/AEB"
                  ],
                  "type": "sunburst",
                  "values": [
                    39,
                    6,
                    1,
                    3,
                    231,
                    2,
                    2,
                    2,
                    1,
                    1,
                    3,
                    6,
                    1,
                    8,
                    17,
                    3,
                    6,
                    3,
                    2,
                    1,
                    9,
                    5,
                    12,
                    114,
                    12,
                    2,
                    10,
                    1,
                    1,
                    251,
                    1,
                    33,
                    7,
                    74,
                    186,
                    7,
                    10,
                    11,
                    1,
                    2,
                    6,
                    4,
                    9,
                    203,
                    44,
                    1,
                    4,
                    1,
                    66,
                    1,
                    1,
                    37,
                    8,
                    14,
                    126,
                    269,
                    3,
                    1,
                    76,
                    5,
                    1,
                    8,
                    1,
                    1,
                    3,
                    3,
                    1398,
                    2,
                    1,
                    13,
                    36,
                    1,
                    3,
                    17,
                    12,
                    1,
                    11,
                    5,
                    129,
                    1198,
                    6,
                    701,
                    2,
                    495,
                    76,
                    1,
                    12,
                    13,
                    4,
                    94,
                    1,
                    13,
                    3,
                    161,
                    1,
                    2,
                    74,
                    84,
                    1,
                    1,
                    1,
                    1,
                    1,
                    7,
                    79,
                    303,
                    3,
                    4,
                    40,
                    139,
                    3,
                    7,
                    2,
                    11,
                    5,
                    3,
                    13,
                    1,
                    1,
                    1,
                    1,
                    1,
                    11,
                    1119,
                    55,
                    63,
                    6,
                    1,
                    579,
                    3,
                    1,
                    5,
                    136,
                    2,
                    9,
                    4,
                    100,
                    147,
                    47,
                    3,
                    1,
                    3,
                    140,
                    83,
                    11,
                    6,
                    24,
                    26,
                    44,
                    11,
                    1,
                    2,
                    14,
                    1,
                    9,
                    1,
                    131,
                    2,
                    6,
                    1,
                    1,
                    4,
                    100,
                    157,
                    5,
                    1,
                    1,
                    1,
                    1,
                    1,
                    11,
                    2,
                    1,
                    2,
                    3,
                    3,
                    9,
                    2,
                    14,
                    7,
                    30,
                    2,
                    1,
                    1,
                    5,
                    251,
                    277,
                    3,
                    1,
                    41,
                    6,
                    13,
                    30,
                    2,
                    7,
                    1,
                    2,
                    2,
                    10,
                    1351,
                    1,
                    40,
                    7,
                    203,
                    9,
                    1,
                    1,
                    267,
                    8,
                    1,
                    80,
                    2
                  ]
                }
              ],
              "layout": {
                "height": 600,
                "legend": {
                  "tracegroupgap": 0
                },
                "margin": {
                  "t": 60
                },
                "paper_bgcolor": "#323130",
                "template": {
                  "data": {
                    "bar": [
                      {
                        "error_x": {
                          "color": "#2a3f5f"
                        },
                        "error_y": {
                          "color": "#2a3f5f"
                        },
                        "marker": {
                          "line": {
                            "color": "#E5ECF6",
                            "width": 0.5
                          },
                          "pattern": {
                            "fillmode": "overlay",
                            "size": 10,
                            "solidity": 0.2
                          }
                        },
                        "type": "bar"
                      }
                    ],
                    "barpolar": [
                      {
                        "marker": {
                          "line": {
                            "color": "#E5ECF6",
                            "width": 0.5
                          },
                          "pattern": {
                            "fillmode": "overlay",
                            "size": 10,
                            "solidity": 0.2
                          }
                        },
                        "type": "barpolar"
                      }
                    ],
                    "carpet": [
                      {
                        "aaxis": {
                          "endlinecolor": "#2a3f5f",
                          "gridcolor": "white",
                          "linecolor": "white",
                          "minorgridcolor": "white",
                          "startlinecolor": "#2a3f5f"
                        },
                        "baxis": {
                          "endlinecolor": "#2a3f5f",
                          "gridcolor": "white",
                          "linecolor": "white",
                          "minorgridcolor": "white",
                          "startlinecolor": "#2a3f5f"
                        },
                        "type": "carpet"
                      }
                    ],
                    "choropleth": [
                      {
                        "colorbar": {
                          "outlinewidth": 0,
                          "ticks": ""
                        },
                        "type": "choropleth"
                      }
                    ],
                    "contour": [
                      {
                        "colorbar": {
                          "outlinewidth": 0,
                          "ticks": ""
                        },
                        "colorscale": [
                          [
                            0,
                            "#0d0887"
                          ],
                          [
                            0.1111111111111111,
                            "#46039f"
                          ],
                          [
                            0.2222222222222222,
                            "#7201a8"
                          ],
                          [
                            0.3333333333333333,
                            "#9c179e"
                          ],
                          [
                            0.4444444444444444,
                            "#bd3786"
                          ],
                          [
                            0.5555555555555556,
                            "#d8576b"
                          ],
                          [
                            0.6666666666666666,
                            "#ed7953"
                          ],
                          [
                            0.7777777777777778,
                            "#fb9f3a"
                          ],
                          [
                            0.8888888888888888,
                            "#fdca26"
                          ],
                          [
                            1,
                            "#f0f921"
                          ]
                        ],
                        "type": "contour"
                      }
                    ],
                    "contourcarpet": [
                      {
                        "colorbar": {
                          "outlinewidth": 0,
                          "ticks": ""
                        },
                        "type": "contourcarpet"
                      }
                    ],
                    "heatmap": [
                      {
                        "colorbar": {
                          "outlinewidth": 0,
                          "ticks": ""
                        },
                        "colorscale": [
                          [
                            0,
                            "#0d0887"
                          ],
                          [
                            0.1111111111111111,
                            "#46039f"
                          ],
                          [
                            0.2222222222222222,
                            "#7201a8"
                          ],
                          [
                            0.3333333333333333,
                            "#9c179e"
                          ],
                          [
                            0.4444444444444444,
                            "#bd3786"
                          ],
                          [
                            0.5555555555555556,
                            "#d8576b"
                          ],
                          [
                            0.6666666666666666,
                            "#ed7953"
                          ],
                          [
                            0.7777777777777778,
                            "#fb9f3a"
                          ],
                          [
                            0.8888888888888888,
                            "#fdca26"
                          ],
                          [
                            1,
                            "#f0f921"
                          ]
                        ],
                        "type": "heatmap"
                      }
                    ],
                    "heatmapgl": [
                      {
                        "colorbar": {
                          "outlinewidth": 0,
                          "ticks": ""
                        },
                        "colorscale": [
                          [
                            0,
                            "#0d0887"
                          ],
                          [
                            0.1111111111111111,
                            "#46039f"
                          ],
                          [
                            0.2222222222222222,
                            "#7201a8"
                          ],
                          [
                            0.3333333333333333,
                            "#9c179e"
                          ],
                          [
                            0.4444444444444444,
                            "#bd3786"
                          ],
                          [
                            0.5555555555555556,
                            "#d8576b"
                          ],
                          [
                            0.6666666666666666,
                            "#ed7953"
                          ],
                          [
                            0.7777777777777778,
                            "#fb9f3a"
                          ],
                          [
                            0.8888888888888888,
                            "#fdca26"
                          ],
                          [
                            1,
                            "#f0f921"
                          ]
                        ],
                        "type": "heatmapgl"
                      }
                    ],
                    "histogram": [
                      {
                        "marker": {
                          "pattern": {
                            "fillmode": "overlay",
                            "size": 10,
                            "solidity": 0.2
                          }
                        },
                        "type": "histogram"
                      }
                    ],
                    "histogram2d": [
                      {
                        "colorbar": {
                          "outlinewidth": 0,
                          "ticks": ""
                        },
                        "colorscale": [
                          [
                            0,
                            "#0d0887"
                          ],
                          [
                            0.1111111111111111,
                            "#46039f"
                          ],
                          [
                            0.2222222222222222,
                            "#7201a8"
                          ],
                          [
                            0.3333333333333333,
                            "#9c179e"
                          ],
                          [
                            0.4444444444444444,
                            "#bd3786"
                          ],
                          [
                            0.5555555555555556,
                            "#d8576b"
                          ],
                          [
                            0.6666666666666666,
                            "#ed7953"
                          ],
                          [
                            0.7777777777777778,
                            "#fb9f3a"
                          ],
                          [
                            0.8888888888888888,
                            "#fdca26"
                          ],
                          [
                            1,
                            "#f0f921"
                          ]
                        ],
                        "type": "histogram2d"
                      }
                    ],
                    "histogram2dcontour": [
                      {
                        "colorbar": {
                          "outlinewidth": 0,
                          "ticks": ""
                        },
                        "colorscale": [
                          [
                            0,
                            "#0d0887"
                          ],
                          [
                            0.1111111111111111,
                            "#46039f"
                          ],
                          [
                            0.2222222222222222,
                            "#7201a8"
                          ],
                          [
                            0.3333333333333333,
                            "#9c179e"
                          ],
                          [
                            0.4444444444444444,
                            "#bd3786"
                          ],
                          [
                            0.5555555555555556,
                            "#d8576b"
                          ],
                          [
                            0.6666666666666666,
                            "#ed7953"
                          ],
                          [
                            0.7777777777777778,
                            "#fb9f3a"
                          ],
                          [
                            0.8888888888888888,
                            "#fdca26"
                          ],
                          [
                            1,
                            "#f0f921"
                          ]
                        ],
                        "type": "histogram2dcontour"
                      }
                    ],
                    "mesh3d": [
                      {
                        "colorbar": {
                          "outlinewidth": 0,
                          "ticks": ""
                        },
                        "type": "mesh3d"
                      }
                    ],
                    "parcoords": [
                      {
                        "line": {
                          "colorbar": {
                            "outlinewidth": 0,
                            "ticks": ""
                          }
                        },
                        "type": "parcoords"
                      }
                    ],
                    "pie": [
                      {
                        "automargin": true,
                        "type": "pie"
                      }
                    ],
                    "scatter": [
                      {
                        "fillpattern": {
                          "fillmode": "overlay",
                          "size": 10,
                          "solidity": 0.2
                        },
                        "type": "scatter"
                      }
                    ],
                    "scatter3d": [
                      {
                        "line": {
                          "colorbar": {
                            "outlinewidth": 0,
                            "ticks": ""
                          }
                        },
                        "marker": {
                          "colorbar": {
                            "outlinewidth": 0,
                            "ticks": ""
                          }
                        },
                        "type": "scatter3d"
                      }
                    ],
                    "scattercarpet": [
                      {
                        "marker": {
                          "colorbar": {
                            "outlinewidth": 0,
                            "ticks": ""
                          }
                        },
                        "type": "scattercarpet"
                      }
                    ],
                    "scattergeo": [
                      {
                        "marker": {
                          "colorbar": {
                            "outlinewidth": 0,
                            "ticks": ""
                          }
                        },
                        "type": "scattergeo"
                      }
                    ],
                    "scattergl": [
                      {
                        "marker": {
                          "colorbar": {
                            "outlinewidth": 0,
                            "ticks": ""
                          }
                        },
                        "type": "scattergl"
                      }
                    ],
                    "scattermapbox": [
                      {
                        "marker": {
                          "colorbar": {
                            "outlinewidth": 0,
                            "ticks": ""
                          }
                        },
                        "type": "scattermapbox"
                      }
                    ],
                    "scatterpolar": [
                      {
                        "marker": {
                          "colorbar": {
                            "outlinewidth": 0,
                            "ticks": ""
                          }
                        },
                        "type": "scatterpolar"
                      }
                    ],
                    "scatterpolargl": [
                      {
                        "marker": {
                          "colorbar": {
                            "outlinewidth": 0,
                            "ticks": ""
                          }
                        },
                        "type": "scatterpolargl"
                      }
                    ],
                    "scatterternary": [
                      {
                        "marker": {
                          "colorbar": {
                            "outlinewidth": 0,
                            "ticks": ""
                          }
                        },
                        "type": "scatterternary"
                      }
                    ],
                    "surface": [
                      {
                        "colorbar": {
                          "outlinewidth": 0,
                          "ticks": ""
                        },
                        "colorscale": [
                          [
                            0,
                            "#0d0887"
                          ],
                          [
                            0.1111111111111111,
                            "#46039f"
                          ],
                          [
                            0.2222222222222222,
                            "#7201a8"
                          ],
                          [
                            0.3333333333333333,
                            "#9c179e"
                          ],
                          [
                            0.4444444444444444,
                            "#bd3786"
                          ],
                          [
                            0.5555555555555556,
                            "#d8576b"
                          ],
                          [
                            0.6666666666666666,
                            "#ed7953"
                          ],
                          [
                            0.7777777777777778,
                            "#fb9f3a"
                          ],
                          [
                            0.8888888888888888,
                            "#fdca26"
                          ],
                          [
                            1,
                            "#f0f921"
                          ]
                        ],
                        "type": "surface"
                      }
                    ],
                    "table": [
                      {
                        "cells": {
                          "fill": {
                            "color": "#EBF0F8"
                          },
                          "line": {
                            "color": "white"
                          }
                        },
                        "header": {
                          "fill": {
                            "color": "#C8D4E3"
                          },
                          "line": {
                            "color": "white"
                          }
                        },
                        "type": "table"
                      }
                    ]
                  },
                  "layout": {
                    "annotationdefaults": {
                      "arrowcolor": "#2a3f5f",
                      "arrowhead": 0,
                      "arrowwidth": 1
                    },
                    "autotypenumbers": "strict",
                    "coloraxis": {
                      "colorbar": {
                        "outlinewidth": 0,
                        "ticks": ""
                      }
                    },
                    "colorscale": {
                      "diverging": [
                        [
                          0,
                          "#8e0152"
                        ],
                        [
                          0.1,
                          "#c51b7d"
                        ],
                        [
                          0.2,
                          "#de77ae"
                        ],
                        [
                          0.3,
                          "#f1b6da"
                        ],
                        [
                          0.4,
                          "#fde0ef"
                        ],
                        [
                          0.5,
                          "#f7f7f7"
                        ],
                        [
                          0.6,
                          "#e6f5d0"
                        ],
                        [
                          0.7,
                          "#b8e186"
                        ],
                        [
                          0.8,
                          "#7fbc41"
                        ],
                        [
                          0.9,
                          "#4d9221"
                        ],
                        [
                          1,
                          "#276419"
                        ]
                      ],
                      "sequential": [
                        [
                          0,
                          "#0d0887"
                        ],
                        [
                          0.1111111111111111,
                          "#46039f"
                        ],
                        [
                          0.2222222222222222,
                          "#7201a8"
                        ],
                        [
                          0.3333333333333333,
                          "#9c179e"
                        ],
                        [
                          0.4444444444444444,
                          "#bd3786"
                        ],
                        [
                          0.5555555555555556,
                          "#d8576b"
                        ],
                        [
                          0.6666666666666666,
                          "#ed7953"
                        ],
                        [
                          0.7777777777777778,
                          "#fb9f3a"
                        ],
                        [
                          0.8888888888888888,
                          "#fdca26"
                        ],
                        [
                          1,
                          "#f0f921"
                        ]
                      ],
                      "sequentialminus": [
                        [
                          0,
                          "#0d0887"
                        ],
                        [
                          0.1111111111111111,
                          "#46039f"
                        ],
                        [
                          0.2222222222222222,
                          "#7201a8"
                        ],
                        [
                          0.3333333333333333,
                          "#9c179e"
                        ],
                        [
                          0.4444444444444444,
                          "#bd3786"
                        ],
                        [
                          0.5555555555555556,
                          "#d8576b"
                        ],
                        [
                          0.6666666666666666,
                          "#ed7953"
                        ],
                        [
                          0.7777777777777778,
                          "#fb9f3a"
                        ],
                        [
                          0.8888888888888888,
                          "#fdca26"
                        ],
                        [
                          1,
                          "#f0f921"
                        ]
                      ]
                    },
                    "colorway": [
                      "#636efa",
                      "#EF553B",
                      "#00cc96",
                      "#ab63fa",
                      "#FFA15A",
                      "#19d3f3",
                      "#FF6692",
                      "#B6E880",
                      "#FF97FF",
                      "#FECB52"
                    ],
                    "font": {
                      "color": "#2a3f5f"
                    },
                    "geo": {
                      "bgcolor": "white",
                      "lakecolor": "white",
                      "landcolor": "#E5ECF6",
                      "showlakes": true,
                      "showland": true,
                      "subunitcolor": "white"
                    },
                    "hoverlabel": {
                      "align": "left"
                    },
                    "hovermode": "closest",
                    "mapbox": {
                      "style": "light"
                    },
                    "paper_bgcolor": "white",
                    "plot_bgcolor": "#E5ECF6",
                    "polar": {
                      "angularaxis": {
                        "gridcolor": "white",
                        "linecolor": "white",
                        "ticks": ""
                      },
                      "bgcolor": "#E5ECF6",
                      "radialaxis": {
                        "gridcolor": "white",
                        "linecolor": "white",
                        "ticks": ""
                      }
                    },
                    "scene": {
                      "xaxis": {
                        "backgroundcolor": "#E5ECF6",
                        "gridcolor": "white",
                        "gridwidth": 2,
                        "linecolor": "white",
                        "showbackground": true,
                        "ticks": "",
                        "zerolinecolor": "white"
                      },
                      "yaxis": {
                        "backgroundcolor": "#E5ECF6",
                        "gridcolor": "white",
                        "gridwidth": 2,
                        "linecolor": "white",
                        "showbackground": true,
                        "ticks": "",
                        "zerolinecolor": "white"
                      },
                      "zaxis": {
                        "backgroundcolor": "#E5ECF6",
                        "gridcolor": "white",
                        "gridwidth": 2,
                        "linecolor": "white",
                        "showbackground": true,
                        "ticks": "",
                        "zerolinecolor": "white"
                      }
                    },
                    "shapedefaults": {
                      "line": {
                        "color": "#2a3f5f"
                      }
                    },
                    "ternary": {
                      "aaxis": {
                        "gridcolor": "white",
                        "linecolor": "white",
                        "ticks": ""
                      },
                      "baxis": {
                        "gridcolor": "white",
                        "linecolor": "white",
                        "ticks": ""
                      },
                      "bgcolor": "#E5ECF6",
                      "caxis": {
                        "gridcolor": "white",
                        "linecolor": "white",
                        "ticks": ""
                      }
                    },
                    "title": {
                      "x": 0.05
                    },
                    "xaxis": {
                      "automargin": true,
                      "gridcolor": "white",
                      "linecolor": "white",
                      "ticks": "",
                      "title": {
                        "standoff": 15
                      },
                      "zerolinecolor": "white",
                      "zerolinewidth": 2
                    },
                    "yaxis": {
                      "automargin": true,
                      "gridcolor": "white",
                      "linecolor": "white",
                      "ticks": "",
                      "title": {
                        "standoff": 15
                      },
                      "zerolinecolor": "white",
                      "zerolinewidth": 2
                    }
                  }
                },
                "title": {
                  "font": {
                    "color": "white"
                  },
                  "text": "Sunburst Chart of countries, organisations and status missions"
                },
                "width": 1000
              }
            }
          },
          "metadata": {},
          "output_type": "display_data"
        }
      ],
      "source": [
        "fig = px.sunburst(\n",
        "    df_data,\n",
        "    path=['Country', 'Organisation', 'Mission_Status'],\n",
        "    color=\"Country\",\n",
        "    width=1000,\n",
        "    height=600\n",
        ")\n",
        "\n",
        "fig.update_layout(\n",
        "    title=\"Sunburst Chart of countries, organisations and status missions\",\n",
        "    titlefont=dict(color=\"white\"),\n",
        "    paper_bgcolor=\"#323130\"\n",
        ")\n",
        "\n",
        "fig.show()"
      ]
    },
    {
      "cell_type": "markdown",
      "metadata": {
        "id": "70pG1BCZa-qY",
        "papermill": {
          "duration": 0.062712,
          "end_time": "2020-10-20T21:34:07.951200",
          "exception": false,
          "start_time": "2020-10-20T21:34:07.888488",
          "status": "completed"
        },
        "tags": []
      },
      "source": [
        "# Analyse the Total Amount of Money Spent by Organisation on Space Missions"
      ]
    },
    {
      "cell_type": "code",
      "execution_count": 184,
      "metadata": {},
      "outputs": [
        {
          "data": {
            "text/html": [
              "<div>\n",
              "<style scoped>\n",
              "    .dataframe tbody tr th:only-of-type {\n",
              "        vertical-align: middle;\n",
              "    }\n",
              "\n",
              "    .dataframe tbody tr th {\n",
              "        vertical-align: top;\n",
              "    }\n",
              "\n",
              "    .dataframe thead th {\n",
              "        text-align: right;\n",
              "    }\n",
              "</style>\n",
              "<table border=\"1\" class=\"dataframe\">\n",
              "  <thead>\n",
              "    <tr style=\"text-align: right;\">\n",
              "      <th></th>\n",
              "      <th>Organisation</th>\n",
              "      <th>Price</th>\n",
              "    </tr>\n",
              "  </thead>\n",
              "  <tbody>\n",
              "    <tr>\n",
              "      <th>0</th>\n",
              "      <td>Arianespace</td>\n",
              "      <td>16,345.00</td>\n",
              "    </tr>\n",
              "    <tr>\n",
              "      <th>1</th>\n",
              "      <td>Boeing</td>\n",
              "      <td>1,241.00</td>\n",
              "    </tr>\n",
              "    <tr>\n",
              "      <th>2</th>\n",
              "      <td>CASC</td>\n",
              "      <td>6,340.26</td>\n",
              "    </tr>\n",
              "    <tr>\n",
              "      <th>3</th>\n",
              "      <td>EER</td>\n",
              "      <td>20.00</td>\n",
              "    </tr>\n",
              "    <tr>\n",
              "      <th>4</th>\n",
              "      <td>ESA</td>\n",
              "      <td>37.00</td>\n",
              "    </tr>\n",
              "    <tr>\n",
              "      <th>5</th>\n",
              "      <td>Eurockot</td>\n",
              "      <td>543.40</td>\n",
              "    </tr>\n",
              "    <tr>\n",
              "      <th>6</th>\n",
              "      <td>ExPace</td>\n",
              "      <td>28.30</td>\n",
              "    </tr>\n",
              "    <tr>\n",
              "      <th>7</th>\n",
              "      <td>ILS</td>\n",
              "      <td>1,320.00</td>\n",
              "    </tr>\n",
              "    <tr>\n",
              "      <th>8</th>\n",
              "      <td>ISRO</td>\n",
              "      <td>2,177.00</td>\n",
              "    </tr>\n",
              "    <tr>\n",
              "      <th>9</th>\n",
              "      <td>JAXA</td>\n",
              "      <td>168.00</td>\n",
              "    </tr>\n",
              "    <tr>\n",
              "      <th>10</th>\n",
              "      <td>Kosmotras</td>\n",
              "      <td>638.00</td>\n",
              "    </tr>\n",
              "    <tr>\n",
              "      <th>11</th>\n",
              "      <td>Lockheed</td>\n",
              "      <td>280.00</td>\n",
              "    </tr>\n",
              "    <tr>\n",
              "      <th>12</th>\n",
              "      <td>MHI</td>\n",
              "      <td>3,532.50</td>\n",
              "    </tr>\n",
              "    <tr>\n",
              "      <th>13</th>\n",
              "      <td>Martin Marietta</td>\n",
              "      <td>721.40</td>\n",
              "    </tr>\n",
              "    <tr>\n",
              "      <th>14</th>\n",
              "      <td>NASA</td>\n",
              "      <td>76,280.00</td>\n",
              "    </tr>\n",
              "    <tr>\n",
              "      <th>15</th>\n",
              "      <td>Northrop</td>\n",
              "      <td>3,930.00</td>\n",
              "    </tr>\n",
              "    <tr>\n",
              "      <th>16</th>\n",
              "      <td>RVSN USSR</td>\n",
              "      <td>10,000.00</td>\n",
              "    </tr>\n",
              "    <tr>\n",
              "      <th>17</th>\n",
              "      <td>Rocket Lab</td>\n",
              "      <td>97.50</td>\n",
              "    </tr>\n",
              "    <tr>\n",
              "      <th>18</th>\n",
              "      <td>Roscosmos</td>\n",
              "      <td>1,187.50</td>\n",
              "    </tr>\n",
              "    <tr>\n",
              "      <th>19</th>\n",
              "      <td>Sandia</td>\n",
              "      <td>15.00</td>\n",
              "    </tr>\n",
              "    <tr>\n",
              "      <th>20</th>\n",
              "      <td>SpaceX</td>\n",
              "      <td>5,444.00</td>\n",
              "    </tr>\n",
              "    <tr>\n",
              "      <th>21</th>\n",
              "      <td>ULA</td>\n",
              "      <td>14,798.00</td>\n",
              "    </tr>\n",
              "    <tr>\n",
              "      <th>22</th>\n",
              "      <td>US Air Force</td>\n",
              "      <td>1,550.92</td>\n",
              "    </tr>\n",
              "    <tr>\n",
              "      <th>23</th>\n",
              "      <td>VKS RF</td>\n",
              "      <td>1,548.90</td>\n",
              "    </tr>\n",
              "    <tr>\n",
              "      <th>24</th>\n",
              "      <td>Virgin Orbit</td>\n",
              "      <td>12.00</td>\n",
              "    </tr>\n",
              "  </tbody>\n",
              "</table>\n",
              "</div>"
            ],
            "text/plain": [
              "       Organisation     Price\n",
              "0       Arianespace 16,345.00\n",
              "1            Boeing  1,241.00\n",
              "2              CASC  6,340.26\n",
              "3               EER     20.00\n",
              "4               ESA     37.00\n",
              "5          Eurockot    543.40\n",
              "6            ExPace     28.30\n",
              "7               ILS  1,320.00\n",
              "8              ISRO  2,177.00\n",
              "9              JAXA    168.00\n",
              "10        Kosmotras    638.00\n",
              "11         Lockheed    280.00\n",
              "12              MHI  3,532.50\n",
              "13  Martin Marietta    721.40\n",
              "14             NASA 76,280.00\n",
              "15         Northrop  3,930.00\n",
              "16        RVSN USSR 10,000.00\n",
              "17       Rocket Lab     97.50\n",
              "18        Roscosmos  1,187.50\n",
              "19           Sandia     15.00\n",
              "20           SpaceX  5,444.00\n",
              "21              ULA 14,798.00\n",
              "22     US Air Force  1,550.92\n",
              "23           VKS RF  1,548.90\n",
              "24     Virgin Orbit     12.00"
            ]
          },
          "execution_count": 184,
          "metadata": {},
          "output_type": "execute_result"
        }
      ],
      "source": [
        "df_amount = clean_df.groupby(\"Organisation\").agg({'Price': 'sum'})\n",
        "df_amount = df_amount.reset_index()\n",
        "df_amount"
      ]
    },
    {
      "cell_type": "code",
      "execution_count": 185,
      "metadata": {
        "id": "IaJYxwEVpKHy"
      },
      "outputs": [
        {
          "data": {
            "application/vnd.plotly.v1+json": {
              "config": {
                "plotlyServerURL": "https://plot.ly"
              },
              "data": [
                {
                  "alignmentgroup": "True",
                  "hovertemplate": "Price=%{marker.color}<br>Organisation=%{y}<extra></extra>",
                  "legendgroup": "",
                  "marker": {
                    "color": [
                      16345,
                      1241,
                      6340.26,
                      20,
                      37,
                      543.4,
                      28.3,
                      1320,
                      2177,
                      168,
                      638,
                      280,
                      3532.5,
                      721.4,
                      76280,
                      3930,
                      10000,
                      97.5,
                      1187.5,
                      15,
                      5444,
                      14798,
                      1550.92,
                      1548.8999999999999,
                      12
                    ],
                    "coloraxis": "coloraxis",
                    "pattern": {
                      "shape": ""
                    }
                  },
                  "name": "",
                  "offsetgroup": "",
                  "orientation": "h",
                  "showlegend": false,
                  "textposition": "auto",
                  "type": "bar",
                  "x": [
                    16345,
                    1241,
                    6340.26,
                    20,
                    37,
                    543.4,
                    28.3,
                    1320,
                    2177,
                    168,
                    638,
                    280,
                    3532.5,
                    721.4,
                    76280,
                    3930,
                    10000,
                    97.5,
                    1187.5,
                    15,
                    5444,
                    14798,
                    1550.92,
                    1548.8999999999999,
                    12
                  ],
                  "xaxis": "x",
                  "y": [
                    "Arianespace",
                    "Boeing",
                    "CASC",
                    "EER",
                    "ESA",
                    "Eurockot",
                    "ExPace",
                    "ILS",
                    "ISRO",
                    "JAXA",
                    "Kosmotras",
                    "Lockheed",
                    "MHI",
                    "Martin Marietta",
                    "NASA",
                    "Northrop",
                    "RVSN USSR",
                    "Rocket Lab",
                    "Roscosmos",
                    "Sandia",
                    "SpaceX",
                    "ULA",
                    "US Air Force",
                    "VKS RF",
                    "Virgin Orbit"
                  ],
                  "yaxis": "y"
                }
              ],
              "layout": {
                "barmode": "relative",
                "coloraxis": {
                  "colorbar": {
                    "title": {
                      "text": "Price"
                    }
                  },
                  "colorscale": [
                    [
                      0,
                      "rgb(156, 209, 143)"
                    ],
                    [
                      0.1111111111111111,
                      "rgb(124, 191, 115)"
                    ],
                    [
                      0.2222222222222222,
                      "rgb(85, 174, 91)"
                    ],
                    [
                      0.3333333333333333,
                      "rgb(37, 157, 81)"
                    ],
                    [
                      0.4444444444444444,
                      "rgb(7, 138, 78)"
                    ],
                    [
                      0.5555555555555556,
                      "rgb(13, 117, 71)"
                    ],
                    [
                      0.6666666666666666,
                      "rgb(23, 95, 61)"
                    ],
                    [
                      0.7777777777777778,
                      "rgb(25, 75, 49)"
                    ],
                    [
                      0.8888888888888888,
                      "rgb(23, 55, 35)"
                    ],
                    [
                      1,
                      "rgb(17, 36, 20)"
                    ]
                  ]
                },
                "height": 600,
                "legend": {
                  "tracegroupgap": 0
                },
                "margin": {
                  "t": 60
                },
                "template": {
                  "data": {
                    "bar": [
                      {
                        "error_x": {
                          "color": "#2a3f5f"
                        },
                        "error_y": {
                          "color": "#2a3f5f"
                        },
                        "marker": {
                          "line": {
                            "color": "#E5ECF6",
                            "width": 0.5
                          },
                          "pattern": {
                            "fillmode": "overlay",
                            "size": 10,
                            "solidity": 0.2
                          }
                        },
                        "type": "bar"
                      }
                    ],
                    "barpolar": [
                      {
                        "marker": {
                          "line": {
                            "color": "#E5ECF6",
                            "width": 0.5
                          },
                          "pattern": {
                            "fillmode": "overlay",
                            "size": 10,
                            "solidity": 0.2
                          }
                        },
                        "type": "barpolar"
                      }
                    ],
                    "carpet": [
                      {
                        "aaxis": {
                          "endlinecolor": "#2a3f5f",
                          "gridcolor": "white",
                          "linecolor": "white",
                          "minorgridcolor": "white",
                          "startlinecolor": "#2a3f5f"
                        },
                        "baxis": {
                          "endlinecolor": "#2a3f5f",
                          "gridcolor": "white",
                          "linecolor": "white",
                          "minorgridcolor": "white",
                          "startlinecolor": "#2a3f5f"
                        },
                        "type": "carpet"
                      }
                    ],
                    "choropleth": [
                      {
                        "colorbar": {
                          "outlinewidth": 0,
                          "ticks": ""
                        },
                        "type": "choropleth"
                      }
                    ],
                    "contour": [
                      {
                        "colorbar": {
                          "outlinewidth": 0,
                          "ticks": ""
                        },
                        "colorscale": [
                          [
                            0,
                            "#0d0887"
                          ],
                          [
                            0.1111111111111111,
                            "#46039f"
                          ],
                          [
                            0.2222222222222222,
                            "#7201a8"
                          ],
                          [
                            0.3333333333333333,
                            "#9c179e"
                          ],
                          [
                            0.4444444444444444,
                            "#bd3786"
                          ],
                          [
                            0.5555555555555556,
                            "#d8576b"
                          ],
                          [
                            0.6666666666666666,
                            "#ed7953"
                          ],
                          [
                            0.7777777777777778,
                            "#fb9f3a"
                          ],
                          [
                            0.8888888888888888,
                            "#fdca26"
                          ],
                          [
                            1,
                            "#f0f921"
                          ]
                        ],
                        "type": "contour"
                      }
                    ],
                    "contourcarpet": [
                      {
                        "colorbar": {
                          "outlinewidth": 0,
                          "ticks": ""
                        },
                        "type": "contourcarpet"
                      }
                    ],
                    "heatmap": [
                      {
                        "colorbar": {
                          "outlinewidth": 0,
                          "ticks": ""
                        },
                        "colorscale": [
                          [
                            0,
                            "#0d0887"
                          ],
                          [
                            0.1111111111111111,
                            "#46039f"
                          ],
                          [
                            0.2222222222222222,
                            "#7201a8"
                          ],
                          [
                            0.3333333333333333,
                            "#9c179e"
                          ],
                          [
                            0.4444444444444444,
                            "#bd3786"
                          ],
                          [
                            0.5555555555555556,
                            "#d8576b"
                          ],
                          [
                            0.6666666666666666,
                            "#ed7953"
                          ],
                          [
                            0.7777777777777778,
                            "#fb9f3a"
                          ],
                          [
                            0.8888888888888888,
                            "#fdca26"
                          ],
                          [
                            1,
                            "#f0f921"
                          ]
                        ],
                        "type": "heatmap"
                      }
                    ],
                    "heatmapgl": [
                      {
                        "colorbar": {
                          "outlinewidth": 0,
                          "ticks": ""
                        },
                        "colorscale": [
                          [
                            0,
                            "#0d0887"
                          ],
                          [
                            0.1111111111111111,
                            "#46039f"
                          ],
                          [
                            0.2222222222222222,
                            "#7201a8"
                          ],
                          [
                            0.3333333333333333,
                            "#9c179e"
                          ],
                          [
                            0.4444444444444444,
                            "#bd3786"
                          ],
                          [
                            0.5555555555555556,
                            "#d8576b"
                          ],
                          [
                            0.6666666666666666,
                            "#ed7953"
                          ],
                          [
                            0.7777777777777778,
                            "#fb9f3a"
                          ],
                          [
                            0.8888888888888888,
                            "#fdca26"
                          ],
                          [
                            1,
                            "#f0f921"
                          ]
                        ],
                        "type": "heatmapgl"
                      }
                    ],
                    "histogram": [
                      {
                        "marker": {
                          "pattern": {
                            "fillmode": "overlay",
                            "size": 10,
                            "solidity": 0.2
                          }
                        },
                        "type": "histogram"
                      }
                    ],
                    "histogram2d": [
                      {
                        "colorbar": {
                          "outlinewidth": 0,
                          "ticks": ""
                        },
                        "colorscale": [
                          [
                            0,
                            "#0d0887"
                          ],
                          [
                            0.1111111111111111,
                            "#46039f"
                          ],
                          [
                            0.2222222222222222,
                            "#7201a8"
                          ],
                          [
                            0.3333333333333333,
                            "#9c179e"
                          ],
                          [
                            0.4444444444444444,
                            "#bd3786"
                          ],
                          [
                            0.5555555555555556,
                            "#d8576b"
                          ],
                          [
                            0.6666666666666666,
                            "#ed7953"
                          ],
                          [
                            0.7777777777777778,
                            "#fb9f3a"
                          ],
                          [
                            0.8888888888888888,
                            "#fdca26"
                          ],
                          [
                            1,
                            "#f0f921"
                          ]
                        ],
                        "type": "histogram2d"
                      }
                    ],
                    "histogram2dcontour": [
                      {
                        "colorbar": {
                          "outlinewidth": 0,
                          "ticks": ""
                        },
                        "colorscale": [
                          [
                            0,
                            "#0d0887"
                          ],
                          [
                            0.1111111111111111,
                            "#46039f"
                          ],
                          [
                            0.2222222222222222,
                            "#7201a8"
                          ],
                          [
                            0.3333333333333333,
                            "#9c179e"
                          ],
                          [
                            0.4444444444444444,
                            "#bd3786"
                          ],
                          [
                            0.5555555555555556,
                            "#d8576b"
                          ],
                          [
                            0.6666666666666666,
                            "#ed7953"
                          ],
                          [
                            0.7777777777777778,
                            "#fb9f3a"
                          ],
                          [
                            0.8888888888888888,
                            "#fdca26"
                          ],
                          [
                            1,
                            "#f0f921"
                          ]
                        ],
                        "type": "histogram2dcontour"
                      }
                    ],
                    "mesh3d": [
                      {
                        "colorbar": {
                          "outlinewidth": 0,
                          "ticks": ""
                        },
                        "type": "mesh3d"
                      }
                    ],
                    "parcoords": [
                      {
                        "line": {
                          "colorbar": {
                            "outlinewidth": 0,
                            "ticks": ""
                          }
                        },
                        "type": "parcoords"
                      }
                    ],
                    "pie": [
                      {
                        "automargin": true,
                        "type": "pie"
                      }
                    ],
                    "scatter": [
                      {
                        "fillpattern": {
                          "fillmode": "overlay",
                          "size": 10,
                          "solidity": 0.2
                        },
                        "type": "scatter"
                      }
                    ],
                    "scatter3d": [
                      {
                        "line": {
                          "colorbar": {
                            "outlinewidth": 0,
                            "ticks": ""
                          }
                        },
                        "marker": {
                          "colorbar": {
                            "outlinewidth": 0,
                            "ticks": ""
                          }
                        },
                        "type": "scatter3d"
                      }
                    ],
                    "scattercarpet": [
                      {
                        "marker": {
                          "colorbar": {
                            "outlinewidth": 0,
                            "ticks": ""
                          }
                        },
                        "type": "scattercarpet"
                      }
                    ],
                    "scattergeo": [
                      {
                        "marker": {
                          "colorbar": {
                            "outlinewidth": 0,
                            "ticks": ""
                          }
                        },
                        "type": "scattergeo"
                      }
                    ],
                    "scattergl": [
                      {
                        "marker": {
                          "colorbar": {
                            "outlinewidth": 0,
                            "ticks": ""
                          }
                        },
                        "type": "scattergl"
                      }
                    ],
                    "scattermapbox": [
                      {
                        "marker": {
                          "colorbar": {
                            "outlinewidth": 0,
                            "ticks": ""
                          }
                        },
                        "type": "scattermapbox"
                      }
                    ],
                    "scatterpolar": [
                      {
                        "marker": {
                          "colorbar": {
                            "outlinewidth": 0,
                            "ticks": ""
                          }
                        },
                        "type": "scatterpolar"
                      }
                    ],
                    "scatterpolargl": [
                      {
                        "marker": {
                          "colorbar": {
                            "outlinewidth": 0,
                            "ticks": ""
                          }
                        },
                        "type": "scatterpolargl"
                      }
                    ],
                    "scatterternary": [
                      {
                        "marker": {
                          "colorbar": {
                            "outlinewidth": 0,
                            "ticks": ""
                          }
                        },
                        "type": "scatterternary"
                      }
                    ],
                    "surface": [
                      {
                        "colorbar": {
                          "outlinewidth": 0,
                          "ticks": ""
                        },
                        "colorscale": [
                          [
                            0,
                            "#0d0887"
                          ],
                          [
                            0.1111111111111111,
                            "#46039f"
                          ],
                          [
                            0.2222222222222222,
                            "#7201a8"
                          ],
                          [
                            0.3333333333333333,
                            "#9c179e"
                          ],
                          [
                            0.4444444444444444,
                            "#bd3786"
                          ],
                          [
                            0.5555555555555556,
                            "#d8576b"
                          ],
                          [
                            0.6666666666666666,
                            "#ed7953"
                          ],
                          [
                            0.7777777777777778,
                            "#fb9f3a"
                          ],
                          [
                            0.8888888888888888,
                            "#fdca26"
                          ],
                          [
                            1,
                            "#f0f921"
                          ]
                        ],
                        "type": "surface"
                      }
                    ],
                    "table": [
                      {
                        "cells": {
                          "fill": {
                            "color": "#EBF0F8"
                          },
                          "line": {
                            "color": "white"
                          }
                        },
                        "header": {
                          "fill": {
                            "color": "#C8D4E3"
                          },
                          "line": {
                            "color": "white"
                          }
                        },
                        "type": "table"
                      }
                    ]
                  },
                  "layout": {
                    "annotationdefaults": {
                      "arrowcolor": "#2a3f5f",
                      "arrowhead": 0,
                      "arrowwidth": 1
                    },
                    "autotypenumbers": "strict",
                    "coloraxis": {
                      "colorbar": {
                        "outlinewidth": 0,
                        "ticks": ""
                      }
                    },
                    "colorscale": {
                      "diverging": [
                        [
                          0,
                          "#8e0152"
                        ],
                        [
                          0.1,
                          "#c51b7d"
                        ],
                        [
                          0.2,
                          "#de77ae"
                        ],
                        [
                          0.3,
                          "#f1b6da"
                        ],
                        [
                          0.4,
                          "#fde0ef"
                        ],
                        [
                          0.5,
                          "#f7f7f7"
                        ],
                        [
                          0.6,
                          "#e6f5d0"
                        ],
                        [
                          0.7,
                          "#b8e186"
                        ],
                        [
                          0.8,
                          "#7fbc41"
                        ],
                        [
                          0.9,
                          "#4d9221"
                        ],
                        [
                          1,
                          "#276419"
                        ]
                      ],
                      "sequential": [
                        [
                          0,
                          "#0d0887"
                        ],
                        [
                          0.1111111111111111,
                          "#46039f"
                        ],
                        [
                          0.2222222222222222,
                          "#7201a8"
                        ],
                        [
                          0.3333333333333333,
                          "#9c179e"
                        ],
                        [
                          0.4444444444444444,
                          "#bd3786"
                        ],
                        [
                          0.5555555555555556,
                          "#d8576b"
                        ],
                        [
                          0.6666666666666666,
                          "#ed7953"
                        ],
                        [
                          0.7777777777777778,
                          "#fb9f3a"
                        ],
                        [
                          0.8888888888888888,
                          "#fdca26"
                        ],
                        [
                          1,
                          "#f0f921"
                        ]
                      ],
                      "sequentialminus": [
                        [
                          0,
                          "#0d0887"
                        ],
                        [
                          0.1111111111111111,
                          "#46039f"
                        ],
                        [
                          0.2222222222222222,
                          "#7201a8"
                        ],
                        [
                          0.3333333333333333,
                          "#9c179e"
                        ],
                        [
                          0.4444444444444444,
                          "#bd3786"
                        ],
                        [
                          0.5555555555555556,
                          "#d8576b"
                        ],
                        [
                          0.6666666666666666,
                          "#ed7953"
                        ],
                        [
                          0.7777777777777778,
                          "#fb9f3a"
                        ],
                        [
                          0.8888888888888888,
                          "#fdca26"
                        ],
                        [
                          1,
                          "#f0f921"
                        ]
                      ]
                    },
                    "colorway": [
                      "#636efa",
                      "#EF553B",
                      "#00cc96",
                      "#ab63fa",
                      "#FFA15A",
                      "#19d3f3",
                      "#FF6692",
                      "#B6E880",
                      "#FF97FF",
                      "#FECB52"
                    ],
                    "font": {
                      "color": "#2a3f5f"
                    },
                    "geo": {
                      "bgcolor": "white",
                      "lakecolor": "white",
                      "landcolor": "#E5ECF6",
                      "showlakes": true,
                      "showland": true,
                      "subunitcolor": "white"
                    },
                    "hoverlabel": {
                      "align": "left"
                    },
                    "hovermode": "closest",
                    "mapbox": {
                      "style": "light"
                    },
                    "paper_bgcolor": "white",
                    "plot_bgcolor": "#E5ECF6",
                    "polar": {
                      "angularaxis": {
                        "gridcolor": "white",
                        "linecolor": "white",
                        "ticks": ""
                      },
                      "bgcolor": "#E5ECF6",
                      "radialaxis": {
                        "gridcolor": "white",
                        "linecolor": "white",
                        "ticks": ""
                      }
                    },
                    "scene": {
                      "xaxis": {
                        "backgroundcolor": "#E5ECF6",
                        "gridcolor": "white",
                        "gridwidth": 2,
                        "linecolor": "white",
                        "showbackground": true,
                        "ticks": "",
                        "zerolinecolor": "white"
                      },
                      "yaxis": {
                        "backgroundcolor": "#E5ECF6",
                        "gridcolor": "white",
                        "gridwidth": 2,
                        "linecolor": "white",
                        "showbackground": true,
                        "ticks": "",
                        "zerolinecolor": "white"
                      },
                      "zaxis": {
                        "backgroundcolor": "#E5ECF6",
                        "gridcolor": "white",
                        "gridwidth": 2,
                        "linecolor": "white",
                        "showbackground": true,
                        "ticks": "",
                        "zerolinecolor": "white"
                      }
                    },
                    "shapedefaults": {
                      "line": {
                        "color": "#2a3f5f"
                      }
                    },
                    "ternary": {
                      "aaxis": {
                        "gridcolor": "white",
                        "linecolor": "white",
                        "ticks": ""
                      },
                      "baxis": {
                        "gridcolor": "white",
                        "linecolor": "white",
                        "ticks": ""
                      },
                      "bgcolor": "#E5ECF6",
                      "caxis": {
                        "gridcolor": "white",
                        "linecolor": "white",
                        "ticks": ""
                      }
                    },
                    "title": {
                      "x": 0.05
                    },
                    "xaxis": {
                      "automargin": true,
                      "gridcolor": "white",
                      "linecolor": "white",
                      "ticks": "",
                      "title": {
                        "standoff": 15
                      },
                      "zerolinecolor": "white",
                      "zerolinewidth": 2
                    },
                    "yaxis": {
                      "automargin": true,
                      "gridcolor": "white",
                      "linecolor": "white",
                      "ticks": "",
                      "title": {
                        "standoff": 15
                      },
                      "zerolinecolor": "white",
                      "zerolinewidth": 2
                    }
                  }
                },
                "title": {
                  "text": "Total amount per Organisation"
                },
                "xaxis": {
                  "anchor": "y",
                  "domain": [
                    0,
                    1
                  ],
                  "title": {
                    "text": "Amount (in USD millions)"
                  }
                },
                "yaxis": {
                  "anchor": "x",
                  "categoryorder": "total ascending",
                  "domain": [
                    0,
                    1
                  ],
                  "dtick": 1,
                  "title": {
                    "text": "Organisation"
                  }
                }
              }
            }
          },
          "metadata": {},
          "output_type": "display_data"
        }
      ],
      "source": [
        "fig_amount = px.bar(\n",
        "    df_amount,\n",
        "    x='Price',\n",
        "    y=\"Organisation\",\n",
        "    color='Price',\n",
        "    orientation=\"h\",\n",
        "    labels={'x': 'Organisation', 'y': 'Total price'},\n",
        "    color_continuous_scale=px.colors.sequential.algae[2:],\n",
        "    height=600\n",
        ")\n",
        "\n",
        "fig_amount.update_layout(\n",
        "    title=\"Total amount per Organisation\",\n",
        "    xaxis=dict(title=\"Amount (in USD millions)\"),\n",
        "    yaxis_title=\"Organisation\",\n",
        "    yaxis=dict(categoryorder='total ascending', dtick=1)\n",
        ")\n",
        "\n",
        "fig_amount.show()"
      ]
    },
    {
      "cell_type": "markdown",
      "metadata": {
        "id": "orIFf-appPDL"
      },
      "source": [
        "**NASA** organisation seems to be by far the organization that spends the most"
      ]
    },
    {
      "cell_type": "markdown",
      "metadata": {
        "id": "DpsWkPxzpPXs"
      },
      "source": [
        "# Analyse the Amount of Money Spent by Organisation per Launch"
      ]
    },
    {
      "cell_type": "code",
      "execution_count": 186,
      "metadata": {
        "id": "opYJ6GiRpTk5"
      },
      "outputs": [
        {
          "data": {
            "text/html": [
              "<div>\n",
              "<style scoped>\n",
              "    .dataframe tbody tr th:only-of-type {\n",
              "        vertical-align: middle;\n",
              "    }\n",
              "\n",
              "    .dataframe tbody tr th {\n",
              "        vertical-align: top;\n",
              "    }\n",
              "\n",
              "    .dataframe thead th {\n",
              "        text-align: right;\n",
              "    }\n",
              "</style>\n",
              "<table border=\"1\" class=\"dataframe\">\n",
              "  <thead>\n",
              "    <tr style=\"text-align: right;\">\n",
              "      <th></th>\n",
              "      <th>Average Price</th>\n",
              "    </tr>\n",
              "    <tr>\n",
              "      <th>Organisation</th>\n",
              "      <th></th>\n",
              "    </tr>\n",
              "  </thead>\n",
              "  <tbody>\n",
              "    <tr>\n",
              "      <th>Arianespace</th>\n",
              "      <td>170.26</td>\n",
              "    </tr>\n",
              "    <tr>\n",
              "      <th>Boeing</th>\n",
              "      <td>177.29</td>\n",
              "    </tr>\n",
              "    <tr>\n",
              "      <th>CASC</th>\n",
              "      <td>40.13</td>\n",
              "    </tr>\n",
              "    <tr>\n",
              "      <th>EER</th>\n",
              "      <td>20.00</td>\n",
              "    </tr>\n",
              "    <tr>\n",
              "      <th>ESA</th>\n",
              "      <td>37.00</td>\n",
              "    </tr>\n",
              "    <tr>\n",
              "      <th>Eurockot</th>\n",
              "      <td>41.80</td>\n",
              "    </tr>\n",
              "    <tr>\n",
              "      <th>ExPace</th>\n",
              "      <td>28.30</td>\n",
              "    </tr>\n",
              "    <tr>\n",
              "      <th>ILS</th>\n",
              "      <td>101.54</td>\n",
              "    </tr>\n",
              "    <tr>\n",
              "      <th>ISRO</th>\n",
              "      <td>32.49</td>\n",
              "    </tr>\n",
              "    <tr>\n",
              "      <th>JAXA</th>\n",
              "      <td>56.00</td>\n",
              "    </tr>\n",
              "    <tr>\n",
              "      <th>Kosmotras</th>\n",
              "      <td>29.00</td>\n",
              "    </tr>\n",
              "    <tr>\n",
              "      <th>Lockheed</th>\n",
              "      <td>35.00</td>\n",
              "    </tr>\n",
              "    <tr>\n",
              "      <th>MHI</th>\n",
              "      <td>95.47</td>\n",
              "    </tr>\n",
              "    <tr>\n",
              "      <th>Martin Marietta</th>\n",
              "      <td>80.16</td>\n",
              "    </tr>\n",
              "    <tr>\n",
              "      <th>NASA</th>\n",
              "      <td>511.95</td>\n",
              "    </tr>\n",
              "    <tr>\n",
              "      <th>Northrop</th>\n",
              "      <td>47.35</td>\n",
              "    </tr>\n",
              "    <tr>\n",
              "      <th>RVSN USSR</th>\n",
              "      <td>5,000.00</td>\n",
              "    </tr>\n",
              "    <tr>\n",
              "      <th>Rocket Lab</th>\n",
              "      <td>7.50</td>\n",
              "    </tr>\n",
              "    <tr>\n",
              "      <th>Roscosmos</th>\n",
              "      <td>51.63</td>\n",
              "    </tr>\n",
              "    <tr>\n",
              "      <th>Sandia</th>\n",
              "      <td>15.00</td>\n",
              "    </tr>\n",
              "    <tr>\n",
              "      <th>SpaceX</th>\n",
              "      <td>54.99</td>\n",
              "    </tr>\n",
              "    <tr>\n",
              "      <th>ULA</th>\n",
              "      <td>151.00</td>\n",
              "    </tr>\n",
              "    <tr>\n",
              "      <th>US Air Force</th>\n",
              "      <td>59.65</td>\n",
              "    </tr>\n",
              "    <tr>\n",
              "      <th>VKS RF</th>\n",
              "      <td>46.94</td>\n",
              "    </tr>\n",
              "    <tr>\n",
              "      <th>Virgin Orbit</th>\n",
              "      <td>12.00</td>\n",
              "    </tr>\n",
              "  </tbody>\n",
              "</table>\n",
              "</div>"
            ],
            "text/plain": [
              "                 Average Price\n",
              "Organisation                  \n",
              "Arianespace             170.26\n",
              "Boeing                  177.29\n",
              "CASC                     40.13\n",
              "EER                      20.00\n",
              "ESA                      37.00\n",
              "Eurockot                 41.80\n",
              "ExPace                   28.30\n",
              "ILS                     101.54\n",
              "ISRO                     32.49\n",
              "JAXA                     56.00\n",
              "Kosmotras                29.00\n",
              "Lockheed                 35.00\n",
              "MHI                      95.47\n",
              "Martin Marietta          80.16\n",
              "NASA                    511.95\n",
              "Northrop                 47.35\n",
              "RVSN USSR             5,000.00\n",
              "Rocket Lab                7.50\n",
              "Roscosmos                51.63\n",
              "Sandia                   15.00\n",
              "SpaceX                   54.99\n",
              "ULA                     151.00\n",
              "US Air Force             59.65\n",
              "VKS RF                   46.94\n",
              "Virgin Orbit             12.00"
            ]
          },
          "execution_count": 186,
          "metadata": {},
          "output_type": "execute_result"
        }
      ],
      "source": [
        "df_mean_amount = clean_df.groupby(\"Organisation\").agg({'Price': 'mean'})\n",
        "df_mean_amount = df_mean_amount.rename(columns={'Price': 'Average Price'})\n",
        "df_mean_amount\n"
      ]
    },
    {
      "cell_type": "code",
      "execution_count": 187,
      "metadata": {
        "id": "VEkHzAk2pTvj"
      },
      "outputs": [
        {
          "data": {
            "application/vnd.plotly.v1+json": {
              "config": {
                "plotlyServerURL": "https://plot.ly"
              },
              "data": [
                {
                  "alignmentgroup": "True",
                  "hovertemplate": "Average Price=%{marker.color}<br>Organisation=%{y}<extra></extra>",
                  "legendgroup": "",
                  "marker": {
                    "color": [
                      170.26041666666666,
                      177.28571428571428,
                      40.12822784810127,
                      20,
                      37,
                      41.8,
                      28.3,
                      101.53846153846153,
                      32.492537313432834,
                      56,
                      29,
                      35,
                      95.47297297297297,
                      80.15555555555555,
                      511.9463087248322,
                      47.34939759036145,
                      5000,
                      7.5,
                      51.630434782608695,
                      15,
                      54.98989898989899,
                      151,
                      59.650769230769235,
                      46.93636363636363,
                      12
                    ],
                    "coloraxis": "coloraxis",
                    "pattern": {
                      "shape": ""
                    }
                  },
                  "name": "",
                  "offsetgroup": "",
                  "orientation": "h",
                  "showlegend": false,
                  "textfont": {
                    "size": 9
                  },
                  "textposition": "auto",
                  "texttemplate": "%{x:.2s}",
                  "type": "bar",
                  "x": [
                    170.26041666666666,
                    177.28571428571428,
                    40.12822784810127,
                    20,
                    37,
                    41.8,
                    28.3,
                    101.53846153846153,
                    32.492537313432834,
                    56,
                    29,
                    35,
                    95.47297297297297,
                    80.15555555555555,
                    511.9463087248322,
                    47.34939759036145,
                    5000,
                    7.5,
                    51.630434782608695,
                    15,
                    54.98989898989899,
                    151,
                    59.650769230769235,
                    46.93636363636363,
                    12
                  ],
                  "xaxis": "x",
                  "y": [
                    "Arianespace",
                    "Boeing",
                    "CASC",
                    "EER",
                    "ESA",
                    "Eurockot",
                    "ExPace",
                    "ILS",
                    "ISRO",
                    "JAXA",
                    "Kosmotras",
                    "Lockheed",
                    "MHI",
                    "Martin Marietta",
                    "NASA",
                    "Northrop",
                    "RVSN USSR",
                    "Rocket Lab",
                    "Roscosmos",
                    "Sandia",
                    "SpaceX",
                    "ULA",
                    "US Air Force",
                    "VKS RF",
                    "Virgin Orbit"
                  ],
                  "yaxis": "y"
                }
              ],
              "layout": {
                "barmode": "relative",
                "coloraxis": {
                  "cmax": 5000,
                  "cmin": 0,
                  "colorbar": {
                    "title": {
                      "text": "Average Price"
                    }
                  },
                  "colorscale": [
                    [
                      0,
                      "rgb(66,146,198)"
                    ],
                    [
                      0.3333333333333333,
                      "rgb(33,113,181)"
                    ],
                    [
                      0.6666666666666666,
                      "rgb(8,81,156)"
                    ],
                    [
                      1,
                      "rgb(8,48,107)"
                    ]
                  ]
                },
                "height": 600,
                "legend": {
                  "tracegroupgap": 0
                },
                "margin": {
                  "t": 60
                },
                "template": {
                  "data": {
                    "bar": [
                      {
                        "error_x": {
                          "color": "#2a3f5f"
                        },
                        "error_y": {
                          "color": "#2a3f5f"
                        },
                        "marker": {
                          "line": {
                            "color": "#E5ECF6",
                            "width": 0.5
                          },
                          "pattern": {
                            "fillmode": "overlay",
                            "size": 10,
                            "solidity": 0.2
                          }
                        },
                        "type": "bar"
                      }
                    ],
                    "barpolar": [
                      {
                        "marker": {
                          "line": {
                            "color": "#E5ECF6",
                            "width": 0.5
                          },
                          "pattern": {
                            "fillmode": "overlay",
                            "size": 10,
                            "solidity": 0.2
                          }
                        },
                        "type": "barpolar"
                      }
                    ],
                    "carpet": [
                      {
                        "aaxis": {
                          "endlinecolor": "#2a3f5f",
                          "gridcolor": "white",
                          "linecolor": "white",
                          "minorgridcolor": "white",
                          "startlinecolor": "#2a3f5f"
                        },
                        "baxis": {
                          "endlinecolor": "#2a3f5f",
                          "gridcolor": "white",
                          "linecolor": "white",
                          "minorgridcolor": "white",
                          "startlinecolor": "#2a3f5f"
                        },
                        "type": "carpet"
                      }
                    ],
                    "choropleth": [
                      {
                        "colorbar": {
                          "outlinewidth": 0,
                          "ticks": ""
                        },
                        "type": "choropleth"
                      }
                    ],
                    "contour": [
                      {
                        "colorbar": {
                          "outlinewidth": 0,
                          "ticks": ""
                        },
                        "colorscale": [
                          [
                            0,
                            "#0d0887"
                          ],
                          [
                            0.1111111111111111,
                            "#46039f"
                          ],
                          [
                            0.2222222222222222,
                            "#7201a8"
                          ],
                          [
                            0.3333333333333333,
                            "#9c179e"
                          ],
                          [
                            0.4444444444444444,
                            "#bd3786"
                          ],
                          [
                            0.5555555555555556,
                            "#d8576b"
                          ],
                          [
                            0.6666666666666666,
                            "#ed7953"
                          ],
                          [
                            0.7777777777777778,
                            "#fb9f3a"
                          ],
                          [
                            0.8888888888888888,
                            "#fdca26"
                          ],
                          [
                            1,
                            "#f0f921"
                          ]
                        ],
                        "type": "contour"
                      }
                    ],
                    "contourcarpet": [
                      {
                        "colorbar": {
                          "outlinewidth": 0,
                          "ticks": ""
                        },
                        "type": "contourcarpet"
                      }
                    ],
                    "heatmap": [
                      {
                        "colorbar": {
                          "outlinewidth": 0,
                          "ticks": ""
                        },
                        "colorscale": [
                          [
                            0,
                            "#0d0887"
                          ],
                          [
                            0.1111111111111111,
                            "#46039f"
                          ],
                          [
                            0.2222222222222222,
                            "#7201a8"
                          ],
                          [
                            0.3333333333333333,
                            "#9c179e"
                          ],
                          [
                            0.4444444444444444,
                            "#bd3786"
                          ],
                          [
                            0.5555555555555556,
                            "#d8576b"
                          ],
                          [
                            0.6666666666666666,
                            "#ed7953"
                          ],
                          [
                            0.7777777777777778,
                            "#fb9f3a"
                          ],
                          [
                            0.8888888888888888,
                            "#fdca26"
                          ],
                          [
                            1,
                            "#f0f921"
                          ]
                        ],
                        "type": "heatmap"
                      }
                    ],
                    "heatmapgl": [
                      {
                        "colorbar": {
                          "outlinewidth": 0,
                          "ticks": ""
                        },
                        "colorscale": [
                          [
                            0,
                            "#0d0887"
                          ],
                          [
                            0.1111111111111111,
                            "#46039f"
                          ],
                          [
                            0.2222222222222222,
                            "#7201a8"
                          ],
                          [
                            0.3333333333333333,
                            "#9c179e"
                          ],
                          [
                            0.4444444444444444,
                            "#bd3786"
                          ],
                          [
                            0.5555555555555556,
                            "#d8576b"
                          ],
                          [
                            0.6666666666666666,
                            "#ed7953"
                          ],
                          [
                            0.7777777777777778,
                            "#fb9f3a"
                          ],
                          [
                            0.8888888888888888,
                            "#fdca26"
                          ],
                          [
                            1,
                            "#f0f921"
                          ]
                        ],
                        "type": "heatmapgl"
                      }
                    ],
                    "histogram": [
                      {
                        "marker": {
                          "pattern": {
                            "fillmode": "overlay",
                            "size": 10,
                            "solidity": 0.2
                          }
                        },
                        "type": "histogram"
                      }
                    ],
                    "histogram2d": [
                      {
                        "colorbar": {
                          "outlinewidth": 0,
                          "ticks": ""
                        },
                        "colorscale": [
                          [
                            0,
                            "#0d0887"
                          ],
                          [
                            0.1111111111111111,
                            "#46039f"
                          ],
                          [
                            0.2222222222222222,
                            "#7201a8"
                          ],
                          [
                            0.3333333333333333,
                            "#9c179e"
                          ],
                          [
                            0.4444444444444444,
                            "#bd3786"
                          ],
                          [
                            0.5555555555555556,
                            "#d8576b"
                          ],
                          [
                            0.6666666666666666,
                            "#ed7953"
                          ],
                          [
                            0.7777777777777778,
                            "#fb9f3a"
                          ],
                          [
                            0.8888888888888888,
                            "#fdca26"
                          ],
                          [
                            1,
                            "#f0f921"
                          ]
                        ],
                        "type": "histogram2d"
                      }
                    ],
                    "histogram2dcontour": [
                      {
                        "colorbar": {
                          "outlinewidth": 0,
                          "ticks": ""
                        },
                        "colorscale": [
                          [
                            0,
                            "#0d0887"
                          ],
                          [
                            0.1111111111111111,
                            "#46039f"
                          ],
                          [
                            0.2222222222222222,
                            "#7201a8"
                          ],
                          [
                            0.3333333333333333,
                            "#9c179e"
                          ],
                          [
                            0.4444444444444444,
                            "#bd3786"
                          ],
                          [
                            0.5555555555555556,
                            "#d8576b"
                          ],
                          [
                            0.6666666666666666,
                            "#ed7953"
                          ],
                          [
                            0.7777777777777778,
                            "#fb9f3a"
                          ],
                          [
                            0.8888888888888888,
                            "#fdca26"
                          ],
                          [
                            1,
                            "#f0f921"
                          ]
                        ],
                        "type": "histogram2dcontour"
                      }
                    ],
                    "mesh3d": [
                      {
                        "colorbar": {
                          "outlinewidth": 0,
                          "ticks": ""
                        },
                        "type": "mesh3d"
                      }
                    ],
                    "parcoords": [
                      {
                        "line": {
                          "colorbar": {
                            "outlinewidth": 0,
                            "ticks": ""
                          }
                        },
                        "type": "parcoords"
                      }
                    ],
                    "pie": [
                      {
                        "automargin": true,
                        "type": "pie"
                      }
                    ],
                    "scatter": [
                      {
                        "fillpattern": {
                          "fillmode": "overlay",
                          "size": 10,
                          "solidity": 0.2
                        },
                        "type": "scatter"
                      }
                    ],
                    "scatter3d": [
                      {
                        "line": {
                          "colorbar": {
                            "outlinewidth": 0,
                            "ticks": ""
                          }
                        },
                        "marker": {
                          "colorbar": {
                            "outlinewidth": 0,
                            "ticks": ""
                          }
                        },
                        "type": "scatter3d"
                      }
                    ],
                    "scattercarpet": [
                      {
                        "marker": {
                          "colorbar": {
                            "outlinewidth": 0,
                            "ticks": ""
                          }
                        },
                        "type": "scattercarpet"
                      }
                    ],
                    "scattergeo": [
                      {
                        "marker": {
                          "colorbar": {
                            "outlinewidth": 0,
                            "ticks": ""
                          }
                        },
                        "type": "scattergeo"
                      }
                    ],
                    "scattergl": [
                      {
                        "marker": {
                          "colorbar": {
                            "outlinewidth": 0,
                            "ticks": ""
                          }
                        },
                        "type": "scattergl"
                      }
                    ],
                    "scattermapbox": [
                      {
                        "marker": {
                          "colorbar": {
                            "outlinewidth": 0,
                            "ticks": ""
                          }
                        },
                        "type": "scattermapbox"
                      }
                    ],
                    "scatterpolar": [
                      {
                        "marker": {
                          "colorbar": {
                            "outlinewidth": 0,
                            "ticks": ""
                          }
                        },
                        "type": "scatterpolar"
                      }
                    ],
                    "scatterpolargl": [
                      {
                        "marker": {
                          "colorbar": {
                            "outlinewidth": 0,
                            "ticks": ""
                          }
                        },
                        "type": "scatterpolargl"
                      }
                    ],
                    "scatterternary": [
                      {
                        "marker": {
                          "colorbar": {
                            "outlinewidth": 0,
                            "ticks": ""
                          }
                        },
                        "type": "scatterternary"
                      }
                    ],
                    "surface": [
                      {
                        "colorbar": {
                          "outlinewidth": 0,
                          "ticks": ""
                        },
                        "colorscale": [
                          [
                            0,
                            "#0d0887"
                          ],
                          [
                            0.1111111111111111,
                            "#46039f"
                          ],
                          [
                            0.2222222222222222,
                            "#7201a8"
                          ],
                          [
                            0.3333333333333333,
                            "#9c179e"
                          ],
                          [
                            0.4444444444444444,
                            "#bd3786"
                          ],
                          [
                            0.5555555555555556,
                            "#d8576b"
                          ],
                          [
                            0.6666666666666666,
                            "#ed7953"
                          ],
                          [
                            0.7777777777777778,
                            "#fb9f3a"
                          ],
                          [
                            0.8888888888888888,
                            "#fdca26"
                          ],
                          [
                            1,
                            "#f0f921"
                          ]
                        ],
                        "type": "surface"
                      }
                    ],
                    "table": [
                      {
                        "cells": {
                          "fill": {
                            "color": "#EBF0F8"
                          },
                          "line": {
                            "color": "white"
                          }
                        },
                        "header": {
                          "fill": {
                            "color": "#C8D4E3"
                          },
                          "line": {
                            "color": "white"
                          }
                        },
                        "type": "table"
                      }
                    ]
                  },
                  "layout": {
                    "annotationdefaults": {
                      "arrowcolor": "#2a3f5f",
                      "arrowhead": 0,
                      "arrowwidth": 1
                    },
                    "autotypenumbers": "strict",
                    "coloraxis": {
                      "colorbar": {
                        "outlinewidth": 0,
                        "ticks": ""
                      }
                    },
                    "colorscale": {
                      "diverging": [
                        [
                          0,
                          "#8e0152"
                        ],
                        [
                          0.1,
                          "#c51b7d"
                        ],
                        [
                          0.2,
                          "#de77ae"
                        ],
                        [
                          0.3,
                          "#f1b6da"
                        ],
                        [
                          0.4,
                          "#fde0ef"
                        ],
                        [
                          0.5,
                          "#f7f7f7"
                        ],
                        [
                          0.6,
                          "#e6f5d0"
                        ],
                        [
                          0.7,
                          "#b8e186"
                        ],
                        [
                          0.8,
                          "#7fbc41"
                        ],
                        [
                          0.9,
                          "#4d9221"
                        ],
                        [
                          1,
                          "#276419"
                        ]
                      ],
                      "sequential": [
                        [
                          0,
                          "#0d0887"
                        ],
                        [
                          0.1111111111111111,
                          "#46039f"
                        ],
                        [
                          0.2222222222222222,
                          "#7201a8"
                        ],
                        [
                          0.3333333333333333,
                          "#9c179e"
                        ],
                        [
                          0.4444444444444444,
                          "#bd3786"
                        ],
                        [
                          0.5555555555555556,
                          "#d8576b"
                        ],
                        [
                          0.6666666666666666,
                          "#ed7953"
                        ],
                        [
                          0.7777777777777778,
                          "#fb9f3a"
                        ],
                        [
                          0.8888888888888888,
                          "#fdca26"
                        ],
                        [
                          1,
                          "#f0f921"
                        ]
                      ],
                      "sequentialminus": [
                        [
                          0,
                          "#0d0887"
                        ],
                        [
                          0.1111111111111111,
                          "#46039f"
                        ],
                        [
                          0.2222222222222222,
                          "#7201a8"
                        ],
                        [
                          0.3333333333333333,
                          "#9c179e"
                        ],
                        [
                          0.4444444444444444,
                          "#bd3786"
                        ],
                        [
                          0.5555555555555556,
                          "#d8576b"
                        ],
                        [
                          0.6666666666666666,
                          "#ed7953"
                        ],
                        [
                          0.7777777777777778,
                          "#fb9f3a"
                        ],
                        [
                          0.8888888888888888,
                          "#fdca26"
                        ],
                        [
                          1,
                          "#f0f921"
                        ]
                      ]
                    },
                    "colorway": [
                      "#636efa",
                      "#EF553B",
                      "#00cc96",
                      "#ab63fa",
                      "#FFA15A",
                      "#19d3f3",
                      "#FF6692",
                      "#B6E880",
                      "#FF97FF",
                      "#FECB52"
                    ],
                    "font": {
                      "color": "#2a3f5f"
                    },
                    "geo": {
                      "bgcolor": "white",
                      "lakecolor": "white",
                      "landcolor": "#E5ECF6",
                      "showlakes": true,
                      "showland": true,
                      "subunitcolor": "white"
                    },
                    "hoverlabel": {
                      "align": "left"
                    },
                    "hovermode": "closest",
                    "mapbox": {
                      "style": "light"
                    },
                    "paper_bgcolor": "white",
                    "plot_bgcolor": "#E5ECF6",
                    "polar": {
                      "angularaxis": {
                        "gridcolor": "white",
                        "linecolor": "white",
                        "ticks": ""
                      },
                      "bgcolor": "#E5ECF6",
                      "radialaxis": {
                        "gridcolor": "white",
                        "linecolor": "white",
                        "ticks": ""
                      }
                    },
                    "scene": {
                      "xaxis": {
                        "backgroundcolor": "#E5ECF6",
                        "gridcolor": "white",
                        "gridwidth": 2,
                        "linecolor": "white",
                        "showbackground": true,
                        "ticks": "",
                        "zerolinecolor": "white"
                      },
                      "yaxis": {
                        "backgroundcolor": "#E5ECF6",
                        "gridcolor": "white",
                        "gridwidth": 2,
                        "linecolor": "white",
                        "showbackground": true,
                        "ticks": "",
                        "zerolinecolor": "white"
                      },
                      "zaxis": {
                        "backgroundcolor": "#E5ECF6",
                        "gridcolor": "white",
                        "gridwidth": 2,
                        "linecolor": "white",
                        "showbackground": true,
                        "ticks": "",
                        "zerolinecolor": "white"
                      }
                    },
                    "shapedefaults": {
                      "line": {
                        "color": "#2a3f5f"
                      }
                    },
                    "ternary": {
                      "aaxis": {
                        "gridcolor": "white",
                        "linecolor": "white",
                        "ticks": ""
                      },
                      "baxis": {
                        "gridcolor": "white",
                        "linecolor": "white",
                        "ticks": ""
                      },
                      "bgcolor": "#E5ECF6",
                      "caxis": {
                        "gridcolor": "white",
                        "linecolor": "white",
                        "ticks": ""
                      }
                    },
                    "title": {
                      "x": 0.05
                    },
                    "xaxis": {
                      "automargin": true,
                      "gridcolor": "white",
                      "linecolor": "white",
                      "ticks": "",
                      "title": {
                        "standoff": 15
                      },
                      "zerolinecolor": "white",
                      "zerolinewidth": 2
                    },
                    "yaxis": {
                      "automargin": true,
                      "gridcolor": "white",
                      "linecolor": "white",
                      "ticks": "",
                      "title": {
                        "standoff": 15
                      },
                      "zerolinecolor": "white",
                      "zerolinewidth": 2
                    }
                  }
                },
                "title": {
                  "text": "Average amount spent by Organisation per Launch"
                },
                "xaxis": {
                  "anchor": "y",
                  "domain": [
                    0,
                    1
                  ],
                  "title": {
                    "text": "Average Amount (in USD millions)"
                  }
                },
                "yaxis": {
                  "anchor": "x",
                  "categoryorder": "total ascending",
                  "domain": [
                    0,
                    1
                  ],
                  "dtick": 1,
                  "title": {
                    "text": "Organisation"
                  }
                }
              }
            }
          },
          "metadata": {},
          "output_type": "display_data"
        }
      ],
      "source": [
        "fig_mean_amount = px.bar(\n",
        "    df_mean_amount,\n",
        "    x=\"Average Price\",\n",
        "    y=df_mean_amount.index,\n",
        "    color='Average Price',\n",
        "    orientation=\"h\",\n",
        "    labels={'index': 'Organisation', 'y': 'Average Price'},\n",
        "    color_continuous_scale=px.colors.sequential.Blues[5:],\n",
        "    text_auto=\".2s\",\n",
        "    height=600,\n",
        "    range_color=(0, 5000)\n",
        ")\n",
        "\n",
        "fig_mean_amount.update_layout(\n",
        "    title=\"Average amount spent by Organisation per Launch\",\n",
        "    xaxis_title=\"Average Amount (in USD millions)\",\n",
        "    yaxis_title=\"Organisation\",\n",
        "    yaxis={'categoryorder':'total ascending', 'dtick': 1}\n",
        ")\n",
        "\n",
        "fig_mean_amount.update_traces(\n",
        "    textfont_size=9, \n",
        ")\n",
        "\n",
        "fig_mean_amount.show()"
      ]
    },
    {
      "cell_type": "markdown",
      "metadata": {
        "id": "R5rFf501pKXD"
      },
      "source": [
        "However, the most average amount spent per Launch is by **RVSN USSR** organisation by far"
      ]
    },
    {
      "cell_type": "markdown",
      "metadata": {
        "id": "yRa1BbPoa-qf",
        "papermill": {
          "duration": 0.042662,
          "end_time": "2020-10-20T21:34:09.943196",
          "exception": false,
          "start_time": "2020-10-20T21:34:09.900534",
          "status": "completed"
        },
        "tags": []
      },
      "source": [
        "# Chart the Number of Launches per Year"
      ]
    },
    {
      "cell_type": "code",
      "execution_count": 188,
      "metadata": {
        "id": "_9FohVh3pcAJ"
      },
      "outputs": [
        {
          "data": {
            "text/html": [
              "<div>\n",
              "<style scoped>\n",
              "    .dataframe tbody tr th:only-of-type {\n",
              "        vertical-align: middle;\n",
              "    }\n",
              "\n",
              "    .dataframe tbody tr th {\n",
              "        vertical-align: top;\n",
              "    }\n",
              "\n",
              "    .dataframe thead th {\n",
              "        text-align: right;\n",
              "    }\n",
              "</style>\n",
              "<table border=\"1\" class=\"dataframe\">\n",
              "  <thead>\n",
              "    <tr style=\"text-align: right;\">\n",
              "      <th></th>\n",
              "      <th>Count</th>\n",
              "    </tr>\n",
              "    <tr>\n",
              "      <th>Year Launch</th>\n",
              "      <th></th>\n",
              "    </tr>\n",
              "  </thead>\n",
              "  <tbody>\n",
              "    <tr>\n",
              "      <th>1957</th>\n",
              "      <td>3</td>\n",
              "    </tr>\n",
              "    <tr>\n",
              "      <th>1958</th>\n",
              "      <td>28</td>\n",
              "    </tr>\n",
              "    <tr>\n",
              "      <th>1959</th>\n",
              "      <td>20</td>\n",
              "    </tr>\n",
              "    <tr>\n",
              "      <th>1960</th>\n",
              "      <td>39</td>\n",
              "    </tr>\n",
              "    <tr>\n",
              "      <th>1961</th>\n",
              "      <td>52</td>\n",
              "    </tr>\n",
              "    <tr>\n",
              "      <th>...</th>\n",
              "      <td>...</td>\n",
              "    </tr>\n",
              "    <tr>\n",
              "      <th>2016</th>\n",
              "      <td>90</td>\n",
              "    </tr>\n",
              "    <tr>\n",
              "      <th>2017</th>\n",
              "      <td>92</td>\n",
              "    </tr>\n",
              "    <tr>\n",
              "      <th>2018</th>\n",
              "      <td>117</td>\n",
              "    </tr>\n",
              "    <tr>\n",
              "      <th>2019</th>\n",
              "      <td>109</td>\n",
              "    </tr>\n",
              "    <tr>\n",
              "      <th>2020</th>\n",
              "      <td>63</td>\n",
              "    </tr>\n",
              "  </tbody>\n",
              "</table>\n",
              "<p>64 rows × 1 columns</p>\n",
              "</div>"
            ],
            "text/plain": [
              "             Count\n",
              "Year Launch       \n",
              "1957             3\n",
              "1958            28\n",
              "1959            20\n",
              "1960            39\n",
              "1961            52\n",
              "...            ...\n",
              "2016            90\n",
              "2017            92\n",
              "2018           117\n",
              "2019           109\n",
              "2020            63\n",
              "\n",
              "[64 rows x 1 columns]"
            ]
          },
          "execution_count": 188,
          "metadata": {},
          "output_type": "execute_result"
        }
      ],
      "source": [
        "df_data['Year Launch'] = df_data.Date.str.split(\",\").str[1].str.strip().str.split(\" \").str[0]\n",
        "df_data['Year Launch'] = pd.DatetimeIndex(df_data['Year Launch']).year\n",
        "df_launch_per_year = df_data.groupby(\"Year Launch\").count()\n",
        "df_launch_per_year = df_launch_per_year.drop(df_launch_per_year[df_launch_per_year.columns.difference([\"Organisation\"])], axis=1).rename(columns={'Organisation': 'Count'})\n",
        "df_launch_per_year"
      ]
    },
    {
      "cell_type": "code",
      "execution_count": 189,
      "metadata": {
        "id": "b2pggcZBpb4x"
      },
      "outputs": [
        {
          "data": {
            "application/vnd.plotly.v1+json": {
              "config": {
                "plotlyServerURL": "https://plot.ly"
              },
              "data": [
                {
                  "alignmentgroup": "True",
                  "hovertemplate": "Year Launch=%{x}<br>Count=%{marker.color}<extra></extra>",
                  "legendgroup": "",
                  "marker": {
                    "color": [
                      3,
                      28,
                      20,
                      39,
                      52,
                      82,
                      41,
                      60,
                      87,
                      101,
                      106,
                      103,
                      103,
                      107,
                      119,
                      99,
                      103,
                      98,
                      113,
                      113,
                      114,
                      97,
                      49,
                      55,
                      71,
                      67,
                      66,
                      69,
                      74,
                      62,
                      56,
                      59,
                      52,
                      80,
                      59,
                      62,
                      61,
                      64,
                      61,
                      60,
                      70,
                      68,
                      57,
                      57,
                      43,
                      49,
                      52,
                      40,
                      37,
                      49,
                      50,
                      48,
                      50,
                      37,
                      42,
                      38,
                      46,
                      53,
                      52,
                      90,
                      92,
                      117,
                      109,
                      63
                    ],
                    "coloraxis": "coloraxis",
                    "pattern": {
                      "shape": ""
                    }
                  },
                  "name": "",
                  "offsetgroup": "",
                  "orientation": "v",
                  "showlegend": false,
                  "textposition": "auto",
                  "type": "bar",
                  "x": [
                    1957,
                    1958,
                    1959,
                    1960,
                    1961,
                    1962,
                    1963,
                    1964,
                    1965,
                    1966,
                    1967,
                    1968,
                    1969,
                    1970,
                    1971,
                    1972,
                    1973,
                    1974,
                    1975,
                    1976,
                    1977,
                    1978,
                    1979,
                    1980,
                    1981,
                    1982,
                    1983,
                    1984,
                    1985,
                    1986,
                    1987,
                    1988,
                    1989,
                    1990,
                    1991,
                    1992,
                    1993,
                    1994,
                    1995,
                    1996,
                    1997,
                    1998,
                    1999,
                    2000,
                    2001,
                    2002,
                    2003,
                    2004,
                    2005,
                    2006,
                    2007,
                    2008,
                    2009,
                    2010,
                    2011,
                    2012,
                    2013,
                    2014,
                    2015,
                    2016,
                    2017,
                    2018,
                    2019,
                    2020
                  ],
                  "xaxis": "x",
                  "y": [
                    3,
                    28,
                    20,
                    39,
                    52,
                    82,
                    41,
                    60,
                    87,
                    101,
                    106,
                    103,
                    103,
                    107,
                    119,
                    99,
                    103,
                    98,
                    113,
                    113,
                    114,
                    97,
                    49,
                    55,
                    71,
                    67,
                    66,
                    69,
                    74,
                    62,
                    56,
                    59,
                    52,
                    80,
                    59,
                    62,
                    61,
                    64,
                    61,
                    60,
                    70,
                    68,
                    57,
                    57,
                    43,
                    49,
                    52,
                    40,
                    37,
                    49,
                    50,
                    48,
                    50,
                    37,
                    42,
                    38,
                    46,
                    53,
                    52,
                    90,
                    92,
                    117,
                    109,
                    63
                  ],
                  "yaxis": "y"
                }
              ],
              "layout": {
                "barmode": "relative",
                "coloraxis": {
                  "colorbar": {
                    "title": {
                      "text": "Count"
                    }
                  },
                  "colorscale": [
                    [
                      0,
                      "rgb(214, 249, 207)"
                    ],
                    [
                      0.09090909090909091,
                      "rgb(186, 228, 174)"
                    ],
                    [
                      0.18181818181818182,
                      "rgb(156, 209, 143)"
                    ],
                    [
                      0.2727272727272727,
                      "rgb(124, 191, 115)"
                    ],
                    [
                      0.36363636363636365,
                      "rgb(85, 174, 91)"
                    ],
                    [
                      0.45454545454545453,
                      "rgb(37, 157, 81)"
                    ],
                    [
                      0.5454545454545454,
                      "rgb(7, 138, 78)"
                    ],
                    [
                      0.6363636363636364,
                      "rgb(13, 117, 71)"
                    ],
                    [
                      0.7272727272727273,
                      "rgb(23, 95, 61)"
                    ],
                    [
                      0.8181818181818182,
                      "rgb(25, 75, 49)"
                    ],
                    [
                      0.9090909090909091,
                      "rgb(23, 55, 35)"
                    ],
                    [
                      1,
                      "rgb(17, 36, 20)"
                    ]
                  ]
                },
                "legend": {
                  "tracegroupgap": 0
                },
                "margin": {
                  "t": 60
                },
                "template": {
                  "data": {
                    "bar": [
                      {
                        "error_x": {
                          "color": "#2a3f5f"
                        },
                        "error_y": {
                          "color": "#2a3f5f"
                        },
                        "marker": {
                          "line": {
                            "color": "#E5ECF6",
                            "width": 0.5
                          },
                          "pattern": {
                            "fillmode": "overlay",
                            "size": 10,
                            "solidity": 0.2
                          }
                        },
                        "type": "bar"
                      }
                    ],
                    "barpolar": [
                      {
                        "marker": {
                          "line": {
                            "color": "#E5ECF6",
                            "width": 0.5
                          },
                          "pattern": {
                            "fillmode": "overlay",
                            "size": 10,
                            "solidity": 0.2
                          }
                        },
                        "type": "barpolar"
                      }
                    ],
                    "carpet": [
                      {
                        "aaxis": {
                          "endlinecolor": "#2a3f5f",
                          "gridcolor": "white",
                          "linecolor": "white",
                          "minorgridcolor": "white",
                          "startlinecolor": "#2a3f5f"
                        },
                        "baxis": {
                          "endlinecolor": "#2a3f5f",
                          "gridcolor": "white",
                          "linecolor": "white",
                          "minorgridcolor": "white",
                          "startlinecolor": "#2a3f5f"
                        },
                        "type": "carpet"
                      }
                    ],
                    "choropleth": [
                      {
                        "colorbar": {
                          "outlinewidth": 0,
                          "ticks": ""
                        },
                        "type": "choropleth"
                      }
                    ],
                    "contour": [
                      {
                        "colorbar": {
                          "outlinewidth": 0,
                          "ticks": ""
                        },
                        "colorscale": [
                          [
                            0,
                            "#0d0887"
                          ],
                          [
                            0.1111111111111111,
                            "#46039f"
                          ],
                          [
                            0.2222222222222222,
                            "#7201a8"
                          ],
                          [
                            0.3333333333333333,
                            "#9c179e"
                          ],
                          [
                            0.4444444444444444,
                            "#bd3786"
                          ],
                          [
                            0.5555555555555556,
                            "#d8576b"
                          ],
                          [
                            0.6666666666666666,
                            "#ed7953"
                          ],
                          [
                            0.7777777777777778,
                            "#fb9f3a"
                          ],
                          [
                            0.8888888888888888,
                            "#fdca26"
                          ],
                          [
                            1,
                            "#f0f921"
                          ]
                        ],
                        "type": "contour"
                      }
                    ],
                    "contourcarpet": [
                      {
                        "colorbar": {
                          "outlinewidth": 0,
                          "ticks": ""
                        },
                        "type": "contourcarpet"
                      }
                    ],
                    "heatmap": [
                      {
                        "colorbar": {
                          "outlinewidth": 0,
                          "ticks": ""
                        },
                        "colorscale": [
                          [
                            0,
                            "#0d0887"
                          ],
                          [
                            0.1111111111111111,
                            "#46039f"
                          ],
                          [
                            0.2222222222222222,
                            "#7201a8"
                          ],
                          [
                            0.3333333333333333,
                            "#9c179e"
                          ],
                          [
                            0.4444444444444444,
                            "#bd3786"
                          ],
                          [
                            0.5555555555555556,
                            "#d8576b"
                          ],
                          [
                            0.6666666666666666,
                            "#ed7953"
                          ],
                          [
                            0.7777777777777778,
                            "#fb9f3a"
                          ],
                          [
                            0.8888888888888888,
                            "#fdca26"
                          ],
                          [
                            1,
                            "#f0f921"
                          ]
                        ],
                        "type": "heatmap"
                      }
                    ],
                    "heatmapgl": [
                      {
                        "colorbar": {
                          "outlinewidth": 0,
                          "ticks": ""
                        },
                        "colorscale": [
                          [
                            0,
                            "#0d0887"
                          ],
                          [
                            0.1111111111111111,
                            "#46039f"
                          ],
                          [
                            0.2222222222222222,
                            "#7201a8"
                          ],
                          [
                            0.3333333333333333,
                            "#9c179e"
                          ],
                          [
                            0.4444444444444444,
                            "#bd3786"
                          ],
                          [
                            0.5555555555555556,
                            "#d8576b"
                          ],
                          [
                            0.6666666666666666,
                            "#ed7953"
                          ],
                          [
                            0.7777777777777778,
                            "#fb9f3a"
                          ],
                          [
                            0.8888888888888888,
                            "#fdca26"
                          ],
                          [
                            1,
                            "#f0f921"
                          ]
                        ],
                        "type": "heatmapgl"
                      }
                    ],
                    "histogram": [
                      {
                        "marker": {
                          "pattern": {
                            "fillmode": "overlay",
                            "size": 10,
                            "solidity": 0.2
                          }
                        },
                        "type": "histogram"
                      }
                    ],
                    "histogram2d": [
                      {
                        "colorbar": {
                          "outlinewidth": 0,
                          "ticks": ""
                        },
                        "colorscale": [
                          [
                            0,
                            "#0d0887"
                          ],
                          [
                            0.1111111111111111,
                            "#46039f"
                          ],
                          [
                            0.2222222222222222,
                            "#7201a8"
                          ],
                          [
                            0.3333333333333333,
                            "#9c179e"
                          ],
                          [
                            0.4444444444444444,
                            "#bd3786"
                          ],
                          [
                            0.5555555555555556,
                            "#d8576b"
                          ],
                          [
                            0.6666666666666666,
                            "#ed7953"
                          ],
                          [
                            0.7777777777777778,
                            "#fb9f3a"
                          ],
                          [
                            0.8888888888888888,
                            "#fdca26"
                          ],
                          [
                            1,
                            "#f0f921"
                          ]
                        ],
                        "type": "histogram2d"
                      }
                    ],
                    "histogram2dcontour": [
                      {
                        "colorbar": {
                          "outlinewidth": 0,
                          "ticks": ""
                        },
                        "colorscale": [
                          [
                            0,
                            "#0d0887"
                          ],
                          [
                            0.1111111111111111,
                            "#46039f"
                          ],
                          [
                            0.2222222222222222,
                            "#7201a8"
                          ],
                          [
                            0.3333333333333333,
                            "#9c179e"
                          ],
                          [
                            0.4444444444444444,
                            "#bd3786"
                          ],
                          [
                            0.5555555555555556,
                            "#d8576b"
                          ],
                          [
                            0.6666666666666666,
                            "#ed7953"
                          ],
                          [
                            0.7777777777777778,
                            "#fb9f3a"
                          ],
                          [
                            0.8888888888888888,
                            "#fdca26"
                          ],
                          [
                            1,
                            "#f0f921"
                          ]
                        ],
                        "type": "histogram2dcontour"
                      }
                    ],
                    "mesh3d": [
                      {
                        "colorbar": {
                          "outlinewidth": 0,
                          "ticks": ""
                        },
                        "type": "mesh3d"
                      }
                    ],
                    "parcoords": [
                      {
                        "line": {
                          "colorbar": {
                            "outlinewidth": 0,
                            "ticks": ""
                          }
                        },
                        "type": "parcoords"
                      }
                    ],
                    "pie": [
                      {
                        "automargin": true,
                        "type": "pie"
                      }
                    ],
                    "scatter": [
                      {
                        "fillpattern": {
                          "fillmode": "overlay",
                          "size": 10,
                          "solidity": 0.2
                        },
                        "type": "scatter"
                      }
                    ],
                    "scatter3d": [
                      {
                        "line": {
                          "colorbar": {
                            "outlinewidth": 0,
                            "ticks": ""
                          }
                        },
                        "marker": {
                          "colorbar": {
                            "outlinewidth": 0,
                            "ticks": ""
                          }
                        },
                        "type": "scatter3d"
                      }
                    ],
                    "scattercarpet": [
                      {
                        "marker": {
                          "colorbar": {
                            "outlinewidth": 0,
                            "ticks": ""
                          }
                        },
                        "type": "scattercarpet"
                      }
                    ],
                    "scattergeo": [
                      {
                        "marker": {
                          "colorbar": {
                            "outlinewidth": 0,
                            "ticks": ""
                          }
                        },
                        "type": "scattergeo"
                      }
                    ],
                    "scattergl": [
                      {
                        "marker": {
                          "colorbar": {
                            "outlinewidth": 0,
                            "ticks": ""
                          }
                        },
                        "type": "scattergl"
                      }
                    ],
                    "scattermapbox": [
                      {
                        "marker": {
                          "colorbar": {
                            "outlinewidth": 0,
                            "ticks": ""
                          }
                        },
                        "type": "scattermapbox"
                      }
                    ],
                    "scatterpolar": [
                      {
                        "marker": {
                          "colorbar": {
                            "outlinewidth": 0,
                            "ticks": ""
                          }
                        },
                        "type": "scatterpolar"
                      }
                    ],
                    "scatterpolargl": [
                      {
                        "marker": {
                          "colorbar": {
                            "outlinewidth": 0,
                            "ticks": ""
                          }
                        },
                        "type": "scatterpolargl"
                      }
                    ],
                    "scatterternary": [
                      {
                        "marker": {
                          "colorbar": {
                            "outlinewidth": 0,
                            "ticks": ""
                          }
                        },
                        "type": "scatterternary"
                      }
                    ],
                    "surface": [
                      {
                        "colorbar": {
                          "outlinewidth": 0,
                          "ticks": ""
                        },
                        "colorscale": [
                          [
                            0,
                            "#0d0887"
                          ],
                          [
                            0.1111111111111111,
                            "#46039f"
                          ],
                          [
                            0.2222222222222222,
                            "#7201a8"
                          ],
                          [
                            0.3333333333333333,
                            "#9c179e"
                          ],
                          [
                            0.4444444444444444,
                            "#bd3786"
                          ],
                          [
                            0.5555555555555556,
                            "#d8576b"
                          ],
                          [
                            0.6666666666666666,
                            "#ed7953"
                          ],
                          [
                            0.7777777777777778,
                            "#fb9f3a"
                          ],
                          [
                            0.8888888888888888,
                            "#fdca26"
                          ],
                          [
                            1,
                            "#f0f921"
                          ]
                        ],
                        "type": "surface"
                      }
                    ],
                    "table": [
                      {
                        "cells": {
                          "fill": {
                            "color": "#EBF0F8"
                          },
                          "line": {
                            "color": "white"
                          }
                        },
                        "header": {
                          "fill": {
                            "color": "#C8D4E3"
                          },
                          "line": {
                            "color": "white"
                          }
                        },
                        "type": "table"
                      }
                    ]
                  },
                  "layout": {
                    "annotationdefaults": {
                      "arrowcolor": "#2a3f5f",
                      "arrowhead": 0,
                      "arrowwidth": 1
                    },
                    "autotypenumbers": "strict",
                    "coloraxis": {
                      "colorbar": {
                        "outlinewidth": 0,
                        "ticks": ""
                      }
                    },
                    "colorscale": {
                      "diverging": [
                        [
                          0,
                          "#8e0152"
                        ],
                        [
                          0.1,
                          "#c51b7d"
                        ],
                        [
                          0.2,
                          "#de77ae"
                        ],
                        [
                          0.3,
                          "#f1b6da"
                        ],
                        [
                          0.4,
                          "#fde0ef"
                        ],
                        [
                          0.5,
                          "#f7f7f7"
                        ],
                        [
                          0.6,
                          "#e6f5d0"
                        ],
                        [
                          0.7,
                          "#b8e186"
                        ],
                        [
                          0.8,
                          "#7fbc41"
                        ],
                        [
                          0.9,
                          "#4d9221"
                        ],
                        [
                          1,
                          "#276419"
                        ]
                      ],
                      "sequential": [
                        [
                          0,
                          "#0d0887"
                        ],
                        [
                          0.1111111111111111,
                          "#46039f"
                        ],
                        [
                          0.2222222222222222,
                          "#7201a8"
                        ],
                        [
                          0.3333333333333333,
                          "#9c179e"
                        ],
                        [
                          0.4444444444444444,
                          "#bd3786"
                        ],
                        [
                          0.5555555555555556,
                          "#d8576b"
                        ],
                        [
                          0.6666666666666666,
                          "#ed7953"
                        ],
                        [
                          0.7777777777777778,
                          "#fb9f3a"
                        ],
                        [
                          0.8888888888888888,
                          "#fdca26"
                        ],
                        [
                          1,
                          "#f0f921"
                        ]
                      ],
                      "sequentialminus": [
                        [
                          0,
                          "#0d0887"
                        ],
                        [
                          0.1111111111111111,
                          "#46039f"
                        ],
                        [
                          0.2222222222222222,
                          "#7201a8"
                        ],
                        [
                          0.3333333333333333,
                          "#9c179e"
                        ],
                        [
                          0.4444444444444444,
                          "#bd3786"
                        ],
                        [
                          0.5555555555555556,
                          "#d8576b"
                        ],
                        [
                          0.6666666666666666,
                          "#ed7953"
                        ],
                        [
                          0.7777777777777778,
                          "#fb9f3a"
                        ],
                        [
                          0.8888888888888888,
                          "#fdca26"
                        ],
                        [
                          1,
                          "#f0f921"
                        ]
                      ]
                    },
                    "colorway": [
                      "#636efa",
                      "#EF553B",
                      "#00cc96",
                      "#ab63fa",
                      "#FFA15A",
                      "#19d3f3",
                      "#FF6692",
                      "#B6E880",
                      "#FF97FF",
                      "#FECB52"
                    ],
                    "font": {
                      "color": "#2a3f5f"
                    },
                    "geo": {
                      "bgcolor": "white",
                      "lakecolor": "white",
                      "landcolor": "#E5ECF6",
                      "showlakes": true,
                      "showland": true,
                      "subunitcolor": "white"
                    },
                    "hoverlabel": {
                      "align": "left"
                    },
                    "hovermode": "closest",
                    "mapbox": {
                      "style": "light"
                    },
                    "paper_bgcolor": "white",
                    "plot_bgcolor": "#E5ECF6",
                    "polar": {
                      "angularaxis": {
                        "gridcolor": "white",
                        "linecolor": "white",
                        "ticks": ""
                      },
                      "bgcolor": "#E5ECF6",
                      "radialaxis": {
                        "gridcolor": "white",
                        "linecolor": "white",
                        "ticks": ""
                      }
                    },
                    "scene": {
                      "xaxis": {
                        "backgroundcolor": "#E5ECF6",
                        "gridcolor": "white",
                        "gridwidth": 2,
                        "linecolor": "white",
                        "showbackground": true,
                        "ticks": "",
                        "zerolinecolor": "white"
                      },
                      "yaxis": {
                        "backgroundcolor": "#E5ECF6",
                        "gridcolor": "white",
                        "gridwidth": 2,
                        "linecolor": "white",
                        "showbackground": true,
                        "ticks": "",
                        "zerolinecolor": "white"
                      },
                      "zaxis": {
                        "backgroundcolor": "#E5ECF6",
                        "gridcolor": "white",
                        "gridwidth": 2,
                        "linecolor": "white",
                        "showbackground": true,
                        "ticks": "",
                        "zerolinecolor": "white"
                      }
                    },
                    "shapedefaults": {
                      "line": {
                        "color": "#2a3f5f"
                      }
                    },
                    "ternary": {
                      "aaxis": {
                        "gridcolor": "white",
                        "linecolor": "white",
                        "ticks": ""
                      },
                      "baxis": {
                        "gridcolor": "white",
                        "linecolor": "white",
                        "ticks": ""
                      },
                      "bgcolor": "#E5ECF6",
                      "caxis": {
                        "gridcolor": "white",
                        "linecolor": "white",
                        "ticks": ""
                      }
                    },
                    "title": {
                      "x": 0.05
                    },
                    "xaxis": {
                      "automargin": true,
                      "gridcolor": "white",
                      "linecolor": "white",
                      "ticks": "",
                      "title": {
                        "standoff": 15
                      },
                      "zerolinecolor": "white",
                      "zerolinewidth": 2
                    },
                    "yaxis": {
                      "automargin": true,
                      "gridcolor": "white",
                      "linecolor": "white",
                      "ticks": "",
                      "title": {
                        "standoff": 15
                      },
                      "zerolinecolor": "white",
                      "zerolinewidth": 2
                    }
                  }
                },
                "title": {
                  "text": "Number of Launches per Year"
                },
                "xaxis": {
                  "anchor": "y",
                  "domain": [
                    0,
                    1
                  ],
                  "title": {
                    "text": "Year"
                  }
                },
                "yaxis": {
                  "anchor": "x",
                  "domain": [
                    0,
                    1
                  ],
                  "title": {
                    "text": "Number of Launches"
                  }
                }
              }
            }
          },
          "metadata": {},
          "output_type": "display_data"
        }
      ],
      "source": [
        "fig_launch_per_year = px.bar(\n",
        "    df_launch_per_year,\n",
        "    x=df_launch_per_year.index,\n",
        "    y=\"Count\",\n",
        "    color='Count',\n",
        "    color_continuous_scale=px.colors.sequential.algae,\n",
        ")\n",
        "\n",
        "fig_launch_per_year.update_layout(\n",
        "    title=\"Number of Launches per Year\",\n",
        "    xaxis_title=\"Year\",\n",
        "    yaxis_title=\"Number of Launches\",\n",
        ")\n",
        "\n",
        "fig_launch_per_year.show()"
      ]
    },
    {
      "cell_type": "markdown",
      "metadata": {
        "id": "NomJVLi3tIaM"
      },
      "source": [
        "# Chart the Number of Launches Month-on-Month until the Present\n",
        "\n",
        "Which month has seen the highest number of launches in all time? Superimpose a rolling average on the month on month time series chart. "
      ]
    },
    {
      "cell_type": "code",
      "execution_count": 190,
      "metadata": {},
      "outputs": [],
      "source": [
        "def get_formatted_date(x):\n",
        "    if 'UTC' in x:\n",
        "        x = x.rsplit(\" \", 2)[0]\n",
        "        return pd.to_datetime(x, format=\"%a %b %d, %Y\")\n",
        "    else:\n",
        "        pd.to_datetime(x, format=\"%a %b %d, %Y\")"
      ]
    },
    {
      "cell_type": "code",
      "execution_count": 244,
      "metadata": {},
      "outputs": [
        {
          "data": {
            "text/html": [
              "<div>\n",
              "<style scoped>\n",
              "    .dataframe tbody tr th:only-of-type {\n",
              "        vertical-align: middle;\n",
              "    }\n",
              "\n",
              "    .dataframe tbody tr th {\n",
              "        vertical-align: top;\n",
              "    }\n",
              "\n",
              "    .dataframe thead th {\n",
              "        text-align: right;\n",
              "    }\n",
              "</style>\n",
              "<table border=\"1\" class=\"dataframe\">\n",
              "  <thead>\n",
              "    <tr style=\"text-align: right;\">\n",
              "      <th></th>\n",
              "      <th>Organisation</th>\n",
              "      <th>Location</th>\n",
              "      <th>Date</th>\n",
              "      <th>Detail</th>\n",
              "      <th>Rocket_Status</th>\n",
              "      <th>Price</th>\n",
              "      <th>Mission_Status</th>\n",
              "      <th>Country</th>\n",
              "      <th>Mission_Status_Binary</th>\n",
              "      <th>Year Launch</th>\n",
              "      <th>Date Format</th>\n",
              "    </tr>\n",
              "  </thead>\n",
              "  <tbody>\n",
              "    <tr>\n",
              "      <th>0</th>\n",
              "      <td>SpaceX</td>\n",
              "      <td>LC-39A, Kennedy Space Center, Florida, USA</td>\n",
              "      <td>Fri Aug 07, 2020 05:12 UTC</td>\n",
              "      <td>Falcon 9 Block 5 | Starlink V1 L9 &amp; BlackSky</td>\n",
              "      <td>StatusActive</td>\n",
              "      <td>50.00</td>\n",
              "      <td>Success</td>\n",
              "      <td>USA</td>\n",
              "      <td>Success</td>\n",
              "      <td>2020</td>\n",
              "      <td>2020-08-07</td>\n",
              "    </tr>\n",
              "    <tr>\n",
              "      <th>1</th>\n",
              "      <td>CASC</td>\n",
              "      <td>Site 9401 (SLS-2), Jiuquan Satellite Launch Ce...</td>\n",
              "      <td>Thu Aug 06, 2020 04:01 UTC</td>\n",
              "      <td>Long March 2D | Gaofen-9 04 &amp; Q-SAT</td>\n",
              "      <td>StatusActive</td>\n",
              "      <td>29.75</td>\n",
              "      <td>Success</td>\n",
              "      <td>CHN</td>\n",
              "      <td>Success</td>\n",
              "      <td>2020</td>\n",
              "      <td>2020-08-06</td>\n",
              "    </tr>\n",
              "    <tr>\n",
              "      <th>2</th>\n",
              "      <td>SpaceX</td>\n",
              "      <td>Pad A, Boca Chica, Texas, USA</td>\n",
              "      <td>Tue Aug 04, 2020 23:57 UTC</td>\n",
              "      <td>Starship Prototype | 150 Meter Hop</td>\n",
              "      <td>StatusActive</td>\n",
              "      <td>NaN</td>\n",
              "      <td>Success</td>\n",
              "      <td>USA</td>\n",
              "      <td>Success</td>\n",
              "      <td>2020</td>\n",
              "      <td>2020-08-04</td>\n",
              "    </tr>\n",
              "    <tr>\n",
              "      <th>3</th>\n",
              "      <td>Roscosmos</td>\n",
              "      <td>Site 200/39, Baikonur Cosmodrome, Kazakhstan</td>\n",
              "      <td>Thu Jul 30, 2020 21:25 UTC</td>\n",
              "      <td>Proton-M/Briz-M | Ekspress-80 &amp; Ekspress-103</td>\n",
              "      <td>StatusActive</td>\n",
              "      <td>65.00</td>\n",
              "      <td>Success</td>\n",
              "      <td>KAZ</td>\n",
              "      <td>Success</td>\n",
              "      <td>2020</td>\n",
              "      <td>2020-07-30</td>\n",
              "    </tr>\n",
              "    <tr>\n",
              "      <th>4</th>\n",
              "      <td>ULA</td>\n",
              "      <td>SLC-41, Cape Canaveral AFS, Florida, USA</td>\n",
              "      <td>Thu Jul 30, 2020 11:50 UTC</td>\n",
              "      <td>Atlas V 541 | Perseverance</td>\n",
              "      <td>StatusActive</td>\n",
              "      <td>145.00</td>\n",
              "      <td>Success</td>\n",
              "      <td>USA</td>\n",
              "      <td>Success</td>\n",
              "      <td>2020</td>\n",
              "      <td>2020-07-30</td>\n",
              "    </tr>\n",
              "  </tbody>\n",
              "</table>\n",
              "</div>"
            ],
            "text/plain": [
              "  Organisation                                           Location  \\\n",
              "0       SpaceX         LC-39A, Kennedy Space Center, Florida, USA   \n",
              "1         CASC  Site 9401 (SLS-2), Jiuquan Satellite Launch Ce...   \n",
              "2       SpaceX                      Pad A, Boca Chica, Texas, USA   \n",
              "3    Roscosmos       Site 200/39, Baikonur Cosmodrome, Kazakhstan   \n",
              "4          ULA           SLC-41, Cape Canaveral AFS, Florida, USA   \n",
              "\n",
              "                         Date                                        Detail  \\\n",
              "0  Fri Aug 07, 2020 05:12 UTC  Falcon 9 Block 5 | Starlink V1 L9 & BlackSky   \n",
              "1  Thu Aug 06, 2020 04:01 UTC           Long March 2D | Gaofen-9 04 & Q-SAT   \n",
              "2  Tue Aug 04, 2020 23:57 UTC            Starship Prototype | 150 Meter Hop   \n",
              "3  Thu Jul 30, 2020 21:25 UTC  Proton-M/Briz-M | Ekspress-80 & Ekspress-103   \n",
              "4  Thu Jul 30, 2020 11:50 UTC                    Atlas V 541 | Perseverance   \n",
              "\n",
              "  Rocket_Status  Price Mission_Status Country Mission_Status_Binary  \\\n",
              "0  StatusActive  50.00        Success     USA               Success   \n",
              "1  StatusActive  29.75        Success     CHN               Success   \n",
              "2  StatusActive    NaN        Success     USA               Success   \n",
              "3  StatusActive  65.00        Success     KAZ               Success   \n",
              "4  StatusActive 145.00        Success     USA               Success   \n",
              "\n",
              "   Year Launch Date Format  \n",
              "0         2020  2020-08-07  \n",
              "1         2020  2020-08-06  \n",
              "2         2020  2020-08-04  \n",
              "3         2020  2020-07-30  \n",
              "4         2020  2020-07-30  "
            ]
          },
          "execution_count": 244,
          "metadata": {},
          "output_type": "execute_result"
        }
      ],
      "source": [
        "df_data[\"Date Format\"] = df_data['Date']\n",
        "df_data['Date Format'] = df_data['Date Format'].apply(lambda x: get_formatted_date(x))\n",
        "df_data.head()"
      ]
    },
    {
      "cell_type": "code",
      "execution_count": 245,
      "metadata": {
        "id": "H1N2aBs5tH9z"
      },
      "outputs": [
        {
          "data": {
            "text/html": [
              "<div>\n",
              "<style scoped>\n",
              "    .dataframe tbody tr th:only-of-type {\n",
              "        vertical-align: middle;\n",
              "    }\n",
              "\n",
              "    .dataframe tbody tr th {\n",
              "        vertical-align: top;\n",
              "    }\n",
              "\n",
              "    .dataframe thead th {\n",
              "        text-align: right;\n",
              "    }\n",
              "</style>\n",
              "<table border=\"1\" class=\"dataframe\">\n",
              "  <thead>\n",
              "    <tr style=\"text-align: right;\">\n",
              "      <th></th>\n",
              "      <th>Count</th>\n",
              "    </tr>\n",
              "    <tr>\n",
              "      <th>Date Format</th>\n",
              "      <th></th>\n",
              "    </tr>\n",
              "  </thead>\n",
              "  <tbody>\n",
              "    <tr>\n",
              "      <th>1957-10-04</th>\n",
              "      <td>1</td>\n",
              "    </tr>\n",
              "    <tr>\n",
              "      <th>1957-11-03</th>\n",
              "      <td>1</td>\n",
              "    </tr>\n",
              "    <tr>\n",
              "      <th>1957-12-06</th>\n",
              "      <td>1</td>\n",
              "    </tr>\n",
              "    <tr>\n",
              "      <th>1958-02-01</th>\n",
              "      <td>1</td>\n",
              "    </tr>\n",
              "    <tr>\n",
              "      <th>1958-02-05</th>\n",
              "      <td>1</td>\n",
              "    </tr>\n",
              "    <tr>\n",
              "      <th>...</th>\n",
              "      <td>...</td>\n",
              "    </tr>\n",
              "    <tr>\n",
              "      <th>2020-07-25</th>\n",
              "      <td>1</td>\n",
              "    </tr>\n",
              "    <tr>\n",
              "      <th>2020-07-30</th>\n",
              "      <td>2</td>\n",
              "    </tr>\n",
              "    <tr>\n",
              "      <th>2020-08-04</th>\n",
              "      <td>1</td>\n",
              "    </tr>\n",
              "    <tr>\n",
              "      <th>2020-08-06</th>\n",
              "      <td>1</td>\n",
              "    </tr>\n",
              "    <tr>\n",
              "      <th>2020-08-07</th>\n",
              "      <td>1</td>\n",
              "    </tr>\n",
              "  </tbody>\n",
              "</table>\n",
              "<p>3819 rows × 1 columns</p>\n",
              "</div>"
            ],
            "text/plain": [
              "             Count\n",
              "Date Format       \n",
              "1957-10-04       1\n",
              "1957-11-03       1\n",
              "1957-12-06       1\n",
              "1958-02-01       1\n",
              "1958-02-05       1\n",
              "...            ...\n",
              "2020-07-25       1\n",
              "2020-07-30       2\n",
              "2020-08-04       1\n",
              "2020-08-06       1\n",
              "2020-08-07       1\n",
              "\n",
              "[3819 rows x 1 columns]"
            ]
          },
          "execution_count": 245,
          "metadata": {},
          "output_type": "execute_result"
        }
      ],
      "source": [
        "# All launches dates:\n",
        "df_launch_per_date = df_data.groupby(\"Date Format\").count()\n",
        "df_launch_per_date = df_launch_per_date.drop(df_launch_per_date[df_launch_per_date.columns.difference([\"Organisation\"])], axis=1).rename(columns={\"Organisation\": \"Count\"})\n",
        "df_launch_per_date"
      ]
    },
    {
      "cell_type": "code",
      "execution_count": 246,
      "metadata": {},
      "outputs": [
        {
          "data": {
            "text/html": [
              "<div>\n",
              "<style scoped>\n",
              "    .dataframe tbody tr th:only-of-type {\n",
              "        vertical-align: middle;\n",
              "    }\n",
              "\n",
              "    .dataframe tbody tr th {\n",
              "        vertical-align: top;\n",
              "    }\n",
              "\n",
              "    .dataframe thead th {\n",
              "        text-align: right;\n",
              "    }\n",
              "</style>\n",
              "<table border=\"1\" class=\"dataframe\">\n",
              "  <thead>\n",
              "    <tr style=\"text-align: right;\">\n",
              "      <th></th>\n",
              "      <th>Count</th>\n",
              "    </tr>\n",
              "    <tr>\n",
              "      <th>Date Format</th>\n",
              "      <th></th>\n",
              "    </tr>\n",
              "  </thead>\n",
              "  <tbody>\n",
              "    <tr>\n",
              "      <th>1957-10</th>\n",
              "      <td>1.00</td>\n",
              "    </tr>\n",
              "    <tr>\n",
              "      <th>1957-11</th>\n",
              "      <td>1.00</td>\n",
              "    </tr>\n",
              "    <tr>\n",
              "      <th>1957-12</th>\n",
              "      <td>1.00</td>\n",
              "    </tr>\n",
              "    <tr>\n",
              "      <th>1958-01</th>\n",
              "      <td>0.00</td>\n",
              "    </tr>\n",
              "    <tr>\n",
              "      <th>1958-02</th>\n",
              "      <td>2.00</td>\n",
              "    </tr>\n",
              "    <tr>\n",
              "      <th>...</th>\n",
              "      <td>...</td>\n",
              "    </tr>\n",
              "    <tr>\n",
              "      <th>2020-04</th>\n",
              "      <td>3.00</td>\n",
              "    </tr>\n",
              "    <tr>\n",
              "      <th>2020-05</th>\n",
              "      <td>9.00</td>\n",
              "    </tr>\n",
              "    <tr>\n",
              "      <th>2020-06</th>\n",
              "      <td>6.00</td>\n",
              "    </tr>\n",
              "    <tr>\n",
              "      <th>2020-07</th>\n",
              "      <td>11.00</td>\n",
              "    </tr>\n",
              "    <tr>\n",
              "      <th>2020-08</th>\n",
              "      <td>3.00</td>\n",
              "    </tr>\n",
              "  </tbody>\n",
              "</table>\n",
              "<p>755 rows × 1 columns</p>\n",
              "</div>"
            ],
            "text/plain": [
              "             Count\n",
              "Date Format       \n",
              "1957-10       1.00\n",
              "1957-11       1.00\n",
              "1957-12       1.00\n",
              "1958-01       0.00\n",
              "1958-02       2.00\n",
              "...            ...\n",
              "2020-04       3.00\n",
              "2020-05       9.00\n",
              "2020-06       6.00\n",
              "2020-07      11.00\n",
              "2020-08       3.00\n",
              "\n",
              "[755 rows x 1 columns]"
            ]
          },
          "execution_count": 246,
          "metadata": {},
          "output_type": "execute_result"
        }
      ],
      "source": [
        "# Launches per months:\n",
        "df_month_on_month = df_launch_per_date\n",
        "df_month_on_month.index = df_month_on_month.index.to_period(\"M\")\n",
        "df_month_on_month = df_month_on_month.groupby(df_month_on_month.index).count()\n",
        "df_month_on_month = df_month_on_month.resample(\"M\").sum()\n",
        "df_month_on_month = df_month_on_month.fillna(0)\n",
        "df_month_on_month"
      ]
    },
    {
      "cell_type": "code",
      "execution_count": 247,
      "metadata": {},
      "outputs": [
        {
          "data": {
            "text/html": [
              "<div>\n",
              "<style scoped>\n",
              "    .dataframe tbody tr th:only-of-type {\n",
              "        vertical-align: middle;\n",
              "    }\n",
              "\n",
              "    .dataframe tbody tr th {\n",
              "        vertical-align: top;\n",
              "    }\n",
              "\n",
              "    .dataframe thead th {\n",
              "        text-align: right;\n",
              "    }\n",
              "</style>\n",
              "<table border=\"1\" class=\"dataframe\">\n",
              "  <thead>\n",
              "    <tr style=\"text-align: right;\">\n",
              "      <th></th>\n",
              "      <th>Count</th>\n",
              "      <th>SMA1Y</th>\n",
              "    </tr>\n",
              "    <tr>\n",
              "      <th>Date Format</th>\n",
              "      <th></th>\n",
              "      <th></th>\n",
              "    </tr>\n",
              "  </thead>\n",
              "  <tbody>\n",
              "    <tr>\n",
              "      <th>1957-10</th>\n",
              "      <td>1.00</td>\n",
              "      <td>NaN</td>\n",
              "    </tr>\n",
              "    <tr>\n",
              "      <th>1957-11</th>\n",
              "      <td>1.00</td>\n",
              "      <td>NaN</td>\n",
              "    </tr>\n",
              "    <tr>\n",
              "      <th>1957-12</th>\n",
              "      <td>1.00</td>\n",
              "      <td>NaN</td>\n",
              "    </tr>\n",
              "    <tr>\n",
              "      <th>1958-01</th>\n",
              "      <td>0.00</td>\n",
              "      <td>NaN</td>\n",
              "    </tr>\n",
              "    <tr>\n",
              "      <th>1958-02</th>\n",
              "      <td>2.00</td>\n",
              "      <td>NaN</td>\n",
              "    </tr>\n",
              "    <tr>\n",
              "      <th>...</th>\n",
              "      <td>...</td>\n",
              "      <td>...</td>\n",
              "    </tr>\n",
              "    <tr>\n",
              "      <th>2020-04</th>\n",
              "      <td>3.00</td>\n",
              "      <td>7.25</td>\n",
              "    </tr>\n",
              "    <tr>\n",
              "      <th>2020-05</th>\n",
              "      <td>9.00</td>\n",
              "      <td>7.33</td>\n",
              "    </tr>\n",
              "    <tr>\n",
              "      <th>2020-06</th>\n",
              "      <td>6.00</td>\n",
              "      <td>7.33</td>\n",
              "    </tr>\n",
              "    <tr>\n",
              "      <th>2020-07</th>\n",
              "      <td>11.00</td>\n",
              "      <td>7.42</td>\n",
              "    </tr>\n",
              "    <tr>\n",
              "      <th>2020-08</th>\n",
              "      <td>3.00</td>\n",
              "      <td>7.08</td>\n",
              "    </tr>\n",
              "  </tbody>\n",
              "</table>\n",
              "<p>755 rows × 2 columns</p>\n",
              "</div>"
            ],
            "text/plain": [
              "             Count  SMA1Y\n",
              "Date Format              \n",
              "1957-10       1.00    NaN\n",
              "1957-11       1.00    NaN\n",
              "1957-12       1.00    NaN\n",
              "1958-01       0.00    NaN\n",
              "1958-02       2.00    NaN\n",
              "...            ...    ...\n",
              "2020-04       3.00   7.25\n",
              "2020-05       9.00   7.33\n",
              "2020-06       6.00   7.33\n",
              "2020-07      11.00   7.42\n",
              "2020-08       3.00   7.08\n",
              "\n",
              "[755 rows x 2 columns]"
            ]
          },
          "execution_count": 247,
          "metadata": {},
          "output_type": "execute_result"
        }
      ],
      "source": [
        "df_month_on_month['SMA1Y'] = df_month_on_month.rolling(12).mean()\n",
        "df_month_on_month"
      ]
    },
    {
      "cell_type": "code",
      "execution_count": 248,
      "metadata": {},
      "outputs": [
        {
          "data": {
            "application/vnd.plotly.v1+json": {
              "config": {
                "plotlyServerURL": "https://plot.ly"
              },
              "data": [
                {
                  "hovertemplate": "x=%{x}<br>Count=%{y}<extra></extra>",
                  "legendgroup": "",
                  "line": {
                    "color": "#456987",
                    "dash": "solid"
                  },
                  "marker": {
                    "symbol": "circle"
                  },
                  "mode": "lines",
                  "name": "",
                  "orientation": "v",
                  "showlegend": false,
                  "type": "scatter",
                  "x": [
                    "1957-10-01T00:00:00",
                    "1957-11-01T00:00:00",
                    "1957-12-01T00:00:00",
                    "1958-01-01T00:00:00",
                    "1958-02-01T00:00:00",
                    "1958-03-01T00:00:00",
                    "1958-04-01T00:00:00",
                    "1958-05-01T00:00:00",
                    "1958-06-01T00:00:00",
                    "1958-07-01T00:00:00",
                    "1958-08-01T00:00:00",
                    "1958-09-01T00:00:00",
                    "1958-10-01T00:00:00",
                    "1958-11-01T00:00:00",
                    "1958-12-01T00:00:00",
                    "1959-01-01T00:00:00",
                    "1959-02-01T00:00:00",
                    "1959-03-01T00:00:00",
                    "1959-04-01T00:00:00",
                    "1959-05-01T00:00:00",
                    "1959-06-01T00:00:00",
                    "1959-07-01T00:00:00",
                    "1959-08-01T00:00:00",
                    "1959-09-01T00:00:00",
                    "1959-10-01T00:00:00",
                    "1959-11-01T00:00:00",
                    "1959-12-01T00:00:00",
                    "1960-01-01T00:00:00",
                    "1960-02-01T00:00:00",
                    "1960-03-01T00:00:00",
                    "1960-04-01T00:00:00",
                    "1960-05-01T00:00:00",
                    "1960-06-01T00:00:00",
                    "1960-07-01T00:00:00",
                    "1960-08-01T00:00:00",
                    "1960-09-01T00:00:00",
                    "1960-10-01T00:00:00",
                    "1960-11-01T00:00:00",
                    "1960-12-01T00:00:00",
                    "1961-01-01T00:00:00",
                    "1961-02-01T00:00:00",
                    "1961-03-01T00:00:00",
                    "1961-04-01T00:00:00",
                    "1961-05-01T00:00:00",
                    "1961-06-01T00:00:00",
                    "1961-07-01T00:00:00",
                    "1961-08-01T00:00:00",
                    "1961-09-01T00:00:00",
                    "1961-10-01T00:00:00",
                    "1961-11-01T00:00:00",
                    "1961-12-01T00:00:00",
                    "1962-01-01T00:00:00",
                    "1962-02-01T00:00:00",
                    "1962-03-01T00:00:00",
                    "1962-04-01T00:00:00",
                    "1962-05-01T00:00:00",
                    "1962-06-01T00:00:00",
                    "1962-07-01T00:00:00",
                    "1962-08-01T00:00:00",
                    "1962-09-01T00:00:00",
                    "1962-10-01T00:00:00",
                    "1962-11-01T00:00:00",
                    "1962-12-01T00:00:00",
                    "1963-01-01T00:00:00",
                    "1963-02-01T00:00:00",
                    "1963-03-01T00:00:00",
                    "1963-04-01T00:00:00",
                    "1963-05-01T00:00:00",
                    "1963-06-01T00:00:00",
                    "1963-07-01T00:00:00",
                    "1963-08-01T00:00:00",
                    "1963-09-01T00:00:00",
                    "1963-10-01T00:00:00",
                    "1963-11-01T00:00:00",
                    "1963-12-01T00:00:00",
                    "1964-01-01T00:00:00",
                    "1964-02-01T00:00:00",
                    "1964-03-01T00:00:00",
                    "1964-04-01T00:00:00",
                    "1964-05-01T00:00:00",
                    "1964-06-01T00:00:00",
                    "1964-07-01T00:00:00",
                    "1964-08-01T00:00:00",
                    "1964-09-01T00:00:00",
                    "1964-10-01T00:00:00",
                    "1964-11-01T00:00:00",
                    "1964-12-01T00:00:00",
                    "1965-01-01T00:00:00",
                    "1965-02-01T00:00:00",
                    "1965-03-01T00:00:00",
                    "1965-04-01T00:00:00",
                    "1965-05-01T00:00:00",
                    "1965-06-01T00:00:00",
                    "1965-07-01T00:00:00",
                    "1965-08-01T00:00:00",
                    "1965-09-01T00:00:00",
                    "1965-10-01T00:00:00",
                    "1965-11-01T00:00:00",
                    "1965-12-01T00:00:00",
                    "1966-01-01T00:00:00",
                    "1966-02-01T00:00:00",
                    "1966-03-01T00:00:00",
                    "1966-04-01T00:00:00",
                    "1966-05-01T00:00:00",
                    "1966-06-01T00:00:00",
                    "1966-07-01T00:00:00",
                    "1966-08-01T00:00:00",
                    "1966-09-01T00:00:00",
                    "1966-10-01T00:00:00",
                    "1966-11-01T00:00:00",
                    "1966-12-01T00:00:00",
                    "1967-01-01T00:00:00",
                    "1967-02-01T00:00:00",
                    "1967-03-01T00:00:00",
                    "1967-04-01T00:00:00",
                    "1967-05-01T00:00:00",
                    "1967-06-01T00:00:00",
                    "1967-07-01T00:00:00",
                    "1967-08-01T00:00:00",
                    "1967-09-01T00:00:00",
                    "1967-10-01T00:00:00",
                    "1967-11-01T00:00:00",
                    "1967-12-01T00:00:00",
                    "1968-01-01T00:00:00",
                    "1968-02-01T00:00:00",
                    "1968-03-01T00:00:00",
                    "1968-04-01T00:00:00",
                    "1968-05-01T00:00:00",
                    "1968-06-01T00:00:00",
                    "1968-07-01T00:00:00",
                    "1968-08-01T00:00:00",
                    "1968-09-01T00:00:00",
                    "1968-10-01T00:00:00",
                    "1968-11-01T00:00:00",
                    "1968-12-01T00:00:00",
                    "1969-01-01T00:00:00",
                    "1969-02-01T00:00:00",
                    "1969-03-01T00:00:00",
                    "1969-04-01T00:00:00",
                    "1969-05-01T00:00:00",
                    "1969-06-01T00:00:00",
                    "1969-07-01T00:00:00",
                    "1969-08-01T00:00:00",
                    "1969-09-01T00:00:00",
                    "1969-10-01T00:00:00",
                    "1969-11-01T00:00:00",
                    "1969-12-01T00:00:00",
                    "1970-01-01T00:00:00",
                    "1970-02-01T00:00:00",
                    "1970-03-01T00:00:00",
                    "1970-04-01T00:00:00",
                    "1970-05-01T00:00:00",
                    "1970-06-01T00:00:00",
                    "1970-07-01T00:00:00",
                    "1970-08-01T00:00:00",
                    "1970-09-01T00:00:00",
                    "1970-10-01T00:00:00",
                    "1970-11-01T00:00:00",
                    "1970-12-01T00:00:00",
                    "1971-01-01T00:00:00",
                    "1971-02-01T00:00:00",
                    "1971-03-01T00:00:00",
                    "1971-04-01T00:00:00",
                    "1971-05-01T00:00:00",
                    "1971-06-01T00:00:00",
                    "1971-07-01T00:00:00",
                    "1971-08-01T00:00:00",
                    "1971-09-01T00:00:00",
                    "1971-10-01T00:00:00",
                    "1971-11-01T00:00:00",
                    "1971-12-01T00:00:00",
                    "1972-01-01T00:00:00",
                    "1972-02-01T00:00:00",
                    "1972-03-01T00:00:00",
                    "1972-04-01T00:00:00",
                    "1972-05-01T00:00:00",
                    "1972-06-01T00:00:00",
                    "1972-07-01T00:00:00",
                    "1972-08-01T00:00:00",
                    "1972-09-01T00:00:00",
                    "1972-10-01T00:00:00",
                    "1972-11-01T00:00:00",
                    "1972-12-01T00:00:00",
                    "1973-01-01T00:00:00",
                    "1973-02-01T00:00:00",
                    "1973-03-01T00:00:00",
                    "1973-04-01T00:00:00",
                    "1973-05-01T00:00:00",
                    "1973-06-01T00:00:00",
                    "1973-07-01T00:00:00",
                    "1973-08-01T00:00:00",
                    "1973-09-01T00:00:00",
                    "1973-10-01T00:00:00",
                    "1973-11-01T00:00:00",
                    "1973-12-01T00:00:00",
                    "1974-01-01T00:00:00",
                    "1974-02-01T00:00:00",
                    "1974-03-01T00:00:00",
                    "1974-04-01T00:00:00",
                    "1974-05-01T00:00:00",
                    "1974-06-01T00:00:00",
                    "1974-07-01T00:00:00",
                    "1974-08-01T00:00:00",
                    "1974-09-01T00:00:00",
                    "1974-10-01T00:00:00",
                    "1974-11-01T00:00:00",
                    "1974-12-01T00:00:00",
                    "1975-01-01T00:00:00",
                    "1975-02-01T00:00:00",
                    "1975-03-01T00:00:00",
                    "1975-04-01T00:00:00",
                    "1975-05-01T00:00:00",
                    "1975-06-01T00:00:00",
                    "1975-07-01T00:00:00",
                    "1975-08-01T00:00:00",
                    "1975-09-01T00:00:00",
                    "1975-10-01T00:00:00",
                    "1975-11-01T00:00:00",
                    "1975-12-01T00:00:00",
                    "1976-01-01T00:00:00",
                    "1976-02-01T00:00:00",
                    "1976-03-01T00:00:00",
                    "1976-04-01T00:00:00",
                    "1976-05-01T00:00:00",
                    "1976-06-01T00:00:00",
                    "1976-07-01T00:00:00",
                    "1976-08-01T00:00:00",
                    "1976-09-01T00:00:00",
                    "1976-10-01T00:00:00",
                    "1976-11-01T00:00:00",
                    "1976-12-01T00:00:00",
                    "1977-01-01T00:00:00",
                    "1977-02-01T00:00:00",
                    "1977-03-01T00:00:00",
                    "1977-04-01T00:00:00",
                    "1977-05-01T00:00:00",
                    "1977-06-01T00:00:00",
                    "1977-07-01T00:00:00",
                    "1977-08-01T00:00:00",
                    "1977-09-01T00:00:00",
                    "1977-10-01T00:00:00",
                    "1977-11-01T00:00:00",
                    "1977-12-01T00:00:00",
                    "1978-01-01T00:00:00",
                    "1978-02-01T00:00:00",
                    "1978-03-01T00:00:00",
                    "1978-04-01T00:00:00",
                    "1978-05-01T00:00:00",
                    "1978-06-01T00:00:00",
                    "1978-07-01T00:00:00",
                    "1978-08-01T00:00:00",
                    "1978-09-01T00:00:00",
                    "1978-10-01T00:00:00",
                    "1978-11-01T00:00:00",
                    "1978-12-01T00:00:00",
                    "1979-01-01T00:00:00",
                    "1979-02-01T00:00:00",
                    "1979-03-01T00:00:00",
                    "1979-04-01T00:00:00",
                    "1979-05-01T00:00:00",
                    "1979-06-01T00:00:00",
                    "1979-07-01T00:00:00",
                    "1979-08-01T00:00:00",
                    "1979-09-01T00:00:00",
                    "1979-10-01T00:00:00",
                    "1979-11-01T00:00:00",
                    "1979-12-01T00:00:00",
                    "1980-01-01T00:00:00",
                    "1980-02-01T00:00:00",
                    "1980-03-01T00:00:00",
                    "1980-04-01T00:00:00",
                    "1980-05-01T00:00:00",
                    "1980-06-01T00:00:00",
                    "1980-07-01T00:00:00",
                    "1980-08-01T00:00:00",
                    "1980-09-01T00:00:00",
                    "1980-10-01T00:00:00",
                    "1980-11-01T00:00:00",
                    "1980-12-01T00:00:00",
                    "1981-01-01T00:00:00",
                    "1981-02-01T00:00:00",
                    "1981-03-01T00:00:00",
                    "1981-04-01T00:00:00",
                    "1981-05-01T00:00:00",
                    "1981-06-01T00:00:00",
                    "1981-07-01T00:00:00",
                    "1981-08-01T00:00:00",
                    "1981-09-01T00:00:00",
                    "1981-10-01T00:00:00",
                    "1981-11-01T00:00:00",
                    "1981-12-01T00:00:00",
                    "1982-01-01T00:00:00",
                    "1982-02-01T00:00:00",
                    "1982-03-01T00:00:00",
                    "1982-04-01T00:00:00",
                    "1982-05-01T00:00:00",
                    "1982-06-01T00:00:00",
                    "1982-07-01T00:00:00",
                    "1982-08-01T00:00:00",
                    "1982-09-01T00:00:00",
                    "1982-10-01T00:00:00",
                    "1982-11-01T00:00:00",
                    "1982-12-01T00:00:00",
                    "1983-01-01T00:00:00",
                    "1983-02-01T00:00:00",
                    "1983-03-01T00:00:00",
                    "1983-04-01T00:00:00",
                    "1983-05-01T00:00:00",
                    "1983-06-01T00:00:00",
                    "1983-07-01T00:00:00",
                    "1983-08-01T00:00:00",
                    "1983-09-01T00:00:00",
                    "1983-10-01T00:00:00",
                    "1983-11-01T00:00:00",
                    "1983-12-01T00:00:00",
                    "1984-01-01T00:00:00",
                    "1984-02-01T00:00:00",
                    "1984-03-01T00:00:00",
                    "1984-04-01T00:00:00",
                    "1984-05-01T00:00:00",
                    "1984-06-01T00:00:00",
                    "1984-07-01T00:00:00",
                    "1984-08-01T00:00:00",
                    "1984-09-01T00:00:00",
                    "1984-10-01T00:00:00",
                    "1984-11-01T00:00:00",
                    "1984-12-01T00:00:00",
                    "1985-01-01T00:00:00",
                    "1985-02-01T00:00:00",
                    "1985-03-01T00:00:00",
                    "1985-04-01T00:00:00",
                    "1985-05-01T00:00:00",
                    "1985-06-01T00:00:00",
                    "1985-07-01T00:00:00",
                    "1985-08-01T00:00:00",
                    "1985-09-01T00:00:00",
                    "1985-10-01T00:00:00",
                    "1985-11-01T00:00:00",
                    "1985-12-01T00:00:00",
                    "1986-01-01T00:00:00",
                    "1986-02-01T00:00:00",
                    "1986-03-01T00:00:00",
                    "1986-04-01T00:00:00",
                    "1986-05-01T00:00:00",
                    "1986-06-01T00:00:00",
                    "1986-07-01T00:00:00",
                    "1986-08-01T00:00:00",
                    "1986-09-01T00:00:00",
                    "1986-10-01T00:00:00",
                    "1986-11-01T00:00:00",
                    "1986-12-01T00:00:00",
                    "1987-01-01T00:00:00",
                    "1987-02-01T00:00:00",
                    "1987-03-01T00:00:00",
                    "1987-04-01T00:00:00",
                    "1987-05-01T00:00:00",
                    "1987-06-01T00:00:00",
                    "1987-07-01T00:00:00",
                    "1987-08-01T00:00:00",
                    "1987-09-01T00:00:00",
                    "1987-10-01T00:00:00",
                    "1987-11-01T00:00:00",
                    "1987-12-01T00:00:00",
                    "1988-01-01T00:00:00",
                    "1988-02-01T00:00:00",
                    "1988-03-01T00:00:00",
                    "1988-04-01T00:00:00",
                    "1988-05-01T00:00:00",
                    "1988-06-01T00:00:00",
                    "1988-07-01T00:00:00",
                    "1988-08-01T00:00:00",
                    "1988-09-01T00:00:00",
                    "1988-10-01T00:00:00",
                    "1988-11-01T00:00:00",
                    "1988-12-01T00:00:00",
                    "1989-01-01T00:00:00",
                    "1989-02-01T00:00:00",
                    "1989-03-01T00:00:00",
                    "1989-04-01T00:00:00",
                    "1989-05-01T00:00:00",
                    "1989-06-01T00:00:00",
                    "1989-07-01T00:00:00",
                    "1989-08-01T00:00:00",
                    "1989-09-01T00:00:00",
                    "1989-10-01T00:00:00",
                    "1989-11-01T00:00:00",
                    "1989-12-01T00:00:00",
                    "1990-01-01T00:00:00",
                    "1990-02-01T00:00:00",
                    "1990-03-01T00:00:00",
                    "1990-04-01T00:00:00",
                    "1990-05-01T00:00:00",
                    "1990-06-01T00:00:00",
                    "1990-07-01T00:00:00",
                    "1990-08-01T00:00:00",
                    "1990-09-01T00:00:00",
                    "1990-10-01T00:00:00",
                    "1990-11-01T00:00:00",
                    "1990-12-01T00:00:00",
                    "1991-01-01T00:00:00",
                    "1991-02-01T00:00:00",
                    "1991-03-01T00:00:00",
                    "1991-04-01T00:00:00",
                    "1991-05-01T00:00:00",
                    "1991-06-01T00:00:00",
                    "1991-07-01T00:00:00",
                    "1991-08-01T00:00:00",
                    "1991-09-01T00:00:00",
                    "1991-10-01T00:00:00",
                    "1991-11-01T00:00:00",
                    "1991-12-01T00:00:00",
                    "1992-01-01T00:00:00",
                    "1992-02-01T00:00:00",
                    "1992-03-01T00:00:00",
                    "1992-04-01T00:00:00",
                    "1992-05-01T00:00:00",
                    "1992-06-01T00:00:00",
                    "1992-07-01T00:00:00",
                    "1992-08-01T00:00:00",
                    "1992-09-01T00:00:00",
                    "1992-10-01T00:00:00",
                    "1992-11-01T00:00:00",
                    "1992-12-01T00:00:00",
                    "1993-01-01T00:00:00",
                    "1993-02-01T00:00:00",
                    "1993-03-01T00:00:00",
                    "1993-04-01T00:00:00",
                    "1993-05-01T00:00:00",
                    "1993-06-01T00:00:00",
                    "1993-07-01T00:00:00",
                    "1993-08-01T00:00:00",
                    "1993-09-01T00:00:00",
                    "1993-10-01T00:00:00",
                    "1993-11-01T00:00:00",
                    "1993-12-01T00:00:00",
                    "1994-01-01T00:00:00",
                    "1994-02-01T00:00:00",
                    "1994-03-01T00:00:00",
                    "1994-04-01T00:00:00",
                    "1994-05-01T00:00:00",
                    "1994-06-01T00:00:00",
                    "1994-07-01T00:00:00",
                    "1994-08-01T00:00:00",
                    "1994-09-01T00:00:00",
                    "1994-10-01T00:00:00",
                    "1994-11-01T00:00:00",
                    "1994-12-01T00:00:00",
                    "1995-01-01T00:00:00",
                    "1995-02-01T00:00:00",
                    "1995-03-01T00:00:00",
                    "1995-04-01T00:00:00",
                    "1995-05-01T00:00:00",
                    "1995-06-01T00:00:00",
                    "1995-07-01T00:00:00",
                    "1995-08-01T00:00:00",
                    "1995-09-01T00:00:00",
                    "1995-10-01T00:00:00",
                    "1995-11-01T00:00:00",
                    "1995-12-01T00:00:00",
                    "1996-01-01T00:00:00",
                    "1996-02-01T00:00:00",
                    "1996-03-01T00:00:00",
                    "1996-04-01T00:00:00",
                    "1996-05-01T00:00:00",
                    "1996-06-01T00:00:00",
                    "1996-07-01T00:00:00",
                    "1996-08-01T00:00:00",
                    "1996-09-01T00:00:00",
                    "1996-10-01T00:00:00",
                    "1996-11-01T00:00:00",
                    "1996-12-01T00:00:00",
                    "1997-01-01T00:00:00",
                    "1997-02-01T00:00:00",
                    "1997-03-01T00:00:00",
                    "1997-04-01T00:00:00",
                    "1997-05-01T00:00:00",
                    "1997-06-01T00:00:00",
                    "1997-07-01T00:00:00",
                    "1997-08-01T00:00:00",
                    "1997-09-01T00:00:00",
                    "1997-10-01T00:00:00",
                    "1997-11-01T00:00:00",
                    "1997-12-01T00:00:00",
                    "1998-01-01T00:00:00",
                    "1998-02-01T00:00:00",
                    "1998-03-01T00:00:00",
                    "1998-04-01T00:00:00",
                    "1998-05-01T00:00:00",
                    "1998-06-01T00:00:00",
                    "1998-07-01T00:00:00",
                    "1998-08-01T00:00:00",
                    "1998-09-01T00:00:00",
                    "1998-10-01T00:00:00",
                    "1998-11-01T00:00:00",
                    "1998-12-01T00:00:00",
                    "1999-01-01T00:00:00",
                    "1999-02-01T00:00:00",
                    "1999-03-01T00:00:00",
                    "1999-04-01T00:00:00",
                    "1999-05-01T00:00:00",
                    "1999-06-01T00:00:00",
                    "1999-07-01T00:00:00",
                    "1999-08-01T00:00:00",
                    "1999-09-01T00:00:00",
                    "1999-10-01T00:00:00",
                    "1999-11-01T00:00:00",
                    "1999-12-01T00:00:00",
                    "2000-01-01T00:00:00",
                    "2000-02-01T00:00:00",
                    "2000-03-01T00:00:00",
                    "2000-04-01T00:00:00",
                    "2000-05-01T00:00:00",
                    "2000-06-01T00:00:00",
                    "2000-07-01T00:00:00",
                    "2000-08-01T00:00:00",
                    "2000-09-01T00:00:00",
                    "2000-10-01T00:00:00",
                    "2000-11-01T00:00:00",
                    "2000-12-01T00:00:00",
                    "2001-01-01T00:00:00",
                    "2001-02-01T00:00:00",
                    "2001-03-01T00:00:00",
                    "2001-04-01T00:00:00",
                    "2001-05-01T00:00:00",
                    "2001-06-01T00:00:00",
                    "2001-07-01T00:00:00",
                    "2001-08-01T00:00:00",
                    "2001-09-01T00:00:00",
                    "2001-10-01T00:00:00",
                    "2001-11-01T00:00:00",
                    "2001-12-01T00:00:00",
                    "2002-01-01T00:00:00",
                    "2002-02-01T00:00:00",
                    "2002-03-01T00:00:00",
                    "2002-04-01T00:00:00",
                    "2002-05-01T00:00:00",
                    "2002-06-01T00:00:00",
                    "2002-07-01T00:00:00",
                    "2002-08-01T00:00:00",
                    "2002-09-01T00:00:00",
                    "2002-10-01T00:00:00",
                    "2002-11-01T00:00:00",
                    "2002-12-01T00:00:00",
                    "2003-01-01T00:00:00",
                    "2003-02-01T00:00:00",
                    "2003-03-01T00:00:00",
                    "2003-04-01T00:00:00",
                    "2003-05-01T00:00:00",
                    "2003-06-01T00:00:00",
                    "2003-07-01T00:00:00",
                    "2003-08-01T00:00:00",
                    "2003-09-01T00:00:00",
                    "2003-10-01T00:00:00",
                    "2003-11-01T00:00:00",
                    "2003-12-01T00:00:00",
                    "2004-01-01T00:00:00",
                    "2004-02-01T00:00:00",
                    "2004-03-01T00:00:00",
                    "2004-04-01T00:00:00",
                    "2004-05-01T00:00:00",
                    "2004-06-01T00:00:00",
                    "2004-07-01T00:00:00",
                    "2004-08-01T00:00:00",
                    "2004-09-01T00:00:00",
                    "2004-10-01T00:00:00",
                    "2004-11-01T00:00:00",
                    "2004-12-01T00:00:00",
                    "2005-01-01T00:00:00",
                    "2005-02-01T00:00:00",
                    "2005-03-01T00:00:00",
                    "2005-04-01T00:00:00",
                    "2005-05-01T00:00:00",
                    "2005-06-01T00:00:00",
                    "2005-07-01T00:00:00",
                    "2005-08-01T00:00:00",
                    "2005-09-01T00:00:00",
                    "2005-10-01T00:00:00",
                    "2005-11-01T00:00:00",
                    "2005-12-01T00:00:00",
                    "2006-01-01T00:00:00",
                    "2006-02-01T00:00:00",
                    "2006-03-01T00:00:00",
                    "2006-04-01T00:00:00",
                    "2006-05-01T00:00:00",
                    "2006-06-01T00:00:00",
                    "2006-07-01T00:00:00",
                    "2006-08-01T00:00:00",
                    "2006-09-01T00:00:00",
                    "2006-10-01T00:00:00",
                    "2006-11-01T00:00:00",
                    "2006-12-01T00:00:00",
                    "2007-01-01T00:00:00",
                    "2007-02-01T00:00:00",
                    "2007-03-01T00:00:00",
                    "2007-04-01T00:00:00",
                    "2007-05-01T00:00:00",
                    "2007-06-01T00:00:00",
                    "2007-07-01T00:00:00",
                    "2007-08-01T00:00:00",
                    "2007-09-01T00:00:00",
                    "2007-10-01T00:00:00",
                    "2007-11-01T00:00:00",
                    "2007-12-01T00:00:00",
                    "2008-01-01T00:00:00",
                    "2008-02-01T00:00:00",
                    "2008-03-01T00:00:00",
                    "2008-04-01T00:00:00",
                    "2008-05-01T00:00:00",
                    "2008-06-01T00:00:00",
                    "2008-07-01T00:00:00",
                    "2008-08-01T00:00:00",
                    "2008-09-01T00:00:00",
                    "2008-10-01T00:00:00",
                    "2008-11-01T00:00:00",
                    "2008-12-01T00:00:00",
                    "2009-01-01T00:00:00",
                    "2009-02-01T00:00:00",
                    "2009-03-01T00:00:00",
                    "2009-04-01T00:00:00",
                    "2009-05-01T00:00:00",
                    "2009-06-01T00:00:00",
                    "2009-07-01T00:00:00",
                    "2009-08-01T00:00:00",
                    "2009-09-01T00:00:00",
                    "2009-10-01T00:00:00",
                    "2009-11-01T00:00:00",
                    "2009-12-01T00:00:00",
                    "2010-01-01T00:00:00",
                    "2010-02-01T00:00:00",
                    "2010-03-01T00:00:00",
                    "2010-04-01T00:00:00",
                    "2010-05-01T00:00:00",
                    "2010-06-01T00:00:00",
                    "2010-07-01T00:00:00",
                    "2010-08-01T00:00:00",
                    "2010-09-01T00:00:00",
                    "2010-10-01T00:00:00",
                    "2010-11-01T00:00:00",
                    "2010-12-01T00:00:00",
                    "2011-01-01T00:00:00",
                    "2011-02-01T00:00:00",
                    "2011-03-01T00:00:00",
                    "2011-04-01T00:00:00",
                    "2011-05-01T00:00:00",
                    "2011-06-01T00:00:00",
                    "2011-07-01T00:00:00",
                    "2011-08-01T00:00:00",
                    "2011-09-01T00:00:00",
                    "2011-10-01T00:00:00",
                    "2011-11-01T00:00:00",
                    "2011-12-01T00:00:00",
                    "2012-01-01T00:00:00",
                    "2012-02-01T00:00:00",
                    "2012-03-01T00:00:00",
                    "2012-04-01T00:00:00",
                    "2012-05-01T00:00:00",
                    "2012-06-01T00:00:00",
                    "2012-07-01T00:00:00",
                    "2012-08-01T00:00:00",
                    "2012-09-01T00:00:00",
                    "2012-10-01T00:00:00",
                    "2012-11-01T00:00:00",
                    "2012-12-01T00:00:00",
                    "2013-01-01T00:00:00",
                    "2013-02-01T00:00:00",
                    "2013-03-01T00:00:00",
                    "2013-04-01T00:00:00",
                    "2013-05-01T00:00:00",
                    "2013-06-01T00:00:00",
                    "2013-07-01T00:00:00",
                    "2013-08-01T00:00:00",
                    "2013-09-01T00:00:00",
                    "2013-10-01T00:00:00",
                    "2013-11-01T00:00:00",
                    "2013-12-01T00:00:00",
                    "2014-01-01T00:00:00",
                    "2014-02-01T00:00:00",
                    "2014-03-01T00:00:00",
                    "2014-04-01T00:00:00",
                    "2014-05-01T00:00:00",
                    "2014-06-01T00:00:00",
                    "2014-07-01T00:00:00",
                    "2014-08-01T00:00:00",
                    "2014-09-01T00:00:00",
                    "2014-10-01T00:00:00",
                    "2014-11-01T00:00:00",
                    "2014-12-01T00:00:00",
                    "2015-01-01T00:00:00",
                    "2015-02-01T00:00:00",
                    "2015-03-01T00:00:00",
                    "2015-04-01T00:00:00",
                    "2015-05-01T00:00:00",
                    "2015-06-01T00:00:00",
                    "2015-07-01T00:00:00",
                    "2015-08-01T00:00:00",
                    "2015-09-01T00:00:00",
                    "2015-10-01T00:00:00",
                    "2015-11-01T00:00:00",
                    "2015-12-01T00:00:00",
                    "2016-01-01T00:00:00",
                    "2016-02-01T00:00:00",
                    "2016-03-01T00:00:00",
                    "2016-04-01T00:00:00",
                    "2016-05-01T00:00:00",
                    "2016-06-01T00:00:00",
                    "2016-07-01T00:00:00",
                    "2016-08-01T00:00:00",
                    "2016-09-01T00:00:00",
                    "2016-10-01T00:00:00",
                    "2016-11-01T00:00:00",
                    "2016-12-01T00:00:00",
                    "2017-01-01T00:00:00",
                    "2017-02-01T00:00:00",
                    "2017-03-01T00:00:00",
                    "2017-04-01T00:00:00",
                    "2017-05-01T00:00:00",
                    "2017-06-01T00:00:00",
                    "2017-07-01T00:00:00",
                    "2017-08-01T00:00:00",
                    "2017-09-01T00:00:00",
                    "2017-10-01T00:00:00",
                    "2017-11-01T00:00:00",
                    "2017-12-01T00:00:00",
                    "2018-01-01T00:00:00",
                    "2018-02-01T00:00:00",
                    "2018-03-01T00:00:00",
                    "2018-04-01T00:00:00",
                    "2018-05-01T00:00:00",
                    "2018-06-01T00:00:00",
                    "2018-07-01T00:00:00",
                    "2018-08-01T00:00:00",
                    "2018-09-01T00:00:00",
                    "2018-10-01T00:00:00",
                    "2018-11-01T00:00:00",
                    "2018-12-01T00:00:00",
                    "2019-01-01T00:00:00",
                    "2019-02-01T00:00:00",
                    "2019-03-01T00:00:00",
                    "2019-04-01T00:00:00",
                    "2019-05-01T00:00:00",
                    "2019-06-01T00:00:00",
                    "2019-07-01T00:00:00",
                    "2019-08-01T00:00:00",
                    "2019-09-01T00:00:00",
                    "2019-10-01T00:00:00",
                    "2019-11-01T00:00:00",
                    "2019-12-01T00:00:00",
                    "2020-01-01T00:00:00",
                    "2020-02-01T00:00:00",
                    "2020-03-01T00:00:00",
                    "2020-04-01T00:00:00",
                    "2020-05-01T00:00:00",
                    "2020-06-01T00:00:00",
                    "2020-07-01T00:00:00",
                    "2020-08-01T00:00:00"
                  ],
                  "xaxis": "x",
                  "y": [
                    1,
                    1,
                    1,
                    0,
                    2,
                    3,
                    2,
                    2,
                    1,
                    1,
                    2,
                    2,
                    2,
                    1,
                    3,
                    1,
                    2,
                    0,
                    2,
                    0,
                    4,
                    0,
                    3,
                    4,
                    1,
                    3,
                    0,
                    0,
                    3,
                    1,
                    3,
                    3,
                    2,
                    2,
                    4,
                    2,
                    5,
                    4,
                    7,
                    1,
                    7,
                    4,
                    3,
                    1,
                    4,
                    3,
                    6,
                    4,
                    4,
                    6,
                    4,
                    3,
                    4,
                    2,
                    7,
                    6,
                    8,
                    5,
                    9,
                    6,
                    11,
                    5,
                    7,
                    1,
                    2,
                    1,
                    6,
                    4,
                    3,
                    3,
                    2,
                    2,
                    4,
                    5,
                    3,
                    2,
                    3,
                    4,
                    7,
                    3,
                    5,
                    6,
                    4,
                    6,
                    6,
                    3,
                    4,
                    5,
                    8,
                    8,
                    5,
                    6,
                    5,
                    8,
                    5,
                    5,
                    8,
                    8,
                    8,
                    5,
                    7,
                    9,
                    6,
                    7,
                    8,
                    9,
                    8,
                    5,
                    6,
                    8,
                    8,
                    4,
                    9,
                    8,
                    9,
                    7,
                    9,
                    7,
                    6,
                    9,
                    11,
                    8,
                    6,
                    5,
                    3,
                    8,
                    15,
                    3,
                    9,
                    6,
                    6,
                    6,
                    11,
                    8,
                    9,
                    9,
                    7,
                    12,
                    7,
                    6,
                    6,
                    5,
                    9,
                    5,
                    10,
                    7,
                    6,
                    7,
                    5,
                    6,
                    9,
                    3,
                    10,
                    5,
                    8,
                    8,
                    11,
                    7,
                    9,
                    6,
                    7,
                    7,
                    10,
                    12,
                    7,
                    7,
                    7,
                    8,
                    6,
                    10,
                    14,
                    4,
                    5,
                    10,
                    8,
                    6,
                    5,
                    10,
                    7,
                    7,
                    11,
                    6,
                    9,
                    4,
                    4,
                    5,
                    6,
                    10,
                    9,
                    5,
                    7,
                    6,
                    12,
                    10,
                    9,
                    4,
                    7,
                    5,
                    9,
                    7,
                    7,
                    8,
                    7,
                    4,
                    9,
                    7,
                    9,
                    6,
                    7,
                    5,
                    14,
                    9,
                    9,
                    10,
                    5,
                    14,
                    4,
                    8,
                    10,
                    7,
                    8,
                    11,
                    5,
                    9,
                    7,
                    11,
                    7,
                    7,
                    9,
                    6,
                    9,
                    2,
                    10,
                    5,
                    6,
                    9,
                    11,
                    11,
                    7,
                    11,
                    6,
                    2,
                    12,
                    8,
                    9,
                    10,
                    4,
                    8,
                    9,
                    2,
                    4,
                    4,
                    8,
                    6,
                    11,
                    3,
                    5,
                    4,
                    6,
                    3,
                    4,
                    5,
                    2,
                    2,
                    6,
                    2,
                    2,
                    6,
                    6,
                    4,
                    5,
                    4,
                    5,
                    5,
                    1,
                    1,
                    3,
                    4,
                    5,
                    6,
                    6,
                    8,
                    3,
                    5,
                    5,
                    1,
                    6,
                    8,
                    3,
                    3,
                    6,
                    4,
                    4,
                    8,
                    5,
                    6,
                    8,
                    3,
                    4,
                    7,
                    2,
                    3,
                    4,
                    4,
                    4,
                    6,
                    8,
                    5,
                    5,
                    6,
                    5,
                    3,
                    6,
                    5,
                    5,
                    6,
                    6,
                    4,
                    5,
                    5,
                    8,
                    2,
                    9,
                    6,
                    5,
                    4,
                    6,
                    4,
                    5,
                    5,
                    3,
                    4,
                    8,
                    4,
                    7,
                    6,
                    8,
                    5,
                    5,
                    6,
                    7,
                    3,
                    2,
                    4,
                    4,
                    4,
                    4,
                    5,
                    6,
                    5,
                    7,
                    5,
                    7,
                    5,
                    2,
                    2,
                    7,
                    5,
                    5,
                    3,
                    4,
                    2,
                    5,
                    2,
                    3,
                    7,
                    2,
                    5,
                    4,
                    7,
                    2,
                    7,
                    4,
                    4,
                    4,
                    1,
                    7,
                    3,
                    2,
                    3,
                    6,
                    4,
                    4,
                    7,
                    3,
                    3,
                    1,
                    7,
                    6,
                    4,
                    10,
                    1,
                    7,
                    4,
                    5,
                    4,
                    7,
                    6,
                    5,
                    3,
                    4,
                    5,
                    7,
                    3,
                    6,
                    3,
                    8,
                    4,
                    2,
                    5,
                    4,
                    2,
                    4,
                    5,
                    3,
                    2,
                    4,
                    8,
                    6,
                    4,
                    7,
                    6,
                    6,
                    3,
                    3,
                    4,
                    9,
                    4,
                    5,
                    3,
                    6,
                    6,
                    5,
                    3,
                    5,
                    2,
                    4,
                    5,
                    4,
                    4,
                    3,
                    4,
                    8,
                    4,
                    4,
                    6,
                    6,
                    5,
                    1,
                    5,
                    3,
                    5,
                    4,
                    5,
                    6,
                    3,
                    6,
                    5,
                    7,
                    4,
                    7,
                    5,
                    4,
                    5,
                    3,
                    5,
                    6,
                    6,
                    2,
                    4,
                    5,
                    3,
                    5,
                    3,
                    5,
                    5,
                    3,
                    4,
                    8,
                    8,
                    7,
                    5,
                    8,
                    4,
                    8,
                    4,
                    4,
                    6,
                    4,
                    5,
                    7,
                    5,
                    8,
                    2,
                    7,
                    2,
                    4,
                    1,
                    6,
                    6,
                    4,
                    5,
                    4,
                    4,
                    2,
                    4,
                    11,
                    3,
                    5,
                    4,
                    1,
                    6,
                    4,
                    5,
                    2,
                    6,
                    7,
                    5,
                    4,
                    3,
                    3,
                    2,
                    3,
                    1,
                    4,
                    3,
                    5,
                    4,
                    5,
                    1,
                    5,
                    2,
                    5,
                    5,
                    3,
                    3,
                    4,
                    4,
                    2,
                    5,
                    2,
                    3,
                    6,
                    5,
                    1,
                    3,
                    5,
                    4,
                    7,
                    2,
                    4,
                    2,
                    6,
                    3,
                    5,
                    1,
                    3,
                    3,
                    4,
                    3,
                    3,
                    4,
                    3,
                    4,
                    1,
                    4,
                    4,
                    2,
                    3,
                    2,
                    5,
                    2,
                    2,
                    3,
                    6,
                    2,
                    5,
                    2,
                    1,
                    2,
                    3,
                    3,
                    6,
                    3,
                    4,
                    6,
                    2,
                    5,
                    5,
                    2,
                    6,
                    2,
                    3,
                    3,
                    6,
                    4,
                    4,
                    2,
                    3,
                    6,
                    5,
                    3,
                    4,
                    2,
                    2,
                    6,
                    5,
                    4,
                    5,
                    3,
                    3,
                    3,
                    5,
                    2,
                    2,
                    3,
                    4,
                    4,
                    3,
                    4,
                    3,
                    6,
                    4,
                    4,
                    5,
                    5,
                    3,
                    0,
                    3,
                    1,
                    7,
                    4,
                    6,
                    1,
                    2,
                    4,
                    1,
                    4,
                    3,
                    2,
                    4,
                    3,
                    3,
                    3,
                    2,
                    4,
                    3,
                    7,
                    5,
                    2,
                    2,
                    1,
                    2,
                    1,
                    3,
                    4,
                    5,
                    3,
                    3,
                    3,
                    3,
                    1,
                    5,
                    4,
                    4,
                    2,
                    1,
                    3,
                    5,
                    4,
                    6,
                    7,
                    0,
                    5,
                    5,
                    4,
                    3,
                    1,
                    5,
                    4,
                    2,
                    8,
                    4,
                    4,
                    4,
                    2,
                    7,
                    3,
                    2,
                    7,
                    3,
                    2,
                    2,
                    3,
                    3,
                    6,
                    3,
                    2,
                    7,
                    5,
                    6,
                    10,
                    4,
                    6,
                    11,
                    4,
                    7,
                    6,
                    5,
                    7,
                    10,
                    6,
                    4,
                    7,
                    3,
                    6,
                    10,
                    4,
                    10,
                    5,
                    7,
                    8,
                    9,
                    11,
                    8,
                    8,
                    9,
                    7,
                    8,
                    6,
                    5,
                    8,
                    10,
                    13,
                    11,
                    8,
                    4,
                    8,
                    6,
                    8,
                    6,
                    10,
                    7,
                    6,
                    5,
                    10,
                    11,
                    6,
                    8,
                    7,
                    3,
                    9,
                    6,
                    11,
                    3
                  ],
                  "yaxis": "y"
                },
                {
                  "line": {
                    "color": "aliceblue"
                  },
                  "name": "1 year Moving Average",
                  "type": "scatter",
                  "x": [
                    "1957-10-01T00:00:00",
                    "1957-11-01T00:00:00",
                    "1957-12-01T00:00:00",
                    "1958-01-01T00:00:00",
                    "1958-02-01T00:00:00",
                    "1958-03-01T00:00:00",
                    "1958-04-01T00:00:00",
                    "1958-05-01T00:00:00",
                    "1958-06-01T00:00:00",
                    "1958-07-01T00:00:00",
                    "1958-08-01T00:00:00",
                    "1958-09-01T00:00:00",
                    "1958-10-01T00:00:00",
                    "1958-11-01T00:00:00",
                    "1958-12-01T00:00:00",
                    "1959-01-01T00:00:00",
                    "1959-02-01T00:00:00",
                    "1959-03-01T00:00:00",
                    "1959-04-01T00:00:00",
                    "1959-05-01T00:00:00",
                    "1959-06-01T00:00:00",
                    "1959-07-01T00:00:00",
                    "1959-08-01T00:00:00",
                    "1959-09-01T00:00:00",
                    "1959-10-01T00:00:00",
                    "1959-11-01T00:00:00",
                    "1959-12-01T00:00:00",
                    "1960-01-01T00:00:00",
                    "1960-02-01T00:00:00",
                    "1960-03-01T00:00:00",
                    "1960-04-01T00:00:00",
                    "1960-05-01T00:00:00",
                    "1960-06-01T00:00:00",
                    "1960-07-01T00:00:00",
                    "1960-08-01T00:00:00",
                    "1960-09-01T00:00:00",
                    "1960-10-01T00:00:00",
                    "1960-11-01T00:00:00",
                    "1960-12-01T00:00:00",
                    "1961-01-01T00:00:00",
                    "1961-02-01T00:00:00",
                    "1961-03-01T00:00:00",
                    "1961-04-01T00:00:00",
                    "1961-05-01T00:00:00",
                    "1961-06-01T00:00:00",
                    "1961-07-01T00:00:00",
                    "1961-08-01T00:00:00",
                    "1961-09-01T00:00:00",
                    "1961-10-01T00:00:00",
                    "1961-11-01T00:00:00",
                    "1961-12-01T00:00:00",
                    "1962-01-01T00:00:00",
                    "1962-02-01T00:00:00",
                    "1962-03-01T00:00:00",
                    "1962-04-01T00:00:00",
                    "1962-05-01T00:00:00",
                    "1962-06-01T00:00:00",
                    "1962-07-01T00:00:00",
                    "1962-08-01T00:00:00",
                    "1962-09-01T00:00:00",
                    "1962-10-01T00:00:00",
                    "1962-11-01T00:00:00",
                    "1962-12-01T00:00:00",
                    "1963-01-01T00:00:00",
                    "1963-02-01T00:00:00",
                    "1963-03-01T00:00:00",
                    "1963-04-01T00:00:00",
                    "1963-05-01T00:00:00",
                    "1963-06-01T00:00:00",
                    "1963-07-01T00:00:00",
                    "1963-08-01T00:00:00",
                    "1963-09-01T00:00:00",
                    "1963-10-01T00:00:00",
                    "1963-11-01T00:00:00",
                    "1963-12-01T00:00:00",
                    "1964-01-01T00:00:00",
                    "1964-02-01T00:00:00",
                    "1964-03-01T00:00:00",
                    "1964-04-01T00:00:00",
                    "1964-05-01T00:00:00",
                    "1964-06-01T00:00:00",
                    "1964-07-01T00:00:00",
                    "1964-08-01T00:00:00",
                    "1964-09-01T00:00:00",
                    "1964-10-01T00:00:00",
                    "1964-11-01T00:00:00",
                    "1964-12-01T00:00:00",
                    "1965-01-01T00:00:00",
                    "1965-02-01T00:00:00",
                    "1965-03-01T00:00:00",
                    "1965-04-01T00:00:00",
                    "1965-05-01T00:00:00",
                    "1965-06-01T00:00:00",
                    "1965-07-01T00:00:00",
                    "1965-08-01T00:00:00",
                    "1965-09-01T00:00:00",
                    "1965-10-01T00:00:00",
                    "1965-11-01T00:00:00",
                    "1965-12-01T00:00:00",
                    "1966-01-01T00:00:00",
                    "1966-02-01T00:00:00",
                    "1966-03-01T00:00:00",
                    "1966-04-01T00:00:00",
                    "1966-05-01T00:00:00",
                    "1966-06-01T00:00:00",
                    "1966-07-01T00:00:00",
                    "1966-08-01T00:00:00",
                    "1966-09-01T00:00:00",
                    "1966-10-01T00:00:00",
                    "1966-11-01T00:00:00",
                    "1966-12-01T00:00:00",
                    "1967-01-01T00:00:00",
                    "1967-02-01T00:00:00",
                    "1967-03-01T00:00:00",
                    "1967-04-01T00:00:00",
                    "1967-05-01T00:00:00",
                    "1967-06-01T00:00:00",
                    "1967-07-01T00:00:00",
                    "1967-08-01T00:00:00",
                    "1967-09-01T00:00:00",
                    "1967-10-01T00:00:00",
                    "1967-11-01T00:00:00",
                    "1967-12-01T00:00:00",
                    "1968-01-01T00:00:00",
                    "1968-02-01T00:00:00",
                    "1968-03-01T00:00:00",
                    "1968-04-01T00:00:00",
                    "1968-05-01T00:00:00",
                    "1968-06-01T00:00:00",
                    "1968-07-01T00:00:00",
                    "1968-08-01T00:00:00",
                    "1968-09-01T00:00:00",
                    "1968-10-01T00:00:00",
                    "1968-11-01T00:00:00",
                    "1968-12-01T00:00:00",
                    "1969-01-01T00:00:00",
                    "1969-02-01T00:00:00",
                    "1969-03-01T00:00:00",
                    "1969-04-01T00:00:00",
                    "1969-05-01T00:00:00",
                    "1969-06-01T00:00:00",
                    "1969-07-01T00:00:00",
                    "1969-08-01T00:00:00",
                    "1969-09-01T00:00:00",
                    "1969-10-01T00:00:00",
                    "1969-11-01T00:00:00",
                    "1969-12-01T00:00:00",
                    "1970-01-01T00:00:00",
                    "1970-02-01T00:00:00",
                    "1970-03-01T00:00:00",
                    "1970-04-01T00:00:00",
                    "1970-05-01T00:00:00",
                    "1970-06-01T00:00:00",
                    "1970-07-01T00:00:00",
                    "1970-08-01T00:00:00",
                    "1970-09-01T00:00:00",
                    "1970-10-01T00:00:00",
                    "1970-11-01T00:00:00",
                    "1970-12-01T00:00:00",
                    "1971-01-01T00:00:00",
                    "1971-02-01T00:00:00",
                    "1971-03-01T00:00:00",
                    "1971-04-01T00:00:00",
                    "1971-05-01T00:00:00",
                    "1971-06-01T00:00:00",
                    "1971-07-01T00:00:00",
                    "1971-08-01T00:00:00",
                    "1971-09-01T00:00:00",
                    "1971-10-01T00:00:00",
                    "1971-11-01T00:00:00",
                    "1971-12-01T00:00:00",
                    "1972-01-01T00:00:00",
                    "1972-02-01T00:00:00",
                    "1972-03-01T00:00:00",
                    "1972-04-01T00:00:00",
                    "1972-05-01T00:00:00",
                    "1972-06-01T00:00:00",
                    "1972-07-01T00:00:00",
                    "1972-08-01T00:00:00",
                    "1972-09-01T00:00:00",
                    "1972-10-01T00:00:00",
                    "1972-11-01T00:00:00",
                    "1972-12-01T00:00:00",
                    "1973-01-01T00:00:00",
                    "1973-02-01T00:00:00",
                    "1973-03-01T00:00:00",
                    "1973-04-01T00:00:00",
                    "1973-05-01T00:00:00",
                    "1973-06-01T00:00:00",
                    "1973-07-01T00:00:00",
                    "1973-08-01T00:00:00",
                    "1973-09-01T00:00:00",
                    "1973-10-01T00:00:00",
                    "1973-11-01T00:00:00",
                    "1973-12-01T00:00:00",
                    "1974-01-01T00:00:00",
                    "1974-02-01T00:00:00",
                    "1974-03-01T00:00:00",
                    "1974-04-01T00:00:00",
                    "1974-05-01T00:00:00",
                    "1974-06-01T00:00:00",
                    "1974-07-01T00:00:00",
                    "1974-08-01T00:00:00",
                    "1974-09-01T00:00:00",
                    "1974-10-01T00:00:00",
                    "1974-11-01T00:00:00",
                    "1974-12-01T00:00:00",
                    "1975-01-01T00:00:00",
                    "1975-02-01T00:00:00",
                    "1975-03-01T00:00:00",
                    "1975-04-01T00:00:00",
                    "1975-05-01T00:00:00",
                    "1975-06-01T00:00:00",
                    "1975-07-01T00:00:00",
                    "1975-08-01T00:00:00",
                    "1975-09-01T00:00:00",
                    "1975-10-01T00:00:00",
                    "1975-11-01T00:00:00",
                    "1975-12-01T00:00:00",
                    "1976-01-01T00:00:00",
                    "1976-02-01T00:00:00",
                    "1976-03-01T00:00:00",
                    "1976-04-01T00:00:00",
                    "1976-05-01T00:00:00",
                    "1976-06-01T00:00:00",
                    "1976-07-01T00:00:00",
                    "1976-08-01T00:00:00",
                    "1976-09-01T00:00:00",
                    "1976-10-01T00:00:00",
                    "1976-11-01T00:00:00",
                    "1976-12-01T00:00:00",
                    "1977-01-01T00:00:00",
                    "1977-02-01T00:00:00",
                    "1977-03-01T00:00:00",
                    "1977-04-01T00:00:00",
                    "1977-05-01T00:00:00",
                    "1977-06-01T00:00:00",
                    "1977-07-01T00:00:00",
                    "1977-08-01T00:00:00",
                    "1977-09-01T00:00:00",
                    "1977-10-01T00:00:00",
                    "1977-11-01T00:00:00",
                    "1977-12-01T00:00:00",
                    "1978-01-01T00:00:00",
                    "1978-02-01T00:00:00",
                    "1978-03-01T00:00:00",
                    "1978-04-01T00:00:00",
                    "1978-05-01T00:00:00",
                    "1978-06-01T00:00:00",
                    "1978-07-01T00:00:00",
                    "1978-08-01T00:00:00",
                    "1978-09-01T00:00:00",
                    "1978-10-01T00:00:00",
                    "1978-11-01T00:00:00",
                    "1978-12-01T00:00:00",
                    "1979-01-01T00:00:00",
                    "1979-02-01T00:00:00",
                    "1979-03-01T00:00:00",
                    "1979-04-01T00:00:00",
                    "1979-05-01T00:00:00",
                    "1979-06-01T00:00:00",
                    "1979-07-01T00:00:00",
                    "1979-08-01T00:00:00",
                    "1979-09-01T00:00:00",
                    "1979-10-01T00:00:00",
                    "1979-11-01T00:00:00",
                    "1979-12-01T00:00:00",
                    "1980-01-01T00:00:00",
                    "1980-02-01T00:00:00",
                    "1980-03-01T00:00:00",
                    "1980-04-01T00:00:00",
                    "1980-05-01T00:00:00",
                    "1980-06-01T00:00:00",
                    "1980-07-01T00:00:00",
                    "1980-08-01T00:00:00",
                    "1980-09-01T00:00:00",
                    "1980-10-01T00:00:00",
                    "1980-11-01T00:00:00",
                    "1980-12-01T00:00:00",
                    "1981-01-01T00:00:00",
                    "1981-02-01T00:00:00",
                    "1981-03-01T00:00:00",
                    "1981-04-01T00:00:00",
                    "1981-05-01T00:00:00",
                    "1981-06-01T00:00:00",
                    "1981-07-01T00:00:00",
                    "1981-08-01T00:00:00",
                    "1981-09-01T00:00:00",
                    "1981-10-01T00:00:00",
                    "1981-11-01T00:00:00",
                    "1981-12-01T00:00:00",
                    "1982-01-01T00:00:00",
                    "1982-02-01T00:00:00",
                    "1982-03-01T00:00:00",
                    "1982-04-01T00:00:00",
                    "1982-05-01T00:00:00",
                    "1982-06-01T00:00:00",
                    "1982-07-01T00:00:00",
                    "1982-08-01T00:00:00",
                    "1982-09-01T00:00:00",
                    "1982-10-01T00:00:00",
                    "1982-11-01T00:00:00",
                    "1982-12-01T00:00:00",
                    "1983-01-01T00:00:00",
                    "1983-02-01T00:00:00",
                    "1983-03-01T00:00:00",
                    "1983-04-01T00:00:00",
                    "1983-05-01T00:00:00",
                    "1983-06-01T00:00:00",
                    "1983-07-01T00:00:00",
                    "1983-08-01T00:00:00",
                    "1983-09-01T00:00:00",
                    "1983-10-01T00:00:00",
                    "1983-11-01T00:00:00",
                    "1983-12-01T00:00:00",
                    "1984-01-01T00:00:00",
                    "1984-02-01T00:00:00",
                    "1984-03-01T00:00:00",
                    "1984-04-01T00:00:00",
                    "1984-05-01T00:00:00",
                    "1984-06-01T00:00:00",
                    "1984-07-01T00:00:00",
                    "1984-08-01T00:00:00",
                    "1984-09-01T00:00:00",
                    "1984-10-01T00:00:00",
                    "1984-11-01T00:00:00",
                    "1984-12-01T00:00:00",
                    "1985-01-01T00:00:00",
                    "1985-02-01T00:00:00",
                    "1985-03-01T00:00:00",
                    "1985-04-01T00:00:00",
                    "1985-05-01T00:00:00",
                    "1985-06-01T00:00:00",
                    "1985-07-01T00:00:00",
                    "1985-08-01T00:00:00",
                    "1985-09-01T00:00:00",
                    "1985-10-01T00:00:00",
                    "1985-11-01T00:00:00",
                    "1985-12-01T00:00:00",
                    "1986-01-01T00:00:00",
                    "1986-02-01T00:00:00",
                    "1986-03-01T00:00:00",
                    "1986-04-01T00:00:00",
                    "1986-05-01T00:00:00",
                    "1986-06-01T00:00:00",
                    "1986-07-01T00:00:00",
                    "1986-08-01T00:00:00",
                    "1986-09-01T00:00:00",
                    "1986-10-01T00:00:00",
                    "1986-11-01T00:00:00",
                    "1986-12-01T00:00:00",
                    "1987-01-01T00:00:00",
                    "1987-02-01T00:00:00",
                    "1987-03-01T00:00:00",
                    "1987-04-01T00:00:00",
                    "1987-05-01T00:00:00",
                    "1987-06-01T00:00:00",
                    "1987-07-01T00:00:00",
                    "1987-08-01T00:00:00",
                    "1987-09-01T00:00:00",
                    "1987-10-01T00:00:00",
                    "1987-11-01T00:00:00",
                    "1987-12-01T00:00:00",
                    "1988-01-01T00:00:00",
                    "1988-02-01T00:00:00",
                    "1988-03-01T00:00:00",
                    "1988-04-01T00:00:00",
                    "1988-05-01T00:00:00",
                    "1988-06-01T00:00:00",
                    "1988-07-01T00:00:00",
                    "1988-08-01T00:00:00",
                    "1988-09-01T00:00:00",
                    "1988-10-01T00:00:00",
                    "1988-11-01T00:00:00",
                    "1988-12-01T00:00:00",
                    "1989-01-01T00:00:00",
                    "1989-02-01T00:00:00",
                    "1989-03-01T00:00:00",
                    "1989-04-01T00:00:00",
                    "1989-05-01T00:00:00",
                    "1989-06-01T00:00:00",
                    "1989-07-01T00:00:00",
                    "1989-08-01T00:00:00",
                    "1989-09-01T00:00:00",
                    "1989-10-01T00:00:00",
                    "1989-11-01T00:00:00",
                    "1989-12-01T00:00:00",
                    "1990-01-01T00:00:00",
                    "1990-02-01T00:00:00",
                    "1990-03-01T00:00:00",
                    "1990-04-01T00:00:00",
                    "1990-05-01T00:00:00",
                    "1990-06-01T00:00:00",
                    "1990-07-01T00:00:00",
                    "1990-08-01T00:00:00",
                    "1990-09-01T00:00:00",
                    "1990-10-01T00:00:00",
                    "1990-11-01T00:00:00",
                    "1990-12-01T00:00:00",
                    "1991-01-01T00:00:00",
                    "1991-02-01T00:00:00",
                    "1991-03-01T00:00:00",
                    "1991-04-01T00:00:00",
                    "1991-05-01T00:00:00",
                    "1991-06-01T00:00:00",
                    "1991-07-01T00:00:00",
                    "1991-08-01T00:00:00",
                    "1991-09-01T00:00:00",
                    "1991-10-01T00:00:00",
                    "1991-11-01T00:00:00",
                    "1991-12-01T00:00:00",
                    "1992-01-01T00:00:00",
                    "1992-02-01T00:00:00",
                    "1992-03-01T00:00:00",
                    "1992-04-01T00:00:00",
                    "1992-05-01T00:00:00",
                    "1992-06-01T00:00:00",
                    "1992-07-01T00:00:00",
                    "1992-08-01T00:00:00",
                    "1992-09-01T00:00:00",
                    "1992-10-01T00:00:00",
                    "1992-11-01T00:00:00",
                    "1992-12-01T00:00:00",
                    "1993-01-01T00:00:00",
                    "1993-02-01T00:00:00",
                    "1993-03-01T00:00:00",
                    "1993-04-01T00:00:00",
                    "1993-05-01T00:00:00",
                    "1993-06-01T00:00:00",
                    "1993-07-01T00:00:00",
                    "1993-08-01T00:00:00",
                    "1993-09-01T00:00:00",
                    "1993-10-01T00:00:00",
                    "1993-11-01T00:00:00",
                    "1993-12-01T00:00:00",
                    "1994-01-01T00:00:00",
                    "1994-02-01T00:00:00",
                    "1994-03-01T00:00:00",
                    "1994-04-01T00:00:00",
                    "1994-05-01T00:00:00",
                    "1994-06-01T00:00:00",
                    "1994-07-01T00:00:00",
                    "1994-08-01T00:00:00",
                    "1994-09-01T00:00:00",
                    "1994-10-01T00:00:00",
                    "1994-11-01T00:00:00",
                    "1994-12-01T00:00:00",
                    "1995-01-01T00:00:00",
                    "1995-02-01T00:00:00",
                    "1995-03-01T00:00:00",
                    "1995-04-01T00:00:00",
                    "1995-05-01T00:00:00",
                    "1995-06-01T00:00:00",
                    "1995-07-01T00:00:00",
                    "1995-08-01T00:00:00",
                    "1995-09-01T00:00:00",
                    "1995-10-01T00:00:00",
                    "1995-11-01T00:00:00",
                    "1995-12-01T00:00:00",
                    "1996-01-01T00:00:00",
                    "1996-02-01T00:00:00",
                    "1996-03-01T00:00:00",
                    "1996-04-01T00:00:00",
                    "1996-05-01T00:00:00",
                    "1996-06-01T00:00:00",
                    "1996-07-01T00:00:00",
                    "1996-08-01T00:00:00",
                    "1996-09-01T00:00:00",
                    "1996-10-01T00:00:00",
                    "1996-11-01T00:00:00",
                    "1996-12-01T00:00:00",
                    "1997-01-01T00:00:00",
                    "1997-02-01T00:00:00",
                    "1997-03-01T00:00:00",
                    "1997-04-01T00:00:00",
                    "1997-05-01T00:00:00",
                    "1997-06-01T00:00:00",
                    "1997-07-01T00:00:00",
                    "1997-08-01T00:00:00",
                    "1997-09-01T00:00:00",
                    "1997-10-01T00:00:00",
                    "1997-11-01T00:00:00",
                    "1997-12-01T00:00:00",
                    "1998-01-01T00:00:00",
                    "1998-02-01T00:00:00",
                    "1998-03-01T00:00:00",
                    "1998-04-01T00:00:00",
                    "1998-05-01T00:00:00",
                    "1998-06-01T00:00:00",
                    "1998-07-01T00:00:00",
                    "1998-08-01T00:00:00",
                    "1998-09-01T00:00:00",
                    "1998-10-01T00:00:00",
                    "1998-11-01T00:00:00",
                    "1998-12-01T00:00:00",
                    "1999-01-01T00:00:00",
                    "1999-02-01T00:00:00",
                    "1999-03-01T00:00:00",
                    "1999-04-01T00:00:00",
                    "1999-05-01T00:00:00",
                    "1999-06-01T00:00:00",
                    "1999-07-01T00:00:00",
                    "1999-08-01T00:00:00",
                    "1999-09-01T00:00:00",
                    "1999-10-01T00:00:00",
                    "1999-11-01T00:00:00",
                    "1999-12-01T00:00:00",
                    "2000-01-01T00:00:00",
                    "2000-02-01T00:00:00",
                    "2000-03-01T00:00:00",
                    "2000-04-01T00:00:00",
                    "2000-05-01T00:00:00",
                    "2000-06-01T00:00:00",
                    "2000-07-01T00:00:00",
                    "2000-08-01T00:00:00",
                    "2000-09-01T00:00:00",
                    "2000-10-01T00:00:00",
                    "2000-11-01T00:00:00",
                    "2000-12-01T00:00:00",
                    "2001-01-01T00:00:00",
                    "2001-02-01T00:00:00",
                    "2001-03-01T00:00:00",
                    "2001-04-01T00:00:00",
                    "2001-05-01T00:00:00",
                    "2001-06-01T00:00:00",
                    "2001-07-01T00:00:00",
                    "2001-08-01T00:00:00",
                    "2001-09-01T00:00:00",
                    "2001-10-01T00:00:00",
                    "2001-11-01T00:00:00",
                    "2001-12-01T00:00:00",
                    "2002-01-01T00:00:00",
                    "2002-02-01T00:00:00",
                    "2002-03-01T00:00:00",
                    "2002-04-01T00:00:00",
                    "2002-05-01T00:00:00",
                    "2002-06-01T00:00:00",
                    "2002-07-01T00:00:00",
                    "2002-08-01T00:00:00",
                    "2002-09-01T00:00:00",
                    "2002-10-01T00:00:00",
                    "2002-11-01T00:00:00",
                    "2002-12-01T00:00:00",
                    "2003-01-01T00:00:00",
                    "2003-02-01T00:00:00",
                    "2003-03-01T00:00:00",
                    "2003-04-01T00:00:00",
                    "2003-05-01T00:00:00",
                    "2003-06-01T00:00:00",
                    "2003-07-01T00:00:00",
                    "2003-08-01T00:00:00",
                    "2003-09-01T00:00:00",
                    "2003-10-01T00:00:00",
                    "2003-11-01T00:00:00",
                    "2003-12-01T00:00:00",
                    "2004-01-01T00:00:00",
                    "2004-02-01T00:00:00",
                    "2004-03-01T00:00:00",
                    "2004-04-01T00:00:00",
                    "2004-05-01T00:00:00",
                    "2004-06-01T00:00:00",
                    "2004-07-01T00:00:00",
                    "2004-08-01T00:00:00",
                    "2004-09-01T00:00:00",
                    "2004-10-01T00:00:00",
                    "2004-11-01T00:00:00",
                    "2004-12-01T00:00:00",
                    "2005-01-01T00:00:00",
                    "2005-02-01T00:00:00",
                    "2005-03-01T00:00:00",
                    "2005-04-01T00:00:00",
                    "2005-05-01T00:00:00",
                    "2005-06-01T00:00:00",
                    "2005-07-01T00:00:00",
                    "2005-08-01T00:00:00",
                    "2005-09-01T00:00:00",
                    "2005-10-01T00:00:00",
                    "2005-11-01T00:00:00",
                    "2005-12-01T00:00:00",
                    "2006-01-01T00:00:00",
                    "2006-02-01T00:00:00",
                    "2006-03-01T00:00:00",
                    "2006-04-01T00:00:00",
                    "2006-05-01T00:00:00",
                    "2006-06-01T00:00:00",
                    "2006-07-01T00:00:00",
                    "2006-08-01T00:00:00",
                    "2006-09-01T00:00:00",
                    "2006-10-01T00:00:00",
                    "2006-11-01T00:00:00",
                    "2006-12-01T00:00:00",
                    "2007-01-01T00:00:00",
                    "2007-02-01T00:00:00",
                    "2007-03-01T00:00:00",
                    "2007-04-01T00:00:00",
                    "2007-05-01T00:00:00",
                    "2007-06-01T00:00:00",
                    "2007-07-01T00:00:00",
                    "2007-08-01T00:00:00",
                    "2007-09-01T00:00:00",
                    "2007-10-01T00:00:00",
                    "2007-11-01T00:00:00",
                    "2007-12-01T00:00:00",
                    "2008-01-01T00:00:00",
                    "2008-02-01T00:00:00",
                    "2008-03-01T00:00:00",
                    "2008-04-01T00:00:00",
                    "2008-05-01T00:00:00",
                    "2008-06-01T00:00:00",
                    "2008-07-01T00:00:00",
                    "2008-08-01T00:00:00",
                    "2008-09-01T00:00:00",
                    "2008-10-01T00:00:00",
                    "2008-11-01T00:00:00",
                    "2008-12-01T00:00:00",
                    "2009-01-01T00:00:00",
                    "2009-02-01T00:00:00",
                    "2009-03-01T00:00:00",
                    "2009-04-01T00:00:00",
                    "2009-05-01T00:00:00",
                    "2009-06-01T00:00:00",
                    "2009-07-01T00:00:00",
                    "2009-08-01T00:00:00",
                    "2009-09-01T00:00:00",
                    "2009-10-01T00:00:00",
                    "2009-11-01T00:00:00",
                    "2009-12-01T00:00:00",
                    "2010-01-01T00:00:00",
                    "2010-02-01T00:00:00",
                    "2010-03-01T00:00:00",
                    "2010-04-01T00:00:00",
                    "2010-05-01T00:00:00",
                    "2010-06-01T00:00:00",
                    "2010-07-01T00:00:00",
                    "2010-08-01T00:00:00",
                    "2010-09-01T00:00:00",
                    "2010-10-01T00:00:00",
                    "2010-11-01T00:00:00",
                    "2010-12-01T00:00:00",
                    "2011-01-01T00:00:00",
                    "2011-02-01T00:00:00",
                    "2011-03-01T00:00:00",
                    "2011-04-01T00:00:00",
                    "2011-05-01T00:00:00",
                    "2011-06-01T00:00:00",
                    "2011-07-01T00:00:00",
                    "2011-08-01T00:00:00",
                    "2011-09-01T00:00:00",
                    "2011-10-01T00:00:00",
                    "2011-11-01T00:00:00",
                    "2011-12-01T00:00:00",
                    "2012-01-01T00:00:00",
                    "2012-02-01T00:00:00",
                    "2012-03-01T00:00:00",
                    "2012-04-01T00:00:00",
                    "2012-05-01T00:00:00",
                    "2012-06-01T00:00:00",
                    "2012-07-01T00:00:00",
                    "2012-08-01T00:00:00",
                    "2012-09-01T00:00:00",
                    "2012-10-01T00:00:00",
                    "2012-11-01T00:00:00",
                    "2012-12-01T00:00:00",
                    "2013-01-01T00:00:00",
                    "2013-02-01T00:00:00",
                    "2013-03-01T00:00:00",
                    "2013-04-01T00:00:00",
                    "2013-05-01T00:00:00",
                    "2013-06-01T00:00:00",
                    "2013-07-01T00:00:00",
                    "2013-08-01T00:00:00",
                    "2013-09-01T00:00:00",
                    "2013-10-01T00:00:00",
                    "2013-11-01T00:00:00",
                    "2013-12-01T00:00:00",
                    "2014-01-01T00:00:00",
                    "2014-02-01T00:00:00",
                    "2014-03-01T00:00:00",
                    "2014-04-01T00:00:00",
                    "2014-05-01T00:00:00",
                    "2014-06-01T00:00:00",
                    "2014-07-01T00:00:00",
                    "2014-08-01T00:00:00",
                    "2014-09-01T00:00:00",
                    "2014-10-01T00:00:00",
                    "2014-11-01T00:00:00",
                    "2014-12-01T00:00:00",
                    "2015-01-01T00:00:00",
                    "2015-02-01T00:00:00",
                    "2015-03-01T00:00:00",
                    "2015-04-01T00:00:00",
                    "2015-05-01T00:00:00",
                    "2015-06-01T00:00:00",
                    "2015-07-01T00:00:00",
                    "2015-08-01T00:00:00",
                    "2015-09-01T00:00:00",
                    "2015-10-01T00:00:00",
                    "2015-11-01T00:00:00",
                    "2015-12-01T00:00:00",
                    "2016-01-01T00:00:00",
                    "2016-02-01T00:00:00",
                    "2016-03-01T00:00:00",
                    "2016-04-01T00:00:00",
                    "2016-05-01T00:00:00",
                    "2016-06-01T00:00:00",
                    "2016-07-01T00:00:00",
                    "2016-08-01T00:00:00",
                    "2016-09-01T00:00:00",
                    "2016-10-01T00:00:00",
                    "2016-11-01T00:00:00",
                    "2016-12-01T00:00:00",
                    "2017-01-01T00:00:00",
                    "2017-02-01T00:00:00",
                    "2017-03-01T00:00:00",
                    "2017-04-01T00:00:00",
                    "2017-05-01T00:00:00",
                    "2017-06-01T00:00:00",
                    "2017-07-01T00:00:00",
                    "2017-08-01T00:00:00",
                    "2017-09-01T00:00:00",
                    "2017-10-01T00:00:00",
                    "2017-11-01T00:00:00",
                    "2017-12-01T00:00:00",
                    "2018-01-01T00:00:00",
                    "2018-02-01T00:00:00",
                    "2018-03-01T00:00:00",
                    "2018-04-01T00:00:00",
                    "2018-05-01T00:00:00",
                    "2018-06-01T00:00:00",
                    "2018-07-01T00:00:00",
                    "2018-08-01T00:00:00",
                    "2018-09-01T00:00:00",
                    "2018-10-01T00:00:00",
                    "2018-11-01T00:00:00",
                    "2018-12-01T00:00:00",
                    "2019-01-01T00:00:00",
                    "2019-02-01T00:00:00",
                    "2019-03-01T00:00:00",
                    "2019-04-01T00:00:00",
                    "2019-05-01T00:00:00",
                    "2019-06-01T00:00:00",
                    "2019-07-01T00:00:00",
                    "2019-08-01T00:00:00",
                    "2019-09-01T00:00:00",
                    "2019-10-01T00:00:00",
                    "2019-11-01T00:00:00",
                    "2019-12-01T00:00:00",
                    "2020-01-01T00:00:00",
                    "2020-02-01T00:00:00",
                    "2020-03-01T00:00:00",
                    "2020-04-01T00:00:00",
                    "2020-05-01T00:00:00",
                    "2020-06-01T00:00:00",
                    "2020-07-01T00:00:00",
                    "2020-08-01T00:00:00"
                  ],
                  "y": [
                    null,
                    null,
                    null,
                    null,
                    null,
                    null,
                    null,
                    null,
                    null,
                    null,
                    null,
                    1.5,
                    1.5833333333333333,
                    1.5833333333333333,
                    1.75,
                    1.8333333333333333,
                    1.8333333333333333,
                    1.5833333333333333,
                    1.5833333333333333,
                    1.4166666666666667,
                    1.6666666666666667,
                    1.5833333333333333,
                    1.6666666666666667,
                    1.8333333333333333,
                    1.75,
                    1.9166666666666667,
                    1.6666666666666667,
                    1.5833333333333333,
                    1.6666666666666667,
                    1.75,
                    1.8333333333333333,
                    2.0833333333333335,
                    1.9166666666666667,
                    2.0833333333333335,
                    2.1666666666666665,
                    2,
                    2.3333333333333335,
                    2.4166666666666665,
                    3,
                    3.0833333333333335,
                    3.4166666666666665,
                    3.6666666666666665,
                    3.6666666666666665,
                    3.5,
                    3.6666666666666665,
                    3.75,
                    3.9166666666666665,
                    4.083333333333333,
                    4,
                    4.166666666666667,
                    3.9166666666666665,
                    4.083333333333333,
                    3.8333333333333335,
                    3.6666666666666665,
                    4,
                    4.416666666666667,
                    4.75,
                    4.916666666666667,
                    5.166666666666667,
                    5.333333333333333,
                    5.916666666666667,
                    5.833333333333333,
                    6.083333333333333,
                    5.916666666666667,
                    5.75,
                    5.666666666666667,
                    5.583333333333333,
                    5.416666666666667,
                    5,
                    4.833333333333333,
                    4.25,
                    3.9166666666666665,
                    3.3333333333333335,
                    3.3333333333333335,
                    3,
                    3.0833333333333335,
                    3.1666666666666665,
                    3.4166666666666665,
                    3.5,
                    3.4166666666666665,
                    3.5833333333333335,
                    3.8333333333333335,
                    4,
                    4.333333333333333,
                    4.5,
                    4.333333333333333,
                    4.416666666666667,
                    4.666666666666667,
                    5.083333333333333,
                    5.416666666666667,
                    5.25,
                    5.5,
                    5.5,
                    5.666666666666667,
                    5.75,
                    5.666666666666667,
                    5.833333333333333,
                    6.25,
                    6.583333333333333,
                    6.583333333333333,
                    6.5,
                    6.583333333333333,
                    6.666666666666667,
                    6.75,
                    7,
                    7.083333333333333,
                    7.333333333333333,
                    7.333333333333333,
                    7.166666666666667,
                    7.166666666666667,
                    7.166666666666667,
                    7.083333333333333,
                    7.25,
                    7.166666666666667,
                    7.416666666666667,
                    7.416666666666667,
                    7.5,
                    7.333333333333333,
                    7.166666666666667,
                    7.5,
                    7.916666666666667,
                    7.916666666666667,
                    7.75,
                    7.833333333333333,
                    7.333333333333333,
                    7.333333333333333,
                    7.833333333333333,
                    7.5,
                    7.5,
                    7.416666666666667,
                    7.416666666666667,
                    7.166666666666667,
                    7.166666666666667,
                    7.166666666666667,
                    7.416666666666667,
                    7.75,
                    8.083333333333334,
                    8.416666666666666,
                    7.75,
                    8,
                    7.75,
                    7.666666666666667,
                    7.916666666666667,
                    7.833333333333333,
                    7.75,
                    7.666666666666667,
                    7.416666666666667,
                    7.25,
                    7.083333333333333,
                    6.583333333333333,
                    6.75,
                    6.5,
                    6.833333333333333,
                    6.833333333333333,
                    6.75,
                    7,
                    7.083333333333333,
                    7.083333333333333,
                    7.333333333333333,
                    7.25,
                    7.416666666666667,
                    7.5,
                    7.583333333333333,
                    8.333333333333334,
                    8.083333333333334,
                    8.25,
                    8.166666666666666,
                    8.166666666666666,
                    7.75,
                    8,
                    8.416666666666666,
                    8.25,
                    8.083333333333334,
                    8.333333333333334,
                    8.166666666666666,
                    7.666666666666667,
                    7.5,
                    7.75,
                    7.75,
                    7.666666666666667,
                    8.083333333333334,
                    7.75,
                    7.333333333333333,
                    7.333333333333333,
                    7.25,
                    6.833333333333333,
                    6.666666666666667,
                    7,
                    7.333333333333333,
                    6.916666666666667,
                    6.916666666666667,
                    6.833333333333333,
                    6.916666666666667,
                    7.25,
                    7.25,
                    7.25,
                    7.5,
                    7.5,
                    7.75,
                    7.5,
                    7.333333333333333,
                    7.583333333333333,
                    7.583333333333333,
                    7.416666666666667,
                    7.166666666666667,
                    6.916666666666667,
                    6.916666666666667,
                    7.083333333333333,
                    7.083333333333333,
                    7.083333333333333,
                    7.5,
                    7.666666666666667,
                    7.833333333333333,
                    8,
                    7.833333333333333,
                    8.666666666666666,
                    8.25,
                    8.333333333333334,
                    8.416666666666666,
                    8.5,
                    8.583333333333334,
                    9.083333333333334,
                    8.333333333333334,
                    8.333333333333334,
                    8.166666666666666,
                    8.25,
                    8.416666666666666,
                    7.833333333333333,
                    8.25,
                    8.083333333333334,
                    8,
                    7.583333333333333,
                    7.75,
                    7.25,
                    7.333333333333333,
                    7.333333333333333,
                    7.666666666666667,
                    7.666666666666667,
                    7.666666666666667,
                    8,
                    7.75,
                    7.416666666666667,
                    7.666666666666667,
                    8.166666666666666,
                    8.083333333333334,
                    8.5,
                    8.333333333333334,
                    8.25,
                    8.083333333333334,
                    7.333333333333333,
                    7.083333333333333,
                    6.5,
                    6.666666666666667,
                    7,
                    6.916666666666667,
                    6.5,
                    6.166666666666667,
                    5.666666666666667,
                    5.833333333333333,
                    5.416666666666667,
                    5,
                    5.25,
                    5.083333333333333,
                    4.916666666666667,
                    4.75,
                    4.416666666666667,
                    3.6666666666666665,
                    3.9166666666666665,
                    4,
                    4,
                    3.9166666666666665,
                    4,
                    4.083333333333333,
                    4.083333333333333,
                    4,
                    3.9166666666666665,
                    3.6666666666666665,
                    3.8333333333333335,
                    4.083333333333333,
                    4.083333333333333,
                    4.083333333333333,
                    4.416666666666667,
                    4.25,
                    4.333333333333333,
                    4.333333333333333,
                    4,
                    4.416666666666667,
                    5,
                    5,
                    4.916666666666667,
                    5,
                    4.833333333333333,
                    4.666666666666667,
                    4.666666666666667,
                    4.833333333333333,
                    4.916666666666667,
                    5.166666666666667,
                    5.333333333333333,
                    5.166666666666667,
                    5.083333333333333,
                    5,
                    5,
                    4.833333333333333,
                    4.833333333333333,
                    4.833333333333333,
                    4.666666666666667,
                    4.916666666666667,
                    4.833333333333333,
                    4.583333333333333,
                    4.833333333333333,
                    4.916666666666667,
                    4.583333333333333,
                    4.916666666666667,
                    5.083333333333333,
                    5.166666666666667,
                    5.333333333333333,
                    5.5,
                    5.333333333333333,
                    5.083333333333333,
                    5.083333333333333,
                    5.333333333333333,
                    5,
                    5.333333333333333,
                    5.583333333333333,
                    5.5,
                    5.416666666666667,
                    5.5,
                    5.333333333333333,
                    5.25,
                    5.333333333333333,
                    5.166666666666667,
                    5.083333333333333,
                    5.083333333333333,
                    5.25,
                    5.083333333333333,
                    5.083333333333333,
                    5.333333333333333,
                    5.416666666666667,
                    5.333333333333333,
                    5.5,
                    5.666666666666667,
                    5.5,
                    5.416666666666667,
                    5.416666666666667,
                    5.083333333333333,
                    5.083333333333333,
                    4.833333333333333,
                    4.75,
                    4.583333333333333,
                    4.583333333333333,
                    4.75,
                    4.666666666666667,
                    4.666666666666667,
                    4.833333333333333,
                    4.833333333333333,
                    4.666666666666667,
                    4.916666666666667,
                    5,
                    5.083333333333333,
                    4.916666666666667,
                    4.75,
                    4.5,
                    4.333333333333333,
                    4.083333333333333,
                    3.75,
                    3.9166666666666665,
                    3.9166666666666665,
                    4.166666666666667,
                    3.9166666666666665,
                    4.083333333333333,
                    3.8333333333333335,
                    4.166666666666667,
                    4.166666666666667,
                    4.333333333333333,
                    4.25,
                    4.166666666666667,
                    4.5,
                    4.166666666666667,
                    4.166666666666667,
                    4,
                    4.166666666666667,
                    3.9166666666666665,
                    4.083333333333333,
                    4.083333333333333,
                    4,
                    3.9166666666666665,
                    3.6666666666666665,
                    4.166666666666667,
                    4.083333333333333,
                    4.166666666666667,
                    4.833333333333333,
                    4.666666666666667,
                    4.75,
                    4.75,
                    4.833333333333333,
                    4.583333333333333,
                    4.916666666666667,
                    5.166666666666667,
                    5.5,
                    5.166666666666667,
                    5,
                    5.083333333333333,
                    4.833333333333333,
                    5,
                    4.916666666666667,
                    4.833333333333333,
                    5.083333333333333,
                    5.083333333333333,
                    4.666666666666667,
                    4.583333333333333,
                    4.5,
                    4.416666666666667,
                    4.416666666666667,
                    4.416666666666667,
                    4.083333333333333,
                    4,
                    3.8333333333333335,
                    4.25,
                    4.083333333333333,
                    4.083333333333333,
                    4.5,
                    4.583333333333333,
                    4.75,
                    4.833333333333333,
                    4.75,
                    4.666666666666667,
                    5.166666666666667,
                    5.333333333333333,
                    5.416666666666667,
                    5,
                    5,
                    5.166666666666667,
                    5,
                    4.75,
                    4.666666666666667,
                    4.583333333333333,
                    4.666666666666667,
                    4.75,
                    4.333333333333333,
                    4.333333333333333,
                    4.166666666666667,
                    4.25,
                    4.416666666666667,
                    4.25,
                    4.166666666666667,
                    4.416666666666667,
                    4.5,
                    4.75,
                    4.5,
                    4.5,
                    4.416666666666667,
                    4.5,
                    4.583333333333333,
                    4.666666666666667,
                    4.5,
                    4.416666666666667,
                    4.583333333333333,
                    4.5,
                    4.583333333333333,
                    4.5,
                    5,
                    5,
                    5.083333333333333,
                    5.083333333333333,
                    5,
                    5,
                    5,
                    5.25,
                    4.916666666666667,
                    4.833333333333333,
                    4.666666666666667,
                    4.583333333333333,
                    4.416666666666667,
                    4.25,
                    4.333333333333333,
                    4.333333333333333,
                    4.333333333333333,
                    4.25,
                    4.416666666666667,
                    4.583333333333333,
                    5,
                    5.083333333333333,
                    5.333333333333333,
                    5.416666666666667,
                    5.666666666666667,
                    5.75,
                    5.666666666666667,
                    5.75,
                    5.833333333333333,
                    5.916666666666667,
                    5.833333333333333,
                    5.583333333333333,
                    5.666666666666667,
                    5.416666666666667,
                    5.333333333333333,
                    5.166666666666667,
                    4.833333333333333,
                    4.583333333333333,
                    4.75,
                    4.75,
                    4.75,
                    4.75,
                    4.5,
                    4.416666666666667,
                    3.9166666666666665,
                    4.083333333333333,
                    4.416666666666667,
                    4.5,
                    4.583333333333333,
                    4.833333333333333,
                    4.416666666666667,
                    4.416666666666667,
                    4.416666666666667,
                    4.416666666666667,
                    4.25,
                    4.416666666666667,
                    4.833333333333333,
                    4.916666666666667,
                    4.333333333333333,
                    4.333333333333333,
                    4.166666666666667,
                    4,
                    4.166666666666667,
                    3.75,
                    3.75,
                    3.5833333333333335,
                    3.8333333333333335,
                    3.6666666666666665,
                    3.5,
                    3.1666666666666665,
                    3.25,
                    3.1666666666666665,
                    3.3333333333333335,
                    3.5833333333333335,
                    3.5833333333333335,
                    3.75,
                    3.75,
                    3.8333333333333335,
                    3.5833333333333335,
                    3.6666666666666665,
                    3.4166666666666665,
                    3.5833333333333335,
                    3.6666666666666665,
                    3.9166666666666665,
                    3.5833333333333335,
                    3.4166666666666665,
                    3.5833333333333335,
                    3.6666666666666665,
                    3.9166666666666665,
                    3.75,
                    3.9166666666666665,
                    3.6666666666666665,
                    4,
                    4,
                    3.9166666666666665,
                    3.5833333333333335,
                    3.75,
                    3.75,
                    3.6666666666666665,
                    3.5833333333333335,
                    3.25,
                    3.4166666666666665,
                    3.3333333333333335,
                    3.5,
                    3.0833333333333335,
                    3.1666666666666665,
                    3.0833333333333335,
                    3.1666666666666665,
                    3.1666666666666665,
                    3.0833333333333335,
                    3.1666666666666665,
                    3.0833333333333335,
                    3,
                    2.9166666666666665,
                    3.1666666666666665,
                    3,
                    3.3333333333333335,
                    3.1666666666666665,
                    2.9166666666666665,
                    2.9166666666666665,
                    2.9166666666666665,
                    3,
                    3.0833333333333335,
                    3.1666666666666665,
                    3.3333333333333335,
                    3.5833333333333335,
                    3.25,
                    3.5,
                    3.5,
                    3.5,
                    3.9166666666666665,
                    3.9166666666666665,
                    3.9166666666666665,
                    3.9166666666666665,
                    3.9166666666666665,
                    4,
                    4,
                    3.6666666666666665,
                    3.75,
                    3.8333333333333335,
                    3.8333333333333335,
                    3.9166666666666665,
                    3.75,
                    3.75,
                    3.6666666666666665,
                    3.9166666666666665,
                    3.8333333333333335,
                    3.8333333333333335,
                    3.9166666666666665,
                    4,
                    4,
                    3.75,
                    3.75,
                    3.6666666666666665,
                    3.5,
                    3.5833333333333335,
                    3.75,
                    3.5833333333333335,
                    3.4166666666666665,
                    3.4166666666666665,
                    3.25,
                    3.5,
                    3.5833333333333335,
                    3.6666666666666665,
                    3.6666666666666665,
                    3.9166666666666665,
                    4,
                    3.75,
                    3.6666666666666665,
                    3.4166666666666665,
                    3.75,
                    3.75,
                    4,
                    3.5833333333333335,
                    3.4166666666666665,
                    3.4166666666666665,
                    3.0833333333333335,
                    3,
                    3,
                    3.1666666666666665,
                    3.25,
                    3.4166666666666665,
                    3.0833333333333335,
                    3,
                    2.6666666666666665,
                    2.9166666666666665,
                    3,
                    3.25,
                    3.5833333333333335,
                    3.4166666666666665,
                    3.3333333333333335,
                    3.25,
                    3.0833333333333335,
                    2.9166666666666665,
                    2.9166666666666665,
                    3,
                    3.25,
                    3.1666666666666665,
                    3.1666666666666665,
                    2.8333333333333335,
                    2.6666666666666665,
                    2.5833333333333335,
                    2.8333333333333335,
                    3.0833333333333335,
                    3.25,
                    3.3333333333333335,
                    3.1666666666666665,
                    3.0833333333333335,
                    3.0833333333333335,
                    3.1666666666666665,
                    3.4166666666666665,
                    3.75,
                    3.5,
                    3.8333333333333335,
                    3.8333333333333335,
                    3.8333333333333335,
                    3.75,
                    3.6666666666666665,
                    4,
                    4.083333333333333,
                    3.8333333333333335,
                    4.166666666666667,
                    4,
                    3.75,
                    4.083333333333333,
                    3.8333333333333335,
                    4,
                    3.9166666666666665,
                    3.8333333333333335,
                    4.333333333333333,
                    4.166666666666667,
                    4,
                    4,
                    3.5833333333333335,
                    3.5,
                    3.6666666666666665,
                    3.5833333333333335,
                    3.5833333333333335,
                    3.5833333333333335,
                    3.75,
                    4.083333333333333,
                    4.333333333333333,
                    4.416666666666667,
                    4.75,
                    5.5,
                    5.583333333333333,
                    5.916666666666667,
                    5.916666666666667,
                    6.083333333333333,
                    6.5,
                    6.75,
                    6.833333333333333,
                    6.666666666666667,
                    6.416666666666667,
                    6.333333333333333,
                    6.333333333333333,
                    6.25,
                    6.25,
                    6.5,
                    6.416666666666667,
                    6.583333333333333,
                    6.666666666666667,
                    6.583333333333333,
                    7,
                    7.333333333333333,
                    7.416666666666667,
                    7.916666666666667,
                    8,
                    7.833333333333333,
                    8,
                    7.583333333333333,
                    7.833333333333333,
                    8.083333333333334,
                    8.5,
                    8.666666666666666,
                    8.416666666666666,
                    8.083333333333334,
                    8.083333333333334,
                    7.833333333333333,
                    7.916666666666667,
                    7.75,
                    8.083333333333334,
                    8.25,
                    8.083333333333334,
                    7.666666666666667,
                    7.416666666666667,
                    7.416666666666667,
                    7.25,
                    7.583333333333333,
                    7.5,
                    7.25,
                    7.333333333333333,
                    7.333333333333333,
                    7.416666666666667,
                    7.083333333333333
                  ]
                }
              ],
              "layout": {
                "legend": {
                  "font": {
                    "color": "white"
                  },
                  "tracegroupgap": 0
                },
                "paper_bgcolor": "#212121",
                "plot_bgcolor": "#212121",
                "template": {
                  "data": {
                    "bar": [
                      {
                        "error_x": {
                          "color": "#2a3f5f"
                        },
                        "error_y": {
                          "color": "#2a3f5f"
                        },
                        "marker": {
                          "line": {
                            "color": "#E5ECF6",
                            "width": 0.5
                          },
                          "pattern": {
                            "fillmode": "overlay",
                            "size": 10,
                            "solidity": 0.2
                          }
                        },
                        "type": "bar"
                      }
                    ],
                    "barpolar": [
                      {
                        "marker": {
                          "line": {
                            "color": "#E5ECF6",
                            "width": 0.5
                          },
                          "pattern": {
                            "fillmode": "overlay",
                            "size": 10,
                            "solidity": 0.2
                          }
                        },
                        "type": "barpolar"
                      }
                    ],
                    "carpet": [
                      {
                        "aaxis": {
                          "endlinecolor": "#2a3f5f",
                          "gridcolor": "white",
                          "linecolor": "white",
                          "minorgridcolor": "white",
                          "startlinecolor": "#2a3f5f"
                        },
                        "baxis": {
                          "endlinecolor": "#2a3f5f",
                          "gridcolor": "white",
                          "linecolor": "white",
                          "minorgridcolor": "white",
                          "startlinecolor": "#2a3f5f"
                        },
                        "type": "carpet"
                      }
                    ],
                    "choropleth": [
                      {
                        "colorbar": {
                          "outlinewidth": 0,
                          "ticks": ""
                        },
                        "type": "choropleth"
                      }
                    ],
                    "contour": [
                      {
                        "colorbar": {
                          "outlinewidth": 0,
                          "ticks": ""
                        },
                        "colorscale": [
                          [
                            0,
                            "#0d0887"
                          ],
                          [
                            0.1111111111111111,
                            "#46039f"
                          ],
                          [
                            0.2222222222222222,
                            "#7201a8"
                          ],
                          [
                            0.3333333333333333,
                            "#9c179e"
                          ],
                          [
                            0.4444444444444444,
                            "#bd3786"
                          ],
                          [
                            0.5555555555555556,
                            "#d8576b"
                          ],
                          [
                            0.6666666666666666,
                            "#ed7953"
                          ],
                          [
                            0.7777777777777778,
                            "#fb9f3a"
                          ],
                          [
                            0.8888888888888888,
                            "#fdca26"
                          ],
                          [
                            1,
                            "#f0f921"
                          ]
                        ],
                        "type": "contour"
                      }
                    ],
                    "contourcarpet": [
                      {
                        "colorbar": {
                          "outlinewidth": 0,
                          "ticks": ""
                        },
                        "type": "contourcarpet"
                      }
                    ],
                    "heatmap": [
                      {
                        "colorbar": {
                          "outlinewidth": 0,
                          "ticks": ""
                        },
                        "colorscale": [
                          [
                            0,
                            "#0d0887"
                          ],
                          [
                            0.1111111111111111,
                            "#46039f"
                          ],
                          [
                            0.2222222222222222,
                            "#7201a8"
                          ],
                          [
                            0.3333333333333333,
                            "#9c179e"
                          ],
                          [
                            0.4444444444444444,
                            "#bd3786"
                          ],
                          [
                            0.5555555555555556,
                            "#d8576b"
                          ],
                          [
                            0.6666666666666666,
                            "#ed7953"
                          ],
                          [
                            0.7777777777777778,
                            "#fb9f3a"
                          ],
                          [
                            0.8888888888888888,
                            "#fdca26"
                          ],
                          [
                            1,
                            "#f0f921"
                          ]
                        ],
                        "type": "heatmap"
                      }
                    ],
                    "heatmapgl": [
                      {
                        "colorbar": {
                          "outlinewidth": 0,
                          "ticks": ""
                        },
                        "colorscale": [
                          [
                            0,
                            "#0d0887"
                          ],
                          [
                            0.1111111111111111,
                            "#46039f"
                          ],
                          [
                            0.2222222222222222,
                            "#7201a8"
                          ],
                          [
                            0.3333333333333333,
                            "#9c179e"
                          ],
                          [
                            0.4444444444444444,
                            "#bd3786"
                          ],
                          [
                            0.5555555555555556,
                            "#d8576b"
                          ],
                          [
                            0.6666666666666666,
                            "#ed7953"
                          ],
                          [
                            0.7777777777777778,
                            "#fb9f3a"
                          ],
                          [
                            0.8888888888888888,
                            "#fdca26"
                          ],
                          [
                            1,
                            "#f0f921"
                          ]
                        ],
                        "type": "heatmapgl"
                      }
                    ],
                    "histogram": [
                      {
                        "marker": {
                          "pattern": {
                            "fillmode": "overlay",
                            "size": 10,
                            "solidity": 0.2
                          }
                        },
                        "type": "histogram"
                      }
                    ],
                    "histogram2d": [
                      {
                        "colorbar": {
                          "outlinewidth": 0,
                          "ticks": ""
                        },
                        "colorscale": [
                          [
                            0,
                            "#0d0887"
                          ],
                          [
                            0.1111111111111111,
                            "#46039f"
                          ],
                          [
                            0.2222222222222222,
                            "#7201a8"
                          ],
                          [
                            0.3333333333333333,
                            "#9c179e"
                          ],
                          [
                            0.4444444444444444,
                            "#bd3786"
                          ],
                          [
                            0.5555555555555556,
                            "#d8576b"
                          ],
                          [
                            0.6666666666666666,
                            "#ed7953"
                          ],
                          [
                            0.7777777777777778,
                            "#fb9f3a"
                          ],
                          [
                            0.8888888888888888,
                            "#fdca26"
                          ],
                          [
                            1,
                            "#f0f921"
                          ]
                        ],
                        "type": "histogram2d"
                      }
                    ],
                    "histogram2dcontour": [
                      {
                        "colorbar": {
                          "outlinewidth": 0,
                          "ticks": ""
                        },
                        "colorscale": [
                          [
                            0,
                            "#0d0887"
                          ],
                          [
                            0.1111111111111111,
                            "#46039f"
                          ],
                          [
                            0.2222222222222222,
                            "#7201a8"
                          ],
                          [
                            0.3333333333333333,
                            "#9c179e"
                          ],
                          [
                            0.4444444444444444,
                            "#bd3786"
                          ],
                          [
                            0.5555555555555556,
                            "#d8576b"
                          ],
                          [
                            0.6666666666666666,
                            "#ed7953"
                          ],
                          [
                            0.7777777777777778,
                            "#fb9f3a"
                          ],
                          [
                            0.8888888888888888,
                            "#fdca26"
                          ],
                          [
                            1,
                            "#f0f921"
                          ]
                        ],
                        "type": "histogram2dcontour"
                      }
                    ],
                    "mesh3d": [
                      {
                        "colorbar": {
                          "outlinewidth": 0,
                          "ticks": ""
                        },
                        "type": "mesh3d"
                      }
                    ],
                    "parcoords": [
                      {
                        "line": {
                          "colorbar": {
                            "outlinewidth": 0,
                            "ticks": ""
                          }
                        },
                        "type": "parcoords"
                      }
                    ],
                    "pie": [
                      {
                        "automargin": true,
                        "type": "pie"
                      }
                    ],
                    "scatter": [
                      {
                        "fillpattern": {
                          "fillmode": "overlay",
                          "size": 10,
                          "solidity": 0.2
                        },
                        "type": "scatter"
                      }
                    ],
                    "scatter3d": [
                      {
                        "line": {
                          "colorbar": {
                            "outlinewidth": 0,
                            "ticks": ""
                          }
                        },
                        "marker": {
                          "colorbar": {
                            "outlinewidth": 0,
                            "ticks": ""
                          }
                        },
                        "type": "scatter3d"
                      }
                    ],
                    "scattercarpet": [
                      {
                        "marker": {
                          "colorbar": {
                            "outlinewidth": 0,
                            "ticks": ""
                          }
                        },
                        "type": "scattercarpet"
                      }
                    ],
                    "scattergeo": [
                      {
                        "marker": {
                          "colorbar": {
                            "outlinewidth": 0,
                            "ticks": ""
                          }
                        },
                        "type": "scattergeo"
                      }
                    ],
                    "scattergl": [
                      {
                        "marker": {
                          "colorbar": {
                            "outlinewidth": 0,
                            "ticks": ""
                          }
                        },
                        "type": "scattergl"
                      }
                    ],
                    "scattermapbox": [
                      {
                        "marker": {
                          "colorbar": {
                            "outlinewidth": 0,
                            "ticks": ""
                          }
                        },
                        "type": "scattermapbox"
                      }
                    ],
                    "scatterpolar": [
                      {
                        "marker": {
                          "colorbar": {
                            "outlinewidth": 0,
                            "ticks": ""
                          }
                        },
                        "type": "scatterpolar"
                      }
                    ],
                    "scatterpolargl": [
                      {
                        "marker": {
                          "colorbar": {
                            "outlinewidth": 0,
                            "ticks": ""
                          }
                        },
                        "type": "scatterpolargl"
                      }
                    ],
                    "scatterternary": [
                      {
                        "marker": {
                          "colorbar": {
                            "outlinewidth": 0,
                            "ticks": ""
                          }
                        },
                        "type": "scatterternary"
                      }
                    ],
                    "surface": [
                      {
                        "colorbar": {
                          "outlinewidth": 0,
                          "ticks": ""
                        },
                        "colorscale": [
                          [
                            0,
                            "#0d0887"
                          ],
                          [
                            0.1111111111111111,
                            "#46039f"
                          ],
                          [
                            0.2222222222222222,
                            "#7201a8"
                          ],
                          [
                            0.3333333333333333,
                            "#9c179e"
                          ],
                          [
                            0.4444444444444444,
                            "#bd3786"
                          ],
                          [
                            0.5555555555555556,
                            "#d8576b"
                          ],
                          [
                            0.6666666666666666,
                            "#ed7953"
                          ],
                          [
                            0.7777777777777778,
                            "#fb9f3a"
                          ],
                          [
                            0.8888888888888888,
                            "#fdca26"
                          ],
                          [
                            1,
                            "#f0f921"
                          ]
                        ],
                        "type": "surface"
                      }
                    ],
                    "table": [
                      {
                        "cells": {
                          "fill": {
                            "color": "#EBF0F8"
                          },
                          "line": {
                            "color": "white"
                          }
                        },
                        "header": {
                          "fill": {
                            "color": "#C8D4E3"
                          },
                          "line": {
                            "color": "white"
                          }
                        },
                        "type": "table"
                      }
                    ]
                  },
                  "layout": {
                    "annotationdefaults": {
                      "arrowcolor": "#2a3f5f",
                      "arrowhead": 0,
                      "arrowwidth": 1
                    },
                    "autotypenumbers": "strict",
                    "coloraxis": {
                      "colorbar": {
                        "outlinewidth": 0,
                        "ticks": ""
                      }
                    },
                    "colorscale": {
                      "diverging": [
                        [
                          0,
                          "#8e0152"
                        ],
                        [
                          0.1,
                          "#c51b7d"
                        ],
                        [
                          0.2,
                          "#de77ae"
                        ],
                        [
                          0.3,
                          "#f1b6da"
                        ],
                        [
                          0.4,
                          "#fde0ef"
                        ],
                        [
                          0.5,
                          "#f7f7f7"
                        ],
                        [
                          0.6,
                          "#e6f5d0"
                        ],
                        [
                          0.7,
                          "#b8e186"
                        ],
                        [
                          0.8,
                          "#7fbc41"
                        ],
                        [
                          0.9,
                          "#4d9221"
                        ],
                        [
                          1,
                          "#276419"
                        ]
                      ],
                      "sequential": [
                        [
                          0,
                          "#0d0887"
                        ],
                        [
                          0.1111111111111111,
                          "#46039f"
                        ],
                        [
                          0.2222222222222222,
                          "#7201a8"
                        ],
                        [
                          0.3333333333333333,
                          "#9c179e"
                        ],
                        [
                          0.4444444444444444,
                          "#bd3786"
                        ],
                        [
                          0.5555555555555556,
                          "#d8576b"
                        ],
                        [
                          0.6666666666666666,
                          "#ed7953"
                        ],
                        [
                          0.7777777777777778,
                          "#fb9f3a"
                        ],
                        [
                          0.8888888888888888,
                          "#fdca26"
                        ],
                        [
                          1,
                          "#f0f921"
                        ]
                      ],
                      "sequentialminus": [
                        [
                          0,
                          "#0d0887"
                        ],
                        [
                          0.1111111111111111,
                          "#46039f"
                        ],
                        [
                          0.2222222222222222,
                          "#7201a8"
                        ],
                        [
                          0.3333333333333333,
                          "#9c179e"
                        ],
                        [
                          0.4444444444444444,
                          "#bd3786"
                        ],
                        [
                          0.5555555555555556,
                          "#d8576b"
                        ],
                        [
                          0.6666666666666666,
                          "#ed7953"
                        ],
                        [
                          0.7777777777777778,
                          "#fb9f3a"
                        ],
                        [
                          0.8888888888888888,
                          "#fdca26"
                        ],
                        [
                          1,
                          "#f0f921"
                        ]
                      ]
                    },
                    "colorway": [
                      "#636efa",
                      "#EF553B",
                      "#00cc96",
                      "#ab63fa",
                      "#FFA15A",
                      "#19d3f3",
                      "#FF6692",
                      "#B6E880",
                      "#FF97FF",
                      "#FECB52"
                    ],
                    "font": {
                      "color": "#2a3f5f"
                    },
                    "geo": {
                      "bgcolor": "white",
                      "lakecolor": "white",
                      "landcolor": "#E5ECF6",
                      "showlakes": true,
                      "showland": true,
                      "subunitcolor": "white"
                    },
                    "hoverlabel": {
                      "align": "left"
                    },
                    "hovermode": "closest",
                    "mapbox": {
                      "style": "light"
                    },
                    "paper_bgcolor": "white",
                    "plot_bgcolor": "#E5ECF6",
                    "polar": {
                      "angularaxis": {
                        "gridcolor": "white",
                        "linecolor": "white",
                        "ticks": ""
                      },
                      "bgcolor": "#E5ECF6",
                      "radialaxis": {
                        "gridcolor": "white",
                        "linecolor": "white",
                        "ticks": ""
                      }
                    },
                    "scene": {
                      "xaxis": {
                        "backgroundcolor": "#E5ECF6",
                        "gridcolor": "white",
                        "gridwidth": 2,
                        "linecolor": "white",
                        "showbackground": true,
                        "ticks": "",
                        "zerolinecolor": "white"
                      },
                      "yaxis": {
                        "backgroundcolor": "#E5ECF6",
                        "gridcolor": "white",
                        "gridwidth": 2,
                        "linecolor": "white",
                        "showbackground": true,
                        "ticks": "",
                        "zerolinecolor": "white"
                      },
                      "zaxis": {
                        "backgroundcolor": "#E5ECF6",
                        "gridcolor": "white",
                        "gridwidth": 2,
                        "linecolor": "white",
                        "showbackground": true,
                        "ticks": "",
                        "zerolinecolor": "white"
                      }
                    },
                    "shapedefaults": {
                      "line": {
                        "color": "#2a3f5f"
                      }
                    },
                    "ternary": {
                      "aaxis": {
                        "gridcolor": "white",
                        "linecolor": "white",
                        "ticks": ""
                      },
                      "baxis": {
                        "gridcolor": "white",
                        "linecolor": "white",
                        "ticks": ""
                      },
                      "bgcolor": "#E5ECF6",
                      "caxis": {
                        "gridcolor": "white",
                        "linecolor": "white",
                        "ticks": ""
                      }
                    },
                    "title": {
                      "x": 0.05
                    },
                    "xaxis": {
                      "automargin": true,
                      "gridcolor": "white",
                      "linecolor": "white",
                      "ticks": "",
                      "title": {
                        "standoff": 15
                      },
                      "zerolinecolor": "white",
                      "zerolinewidth": 2
                    },
                    "yaxis": {
                      "automargin": true,
                      "gridcolor": "white",
                      "linecolor": "white",
                      "ticks": "",
                      "title": {
                        "standoff": 15
                      },
                      "zerolinecolor": "white",
                      "zerolinewidth": 2
                    }
                  }
                },
                "title": {
                  "font": {
                    "color": "white"
                  },
                  "text": "Number of Launches Month-on-Month until the Present"
                },
                "xaxis": {
                  "anchor": "y",
                  "color": "white",
                  "domain": [
                    0,
                    1
                  ],
                  "gridcolor": "#3C3C3C",
                  "title": {
                    "text": "Time"
                  }
                },
                "yaxis": {
                  "anchor": "x",
                  "color": "white",
                  "domain": [
                    0,
                    1
                  ],
                  "gridcolor": "#3C3C3C",
                  "title": {
                    "text": "Launches"
                  }
                }
              }
            }
          },
          "metadata": {},
          "output_type": "display_data"
        }
      ],
      "source": [
        "fig_month_on_month = px.line(\n",
        "    df_month_on_month,\n",
        "    x=df_month_on_month.index.to_timestamp(),\n",
        "    y=\"Count\",\n",
        "    title=\"Number of Launches Month-on-Month until the Present\"\n",
        ")\n",
        "\n",
        "fig_month_on_month.update_traces(line_color='#456987')\n",
        "\n",
        "fig_month_on_month.add_scatter(\n",
        "    x=df_month_on_month.index.to_timestamp(),\n",
        "    y=df_month_on_month[\"SMA1Y\"],\n",
        "    name=\"1 year Moving Average\",\n",
        "    line=dict(color=\"aliceblue\")\n",
        ")\n",
        "\n",
        "fig_month_on_month.update_layout(\n",
        "    paper_bgcolor=\"#212121\",\n",
        "    plot_bgcolor=\"#212121\",\n",
        "    legend=dict(font=dict(color=\"white\")),\n",
        "    xaxis=dict(color=\"white\", title=\"Time\"),\n",
        "    yaxis=dict(color=\"white\", title=\"Launches\"),\n",
        "    titlefont=dict(color=\"white\")\n",
        ")\n",
        "\n",
        "fig_month_on_month.update_xaxes(gridcolor='#3C3C3C')\n",
        "fig_month_on_month.update_yaxes(gridcolor=\"#3C3C3C\")\n",
        "\n",
        "fig_month_on_month.show()"
      ]
    },
    {
      "cell_type": "markdown",
      "metadata": {
        "id": "pfw0aX1lpdRv"
      },
      "source": [
        "The end of 60's to 80's seems to be the period with the largest number of launches, specially in **April 1968** which is the month with the highest number of launches of all time"
      ]
    },
    {
      "cell_type": "markdown",
      "metadata": {
        "id": "t-avMIZoa-qh",
        "papermill": {
          "duration": 0.044409,
          "end_time": "2020-10-20T21:34:10.162592",
          "exception": false,
          "start_time": "2020-10-20T21:34:10.118183",
          "status": "completed"
        },
        "tags": []
      },
      "source": [
        "# Launches per Month: Which months are most popular and least popular for launches?\n",
        "\n",
        "Some months have better weather than others. Which time of year seems to be best for space missions?"
      ]
    },
    {
      "cell_type": "code",
      "execution_count": 249,
      "metadata": {},
      "outputs": [
        {
          "data": {
            "text/html": [
              "<div>\n",
              "<style scoped>\n",
              "    .dataframe tbody tr th:only-of-type {\n",
              "        vertical-align: middle;\n",
              "    }\n",
              "\n",
              "    .dataframe tbody tr th {\n",
              "        vertical-align: top;\n",
              "    }\n",
              "\n",
              "    .dataframe thead th {\n",
              "        text-align: right;\n",
              "    }\n",
              "</style>\n",
              "<table border=\"1\" class=\"dataframe\">\n",
              "  <thead>\n",
              "    <tr style=\"text-align: right;\">\n",
              "      <th></th>\n",
              "      <th>Date Format</th>\n",
              "      <th>Count</th>\n",
              "      <th>SMA1Y</th>\n",
              "    </tr>\n",
              "  </thead>\n",
              "  <tbody>\n",
              "    <tr>\n",
              "      <th>0</th>\n",
              "      <td>1957-10</td>\n",
              "      <td>1.00</td>\n",
              "      <td>NaN</td>\n",
              "    </tr>\n",
              "    <tr>\n",
              "      <th>1</th>\n",
              "      <td>1957-11</td>\n",
              "      <td>1.00</td>\n",
              "      <td>NaN</td>\n",
              "    </tr>\n",
              "    <tr>\n",
              "      <th>2</th>\n",
              "      <td>1957-12</td>\n",
              "      <td>1.00</td>\n",
              "      <td>NaN</td>\n",
              "    </tr>\n",
              "    <tr>\n",
              "      <th>3</th>\n",
              "      <td>1958-01</td>\n",
              "      <td>0.00</td>\n",
              "      <td>NaN</td>\n",
              "    </tr>\n",
              "    <tr>\n",
              "      <th>4</th>\n",
              "      <td>1958-02</td>\n",
              "      <td>2.00</td>\n",
              "      <td>NaN</td>\n",
              "    </tr>\n",
              "    <tr>\n",
              "      <th>...</th>\n",
              "      <td>...</td>\n",
              "      <td>...</td>\n",
              "      <td>...</td>\n",
              "    </tr>\n",
              "    <tr>\n",
              "      <th>750</th>\n",
              "      <td>2020-04</td>\n",
              "      <td>3.00</td>\n",
              "      <td>7.25</td>\n",
              "    </tr>\n",
              "    <tr>\n",
              "      <th>751</th>\n",
              "      <td>2020-05</td>\n",
              "      <td>9.00</td>\n",
              "      <td>7.33</td>\n",
              "    </tr>\n",
              "    <tr>\n",
              "      <th>752</th>\n",
              "      <td>2020-06</td>\n",
              "      <td>6.00</td>\n",
              "      <td>7.33</td>\n",
              "    </tr>\n",
              "    <tr>\n",
              "      <th>753</th>\n",
              "      <td>2020-07</td>\n",
              "      <td>11.00</td>\n",
              "      <td>7.42</td>\n",
              "    </tr>\n",
              "    <tr>\n",
              "      <th>754</th>\n",
              "      <td>2020-08</td>\n",
              "      <td>3.00</td>\n",
              "      <td>7.08</td>\n",
              "    </tr>\n",
              "  </tbody>\n",
              "</table>\n",
              "<p>755 rows × 3 columns</p>\n",
              "</div>"
            ],
            "text/plain": [
              "    Date Format  Count  SMA1Y\n",
              "0       1957-10   1.00    NaN\n",
              "1       1957-11   1.00    NaN\n",
              "2       1957-12   1.00    NaN\n",
              "3       1958-01   0.00    NaN\n",
              "4       1958-02   2.00    NaN\n",
              "..          ...    ...    ...\n",
              "750     2020-04   3.00   7.25\n",
              "751     2020-05   9.00   7.33\n",
              "752     2020-06   6.00   7.33\n",
              "753     2020-07  11.00   7.42\n",
              "754     2020-08   3.00   7.08\n",
              "\n",
              "[755 rows x 3 columns]"
            ]
          },
          "execution_count": 249,
          "metadata": {},
          "output_type": "execute_result"
        }
      ],
      "source": [
        "df_month_on_month = df_month_on_month.reset_index()\n",
        "df_month_on_month"
      ]
    },
    {
      "cell_type": "code",
      "execution_count": 271,
      "metadata": {},
      "outputs": [
        {
          "data": {
            "text/html": [
              "<div>\n",
              "<style scoped>\n",
              "    .dataframe tbody tr th:only-of-type {\n",
              "        vertical-align: middle;\n",
              "    }\n",
              "\n",
              "    .dataframe tbody tr th {\n",
              "        vertical-align: top;\n",
              "    }\n",
              "\n",
              "    .dataframe thead th {\n",
              "        text-align: right;\n",
              "    }\n",
              "</style>\n",
              "<table border=\"1\" class=\"dataframe\">\n",
              "  <thead>\n",
              "    <tr style=\"text-align: right;\">\n",
              "      <th></th>\n",
              "      <th>Count</th>\n",
              "    </tr>\n",
              "    <tr>\n",
              "      <th>Months</th>\n",
              "      <th></th>\n",
              "    </tr>\n",
              "  </thead>\n",
              "  <tbody>\n",
              "    <tr>\n",
              "      <th>December</th>\n",
              "      <td>6.06</td>\n",
              "    </tr>\n",
              "    <tr>\n",
              "      <th>June</th>\n",
              "      <td>5.52</td>\n",
              "    </tr>\n",
              "    <tr>\n",
              "      <th>October</th>\n",
              "      <td>5.48</td>\n",
              "    </tr>\n",
              "    <tr>\n",
              "      <th>September</th>\n",
              "      <td>5.24</td>\n",
              "    </tr>\n",
              "    <tr>\n",
              "      <th>April</th>\n",
              "      <td>5.22</td>\n",
              "    </tr>\n",
              "    <tr>\n",
              "      <th>August</th>\n",
              "      <td>5.13</td>\n",
              "    </tr>\n",
              "    <tr>\n",
              "      <th>July</th>\n",
              "      <td>4.95</td>\n",
              "    </tr>\n",
              "    <tr>\n",
              "      <th>March</th>\n",
              "      <td>4.95</td>\n",
              "    </tr>\n",
              "    <tr>\n",
              "      <th>February</th>\n",
              "      <td>4.84</td>\n",
              "    </tr>\n",
              "    <tr>\n",
              "      <th>November</th>\n",
              "      <td>4.75</td>\n",
              "    </tr>\n",
              "    <tr>\n",
              "      <th>May</th>\n",
              "      <td>4.73</td>\n",
              "    </tr>\n",
              "    <tr>\n",
              "      <th>January</th>\n",
              "      <td>3.83</td>\n",
              "    </tr>\n",
              "  </tbody>\n",
              "</table>\n",
              "</div>"
            ],
            "text/plain": [
              "           Count\n",
              "Months          \n",
              "December    6.06\n",
              "June        5.52\n",
              "October     5.48\n",
              "September   5.24\n",
              "April       5.22\n",
              "August      5.13\n",
              "July        4.95\n",
              "March       4.95\n",
              "February    4.84\n",
              "November    4.75\n",
              "May         4.73\n",
              "January     3.83"
            ]
          },
          "execution_count": 271,
          "metadata": {},
          "output_type": "execute_result"
        }
      ],
      "source": [
        "df_monthly = pd.DataFrame().assign(Months=df_month_on_month['Date Format'], Count=df_month_on_month['Count'])\n",
        "df_monthly['Months'] = df_monthly['Months'].dt.strftime('%Y-%B')\n",
        "df_monthly['Months'] = df_monthly['Months'].str.split('-').str[-1]\n",
        "df_monthly = df_monthly.groupby(\"Months\").mean()\n",
        "df_monthly = df_monthly.sort_values(\"Count\", ascending=False)\n",
        "df_monthly"
      ]
    },
    {
      "cell_type": "code",
      "execution_count": 319,
      "metadata": {
        "id": "zmtp5uBHppFG"
      },
      "outputs": [
        {
          "data": {
            "application/vnd.plotly.v1+json": {
              "config": {
                "plotlyServerURL": "https://plot.ly"
              },
              "data": [
                {
                  "alignmentgroup": "True",
                  "hovertemplate": "Count=%{marker.color}<br>Months=%{y}<extra></extra>",
                  "legendgroup": "",
                  "marker": {
                    "color": [
                      6.063492063492063,
                      5.523809523809524,
                      5.476190476190476,
                      5.241935483870968,
                      5.222222222222222,
                      5.126984126984127,
                      4.9523809523809526,
                      4.9523809523809526,
                      4.841269841269841,
                      4.746031746031746,
                      4.73015873015873,
                      3.8253968253968256
                    ],
                    "coloraxis": "coloraxis",
                    "pattern": {
                      "shape": ""
                    }
                  },
                  "name": "",
                  "offsetgroup": "",
                  "orientation": "h",
                  "showlegend": false,
                  "textposition": "auto",
                  "type": "bar",
                  "x": [
                    6.063492063492063,
                    5.523809523809524,
                    5.476190476190476,
                    5.241935483870968,
                    5.222222222222222,
                    5.126984126984127,
                    4.9523809523809526,
                    4.9523809523809526,
                    4.841269841269841,
                    4.746031746031746,
                    4.73015873015873,
                    3.8253968253968256
                  ],
                  "xaxis": "x",
                  "y": [
                    "December",
                    "June",
                    "October",
                    "September",
                    "April",
                    "August",
                    "July",
                    "March",
                    "February",
                    "November",
                    "May",
                    "January"
                  ],
                  "yaxis": "y"
                }
              ],
              "layout": {
                "barmode": "relative",
                "coloraxis": {
                  "colorbar": {
                    "title": {
                      "text": "Count"
                    }
                  },
                  "colorscale": [
                    [
                      0,
                      "#482878"
                    ],
                    [
                      0.125,
                      "#3e4989"
                    ],
                    [
                      0.25,
                      "#31688e"
                    ],
                    [
                      0.375,
                      "#26828e"
                    ],
                    [
                      0.5,
                      "#1f9e89"
                    ],
                    [
                      0.625,
                      "#35b779"
                    ],
                    [
                      0.75,
                      "#6ece58"
                    ],
                    [
                      0.875,
                      "#b5de2b"
                    ],
                    [
                      1,
                      "#fde725"
                    ]
                  ],
                  "showscale": false
                },
                "legend": {
                  "tracegroupgap": 0
                },
                "paper_bgcolor": "#212121",
                "plot_bgcolor": "#212121",
                "template": {
                  "data": {
                    "bar": [
                      {
                        "error_x": {
                          "color": "#2a3f5f"
                        },
                        "error_y": {
                          "color": "#2a3f5f"
                        },
                        "marker": {
                          "line": {
                            "color": "#E5ECF6",
                            "width": 0.5
                          },
                          "pattern": {
                            "fillmode": "overlay",
                            "size": 10,
                            "solidity": 0.2
                          }
                        },
                        "type": "bar"
                      }
                    ],
                    "barpolar": [
                      {
                        "marker": {
                          "line": {
                            "color": "#E5ECF6",
                            "width": 0.5
                          },
                          "pattern": {
                            "fillmode": "overlay",
                            "size": 10,
                            "solidity": 0.2
                          }
                        },
                        "type": "barpolar"
                      }
                    ],
                    "carpet": [
                      {
                        "aaxis": {
                          "endlinecolor": "#2a3f5f",
                          "gridcolor": "white",
                          "linecolor": "white",
                          "minorgridcolor": "white",
                          "startlinecolor": "#2a3f5f"
                        },
                        "baxis": {
                          "endlinecolor": "#2a3f5f",
                          "gridcolor": "white",
                          "linecolor": "white",
                          "minorgridcolor": "white",
                          "startlinecolor": "#2a3f5f"
                        },
                        "type": "carpet"
                      }
                    ],
                    "choropleth": [
                      {
                        "colorbar": {
                          "outlinewidth": 0,
                          "ticks": ""
                        },
                        "type": "choropleth"
                      }
                    ],
                    "contour": [
                      {
                        "colorbar": {
                          "outlinewidth": 0,
                          "ticks": ""
                        },
                        "colorscale": [
                          [
                            0,
                            "#0d0887"
                          ],
                          [
                            0.1111111111111111,
                            "#46039f"
                          ],
                          [
                            0.2222222222222222,
                            "#7201a8"
                          ],
                          [
                            0.3333333333333333,
                            "#9c179e"
                          ],
                          [
                            0.4444444444444444,
                            "#bd3786"
                          ],
                          [
                            0.5555555555555556,
                            "#d8576b"
                          ],
                          [
                            0.6666666666666666,
                            "#ed7953"
                          ],
                          [
                            0.7777777777777778,
                            "#fb9f3a"
                          ],
                          [
                            0.8888888888888888,
                            "#fdca26"
                          ],
                          [
                            1,
                            "#f0f921"
                          ]
                        ],
                        "type": "contour"
                      }
                    ],
                    "contourcarpet": [
                      {
                        "colorbar": {
                          "outlinewidth": 0,
                          "ticks": ""
                        },
                        "type": "contourcarpet"
                      }
                    ],
                    "heatmap": [
                      {
                        "colorbar": {
                          "outlinewidth": 0,
                          "ticks": ""
                        },
                        "colorscale": [
                          [
                            0,
                            "#0d0887"
                          ],
                          [
                            0.1111111111111111,
                            "#46039f"
                          ],
                          [
                            0.2222222222222222,
                            "#7201a8"
                          ],
                          [
                            0.3333333333333333,
                            "#9c179e"
                          ],
                          [
                            0.4444444444444444,
                            "#bd3786"
                          ],
                          [
                            0.5555555555555556,
                            "#d8576b"
                          ],
                          [
                            0.6666666666666666,
                            "#ed7953"
                          ],
                          [
                            0.7777777777777778,
                            "#fb9f3a"
                          ],
                          [
                            0.8888888888888888,
                            "#fdca26"
                          ],
                          [
                            1,
                            "#f0f921"
                          ]
                        ],
                        "type": "heatmap"
                      }
                    ],
                    "heatmapgl": [
                      {
                        "colorbar": {
                          "outlinewidth": 0,
                          "ticks": ""
                        },
                        "colorscale": [
                          [
                            0,
                            "#0d0887"
                          ],
                          [
                            0.1111111111111111,
                            "#46039f"
                          ],
                          [
                            0.2222222222222222,
                            "#7201a8"
                          ],
                          [
                            0.3333333333333333,
                            "#9c179e"
                          ],
                          [
                            0.4444444444444444,
                            "#bd3786"
                          ],
                          [
                            0.5555555555555556,
                            "#d8576b"
                          ],
                          [
                            0.6666666666666666,
                            "#ed7953"
                          ],
                          [
                            0.7777777777777778,
                            "#fb9f3a"
                          ],
                          [
                            0.8888888888888888,
                            "#fdca26"
                          ],
                          [
                            1,
                            "#f0f921"
                          ]
                        ],
                        "type": "heatmapgl"
                      }
                    ],
                    "histogram": [
                      {
                        "marker": {
                          "pattern": {
                            "fillmode": "overlay",
                            "size": 10,
                            "solidity": 0.2
                          }
                        },
                        "type": "histogram"
                      }
                    ],
                    "histogram2d": [
                      {
                        "colorbar": {
                          "outlinewidth": 0,
                          "ticks": ""
                        },
                        "colorscale": [
                          [
                            0,
                            "#0d0887"
                          ],
                          [
                            0.1111111111111111,
                            "#46039f"
                          ],
                          [
                            0.2222222222222222,
                            "#7201a8"
                          ],
                          [
                            0.3333333333333333,
                            "#9c179e"
                          ],
                          [
                            0.4444444444444444,
                            "#bd3786"
                          ],
                          [
                            0.5555555555555556,
                            "#d8576b"
                          ],
                          [
                            0.6666666666666666,
                            "#ed7953"
                          ],
                          [
                            0.7777777777777778,
                            "#fb9f3a"
                          ],
                          [
                            0.8888888888888888,
                            "#fdca26"
                          ],
                          [
                            1,
                            "#f0f921"
                          ]
                        ],
                        "type": "histogram2d"
                      }
                    ],
                    "histogram2dcontour": [
                      {
                        "colorbar": {
                          "outlinewidth": 0,
                          "ticks": ""
                        },
                        "colorscale": [
                          [
                            0,
                            "#0d0887"
                          ],
                          [
                            0.1111111111111111,
                            "#46039f"
                          ],
                          [
                            0.2222222222222222,
                            "#7201a8"
                          ],
                          [
                            0.3333333333333333,
                            "#9c179e"
                          ],
                          [
                            0.4444444444444444,
                            "#bd3786"
                          ],
                          [
                            0.5555555555555556,
                            "#d8576b"
                          ],
                          [
                            0.6666666666666666,
                            "#ed7953"
                          ],
                          [
                            0.7777777777777778,
                            "#fb9f3a"
                          ],
                          [
                            0.8888888888888888,
                            "#fdca26"
                          ],
                          [
                            1,
                            "#f0f921"
                          ]
                        ],
                        "type": "histogram2dcontour"
                      }
                    ],
                    "mesh3d": [
                      {
                        "colorbar": {
                          "outlinewidth": 0,
                          "ticks": ""
                        },
                        "type": "mesh3d"
                      }
                    ],
                    "parcoords": [
                      {
                        "line": {
                          "colorbar": {
                            "outlinewidth": 0,
                            "ticks": ""
                          }
                        },
                        "type": "parcoords"
                      }
                    ],
                    "pie": [
                      {
                        "automargin": true,
                        "type": "pie"
                      }
                    ],
                    "scatter": [
                      {
                        "fillpattern": {
                          "fillmode": "overlay",
                          "size": 10,
                          "solidity": 0.2
                        },
                        "type": "scatter"
                      }
                    ],
                    "scatter3d": [
                      {
                        "line": {
                          "colorbar": {
                            "outlinewidth": 0,
                            "ticks": ""
                          }
                        },
                        "marker": {
                          "colorbar": {
                            "outlinewidth": 0,
                            "ticks": ""
                          }
                        },
                        "type": "scatter3d"
                      }
                    ],
                    "scattercarpet": [
                      {
                        "marker": {
                          "colorbar": {
                            "outlinewidth": 0,
                            "ticks": ""
                          }
                        },
                        "type": "scattercarpet"
                      }
                    ],
                    "scattergeo": [
                      {
                        "marker": {
                          "colorbar": {
                            "outlinewidth": 0,
                            "ticks": ""
                          }
                        },
                        "type": "scattergeo"
                      }
                    ],
                    "scattergl": [
                      {
                        "marker": {
                          "colorbar": {
                            "outlinewidth": 0,
                            "ticks": ""
                          }
                        },
                        "type": "scattergl"
                      }
                    ],
                    "scattermapbox": [
                      {
                        "marker": {
                          "colorbar": {
                            "outlinewidth": 0,
                            "ticks": ""
                          }
                        },
                        "type": "scattermapbox"
                      }
                    ],
                    "scatterpolar": [
                      {
                        "marker": {
                          "colorbar": {
                            "outlinewidth": 0,
                            "ticks": ""
                          }
                        },
                        "type": "scatterpolar"
                      }
                    ],
                    "scatterpolargl": [
                      {
                        "marker": {
                          "colorbar": {
                            "outlinewidth": 0,
                            "ticks": ""
                          }
                        },
                        "type": "scatterpolargl"
                      }
                    ],
                    "scatterternary": [
                      {
                        "marker": {
                          "colorbar": {
                            "outlinewidth": 0,
                            "ticks": ""
                          }
                        },
                        "type": "scatterternary"
                      }
                    ],
                    "surface": [
                      {
                        "colorbar": {
                          "outlinewidth": 0,
                          "ticks": ""
                        },
                        "colorscale": [
                          [
                            0,
                            "#0d0887"
                          ],
                          [
                            0.1111111111111111,
                            "#46039f"
                          ],
                          [
                            0.2222222222222222,
                            "#7201a8"
                          ],
                          [
                            0.3333333333333333,
                            "#9c179e"
                          ],
                          [
                            0.4444444444444444,
                            "#bd3786"
                          ],
                          [
                            0.5555555555555556,
                            "#d8576b"
                          ],
                          [
                            0.6666666666666666,
                            "#ed7953"
                          ],
                          [
                            0.7777777777777778,
                            "#fb9f3a"
                          ],
                          [
                            0.8888888888888888,
                            "#fdca26"
                          ],
                          [
                            1,
                            "#f0f921"
                          ]
                        ],
                        "type": "surface"
                      }
                    ],
                    "table": [
                      {
                        "cells": {
                          "fill": {
                            "color": "#EBF0F8"
                          },
                          "line": {
                            "color": "white"
                          }
                        },
                        "header": {
                          "fill": {
                            "color": "#C8D4E3"
                          },
                          "line": {
                            "color": "white"
                          }
                        },
                        "type": "table"
                      }
                    ]
                  },
                  "layout": {
                    "annotationdefaults": {
                      "arrowcolor": "#2a3f5f",
                      "arrowhead": 0,
                      "arrowwidth": 1
                    },
                    "autotypenumbers": "strict",
                    "coloraxis": {
                      "colorbar": {
                        "outlinewidth": 0,
                        "ticks": ""
                      }
                    },
                    "colorscale": {
                      "diverging": [
                        [
                          0,
                          "#8e0152"
                        ],
                        [
                          0.1,
                          "#c51b7d"
                        ],
                        [
                          0.2,
                          "#de77ae"
                        ],
                        [
                          0.3,
                          "#f1b6da"
                        ],
                        [
                          0.4,
                          "#fde0ef"
                        ],
                        [
                          0.5,
                          "#f7f7f7"
                        ],
                        [
                          0.6,
                          "#e6f5d0"
                        ],
                        [
                          0.7,
                          "#b8e186"
                        ],
                        [
                          0.8,
                          "#7fbc41"
                        ],
                        [
                          0.9,
                          "#4d9221"
                        ],
                        [
                          1,
                          "#276419"
                        ]
                      ],
                      "sequential": [
                        [
                          0,
                          "#0d0887"
                        ],
                        [
                          0.1111111111111111,
                          "#46039f"
                        ],
                        [
                          0.2222222222222222,
                          "#7201a8"
                        ],
                        [
                          0.3333333333333333,
                          "#9c179e"
                        ],
                        [
                          0.4444444444444444,
                          "#bd3786"
                        ],
                        [
                          0.5555555555555556,
                          "#d8576b"
                        ],
                        [
                          0.6666666666666666,
                          "#ed7953"
                        ],
                        [
                          0.7777777777777778,
                          "#fb9f3a"
                        ],
                        [
                          0.8888888888888888,
                          "#fdca26"
                        ],
                        [
                          1,
                          "#f0f921"
                        ]
                      ],
                      "sequentialminus": [
                        [
                          0,
                          "#0d0887"
                        ],
                        [
                          0.1111111111111111,
                          "#46039f"
                        ],
                        [
                          0.2222222222222222,
                          "#7201a8"
                        ],
                        [
                          0.3333333333333333,
                          "#9c179e"
                        ],
                        [
                          0.4444444444444444,
                          "#bd3786"
                        ],
                        [
                          0.5555555555555556,
                          "#d8576b"
                        ],
                        [
                          0.6666666666666666,
                          "#ed7953"
                        ],
                        [
                          0.7777777777777778,
                          "#fb9f3a"
                        ],
                        [
                          0.8888888888888888,
                          "#fdca26"
                        ],
                        [
                          1,
                          "#f0f921"
                        ]
                      ]
                    },
                    "colorway": [
                      "#636efa",
                      "#EF553B",
                      "#00cc96",
                      "#ab63fa",
                      "#FFA15A",
                      "#19d3f3",
                      "#FF6692",
                      "#B6E880",
                      "#FF97FF",
                      "#FECB52"
                    ],
                    "font": {
                      "color": "#2a3f5f"
                    },
                    "geo": {
                      "bgcolor": "white",
                      "lakecolor": "white",
                      "landcolor": "#E5ECF6",
                      "showlakes": true,
                      "showland": true,
                      "subunitcolor": "white"
                    },
                    "hoverlabel": {
                      "align": "left"
                    },
                    "hovermode": "closest",
                    "mapbox": {
                      "style": "light"
                    },
                    "paper_bgcolor": "white",
                    "plot_bgcolor": "#E5ECF6",
                    "polar": {
                      "angularaxis": {
                        "gridcolor": "white",
                        "linecolor": "white",
                        "ticks": ""
                      },
                      "bgcolor": "#E5ECF6",
                      "radialaxis": {
                        "gridcolor": "white",
                        "linecolor": "white",
                        "ticks": ""
                      }
                    },
                    "scene": {
                      "xaxis": {
                        "backgroundcolor": "#E5ECF6",
                        "gridcolor": "white",
                        "gridwidth": 2,
                        "linecolor": "white",
                        "showbackground": true,
                        "ticks": "",
                        "zerolinecolor": "white"
                      },
                      "yaxis": {
                        "backgroundcolor": "#E5ECF6",
                        "gridcolor": "white",
                        "gridwidth": 2,
                        "linecolor": "white",
                        "showbackground": true,
                        "ticks": "",
                        "zerolinecolor": "white"
                      },
                      "zaxis": {
                        "backgroundcolor": "#E5ECF6",
                        "gridcolor": "white",
                        "gridwidth": 2,
                        "linecolor": "white",
                        "showbackground": true,
                        "ticks": "",
                        "zerolinecolor": "white"
                      }
                    },
                    "shapedefaults": {
                      "line": {
                        "color": "#2a3f5f"
                      }
                    },
                    "ternary": {
                      "aaxis": {
                        "gridcolor": "white",
                        "linecolor": "white",
                        "ticks": ""
                      },
                      "baxis": {
                        "gridcolor": "white",
                        "linecolor": "white",
                        "ticks": ""
                      },
                      "bgcolor": "#E5ECF6",
                      "caxis": {
                        "gridcolor": "white",
                        "linecolor": "white",
                        "ticks": ""
                      }
                    },
                    "title": {
                      "x": 0.05
                    },
                    "xaxis": {
                      "automargin": true,
                      "gridcolor": "white",
                      "linecolor": "white",
                      "ticks": "",
                      "title": {
                        "standoff": 15
                      },
                      "zerolinecolor": "white",
                      "zerolinewidth": 2
                    },
                    "yaxis": {
                      "automargin": true,
                      "gridcolor": "white",
                      "linecolor": "white",
                      "ticks": "",
                      "title": {
                        "standoff": 15
                      },
                      "zerolinecolor": "white",
                      "zerolinewidth": 2
                    }
                  }
                },
                "title": {
                  "font": {
                    "color": "white"
                  },
                  "text": "Launches per Month"
                },
                "xaxis": {
                  "anchor": "y",
                  "color": "white",
                  "domain": [
                    0,
                    1
                  ],
                  "showgrid": false,
                  "title": {
                    "text": "Count"
                  },
                  "zeroline": false
                },
                "yaxis": {
                  "anchor": "x",
                  "categoryorder": "total ascending",
                  "color": "white",
                  "domain": [
                    0,
                    1
                  ],
                  "showgrid": false,
                  "title": {
                    "text": "Months"
                  },
                  "zeroline": false
                }
              }
            }
          },
          "metadata": {},
          "output_type": "display_data"
        }
      ],
      "source": [
        "fig_monthly = px.bar(\n",
        "    df_monthly,\n",
        "    x=\"Count\",\n",
        "    y=df_monthly.index,\n",
        "    color=\"Count\",\n",
        "    color_continuous_scale=px.colors.sequential.Viridis[1:],\n",
        "    title=\"Launches per Month\"\n",
        ")\n",
        "\n",
        "fig_monthly.update_layout(\n",
        "    yaxis=dict(categoryorder=\"total ascending\", color=\"white\"),\n",
        "    xaxis=dict(color=\"white\"),\n",
        "    titlefont=dict(color=\"white\"),\n",
        "    paper_bgcolor=\"#212121\",\n",
        "    plot_bgcolor=\"#212121\"\n",
        ")\n",
        "\n",
        "fig_monthly.update(layout_coloraxis_showscale=False)\n",
        "fig_monthly.update_xaxes(showgrid=False, zeroline=False)\n",
        "fig_monthly.update_yaxes(showgrid=False, zeroline=False)\n",
        "\n",
        "fig_monthly.show()"
      ]
    },
    {
      "cell_type": "markdown",
      "metadata": {
        "id": "dPQ_N_sfa-qo",
        "papermill": {
          "duration": 0.067915,
          "end_time": "2020-10-20T21:34:11.122539",
          "exception": false,
          "start_time": "2020-10-20T21:34:11.054624",
          "status": "completed"
        },
        "tags": []
      },
      "source": [
        "# How has the Launch Price varied Over Time? \n",
        "\n",
        "Create a line chart that shows the average price of rocket launches over time. "
      ]
    },
    {
      "cell_type": "code",
      "execution_count": null,
      "metadata": {
        "id": "hFc-2M5-qCrv"
      },
      "outputs": [],
      "source": []
    },
    {
      "cell_type": "code",
      "execution_count": null,
      "metadata": {
        "id": "ggYFiAsEqC6J"
      },
      "outputs": [],
      "source": []
    },
    {
      "cell_type": "markdown",
      "metadata": {
        "id": "8OYrWyiOa-qs",
        "papermill": {
          "duration": 0.047152,
          "end_time": "2020-10-20T21:34:11.681371",
          "exception": false,
          "start_time": "2020-10-20T21:34:11.634219",
          "status": "completed"
        },
        "tags": []
      },
      "source": [
        "# Chart the Number of Launches over Time by the Top 10 Organisations. \n",
        "\n",
        "How has the dominance of launches changed over time between the different players? "
      ]
    },
    {
      "cell_type": "code",
      "execution_count": null,
      "metadata": {
        "id": "RcsrPPpAqVFj"
      },
      "outputs": [],
      "source": []
    },
    {
      "cell_type": "code",
      "execution_count": null,
      "metadata": {
        "id": "1IgfafiyqWEe"
      },
      "outputs": [],
      "source": []
    },
    {
      "cell_type": "code",
      "execution_count": null,
      "metadata": {
        "id": "akCDKT8CqVjG"
      },
      "outputs": [],
      "source": []
    },
    {
      "cell_type": "markdown",
      "metadata": {
        "id": "6Cm8_ch6a-q7",
        "papermill": {
          "duration": 0.052399,
          "end_time": "2020-10-20T21:34:13.756781",
          "exception": false,
          "start_time": "2020-10-20T21:34:13.704382",
          "status": "completed"
        },
        "tags": []
      },
      "source": [
        "# Cold War Space Race: USA vs USSR\n",
        "\n",
        "The cold war lasted from the start of the dataset up until 1991. "
      ]
    },
    {
      "cell_type": "code",
      "execution_count": null,
      "metadata": {
        "id": "AcE_U8csrICL"
      },
      "outputs": [],
      "source": []
    },
    {
      "cell_type": "code",
      "execution_count": null,
      "metadata": {
        "id": "cOe_t4OmrHr9"
      },
      "outputs": [],
      "source": []
    },
    {
      "cell_type": "markdown",
      "metadata": {
        "id": "Os-3A5vLa-q9",
        "papermill": {
          "duration": 0.054318,
          "end_time": "2020-10-20T21:34:14.089604",
          "exception": false,
          "start_time": "2020-10-20T21:34:14.035286",
          "status": "completed"
        },
        "tags": []
      },
      "source": [
        "## Create a Plotly Pie Chart comparing the total number of launches of the USSR and the USA\n",
        "\n",
        "Hint: Remember to include former Soviet Republics like Kazakhstan when analysing the total number of launches. "
      ]
    },
    {
      "cell_type": "code",
      "execution_count": null,
      "metadata": {
        "id": "1irc6_W9rD59"
      },
      "outputs": [],
      "source": []
    },
    {
      "cell_type": "code",
      "execution_count": null,
      "metadata": {
        "id": "OhhuLQycrEE-"
      },
      "outputs": [],
      "source": []
    },
    {
      "cell_type": "markdown",
      "metadata": {
        "id": "0C29Zz4xa-rA",
        "papermill": {
          "duration": 0.052921,
          "end_time": "2020-10-20T21:34:14.340085",
          "exception": false,
          "start_time": "2020-10-20T21:34:14.287164",
          "status": "completed"
        },
        "tags": []
      },
      "source": [
        "## Create a Chart that Shows the Total Number of Launches Year-On-Year by the Two Superpowers"
      ]
    },
    {
      "cell_type": "code",
      "execution_count": null,
      "metadata": {
        "id": "9ISKvOiCrS73"
      },
      "outputs": [],
      "source": []
    },
    {
      "cell_type": "code",
      "execution_count": null,
      "metadata": {
        "id": "oCc7VTzGrTK-"
      },
      "outputs": [],
      "source": []
    },
    {
      "cell_type": "markdown",
      "metadata": {
        "id": "eWv4iZmra-rE",
        "papermill": {
          "duration": 0.079311,
          "end_time": "2020-10-20T21:34:14.933058",
          "exception": false,
          "start_time": "2020-10-20T21:34:14.853747",
          "status": "completed"
        },
        "tags": []
      },
      "source": [
        "## Chart the Total Number of Mission Failures Year on Year."
      ]
    },
    {
      "cell_type": "code",
      "execution_count": null,
      "metadata": {
        "id": "I-Zss5-Mre-4"
      },
      "outputs": [],
      "source": []
    },
    {
      "cell_type": "code",
      "execution_count": null,
      "metadata": {
        "id": "7Ps9Iq_crfYl"
      },
      "outputs": [],
      "source": []
    },
    {
      "cell_type": "markdown",
      "metadata": {
        "id": "XNp-NkrJriEF"
      },
      "source": [
        "## Chart the Percentage of Failures over Time\n",
        "\n",
        "Did failures go up or down over time? Did the countries get better at minimising risk and improving their chances of success over time? "
      ]
    },
    {
      "cell_type": "code",
      "execution_count": null,
      "metadata": {
        "id": "Kj3-zsI0rhOS"
      },
      "outputs": [],
      "source": []
    },
    {
      "cell_type": "code",
      "execution_count": null,
      "metadata": {
        "id": "nxnnzx89rwvH"
      },
      "outputs": [],
      "source": []
    },
    {
      "cell_type": "code",
      "execution_count": null,
      "metadata": {
        "id": "_TPWaaJ5r1Fz"
      },
      "outputs": [],
      "source": []
    },
    {
      "cell_type": "markdown",
      "metadata": {
        "id": "S5aOC7bGr2OX"
      },
      "source": [
        "# For Every Year Show which Country was in the Lead in terms of Total Number of Launches up to and including including 2020)\n",
        "\n",
        "Do the results change if we only look at the number of successful launches? "
      ]
    },
    {
      "cell_type": "code",
      "execution_count": null,
      "metadata": {
        "id": "_h0grIXKsOz_"
      },
      "outputs": [],
      "source": []
    },
    {
      "cell_type": "code",
      "execution_count": null,
      "metadata": {
        "id": "zgVysedmsOp4"
      },
      "outputs": [],
      "source": []
    },
    {
      "cell_type": "markdown",
      "metadata": {
        "id": "jQcqBfJ8serG"
      },
      "source": [
        "# Create a Year-on-Year Chart Showing the Organisation Doing the Most Number of Launches\n",
        "\n",
        "Which organisation was dominant in the 1970s and 1980s? Which organisation was dominant in 2018, 2019 and 2020? "
      ]
    },
    {
      "cell_type": "code",
      "execution_count": null,
      "metadata": {
        "id": "jc9ImQEWsztG"
      },
      "outputs": [],
      "source": []
    },
    {
      "cell_type": "code",
      "execution_count": null,
      "metadata": {
        "id": "r5frxzwlsz5W"
      },
      "outputs": [],
      "source": []
    },
    {
      "cell_type": "code",
      "execution_count": null,
      "metadata": {
        "id": "8vHKpuc5a-rc",
        "papermill": {
          "duration": 0.092403,
          "end_time": "2020-10-20T21:34:26.709168",
          "exception": false,
          "start_time": "2020-10-20T21:34:26.616765",
          "status": "completed"
        },
        "tags": []
      },
      "outputs": [],
      "source": []
    }
  ],
  "metadata": {
    "colab": {
      "name": "Space Missions Analysis (start).ipynb",
      "provenance": []
    },
    "interpreter": {
      "hash": "4b0b6e046dcb112613bb95bde11efb2c9cffde2180568f84c49cebb107e22b35"
    },
    "kernelspec": {
      "display_name": "Python 3.10.4 64-bit",
      "language": "python",
      "name": "python3"
    },
    "language_info": {
      "codemirror_mode": {
        "name": "ipython",
        "version": 3
      },
      "file_extension": ".py",
      "mimetype": "text/x-python",
      "name": "python",
      "nbconvert_exporter": "python",
      "pygments_lexer": "ipython3",
      "version": "3.10.4"
    },
    "papermill": {
      "duration": 28.468597,
      "end_time": "2020-10-20T21:34:26.910951",
      "environment_variables": {},
      "exception": null,
      "input_path": "__notebook__.ipynb",
      "output_path": "__notebook__.ipynb",
      "parameters": {},
      "start_time": "2020-10-20T21:33:58.442354",
      "version": "2.1.0"
    }
  },
  "nbformat": 4,
  "nbformat_minor": 0
}
